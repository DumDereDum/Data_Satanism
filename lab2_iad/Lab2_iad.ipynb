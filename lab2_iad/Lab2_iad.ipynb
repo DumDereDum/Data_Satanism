{
 "cells": [
  {
   "cell_type": "code",
   "execution_count": 92,
   "id": "3ee5a987",
   "metadata": {},
   "outputs": [
    {
     "name": "stdout",
     "output_type": "stream",
     "text": [
      "Requirement already satisfied: opencv-python in c:\\users\\sarat\\appdata\\local\\packages\\pythonsoftwarefoundation.python.3.9_qbz5n2kfra8p0\\localcache\\local-packages\\python39\\site-packages (4.5.4.60)\n",
      "Requirement already satisfied: numpy>=1.19.3 in c:\\users\\sarat\\appdata\\local\\packages\\pythonsoftwarefoundation.python.3.9_qbz5n2kfra8p0\\localcache\\local-packages\\python39\\site-packages (from opencv-python) (1.19.5)\n"
     ]
    },
    {
     "name": "stderr",
     "output_type": "stream",
     "text": [
      "WARNING: You are using pip version 21.2.4; however, version 21.3.1 is available.\n",
      "You should consider upgrading via the 'C:\\Users\\sarat\\AppData\\Local\\Microsoft\\WindowsApps\\PythonSoftwareFoundation.Python.3.9_qbz5n2kfra8p0\\python.exe -m pip install --upgrade pip' command.\n"
     ]
    }
   ],
   "source": [
    "import os\n",
    "import sys\n",
    "\n",
    "!pip install opencv-python\n",
    "import cv2 as cv\n",
    "import matplotlib.pyplot as plt\n",
    "import numpy as np\n",
    "import pandas as pd"
   ]
  },
  {
   "cell_type": "code",
   "execution_count": 93,
   "id": "b6f14e79",
   "metadata": {},
   "outputs": [],
   "source": [
    "if not sys.warnoptions:\n",
    "    import warnings\n",
    "    warnings.simplefilter(\"ignore\")"
   ]
  },
  {
   "cell_type": "code",
   "execution_count": null,
   "id": "fddea68e",
   "metadata": {},
   "outputs": [],
   "source": []
  },
  {
   "cell_type": "markdown",
   "id": "15d71ac3",
   "metadata": {},
   "source": [
    "# Загрузка и предобработка данных\n",
    "\n",
    "Для загрузки и обработки данных мы испрользовали библиотеку OpenCV. Для обработки использовался алгоритм [Histograms Equalization](https://docs.opencv.org/4.x/d5/daf/tutorial_py_histogram_equalization.html) что уменьшает весь картинок переводя из RGB в моно, а также выравнивает распределение цветов на изображении."
   ]
  },
  {
   "cell_type": "code",
   "execution_count": null,
   "id": "8b03988a",
   "metadata": {},
   "outputs": [],
   "source": []
  },
  {
   "cell_type": "code",
   "execution_count": 94,
   "id": "0201e241",
   "metadata": {},
   "outputs": [],
   "source": [
    "def fill_df(df, path, files, covid_test):\n",
    "    for f in files:\n",
    "        p = path + f\n",
    "        img = cv.imread(p)\n",
    "        df = df.append({'image':img, 'path':p, 'covid':covid_test}, ignore_index=True)\n",
    "    return df"
   ]
  },
  {
   "cell_type": "code",
   "execution_count": 95,
   "id": "639b9a5e",
   "metadata": {},
   "outputs": [],
   "source": [
    "def fill_and_compute_df(df, path, files, covid_test):\n",
    "    for f in files:\n",
    "        p = path + f\n",
    "        img = cv.imread(p)\n",
    "        img = cv.cvtColor(img, cv.COLOR_BGR2GRAY)\n",
    "        equ = cv.equalizeHist(img)\n",
    "        df = df.append({'image':equ, 'path':p, 'covid':covid_test}, ignore_index=True)\n",
    "    return df"
   ]
  },
  {
   "cell_type": "code",
   "execution_count": null,
   "id": "fab15853",
   "metadata": {},
   "outputs": [],
   "source": []
  },
  {
   "cell_type": "code",
   "execution_count": 96,
   "id": "9c2b1787",
   "metadata": {},
   "outputs": [],
   "source": [
    "curr_path = os.path.abspath(os.getcwd())\n",
    "cov_path  = curr_path[:-22] + 'COVID/'\n",
    "norm_path = curr_path[:-22] + 'NORMAL/'"
   ]
  },
  {
   "cell_type": "code",
   "execution_count": 97,
   "id": "520f4a53",
   "metadata": {},
   "outputs": [],
   "source": [
    "cov_files  = os.listdir(cov_path)\n",
    "norm_files = os.listdir(norm_path)"
   ]
  },
  {
   "cell_type": "code",
   "execution_count": null,
   "id": "c66ad1bd",
   "metadata": {},
   "outputs": [],
   "source": []
  },
  {
   "cell_type": "code",
   "execution_count": 98,
   "id": "d037cb16",
   "metadata": {},
   "outputs": [],
   "source": [
    "df = pd.DataFrame(columns = ['image', 'path', 'covid'])"
   ]
  },
  {
   "cell_type": "code",
   "execution_count": null,
   "id": "bb03f3be",
   "metadata": {},
   "outputs": [],
   "source": []
  },
  {
   "cell_type": "code",
   "execution_count": 99,
   "id": "27693cd0",
   "metadata": {},
   "outputs": [],
   "source": [
    "df = fill_and_compute_df(df, cov_path, cov_files, 1)\n",
    "df = fill_and_compute_df(df, norm_path, norm_files, 0)"
   ]
  },
  {
   "cell_type": "code",
   "execution_count": 100,
   "id": "a260223c",
   "metadata": {},
   "outputs": [
    {
     "data": {
      "text/html": [
       "<div>\n",
       "<style scoped>\n",
       "    .dataframe tbody tr th:only-of-type {\n",
       "        vertical-align: middle;\n",
       "    }\n",
       "\n",
       "    .dataframe tbody tr th {\n",
       "        vertical-align: top;\n",
       "    }\n",
       "\n",
       "    .dataframe thead th {\n",
       "        text-align: right;\n",
       "    }\n",
       "</style>\n",
       "<table border=\"1\" class=\"dataframe\">\n",
       "  <thead>\n",
       "    <tr style=\"text-align: right;\">\n",
       "      <th></th>\n",
       "      <th>image</th>\n",
       "      <th>path</th>\n",
       "      <th>covid</th>\n",
       "    </tr>\n",
       "  </thead>\n",
       "  <tbody>\n",
       "    <tr>\n",
       "      <th>0</th>\n",
       "      <td>[[2, 2, 2, 2, 2, 2, 2, 2, 2, 2, 2, 2, 2, 2, 2,...</td>\n",
       "      <td>F:\\iad\\COVID/covid_0.jpg</td>\n",
       "      <td>1</td>\n",
       "    </tr>\n",
       "    <tr>\n",
       "      <th>1</th>\n",
       "      <td>[[1, 1, 1, 1, 1, 1, 1, 1, 1, 1, 1, 1, 1, 1, 2,...</td>\n",
       "      <td>F:\\iad\\COVID/covid_1.jpg</td>\n",
       "      <td>1</td>\n",
       "    </tr>\n",
       "    <tr>\n",
       "      <th>2</th>\n",
       "      <td>[[14, 12, 12, 8, 12, 12, 8, 8, 5, 8, 12, 12, 1...</td>\n",
       "      <td>F:\\iad\\COVID/covid_10.jpg</td>\n",
       "      <td>1</td>\n",
       "    </tr>\n",
       "    <tr>\n",
       "      <th>3</th>\n",
       "      <td>[[0, 0, 0, 0, 0, 0, 0, 0, 0, 0, 0, 0, 0, 0, 0,...</td>\n",
       "      <td>F:\\iad\\COVID/covid_100.jpg</td>\n",
       "      <td>1</td>\n",
       "    </tr>\n",
       "    <tr>\n",
       "      <th>4</th>\n",
       "      <td>[[25, 25, 25, 25, 25, 24, 24, 24, 24, 24, 24, ...</td>\n",
       "      <td>F:\\iad\\COVID/covid_101.jpg</td>\n",
       "      <td>1</td>\n",
       "    </tr>\n",
       "  </tbody>\n",
       "</table>\n",
       "</div>"
      ],
      "text/plain": [
       "                                               image  \\\n",
       "0  [[2, 2, 2, 2, 2, 2, 2, 2, 2, 2, 2, 2, 2, 2, 2,...   \n",
       "1  [[1, 1, 1, 1, 1, 1, 1, 1, 1, 1, 1, 1, 1, 1, 2,...   \n",
       "2  [[14, 12, 12, 8, 12, 12, 8, 8, 5, 8, 12, 12, 1...   \n",
       "3  [[0, 0, 0, 0, 0, 0, 0, 0, 0, 0, 0, 0, 0, 0, 0,...   \n",
       "4  [[25, 25, 25, 25, 25, 24, 24, 24, 24, 24, 24, ...   \n",
       "\n",
       "                         path covid  \n",
       "0    F:\\iad\\COVID/covid_0.jpg     1  \n",
       "1    F:\\iad\\COVID/covid_1.jpg     1  \n",
       "2   F:\\iad\\COVID/covid_10.jpg     1  \n",
       "3  F:\\iad\\COVID/covid_100.jpg     1  \n",
       "4  F:\\iad\\COVID/covid_101.jpg     1  "
      ]
     },
     "execution_count": 100,
     "metadata": {},
     "output_type": "execute_result"
    }
   ],
   "source": [
    "df.head()"
   ]
  },
  {
   "cell_type": "code",
   "execution_count": 101,
   "id": "c0dc6570",
   "metadata": {},
   "outputs": [
    {
     "data": {
      "text/plain": [
       "<matplotlib.image.AxesImage at 0x22c880ce970>"
      ]
     },
     "execution_count": 101,
     "metadata": {},
     "output_type": "execute_result"
    },
    {
     "data": {
      "image/png": "[encoded data removed]",
      "text/plain": [
       "<Figure size 432x288 with 1 Axes>"
      ]
     },
     "metadata": {
      "needs_background": "light"
     },
     "output_type": "display_data"
    }
   ],
   "source": [
    "plt.imshow(df['image'][1], cmap='gray')"
   ]
  },
  {
   "cell_type": "code",
   "execution_count": null,
   "id": "1d215ead",
   "metadata": {},
   "outputs": [],
   "source": []
  },
  {
   "cell_type": "code",
   "execution_count": 102,
   "id": "284fbd87",
   "metadata": {},
   "outputs": [
    {
     "data": {
      "text/html": [
       "<div>\n",
       "<style scoped>\n",
       "    .dataframe tbody tr th:only-of-type {\n",
       "        vertical-align: middle;\n",
       "    }\n",
       "\n",
       "    .dataframe tbody tr th {\n",
       "        vertical-align: top;\n",
       "    }\n",
       "\n",
       "    .dataframe thead th {\n",
       "        text-align: right;\n",
       "    }\n",
       "</style>\n",
       "<table border=\"1\" class=\"dataframe\">\n",
       "  <thead>\n",
       "    <tr style=\"text-align: right;\">\n",
       "      <th></th>\n",
       "      <th>image</th>\n",
       "      <th>path</th>\n",
       "      <th>covid</th>\n",
       "    </tr>\n",
       "  </thead>\n",
       "  <tbody>\n",
       "    <tr>\n",
       "      <th>count</th>\n",
       "      <td>324</td>\n",
       "      <td>324</td>\n",
       "      <td>324</td>\n",
       "    </tr>\n",
       "    <tr>\n",
       "      <th>unique</th>\n",
       "      <td>324</td>\n",
       "      <td>324</td>\n",
       "      <td>2</td>\n",
       "    </tr>\n",
       "    <tr>\n",
       "      <th>top</th>\n",
       "      <td>[[2, 2, 2, 2, 2, 2, 2, 2, 2, 2, 2, 2, 2, 2, 2,...</td>\n",
       "      <td>F:\\iad\\COVID/covid_0.jpg</td>\n",
       "      <td>1</td>\n",
       "    </tr>\n",
       "    <tr>\n",
       "      <th>freq</th>\n",
       "      <td>1</td>\n",
       "      <td>1</td>\n",
       "      <td>162</td>\n",
       "    </tr>\n",
       "  </tbody>\n",
       "</table>\n",
       "</div>"
      ],
      "text/plain": [
       "                                                    image  \\\n",
       "count                                                 324   \n",
       "unique                                                324   \n",
       "top     [[2, 2, 2, 2, 2, 2, 2, 2, 2, 2, 2, 2, 2, 2, 2,...   \n",
       "freq                                                    1   \n",
       "\n",
       "                            path  covid  \n",
       "count                        324    324  \n",
       "unique                       324      2  \n",
       "top     F:\\iad\\COVID/covid_0.jpg      1  \n",
       "freq                           1    162  "
      ]
     },
     "execution_count": 102,
     "metadata": {},
     "output_type": "execute_result"
    }
   ],
   "source": [
    "df.describe()"
   ]
  },
  {
   "cell_type": "code",
   "execution_count": null,
   "id": "14059038",
   "metadata": {},
   "outputs": [],
   "source": []
  },
  {
   "cell_type": "code",
   "execution_count": 103,
   "id": "72f80c85",
   "metadata": {},
   "outputs": [
    {
     "name": "stdout",
     "output_type": "stream",
     "text": [
      "<class 'pandas.core.frame.DataFrame'>\n",
      "RangeIndex: 324 entries, 0 to 323\n",
      "Data columns (total 3 columns):\n",
      " #   Column  Non-Null Count  Dtype \n",
      "---  ------  --------------  ----- \n",
      " 0   image   324 non-null    object\n",
      " 1   path    324 non-null    object\n",
      " 2   covid   324 non-null    object\n",
      "dtypes: object(3)\n",
      "memory usage: 7.7+ KB\n"
     ]
    }
   ],
   "source": [
    "df.info()"
   ]
  },
  {
   "cell_type": "code",
   "execution_count": null,
   "id": "779666b2",
   "metadata": {},
   "outputs": [],
   "source": []
  },
  {
   "cell_type": "markdown",
   "id": "c9962db3",
   "metadata": {},
   "source": [
    "# Разбиение и работа с моделями"
   ]
  },
  {
   "cell_type": "code",
   "execution_count": null,
   "id": "c4e5279a",
   "metadata": {},
   "outputs": [],
   "source": []
  },
  {
   "cell_type": "code",
   "execution_count": 104,
   "id": "8e9c5ade",
   "metadata": {},
   "outputs": [],
   "source": [
    "import torch\n",
    "import torch.nn.functional as F\n",
    "from torch import nn, optim\n",
    "from torchvision import transforms\n",
    "\n",
    "from sklearn.metrics import confusion_matrix\n",
    "from sklearn.model_selection import train_test_split"
   ]
  },
  {
   "cell_type": "code",
   "execution_count": null,
   "id": "7a1a4387",
   "metadata": {},
   "outputs": [],
   "source": []
  },
  {
   "cell_type": "code",
   "execution_count": 105,
   "id": "328d16d1",
   "metadata": {},
   "outputs": [],
   "source": [
    "def train_model(model, epochs, criterion, optimizer, X_train, Y_train, X_test, Y_test):\n",
    "    losses = []\n",
    "\n",
    "    for i in range(epochs):\n",
    "        i += 1\n",
    "        Y_pred = model.forward(X_train)\n",
    "        loss = criterion(Y_pred, Y_train)\n",
    "        losses.append(loss)\n",
    "        acc = test_model(model_2, X_test, Y_test, 0)\n",
    "        print(f'epoch: {i:2}  loss: {loss.item():10.8f} acc: {acc}')\n",
    "\n",
    "        optimizer.zero_grad()\n",
    "        loss.backward()\n",
    "        optimizer.step()\n",
    "        \n",
    "    return model"
   ]
  },
  {
   "cell_type": "code",
   "execution_count": 106,
   "id": "760afef6",
   "metadata": {},
   "outputs": [],
   "source": [
    "def test_model(model, X_test, Y_test, show):\n",
    "    counter = 0\n",
    "    y_test_len = len(Y_test)\n",
    "\n",
    "    with torch.no_grad():\n",
    "        for i,data in enumerate(X_test):\n",
    "            y_val = model.forward(data)\n",
    "            if y_val.argmax().item() == Y_test[i]:\n",
    "                counter += 1\n",
    "    res = 100*counter/y_test_len\n",
    "    if show:\n",
    "        print(f'{counter} out of {y_test_len} = {res}% right')\n",
    "    else:\n",
    "        return res"
   ]
  },
  {
   "cell_type": "code",
   "execution_count": 107,
   "id": "dff8e7b4",
   "metadata": {},
   "outputs": [],
   "source": [
    "# так как работа связана с медициной то используем confusion_matrix\n",
    "def test_res_model(model, X_test, Y_test):\n",
    "    T = []\n",
    "    with torch.no_grad():\n",
    "        for i,data in enumerate(X_test):\n",
    "            y_val = model.forward(data)\n",
    "            res = y_val.argmax().item()\n",
    "            T.append(res)\n",
    "    return confusion_matrix(T, Y_test)"
   ]
  },
  {
   "cell_type": "code",
   "execution_count": null,
   "id": "98b0c4df",
   "metadata": {},
   "outputs": [],
   "source": []
  },
  {
   "cell_type": "code",
   "execution_count": null,
   "id": "fe7b91d5",
   "metadata": {},
   "outputs": [],
   "source": []
  },
  {
   "cell_type": "code",
   "execution_count": 108,
   "id": "cc2a2aa5",
   "metadata": {},
   "outputs": [],
   "source": [
    "data_copy = df.copy()"
   ]
  },
  {
   "cell_type": "code",
   "execution_count": 109,
   "id": "82289745",
   "metadata": {},
   "outputs": [],
   "source": [
    "data_split = data_copy.copy()\n",
    "\n",
    "y = data_split['covid'].values\n",
    "x = data_split['image'].values"
   ]
  },
  {
   "cell_type": "code",
   "execution_count": 110,
   "id": "0b17518e",
   "metadata": {},
   "outputs": [],
   "source": [
    "X_train, X_test, Y_train, Y_test = train_test_split(x, y, test_size=0.3)"
   ]
  },
  {
   "cell_type": "code",
   "execution_count": 111,
   "id": "7c826c4e",
   "metadata": {},
   "outputs": [],
   "source": [
    "X_train = [np.hstack(image).astype(np.float32) for image in X_train]"
   ]
  },
  {
   "cell_type": "code",
   "execution_count": 112,
   "id": "553b6d89",
   "metadata": {},
   "outputs": [],
   "source": [
    "X_test = [np.hstack(image).astype(np.float32) for image in X_test]"
   ]
  },
  {
   "cell_type": "code",
   "execution_count": 113,
   "id": "14d43a12",
   "metadata": {},
   "outputs": [],
   "source": [
    "X_train_tensor = torch.tensor(X_train)\n",
    "X_test_tensor = torch.tensor(X_test)\n",
    "Y_train_tensor = torch.tensor(list(Y_train))\n",
    "Y_test_tensor = torch.tensor(list(Y_test))"
   ]
  },
  {
   "cell_type": "code",
   "execution_count": null,
   "id": "bf10c282",
   "metadata": {},
   "outputs": [],
   "source": []
  },
  {
   "cell_type": "markdown",
   "id": "8fc837ee",
   "metadata": {
    "scrolled": true
   },
   "source": [
    "### Работа с моделями"
   ]
  },
  {
   "cell_type": "code",
   "execution_count": null,
   "id": "b83cb330",
   "metadata": {},
   "outputs": [],
   "source": []
  },
  {
   "cell_type": "code",
   "execution_count": 114,
   "id": "fbf386d8",
   "metadata": {},
   "outputs": [],
   "source": [
    "model_2 = nn.Sequential(\n",
    "    nn.Linear(224 * 224, 224),\n",
    "    nn.ReLU(),\n",
    "    nn.Linear(224, 16),\n",
    "    nn.ReLU(),\n",
    "    nn.Linear(16, 4),\n",
    "    nn.ReLU(),    \n",
    "    nn.Linear(4, 2),\n",
    "    nn.Sigmoid())"
   ]
  },
  {
   "cell_type": "code",
   "execution_count": 115,
   "id": "0398178a",
   "metadata": {},
   "outputs": [],
   "source": [
    "criterion = nn.CrossEntropyLoss()\n",
    "optimizer = torch.optim.Adam(model_2.parameters(), lr=0.01)"
   ]
  },
  {
   "cell_type": "code",
   "execution_count": 116,
   "id": "3309b6a9",
   "metadata": {},
   "outputs": [
    {
     "name": "stdout",
     "output_type": "stream",
     "text": [
      "epoch:  1  loss: 0.72652626 acc: 48.97959183673469\n",
      "epoch:  2  loss: 0.69314730 acc: 48.97959183673469\n",
      "epoch:  3  loss: 0.69314730 acc: 48.97959183673469\n"
     ]
    }
   ],
   "source": [
    "epochs = 3\n",
    "model_2  = train_model(model_2, epochs, criterion, optimizer, X_train_tensor, Y_train_tensor, X_test_tensor, Y_test_tensor)"
   ]
  },
  {
   "cell_type": "code",
   "execution_count": 118,
   "id": "254f539a",
   "metadata": {},
   "outputs": [
    {
     "data": {
      "text/plain": [
       "array([[48, 50],\n",
       "       [ 0,  0]], dtype=int64)"
      ]
     },
     "execution_count": 118,
     "metadata": {},
     "output_type": "execute_result"
    }
   ],
   "source": [
    "test_res_model(model_2, X_test_tensor, Y_test_tensor)"
   ]
  },
  {
   "cell_type": "code",
   "execution_count": null,
   "id": "536b0f25",
   "metadata": {},
   "outputs": [],
   "source": []
  },
  {
   "cell_type": "code",
   "execution_count": 83,
   "id": "2bb7f17d",
   "metadata": {},
   "outputs": [
    {
     "name": "stdout",
     "output_type": "stream",
     "text": [
      "[283, 43, 32, 5, 2]\n"
     ]
    }
   ],
   "source": [
    "input_size = 224 * 224\n",
    "hidden_sizes = [283, 43, 32, 5, 2]\n",
    "output_size = 2\n",
    "print(hidden_sizes)"
   ]
  },
  {
   "cell_type": "code",
   "execution_count": 88,
   "id": "e416e58b",
   "metadata": {},
   "outputs": [],
   "source": [
    "model3 = nn.Sequential(nn.Linear(input_size, hidden_sizes[0]),\n",
    "                      nn.ReLU(),\n",
    "                      nn.Linear(hidden_sizes[0], hidden_sizes[1]),\n",
    "                      nn.ReLU(),\n",
    "                      nn.Linear(hidden_sizes[1], hidden_sizes[2]),\n",
    "                      nn.ReLU(),\n",
    "                      nn.Linear(hidden_sizes[2], hidden_sizes[3]),\n",
    "                      nn.ReLU(),\n",
    "                      nn.Linear(hidden_sizes[3], hidden_sizes[4]),\n",
    "                      nn.ReLU(),\n",
    "                      nn.Linear(hidden_sizes[4], output_size))"
   ]
  },
  {
   "cell_type": "code",
   "execution_count": null,
   "id": "4b5da4d3",
   "metadata": {},
   "outputs": [],
   "source": []
  },
  {
   "cell_type": "code",
   "execution_count": null,
   "id": "db48ee32",
   "metadata": {},
   "outputs": [],
   "source": []
  },
  {
   "cell_type": "code",
   "execution_count": 89,
   "id": "71d6c71a",
   "metadata": {},
   "outputs": [],
   "source": [
    "criterion = nn.CrossEntropyLoss()\n",
    "optimizer = torch.optim.Adam(model3.parameters(), lr=0.01)"
   ]
  },
  {
   "cell_type": "code",
   "execution_count": 90,
   "id": "d8b447bf",
   "metadata": {},
   "outputs": [
    {
     "name": "stdout",
     "output_type": "stream",
     "text": [
      "torch.Size([226, 50176])\n",
      "torch.Size([226, 2])\n",
      "torch.Size([226])\n",
      "epoch:  1  loss: 0.72568846\n",
      "torch.Size([226, 50176])\n",
      "torch.Size([226, 2])\n",
      "torch.Size([226])\n",
      "epoch:  2  loss: 288.47549438\n",
      "torch.Size([226, 50176])\n",
      "torch.Size([226, 2])\n",
      "torch.Size([226])\n",
      "epoch:  3  loss: 2.95389080\n",
      "torch.Size([226, 50176])\n",
      "torch.Size([226, 2])\n",
      "torch.Size([226])\n",
      "epoch:  4  loss: 0.73329192\n",
      "torch.Size([226, 50176])\n",
      "torch.Size([226, 2])\n",
      "torch.Size([226])\n",
      "epoch:  5  loss: 0.73390949\n",
      "torch.Size([226, 50176])\n",
      "torch.Size([226, 2])\n",
      "torch.Size([226])\n",
      "epoch:  6  loss: 0.73386192\n",
      "torch.Size([226, 50176])\n",
      "torch.Size([226, 2])\n",
      "torch.Size([226])\n",
      "epoch:  7  loss: 0.73335350\n",
      "torch.Size([226, 50176])\n",
      "torch.Size([226, 2])\n",
      "torch.Size([226])\n",
      "epoch:  8  loss: 0.73251337\n",
      "torch.Size([226, 50176])\n",
      "torch.Size([226, 2])\n",
      "torch.Size([226])\n",
      "epoch:  9  loss: 0.73143214\n",
      "torch.Size([226, 50176])\n",
      "torch.Size([226, 2])\n",
      "torch.Size([226])\n",
      "epoch: 10  loss: 0.73017693\n"
     ]
    }
   ],
   "source": [
    "epochs = 10\n",
    "model3_ = train_model(model3, epochs, criterion, optimizer, X_train_tensor, Y_train_tensor)"
   ]
  },
  {
   "cell_type": "code",
   "execution_count": 91,
   "id": "a976118c",
   "metadata": {},
   "outputs": [
    {
     "name": "stdout",
     "output_type": "stream",
     "text": [
      "48 out of 98 = 48.98% right\n"
     ]
    }
   ],
   "source": [
    "test_model(model3_, X_test_tensor, Y_test_tensor)"
   ]
  },
  {
   "cell_type": "code",
   "execution_count": null,
   "id": "0f826ffa",
   "metadata": {},
   "outputs": [],
   "source": []
  },
  {
   "cell_type": "code",
   "execution_count": null,
   "id": "9fc790c0",
   "metadata": {},
   "outputs": [],
   "source": []
  },
  {
   "cell_type": "code",
   "execution_count": null,
   "id": "8b70f8f3",
   "metadata": {},
   "outputs": [],
   "source": []
  },
  {
   "cell_type": "code",
   "execution_count": null,
   "id": "87ee976d",
   "metadata": {},
   "outputs": [],
   "source": []
  },
  {
   "cell_type": "code",
   "execution_count": null,
   "id": "51e84655",
   "metadata": {},
   "outputs": [],
   "source": []
  },
  {
   "cell_type": "code",
   "execution_count": null,
   "id": "310f621f",
   "metadata": {},
   "outputs": [],
   "source": []
  }
 ],
 "metadata": {
  "kernelspec": {
   "display_name": "Python 3 (ipykernel)",
   "language": "python",
   "name": "python3"
  },
  "language_info": {
   "codemirror_mode": {
    "name": "ipython",
    "version": 3
   },
   "file_extension": ".py",
   "mimetype": "text/x-python",
   "name": "python",
   "nbconvert_exporter": "python",
   "pygments_lexer": "ipython3",
   "version": "3.9.9"
  }
 },
 "nbformat": 4,
 "nbformat_minor": 5
}
