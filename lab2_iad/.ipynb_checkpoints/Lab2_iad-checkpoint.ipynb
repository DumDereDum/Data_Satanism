{
 "cells": [
  {
   "cell_type": "code",
   "execution_count": 1,
   "id": "3ee5a987",
   "metadata": {},
   "outputs": [
    {
     "name": "stderr",
     "output_type": "stream",
     "text": [
      "WARNING: You are using pip version 21.2.4; however, version 21.3.1 is available.\n",
      "You should consider upgrading via the 'C:\\Users\\sarat\\AppData\\Local\\Microsoft\\WindowsApps\\PythonSoftwareFoundation.Python.3.9_qbz5n2kfra8p0\\python.exe -m pip install --upgrade pip' command.\n"
     ]
    },
    {
     "name": "stdout",
     "output_type": "stream",
     "text": [
      "Requirement already satisfied: opencv-python in c:\\users\\sarat\\appdata\\local\\packages\\pythonsoftwarefoundation.python.3.9_qbz5n2kfra8p0\\localcache\\local-packages\\python39\\site-packages (4.5.4.60)\n",
      "Requirement already satisfied: numpy>=1.19.3 in c:\\users\\sarat\\appdata\\local\\packages\\pythonsoftwarefoundation.python.3.9_qbz5n2kfra8p0\\localcache\\local-packages\\python39\\site-packages (from opencv-python) (1.19.5)\n"
     ]
    }
   ],
   "source": [
    "import os\n",
    "import sys\n",
    "\n",
    "!pip install opencv-python\n",
    "import cv2 as cv\n",
    "import matplotlib.pyplot as plt\n",
    "import numpy as np\n",
    "import pandas as pd"
   ]
  },
  {
   "cell_type": "code",
   "execution_count": 2,
   "id": "b6f14e79",
   "metadata": {},
   "outputs": [],
   "source": [
    "if not sys.warnoptions:\n",
    "    import warnings\n",
    "    warnings.simplefilter(\"ignore\")"
   ]
  },
  {
   "cell_type": "code",
   "execution_count": null,
   "id": "fddea68e",
   "metadata": {},
   "outputs": [],
   "source": []
  },
  {
   "cell_type": "markdown",
   "id": "15d71ac3",
   "metadata": {},
   "source": [
    "# Загрузка и предобработка данных\n",
    "\n",
    "Для загрузки и обработки данных мы испрользовали библиотеку OpenCV. Для обработки использовался алгоритм [Histograms Equalization](https://docs.opencv.org/4.x/d5/daf/tutorial_py_histogram_equalization.html) что уменьшает весь картинок переводя из RGB в моно, а также выравнивает распределение цветов на изображении."
   ]
  },
  {
   "cell_type": "code",
   "execution_count": null,
   "id": "8b03988a",
   "metadata": {},
   "outputs": [],
   "source": []
  },
  {
   "cell_type": "code",
   "execution_count": 3,
   "id": "0201e241",
   "metadata": {},
   "outputs": [],
   "source": [
    "def fill_df(df, path, files, covid_test):\n",
    "    for f in files:\n",
    "        p = path + f\n",
    "        img = cv.imread(p)\n",
    "        df = df.append({'image':img, 'path':p, 'covid':covid_test}, ignore_index=True)\n",
    "    return df"
   ]
  },
  {
   "cell_type": "code",
   "execution_count": 4,
   "id": "639b9a5e",
   "metadata": {},
   "outputs": [],
   "source": [
    "def fill_and_compute_df(df, path, files, covid_test):\n",
    "    for f in files:\n",
    "        p = path + f\n",
    "        img = cv.imread(p)\n",
    "        img = cv.cvtColor(img, cv.COLOR_BGR2GRAY)\n",
    "        equ = cv.equalizeHist(img)\n",
    "        df = df.append({'image':equ, 'path':p, 'covid':covid_test}, ignore_index=True)\n",
    "    return df"
   ]
  },
  {
   "cell_type": "code",
   "execution_count": null,
   "id": "fab15853",
   "metadata": {},
   "outputs": [],
   "source": []
  },
  {
   "cell_type": "code",
   "execution_count": 5,
   "id": "9c2b1787",
   "metadata": {},
   "outputs": [],
   "source": [
    "curr_path = os.path.abspath(os.getcwd())\n",
    "cov_path  = curr_path[:-22] + 'COVID/'\n",
    "norm_path = curr_path[:-22] + 'NORMAL/'"
   ]
  },
  {
   "cell_type": "code",
   "execution_count": 6,
   "id": "520f4a53",
   "metadata": {},
   "outputs": [],
   "source": [
    "cov_files  = os.listdir(cov_path)\n",
    "norm_files = os.listdir(norm_path)"
   ]
  },
  {
   "cell_type": "code",
   "execution_count": null,
   "id": "c66ad1bd",
   "metadata": {},
   "outputs": [],
   "source": []
  },
  {
   "cell_type": "code",
   "execution_count": 7,
   "id": "d037cb16",
   "metadata": {},
   "outputs": [],
   "source": [
    "df = pd.DataFrame(columns = ['image', 'path', 'covid'])"
   ]
  },
  {
   "cell_type": "code",
   "execution_count": null,
   "id": "bb03f3be",
   "metadata": {},
   "outputs": [],
   "source": []
  },
  {
   "cell_type": "code",
   "execution_count": 8,
   "id": "27693cd0",
   "metadata": {},
   "outputs": [],
   "source": [
    "df = fill_and_compute_df(df, cov_path, cov_files, 1)\n",
    "df = fill_and_compute_df(df, norm_path, norm_files, 0)"
   ]
  },
  {
   "cell_type": "code",
   "execution_count": 9,
   "id": "a260223c",
   "metadata": {},
   "outputs": [
    {
     "data": {
      "text/html": [
       "<div>\n",
       "<style scoped>\n",
       "    .dataframe tbody tr th:only-of-type {\n",
       "        vertical-align: middle;\n",
       "    }\n",
       "\n",
       "    .dataframe tbody tr th {\n",
       "        vertical-align: top;\n",
       "    }\n",
       "\n",
       "    .dataframe thead th {\n",
       "        text-align: right;\n",
       "    }\n",
       "</style>\n",
       "<table border=\"1\" class=\"dataframe\">\n",
       "  <thead>\n",
       "    <tr style=\"text-align: right;\">\n",
       "      <th></th>\n",
       "      <th>image</th>\n",
       "      <th>path</th>\n",
       "      <th>covid</th>\n",
       "    </tr>\n",
       "  </thead>\n",
       "  <tbody>\n",
       "    <tr>\n",
       "      <th>0</th>\n",
       "      <td>[[2, 2, 2, 2, 2, 2, 2, 2, 2, 2, 2, 2, 2, 2, 2,...</td>\n",
       "      <td>F:\\iad\\COVID/covid_0.jpg</td>\n",
       "      <td>1</td>\n",
       "    </tr>\n",
       "    <tr>\n",
       "      <th>1</th>\n",
       "      <td>[[1, 1, 1, 1, 1, 1, 1, 1, 1, 1, 1, 1, 1, 1, 2,...</td>\n",
       "      <td>F:\\iad\\COVID/covid_1.jpg</td>\n",
       "      <td>1</td>\n",
       "    </tr>\n",
       "    <tr>\n",
       "      <th>2</th>\n",
       "      <td>[[14, 12, 12, 8, 12, 12, 8, 8, 5, 8, 12, 12, 1...</td>\n",
       "      <td>F:\\iad\\COVID/covid_10.jpg</td>\n",
       "      <td>1</td>\n",
       "    </tr>\n",
       "    <tr>\n",
       "      <th>3</th>\n",
       "      <td>[[0, 0, 0, 0, 0, 0, 0, 0, 0, 0, 0, 0, 0, 0, 0,...</td>\n",
       "      <td>F:\\iad\\COVID/covid_100.jpg</td>\n",
       "      <td>1</td>\n",
       "    </tr>\n",
       "    <tr>\n",
       "      <th>4</th>\n",
       "      <td>[[25, 25, 25, 25, 25, 24, 24, 24, 24, 24, 24, ...</td>\n",
       "      <td>F:\\iad\\COVID/covid_101.jpg</td>\n",
       "      <td>1</td>\n",
       "    </tr>\n",
       "  </tbody>\n",
       "</table>\n",
       "</div>"
      ],
      "text/plain": [
       "                                               image  \\\n",
       "0  [[2, 2, 2, 2, 2, 2, 2, 2, 2, 2, 2, 2, 2, 2, 2,...   \n",
       "1  [[1, 1, 1, 1, 1, 1, 1, 1, 1, 1, 1, 1, 1, 1, 2,...   \n",
       "2  [[14, 12, 12, 8, 12, 12, 8, 8, 5, 8, 12, 12, 1...   \n",
       "3  [[0, 0, 0, 0, 0, 0, 0, 0, 0, 0, 0, 0, 0, 0, 0,...   \n",
       "4  [[25, 25, 25, 25, 25, 24, 24, 24, 24, 24, 24, ...   \n",
       "\n",
       "                         path covid  \n",
       "0    F:\\iad\\COVID/covid_0.jpg     1  \n",
       "1    F:\\iad\\COVID/covid_1.jpg     1  \n",
       "2   F:\\iad\\COVID/covid_10.jpg     1  \n",
       "3  F:\\iad\\COVID/covid_100.jpg     1  \n",
       "4  F:\\iad\\COVID/covid_101.jpg     1  "
      ]
     },
     "execution_count": 9,
     "metadata": {},
     "output_type": "execute_result"
    }
   ],
   "source": [
    "df.head()"
   ]
  },
  {
   "cell_type": "code",
   "execution_count": 10,
   "id": "c0dc6570",
   "metadata": {},
   "outputs": [
    {
     "data": {
      "text/plain": [
       "<matplotlib.image.AxesImage at 0x15cab4e0af0>"
      ]
     },
     "execution_count": 10,
     "metadata": {},
     "output_type": "execute_result"
    },
    {
     "data": {
      "image/png": "[encoded data removed]",
      "text/plain": [
       "<Figure size 432x288 with 1 Axes>"
      ]
     },
     "metadata": {
      "needs_background": "light"
     },
     "output_type": "display_data"
    }
   ],
   "source": [
    "plt.imshow(df['image'][1], cmap='gray')"
   ]
  },
  {
   "cell_type": "code",
   "execution_count": null,
   "id": "1d215ead",
   "metadata": {},
   "outputs": [],
   "source": []
  },
  {
   "cell_type": "code",
   "execution_count": 11,
   "id": "284fbd87",
   "metadata": {},
   "outputs": [
    {
     "data": {
      "text/html": [
       "<div>\n",
       "<style scoped>\n",
       "    .dataframe tbody tr th:only-of-type {\n",
       "        vertical-align: middle;\n",
       "    }\n",
       "\n",
       "    .dataframe tbody tr th {\n",
       "        vertical-align: top;\n",
       "    }\n",
       "\n",
       "    .dataframe thead th {\n",
       "        text-align: right;\n",
       "    }\n",
       "</style>\n",
       "<table border=\"1\" class=\"dataframe\">\n",
       "  <thead>\n",
       "    <tr style=\"text-align: right;\">\n",
       "      <th></th>\n",
       "      <th>image</th>\n",
       "      <th>path</th>\n",
       "      <th>covid</th>\n",
       "    </tr>\n",
       "  </thead>\n",
       "  <tbody>\n",
       "    <tr>\n",
       "      <th>count</th>\n",
       "      <td>324</td>\n",
       "      <td>324</td>\n",
       "      <td>324</td>\n",
       "    </tr>\n",
       "    <tr>\n",
       "      <th>unique</th>\n",
       "      <td>324</td>\n",
       "      <td>324</td>\n",
       "      <td>2</td>\n",
       "    </tr>\n",
       "    <tr>\n",
       "      <th>top</th>\n",
       "      <td>[[2, 2, 2, 2, 2, 2, 2, 2, 2, 2, 2, 2, 2, 2, 2,...</td>\n",
       "      <td>F:\\iad\\COVID/covid_0.jpg</td>\n",
       "      <td>1</td>\n",
       "    </tr>\n",
       "    <tr>\n",
       "      <th>freq</th>\n",
       "      <td>1</td>\n",
       "      <td>1</td>\n",
       "      <td>162</td>\n",
       "    </tr>\n",
       "  </tbody>\n",
       "</table>\n",
       "</div>"
      ],
      "text/plain": [
       "                                                    image  \\\n",
       "count                                                 324   \n",
       "unique                                                324   \n",
       "top     [[2, 2, 2, 2, 2, 2, 2, 2, 2, 2, 2, 2, 2, 2, 2,...   \n",
       "freq                                                    1   \n",
       "\n",
       "                            path  covid  \n",
       "count                        324    324  \n",
       "unique                       324      2  \n",
       "top     F:\\iad\\COVID/covid_0.jpg      1  \n",
       "freq                           1    162  "
      ]
     },
     "execution_count": 11,
     "metadata": {},
     "output_type": "execute_result"
    }
   ],
   "source": [
    "df.describe()"
   ]
  },
  {
   "cell_type": "code",
   "execution_count": null,
   "id": "14059038",
   "metadata": {},
   "outputs": [],
   "source": []
  },
  {
   "cell_type": "code",
   "execution_count": 12,
   "id": "72f80c85",
   "metadata": {},
   "outputs": [
    {
     "name": "stdout",
     "output_type": "stream",
     "text": [
      "<class 'pandas.core.frame.DataFrame'>\n",
      "RangeIndex: 324 entries, 0 to 323\n",
      "Data columns (total 3 columns):\n",
      " #   Column  Non-Null Count  Dtype \n",
      "---  ------  --------------  ----- \n",
      " 0   image   324 non-null    object\n",
      " 1   path    324 non-null    object\n",
      " 2   covid   324 non-null    object\n",
      "dtypes: object(3)\n",
      "memory usage: 7.7+ KB\n"
     ]
    }
   ],
   "source": [
    "df.info()"
   ]
  },
  {
   "cell_type": "code",
   "execution_count": null,
   "id": "779666b2",
   "metadata": {},
   "outputs": [],
   "source": []
  },
  {
   "cell_type": "markdown",
   "id": "c9962db3",
   "metadata": {},
   "source": [
    "# Разбиение и работа с моделями"
   ]
  },
  {
   "cell_type": "code",
   "execution_count": null,
   "id": "c4e5279a",
   "metadata": {},
   "outputs": [],
   "source": []
  },
  {
   "cell_type": "code",
   "execution_count": 28,
   "id": "8e9c5ade",
   "metadata": {},
   "outputs": [],
   "source": [
    "import torch\n",
    "import torch.nn.functional as F\n",
    "from torch import nn, optim\n",
    "from torchvision import transforms\n",
    "import seaborn as sn\n",
    "\n",
    "from sklearn.metrics import confusion_matrix\n",
    "from sklearn.model_selection import train_test_split"
   ]
  },
  {
   "cell_type": "code",
   "execution_count": null,
   "id": "7a1a4387",
   "metadata": {},
   "outputs": [],
   "source": []
  },
  {
   "cell_type": "code",
   "execution_count": 25,
   "id": "328d16d1",
   "metadata": {},
   "outputs": [],
   "source": [
    "def train_model(model, epochs, criterion, optimizer, X_train, Y_train, X_test, Y_test):\n",
    "    losses = []\n",
    "    accs = []\n",
    "    for i in range(epochs):\n",
    "        i += 1\n",
    "        Y_pred = model.forward(X_train)\n",
    "        loss = criterion(Y_pred, Y_train)\n",
    "        losses.append(loss)\n",
    "        acc = test_model(model, X_test, Y_test, 0)\n",
    "        accs.append(acc)\n",
    "        print(f'epoch: {i:2}  loss: {loss.item():10.8f} acc: {acc}')\n",
    "\n",
    "        optimizer.zero_grad()\n",
    "        loss.backward()\n",
    "        optimizer.step()\n",
    "        \n",
    "    return model, accs, losses"
   ]
  },
  {
   "cell_type": "code",
   "execution_count": 15,
   "id": "760afef6",
   "metadata": {},
   "outputs": [],
   "source": [
    "def test_model(model, X_test, Y_test, show):\n",
    "    counter = 0\n",
    "    y_test_len = len(Y_test)\n",
    "\n",
    "    with torch.no_grad():\n",
    "        for i,data in enumerate(X_test):\n",
    "            y_val = model.forward(data)\n",
    "            if y_val.argmax().item() == Y_test[i]:\n",
    "                counter += 1\n",
    "    res = 100*counter/y_test_len\n",
    "    if show:\n",
    "        print(f'{counter} out of {y_test_len} = {res}% right')\n",
    "    else:\n",
    "        return res"
   ]
  },
  {
   "cell_type": "code",
   "execution_count": 30,
   "id": "dff8e7b4",
   "metadata": {},
   "outputs": [],
   "source": [
    "# так как работа связана с медициной то используем confusion_matrix\n",
    "def test_res_model(model, X_test, Y_test, show, target_names):\n",
    "    pr = []\n",
    "    with torch.no_grad():\n",
    "        for i,data in enumerate(X_test):\n",
    "            y_val = model.forward(data)\n",
    "            res = y_val.argmax().item()\n",
    "            pr.append(res)\n",
    "    res = confusion_matrix(Y_test, pr)\n",
    "    if show:\n",
    "        df_cm = pd.DataFrame(res)\n",
    "        plt.figure(figsize = (4,4))\n",
    "        sn.heatmap(df_cm, annot=True, xticklabels=target_names, yticklabels=target_names)\n",
    "    else:\n",
    "        return res"
   ]
  },
  {
   "cell_type": "code",
   "execution_count": null,
   "id": "98b0c4df",
   "metadata": {},
   "outputs": [],
   "source": []
  },
  {
   "cell_type": "code",
   "execution_count": null,
   "id": "fe7b91d5",
   "metadata": {},
   "outputs": [],
   "source": []
  },
  {
   "cell_type": "code",
   "execution_count": 17,
   "id": "cc2a2aa5",
   "metadata": {},
   "outputs": [],
   "source": [
    "data_copy = df.copy()"
   ]
  },
  {
   "cell_type": "code",
   "execution_count": 18,
   "id": "82289745",
   "metadata": {},
   "outputs": [],
   "source": [
    "data_split = data_copy.copy()\n",
    "\n",
    "y = data_split['covid'].values\n",
    "x = data_split['image'].values"
   ]
  },
  {
   "cell_type": "code",
   "execution_count": 19,
   "id": "0b17518e",
   "metadata": {},
   "outputs": [],
   "source": [
    "X_train, X_test, Y_train, Y_test = train_test_split(x, y, test_size=0.3)"
   ]
  },
  {
   "cell_type": "code",
   "execution_count": 20,
   "id": "7c826c4e",
   "metadata": {},
   "outputs": [],
   "source": [
    "X_train = [np.hstack(image).astype(np.float32) for image in X_train]"
   ]
  },
  {
   "cell_type": "code",
   "execution_count": 21,
   "id": "553b6d89",
   "metadata": {},
   "outputs": [],
   "source": [
    "X_test = [np.hstack(image).astype(np.float32) for image in X_test]"
   ]
  },
  {
   "cell_type": "code",
   "execution_count": 22,
   "id": "14d43a12",
   "metadata": {},
   "outputs": [],
   "source": [
    "X_train_tensor = torch.tensor(X_train)\n",
    "X_test_tensor = torch.tensor(X_test)\n",
    "Y_train_tensor = torch.tensor(list(Y_train))\n",
    "Y_test_tensor = torch.tensor(list(Y_test))"
   ]
  },
  {
   "cell_type": "code",
   "execution_count": 37,
   "id": "bf10c282",
   "metadata": {},
   "outputs": [],
   "source": [
    "target_names = [\"norm\", \"covid\"]"
   ]
  },
  {
   "cell_type": "markdown",
   "id": "8fc837ee",
   "metadata": {
    "scrolled": true
   },
   "source": [
    "# Работа с моделями"
   ]
  },
  {
   "cell_type": "code",
   "execution_count": null,
   "id": "b83cb330",
   "metadata": {},
   "outputs": [],
   "source": []
  },
  {
   "cell_type": "markdown",
   "id": "8f9a4c63",
   "metadata": {},
   "source": [
    "### Модель 1"
   ]
  },
  {
   "cell_type": "code",
   "execution_count": null,
   "id": "911af1fc",
   "metadata": {},
   "outputs": [],
   "source": []
  },
  {
   "cell_type": "code",
   "execution_count": 23,
   "id": "fbf386d8",
   "metadata": {},
   "outputs": [],
   "source": [
    "model1 = nn.Sequential(\n",
    "    nn.Linear(224 * 224, 224),\n",
    "    nn.ReLU(),\n",
    "    nn.Linear(224, 16),\n",
    "    nn.ReLU(),\n",
    "    nn.Linear(16, 4),\n",
    "    nn.ReLU(),    \n",
    "    nn.Linear(4, 2),\n",
    "    nn.Sigmoid())"
   ]
  },
  {
   "cell_type": "code",
   "execution_count": 24,
   "id": "0398178a",
   "metadata": {},
   "outputs": [],
   "source": [
    "criterion = nn.CrossEntropyLoss()\n",
    "optimizer = torch.optim.Adam(model1.parameters(), lr=0.01)"
   ]
  },
  {
   "cell_type": "code",
   "execution_count": 26,
   "id": "3309b6a9",
   "metadata": {},
   "outputs": [
    {
     "name": "stdout",
     "output_type": "stream",
     "text": [
      "epoch:  1  loss: 0.71714824 acc: 39.795918367346935\n",
      "epoch:  2  loss: 0.69314730 acc: 40.816326530612244\n",
      "epoch:  3  loss: 0.69314730 acc: 40.816326530612244\n",
      "epoch:  4  loss: 0.69314730 acc: 40.816326530612244\n",
      "epoch:  5  loss: 0.69314730 acc: 40.816326530612244\n",
      "epoch:  6  loss: 0.69314730 acc: 40.816326530612244\n",
      "epoch:  7  loss: 0.69314730 acc: 40.816326530612244\n",
      "epoch:  8  loss: 0.69314730 acc: 40.816326530612244\n",
      "epoch:  9  loss: 0.69314730 acc: 40.816326530612244\n",
      "epoch: 10  loss: 0.69314730 acc: 40.816326530612244\n",
      "epoch: 11  loss: 0.69314730 acc: 40.816326530612244\n",
      "epoch: 12  loss: 0.69314730 acc: 40.816326530612244\n",
      "epoch: 13  loss: 0.69314730 acc: 40.816326530612244\n",
      "epoch: 14  loss: 0.69314730 acc: 40.816326530612244\n",
      "epoch: 15  loss: 0.69314730 acc: 40.816326530612244\n",
      "epoch: 16  loss: 0.69314730 acc: 40.816326530612244\n",
      "epoch: 17  loss: 0.69314730 acc: 40.816326530612244\n",
      "epoch: 18  loss: 0.69314730 acc: 40.816326530612244\n",
      "epoch: 19  loss: 0.69314730 acc: 40.816326530612244\n",
      "epoch: 20  loss: 0.69314730 acc: 40.816326530612244\n"
     ]
    }
   ],
   "source": [
    "epochs1 = 20\n",
    "model1_, accs1, losses1  = train_model(model1, epochs1, criterion, optimizer, X_train_tensor, Y_train_tensor, X_test_tensor, Y_test_tensor)"
   ]
  },
  {
   "cell_type": "code",
   "execution_count": 38,
   "id": "254f539a",
   "metadata": {},
   "outputs": [
    {
     "data": {
      "image/png": "[encoded data removed]",
      "text/plain": [
       "<Figure size 288x288 with 2 Axes>"
      ]
     },
     "metadata": {
      "needs_background": "light"
     },
     "output_type": "display_data"
    }
   ],
   "source": [
    "test_res_model(model1_, X_test_tensor, Y_test_tensor, 1, target_names)"
   ]
  },
  {
   "cell_type": "code",
   "execution_count": null,
   "id": "536b0f25",
   "metadata": {},
   "outputs": [],
   "source": []
  },
  {
   "cell_type": "code",
   "execution_count": null,
   "id": "760cc7e2",
   "metadata": {},
   "outputs": [],
   "source": []
  },
  {
   "cell_type": "markdown",
   "id": "11263165",
   "metadata": {},
   "source": [
    "### Модель 2"
   ]
  },
  {
   "cell_type": "code",
   "execution_count": 32,
   "id": "2bb7f17d",
   "metadata": {},
   "outputs": [
    {
     "name": "stdout",
     "output_type": "stream",
     "text": [
      "[283, 43, 32, 5, 2]\n"
     ]
    }
   ],
   "source": [
    "input_size = 224 * 224\n",
    "hidden_sizes = [283, 43, 32, 5, 2]\n",
    "output_size = 2\n",
    "print(hidden_sizes)"
   ]
  },
  {
   "cell_type": "code",
   "execution_count": 33,
   "id": "e416e58b",
   "metadata": {},
   "outputs": [],
   "source": [
    "model2 = nn.Sequential(nn.Linear(input_size, hidden_sizes[0]),\n",
    "                      nn.ReLU(),\n",
    "                      nn.Linear(hidden_sizes[0], hidden_sizes[1]),\n",
    "                      nn.ReLU(),\n",
    "                      nn.Linear(hidden_sizes[1], hidden_sizes[2]),\n",
    "                      nn.ReLU(),\n",
    "                      nn.Linear(hidden_sizes[2], hidden_sizes[3]),\n",
    "                      nn.ReLU(),\n",
    "                      nn.Linear(hidden_sizes[3], hidden_sizes[4]),\n",
    "                      nn.ReLU(),\n",
    "                      nn.Linear(hidden_sizes[4], output_size))"
   ]
  },
  {
   "cell_type": "code",
   "execution_count": null,
   "id": "4b5da4d3",
   "metadata": {},
   "outputs": [],
   "source": []
  },
  {
   "cell_type": "code",
   "execution_count": null,
   "id": "db48ee32",
   "metadata": {},
   "outputs": [],
   "source": []
  },
  {
   "cell_type": "code",
   "execution_count": 34,
   "id": "71d6c71a",
   "metadata": {},
   "outputs": [],
   "source": [
    "criterion = nn.CrossEntropyLoss()\n",
    "optimizer = torch.optim.Adam(model2.parameters(), lr=0.01)"
   ]
  },
  {
   "cell_type": "code",
   "execution_count": 36,
   "id": "d8b447bf",
   "metadata": {},
   "outputs": [
    {
     "name": "stdout",
     "output_type": "stream",
     "text": [
      "epoch:  1  loss: 0.79272974 acc: 59.183673469387756\n",
      "epoch:  2  loss: 23.43014336 acc: 59.183673469387756\n",
      "epoch:  3  loss: 0.72789222 acc: 59.183673469387756\n",
      "epoch:  4  loss: 0.72558391 acc: 59.183673469387756\n",
      "epoch:  5  loss: 0.72346580 acc: 59.183673469387756\n",
      "epoch:  6  loss: 0.72148246 acc: 59.183673469387756\n",
      "epoch:  7  loss: 0.71960521 acc: 59.183673469387756\n",
      "epoch:  8  loss: 0.71781802 acc: 59.183673469387756\n",
      "epoch:  9  loss: 0.71611089 acc: 59.183673469387756\n",
      "epoch: 10  loss: 0.71447808 acc: 59.183673469387756\n",
      "epoch: 11  loss: 0.71291500 acc: 59.183673469387756\n",
      "epoch: 12  loss: 0.71141905 acc: 59.183673469387756\n",
      "epoch: 13  loss: 0.70998752 acc: 59.183673469387756\n",
      "epoch: 14  loss: 0.70861953 acc: 59.183673469387756\n",
      "epoch: 15  loss: 0.70731318 acc: 59.183673469387756\n",
      "epoch: 16  loss: 0.70606774 acc: 59.183673469387756\n",
      "epoch: 17  loss: 0.70488191 acc: 59.183673469387756\n",
      "epoch: 18  loss: 0.70375472 acc: 59.183673469387756\n",
      "epoch: 19  loss: 0.70268518 acc: 59.183673469387756\n",
      "epoch: 20  loss: 0.70167249 acc: 59.183673469387756\n"
     ]
    }
   ],
   "source": [
    "epochs2 = 20\n",
    "model2_, accs2, losses2 = train_model(model2, epochs2, criterion, optimizer, X_train_tensor, Y_train_tensor, X_test_tensor, Y_test_tensor)"
   ]
  },
  {
   "cell_type": "code",
   "execution_count": null,
   "id": "a976118c",
   "metadata": {},
   "outputs": [],
   "source": []
  },
  {
   "cell_type": "code",
   "execution_count": 39,
   "id": "0f826ffa",
   "metadata": {},
   "outputs": [
    {
     "data": {
      "image/png": "[encoded data removed]",
      "text/plain": [
       "<Figure size 288x288 with 2 Axes>"
      ]
     },
     "metadata": {
      "needs_background": "light"
     },
     "output_type": "display_data"
    }
   ],
   "source": [
    "test_res_model(model2_, X_test_tensor, Y_test_tensor, 1, target_names)"
   ]
  },
  {
   "cell_type": "code",
   "execution_count": null,
   "id": "9fc790c0",
   "metadata": {},
   "outputs": [],
   "source": []
  },
  {
   "cell_type": "code",
   "execution_count": null,
   "id": "8b70f8f3",
   "metadata": {},
   "outputs": [],
   "source": []
  },
  {
   "cell_type": "markdown",
   "id": "e67c230c",
   "metadata": {},
   "source": [
    "### Модель 3"
   ]
  },
  {
   "cell_type": "code",
   "execution_count": 40,
   "id": "f7a2e03e",
   "metadata": {},
   "outputs": [],
   "source": [
    "class Model3(nn.Module):\n",
    "    def __init__(self):\n",
    "        super(Model3, self).__init__()\n",
    "        self.fc1 = nn.Linear(224 * 224, 224)\n",
    "        self.fc2 = nn.Linear(224, 112)\n",
    "        self.fc3 = nn.Linear(112, 56)\n",
    "        self.fc4 = nn.Linear(56, 28)\n",
    "        self.fc5 = nn.Linear(28, 14)\n",
    "        self.fc6 = nn.Linear(14, 7)\n",
    "        self.fc7 = nn.Linear(7, 2)\n",
    "    \n",
    "    def forward(self, x):\n",
    "        x = F.elu(self.fc1(x))\n",
    "        x = F.elu(self.fc2(x))\n",
    "        x = F.selu(self.fc3(x))\n",
    "        x = F.selu(self.fc4(x))\n",
    "        x = F.selu(self.fc5(x))\n",
    "        x = F.celu(self.fc6(x))\n",
    "        x = F.celu(self.fc7(x))\n",
    "        return x"
   ]
  },
  {
   "cell_type": "code",
   "execution_count": 41,
   "id": "98186bc2",
   "metadata": {},
   "outputs": [],
   "source": [
    "model3 = Model3()"
   ]
  },
  {
   "cell_type": "code",
   "execution_count": 42,
   "id": "873cbffa",
   "metadata": {},
   "outputs": [],
   "source": [
    "criterion = nn.CrossEntropyLoss()\n",
    "optimizer = torch.optim.Adam(model3.parameters(), lr=0.01)"
   ]
  },
  {
   "cell_type": "code",
   "execution_count": 43,
   "id": "31eac282",
   "metadata": {},
   "outputs": [
    {
     "name": "stdout",
     "output_type": "stream",
     "text": [
      "epoch:  1  loss: 0.77776778 acc: 40.816326530612244\n",
      "epoch:  2  loss: 276.47387695 acc: 59.183673469387756\n",
      "epoch:  3  loss: 69.65414429 acc: 40.816326530612244\n",
      "epoch:  4  loss: 1254.72875977 acc: 40.816326530612244\n",
      "epoch:  5  loss: 511.95492554 acc: 59.183673469387756\n",
      "epoch:  6  loss: 248.68582153 acc: 59.183673469387756\n",
      "epoch:  7  loss: 85.80082703 acc: 40.816326530612244\n",
      "epoch:  8  loss: 0.69314730 acc: 40.816326530612244\n",
      "epoch:  9  loss: 0.69314730 acc: 40.816326530612244\n",
      "epoch: 10  loss: 0.69314730 acc: 40.816326530612244\n",
      "epoch: 11  loss: 0.69314730 acc: 40.816326530612244\n",
      "epoch: 12  loss: 0.69314730 acc: 40.816326530612244\n",
      "epoch: 13  loss: 0.69314730 acc: 40.816326530612244\n",
      "epoch: 14  loss: 0.69314730 acc: 40.816326530612244\n",
      "epoch: 15  loss: 0.69314730 acc: 40.816326530612244\n",
      "epoch: 16  loss: 0.69314730 acc: 40.816326530612244\n",
      "epoch: 17  loss: 0.69314730 acc: 40.816326530612244\n",
      "epoch: 18  loss: 0.69314730 acc: 40.816326530612244\n",
      "epoch: 19  loss: 0.69314730 acc: 40.816326530612244\n",
      "epoch: 20  loss: 0.69314730 acc: 40.816326530612244\n"
     ]
    }
   ],
   "source": [
    "epochs3 = 20\n",
    "model3_, accs3, losses3 = train_model(model3, epochs3, criterion, optimizer, X_train_tensor, Y_train_tensor, X_test_tensor, Y_test_tensor)"
   ]
  },
  {
   "cell_type": "code",
   "execution_count": 44,
   "id": "e70406d1",
   "metadata": {},
   "outputs": [
    {
     "data": {
      "image/png": "[encoded data removed]",
      "text/plain": [
       "<Figure size 288x288 with 2 Axes>"
      ]
     },
     "metadata": {
      "needs_background": "light"
     },
     "output_type": "display_data"
    }
   ],
   "source": [
    "test_res_model(model3_, X_test_tensor, Y_test_tensor, 1, target_names)"
   ]
  },
  {
   "cell_type": "code",
   "execution_count": null,
   "id": "295e6fd7",
   "metadata": {},
   "outputs": [],
   "source": []
  },
  {
   "cell_type": "code",
   "execution_count": null,
   "id": "d2b18f83",
   "metadata": {},
   "outputs": [],
   "source": []
  },
  {
   "cell_type": "code",
   "execution_count": null,
   "id": "d7a78649",
   "metadata": {},
   "outputs": [],
   "source": []
  },
  {
   "cell_type": "markdown",
   "id": "96fd4ed7",
   "metadata": {},
   "source": [
    "### Модель 4"
   ]
  },
  {
   "cell_type": "code",
   "execution_count": 45,
   "id": "b0678901",
   "metadata": {},
   "outputs": [],
   "source": [
    "class Model4(nn.Module):\n",
    "    def __init__(self):\n",
    "        super(Model4, self).__init__()\n",
    "        self.fc1 = nn.Linear(224 * 224, 1000)\n",
    "        self.fc2 = nn.Linear(1000, 500)\n",
    "        self.fc3 = nn.Linear(500, 250)\n",
    "        self.fc4 = nn.Linear(250, 125)\n",
    "        self.fc5 = nn.Linear(125, 62)\n",
    "        self.fc6 = nn.Linear(62, 31)\n",
    "        self.fc7 = nn.Linear(31, 15)\n",
    "        self.fc8 = nn.Linear(15, 2)\n",
    "    \n",
    "    def forward(self, x):\n",
    "        x = F.hardtanh(self.fc1(x))\n",
    "        x = F.hardtanh(self.fc2(x))\n",
    "        x = F.hardtanh(self.fc3(x))\n",
    "        x = F.gelu(self.fc4(x))\n",
    "        x = F.gelu(self.fc5(x))\n",
    "        x = F.gelu(self.fc6(x))\n",
    "        x = F.relu6(self.fc7(x))\n",
    "        x = F.relu6(self.fc8(x))\n",
    "        return F.log_softmax(x)"
   ]
  },
  {
   "cell_type": "code",
   "execution_count": 46,
   "id": "b8d57321",
   "metadata": {},
   "outputs": [],
   "source": [
    "model4 = Model4()"
   ]
  },
  {
   "cell_type": "code",
   "execution_count": 47,
   "id": "e94500a6",
   "metadata": {},
   "outputs": [],
   "source": [
    "criterion = nn.CrossEntropyLoss()\n",
    "optimizer = torch.optim.Adam(model4.parameters(), lr=0.01)"
   ]
  },
  {
   "cell_type": "code",
   "execution_count": 49,
   "id": "19085379",
   "metadata": {},
   "outputs": [
    {
     "name": "stdout",
     "output_type": "stream",
     "text": [
      "epoch:  1  loss: 0.69222581 acc: 40.816326530612244\n",
      "epoch:  2  loss: 0.69144964 acc: 40.816326530612244\n",
      "epoch:  3  loss: 0.69028461 acc: 40.816326530612244\n",
      "epoch:  4  loss: 0.72723079 acc: 40.816326530612244\n",
      "epoch:  5  loss: 0.68997228 acc: 40.816326530612244\n",
      "epoch:  6  loss: 0.69023216 acc: 40.816326530612244\n",
      "epoch:  7  loss: 0.69021541 acc: 40.816326530612244\n",
      "epoch:  8  loss: 0.69006443 acc: 40.816326530612244\n",
      "epoch:  9  loss: 0.68998551 acc: 40.816326530612244\n",
      "epoch: 10  loss: 0.69005167 acc: 40.816326530612244\n",
      "epoch: 11  loss: 0.69019264 acc: 40.816326530612244\n",
      "epoch: 12  loss: 0.68997324 acc: 40.816326530612244\n",
      "epoch: 13  loss: 0.69009030 acc: 40.816326530612244\n",
      "epoch: 14  loss: 0.68997461 acc: 40.816326530612244\n",
      "epoch: 15  loss: 0.69007224 acc: 40.816326530612244\n",
      "epoch: 16  loss: 0.68997550 acc: 40.816326530612244\n",
      "epoch: 17  loss: 0.69006723 acc: 40.816326530612244\n",
      "epoch: 18  loss: 0.68997508 acc: 40.816326530612244\n",
      "epoch: 19  loss: 0.69004619 acc: 40.816326530612244\n",
      "epoch: 20  loss: 0.68997335 acc: 40.816326530612244\n"
     ]
    }
   ],
   "source": [
    "epochs4 = 20\n",
    "model4_, accs4, losses4 = train_model(model4, epochs4, criterion, optimizer, X_train_tensor, Y_train_tensor, X_test_tensor, Y_test_tensor)"
   ]
  },
  {
   "cell_type": "code",
   "execution_count": 50,
   "id": "26dd8a69",
   "metadata": {},
   "outputs": [
    {
     "data": {
      "image/png": "[encoded data removed]",
      "text/plain": [
       "<Figure size 288x288 with 2 Axes>"
      ]
     },
     "metadata": {
      "needs_background": "light"
     },
     "output_type": "display_data"
    }
   ],
   "source": [
    "test_res_model(model4_, X_test_tensor, Y_test_tensor, 1, target_names)"
   ]
  },
  {
   "cell_type": "code",
   "execution_count": null,
   "id": "ea032968",
   "metadata": {},
   "outputs": [],
   "source": []
  },
  {
   "cell_type": "markdown",
   "id": "50209a55",
   "metadata": {},
   "source": [
    "# Результаты"
   ]
  },
  {
   "cell_type": "code",
   "execution_count": null,
   "id": "c3ffdb79",
   "metadata": {},
   "outputs": [],
   "source": []
  },
  {
   "cell_type": "code",
   "execution_count": 51,
   "id": "36ef718b",
   "metadata": {},
   "outputs": [
    {
     "name": "stdout",
     "output_type": "stream",
     "text": [
      "[1, 2, 3, 4, 5, 6, 7, 8, 9, 10, 11, 12, 13, 14, 15, 16, 17, 18, 19, 20]\n"
     ]
    }
   ],
   "source": [
    "max_epoch = max(epochs1, epochs2, epochs3, epochs4)\n",
    "x = list(range(1, max_epoch+1))\n",
    "print(x)"
   ]
  },
  {
   "cell_type": "code",
   "execution_count": 52,
   "id": "a307319f",
   "metadata": {},
   "outputs": [],
   "source": [
    "accs1_ = accs1 + [np.nan for i in range(max_epoch-len(accs1))]\n",
    "accs2_ = accs2 + [np.nan for i in range(max_epoch-len(accs2))]\n",
    "accs3_ = accs3 + [np.nan for i in range(max_epoch-len(accs3))]\n",
    "accs4_ = accs4 + [np.nan for i in range(max_epoch-len(accs4))]"
   ]
  },
  {
   "cell_type": "code",
   "execution_count": 53,
   "id": "3a6ef1fe",
   "metadata": {},
   "outputs": [],
   "source": [
    "losses1_ = [i.item() for i in losses1] + [np.nan for i in range(max_epoch-len(losses1))]\n",
    "losses2_ = [i.item() for i in losses2] + [np.nan for i in range(max_epoch-len(losses2))]\n",
    "losses3_ = [i.item() for i in losses3] + [np.nan for i in range(max_epoch-len(losses3))]\n",
    "losses4_ = [i.item() for i in losses4] + [np.nan for i in range(max_epoch-len(losses4))]"
   ]
  },
  {
   "cell_type": "code",
   "execution_count": null,
   "id": "cbf5b1ea",
   "metadata": {},
   "outputs": [],
   "source": []
  },
  {
   "cell_type": "code",
   "execution_count": 54,
   "id": "e3b14ff5",
   "metadata": {},
   "outputs": [],
   "source": [
    "df_accs_plot = pd.DataFrame({\n",
    "    'model_1': accs1_,\n",
    "    'model_2': accs2_,\n",
    "    'model_3': accs3_,\n",
    "    'model_4': accs4_,\n",
    "}, index=x)"
   ]
  },
  {
   "cell_type": "code",
   "execution_count": 55,
   "id": "2fcf1e0f",
   "metadata": {},
   "outputs": [],
   "source": [
    "df_losses_plot = pd.DataFrame({\n",
    "    'model_1': losses1_,\n",
    "    'model_2': losses2_,\n",
    "    'model_3': losses3_,\n",
    "    'model_4': losses4_,\n",
    "}, index=x)"
   ]
  },
  {
   "cell_type": "code",
   "execution_count": null,
   "id": "6600071c",
   "metadata": {},
   "outputs": [],
   "source": []
  },
  {
   "cell_type": "code",
   "execution_count": 56,
   "id": "4b20be9f",
   "metadata": {},
   "outputs": [
    {
     "data": {
      "text/plain": [
       "<AxesSubplot:>"
      ]
     },
     "execution_count": 56,
     "metadata": {},
     "output_type": "execute_result"
    },
    {
     "data": {
      "image/png": "[encoded data removed]",
      "text/plain": [
       "<Figure size 1080x360 with 1 Axes>"
      ]
     },
     "metadata": {
      "needs_background": "light"
     },
     "output_type": "display_data"
    },
    {
     "data": {
      "image/png": "[encoded data removed]",
      "text/plain": [
       "<Figure size 1080x360 with 1 Axes>"
      ]
     },
     "metadata": {
      "needs_background": "light"
     },
     "output_type": "display_data"
    }
   ],
   "source": [
    "df_accs_plot.plot(figsize=(15, 5))\n",
    "df_losses_plot.plot(figsize=(15, 5))"
   ]
  },
  {
   "cell_type": "code",
   "execution_count": null,
   "id": "ad45f43b",
   "metadata": {},
   "outputs": [],
   "source": []
  },
  {
   "cell_type": "code",
   "execution_count": null,
   "id": "7be696cc",
   "metadata": {},
   "outputs": [],
   "source": []
  },
  {
   "cell_type": "markdown",
   "id": "5a505ec5",
   "metadata": {},
   "source": [
    "# Вывод"
   ]
  },
  {
   "cell_type": "code",
   "execution_count": null,
   "id": "caf0b338",
   "metadata": {},
   "outputs": [],
   "source": []
  },
  {
   "cell_type": "code",
   "execution_count": null,
   "id": "cd06997f",
   "metadata": {},
   "outputs": [],
   "source": []
  }
 ],
 "metadata": {
  "kernelspec": {
   "display_name": "Python 3 (ipykernel)",
   "language": "python",
   "name": "python3"
  },
  "language_info": {
   "codemirror_mode": {
    "name": "ipython",
    "version": 3
   },
   "file_extension": ".py",
   "mimetype": "text/x-python",
   "name": "python",
   "nbconvert_exporter": "python",
   "pygments_lexer": "ipython3",
   "version": "3.9.9"
  }
 },
 "nbformat": 4,
 "nbformat_minor": 5
}
