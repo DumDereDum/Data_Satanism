{
 "cells": [
  {
   "cell_type": "code",
   "execution_count": 2,
   "id": "efb928f8",
   "metadata": {},
   "outputs": [],
   "source": [
    "#!pip install pandas\n",
    "#!pip install numpy\n",
    "#!pip install matplotlib\n",
    "#!pip install sklearn\n",
    "#!pip install seaborn\n",
    "#!pip install ipywidgets widgetsnbextension IProgress pandas_profiling\n"
   ]
  },
  {
   "cell_type": "code",
   "execution_count": null,
   "id": "71c2f3ca",
   "metadata": {},
   "outputs": [],
   "source": []
  },
  {
   "cell_type": "code",
   "execution_count": 35,
   "id": "cc81ea05",
   "metadata": {},
   "outputs": [],
   "source": [
    "import pandas as pd\n",
    "import numpy as np\n",
    "import matplotlib.pyplot as plt"
   ]
  },
  {
   "cell_type": "code",
   "execution_count": 36,
   "id": "264b47a6",
   "metadata": {},
   "outputs": [],
   "source": [
    "pd.set_option('display.max_columns', 100)"
   ]
  },
  {
   "cell_type": "code",
   "execution_count": 37,
   "id": "6b84a1a6",
   "metadata": {},
   "outputs": [],
   "source": [
    "data = pd.read_csv(\"models_v3.csv\", na_values=['–','—', '-'])"
   ]
  },
  {
   "cell_type": "code",
   "execution_count": null,
   "id": "9aeb92ab",
   "metadata": {},
   "outputs": [],
   "source": []
  },
  {
   "cell_type": "markdown",
   "id": "ffa95b7e",
   "metadata": {},
   "source": [
    "# 1. Первичный анализ данных"
   ]
  },
  {
   "cell_type": "markdown",
   "id": "2576a0ad",
   "metadata": {},
   "source": [
    "### Вывод статистик по датасету"
   ]
  },
  {
   "cell_type": "code",
   "execution_count": 38,
   "id": "47684018",
   "metadata": {},
   "outputs": [
    {
     "data": {
      "text/plain": [
       "(81774, 47)"
      ]
     },
     "execution_count": 38,
     "metadata": {},
     "output_type": "execute_result"
    }
   ],
   "source": [
    "data.shape"
   ]
  },
  {
   "cell_type": "code",
   "execution_count": 39,
   "id": "dfc44813",
   "metadata": {},
   "outputs": [
    {
     "data": {
      "text/html": [
       "<div>\n",
       "<style scoped>\n",
       "    .dataframe tbody tr th:only-of-type {\n",
       "        vertical-align: middle;\n",
       "    }\n",
       "\n",
       "    .dataframe tbody tr th {\n",
       "        vertical-align: top;\n",
       "    }\n",
       "\n",
       "    .dataframe thead th {\n",
       "        text-align: right;\n",
       "    }\n",
       "</style>\n",
       "<table border=\"1\" class=\"dataframe\">\n",
       "  <thead>\n",
       "    <tr style=\"text-align: right;\">\n",
       "      <th></th>\n",
       "      <th>URL</th>\n",
       "      <th>Name</th>\n",
       "      <th>Bio</th>\n",
       "      <th>Subscribers</th>\n",
       "      <th>Videos_views</th>\n",
       "      <th>Pornhub_rank</th>\n",
       "      <th>Model_rank</th>\n",
       "      <th>Public_videos</th>\n",
       "      <th>Paid_videos</th>\n",
       "      <th>Fan_club_material</th>\n",
       "      <th>Verified_pornstar</th>\n",
       "      <th>Verified_member</th>\n",
       "      <th>Premium_user</th>\n",
       "      <th>Pornhub_awards_winner</th>\n",
       "      <th>Age</th>\n",
       "      <th>Background</th>\n",
       "      <th>Birthday</th>\n",
       "      <th>Birthplace</th>\n",
       "      <th>Born</th>\n",
       "      <th>Career Start and End</th>\n",
       "      <th>Career Status</th>\n",
       "      <th>City and Country</th>\n",
       "      <th>Endowment</th>\n",
       "      <th>Ethnicity</th>\n",
       "      <th>Eye Color</th>\n",
       "      <th>Facial Hair</th>\n",
       "      <th>Fake Boobs</th>\n",
       "      <th>Foreskin</th>\n",
       "      <th>Gender</th>\n",
       "      <th>Hair Color</th>\n",
       "      <th>Height</th>\n",
       "      <th>Weight</th>\n",
       "      <th>Interested in</th>\n",
       "      <th>Interests and hobbies</th>\n",
       "      <th>Joined</th>\n",
       "      <th>Measurements</th>\n",
       "      <th>Piercings</th>\n",
       "      <th>Pornstar Profile Views</th>\n",
       "      <th>Profile Views</th>\n",
       "      <th>Relationship status</th>\n",
       "      <th>Star Sign</th>\n",
       "      <th>Tattoos</th>\n",
       "      <th>Turn Offs</th>\n",
       "      <th>Turn Ons</th>\n",
       "      <th>Video Views</th>\n",
       "      <th>Videos Watched</th>\n",
       "      <th>Hometown</th>\n",
       "    </tr>\n",
       "  </thead>\n",
       "  <tbody>\n",
       "    <tr>\n",
       "      <th>0</th>\n",
       "      <td>http://pornhub.com/model/mini-diva</td>\n",
       "      <td>Mini Diva</td>\n",
       "      <td>Hey there! You can call me Mini Diva. I love s...</td>\n",
       "      <td>820K</td>\n",
       "      <td>364,041,175</td>\n",
       "      <td>11</td>\n",
       "      <td>1.0</td>\n",
       "      <td>65.0</td>\n",
       "      <td>7.0</td>\n",
       "      <td>107.0</td>\n",
       "      <td>0</td>\n",
       "      <td>1</td>\n",
       "      <td>1</td>\n",
       "      <td>0</td>\n",
       "      <td>26.0</td>\n",
       "      <td>NaN</td>\n",
       "      <td>Aug 6, 1994</td>\n",
       "      <td>Czech Republic</td>\n",
       "      <td>NaN</td>\n",
       "      <td>NaN</td>\n",
       "      <td>NaN</td>\n",
       "      <td>Heaven, Europe</td>\n",
       "      <td>NaN</td>\n",
       "      <td>White</td>\n",
       "      <td>NaN</td>\n",
       "      <td>NaN</td>\n",
       "      <td>No</td>\n",
       "      <td>NaN</td>\n",
       "      <td>Female</td>\n",
       "      <td>Brunette</td>\n",
       "      <td>5' 6\" (167cm)</td>\n",
       "      <td>111lbs. (50kg)</td>\n",
       "      <td>Guys and Girls</td>\n",
       "      <td>Boring AF.</td>\n",
       "      <td>2 years ago</td>\n",
       "      <td>35-25-36</td>\n",
       "      <td>Yes</td>\n",
       "      <td>NaN</td>\n",
       "      <td>59,460,751</td>\n",
       "      <td>Single</td>\n",
       "      <td>NaN</td>\n",
       "      <td>No</td>\n",
       "      <td>Dunno what can turn me off.</td>\n",
       "      <td>When you watching me, fucking love it!</td>\n",
       "      <td>364,041,175</td>\n",
       "      <td>1,057</td>\n",
       "      <td>Prague</td>\n",
       "    </tr>\n",
       "    <tr>\n",
       "      <th>1</th>\n",
       "      <td>http://pornhub.com/model/yinyleon</td>\n",
       "      <td>yinyleon</td>\n",
       "      <td>We will try to bring you the best fuck that we...</td>\n",
       "      <td>586K</td>\n",
       "      <td>510,938,330</td>\n",
       "      <td>21</td>\n",
       "      <td>2.0</td>\n",
       "      <td>140.0</td>\n",
       "      <td>1.0</td>\n",
       "      <td>NaN</td>\n",
       "      <td>0</td>\n",
       "      <td>1</td>\n",
       "      <td>1</td>\n",
       "      <td>0</td>\n",
       "      <td>36.0</td>\n",
       "      <td>NaN</td>\n",
       "      <td>Jun 1, 1984</td>\n",
       "      <td>NaN</td>\n",
       "      <td>NaN</td>\n",
       "      <td>NaN</td>\n",
       "      <td>NaN</td>\n",
       "      <td>United states, United States</td>\n",
       "      <td>NaN</td>\n",
       "      <td>NaN</td>\n",
       "      <td>NaN</td>\n",
       "      <td>NaN</td>\n",
       "      <td>NaN</td>\n",
       "      <td>NaN</td>\n",
       "      <td>Couple</td>\n",
       "      <td>NaN</td>\n",
       "      <td>NaN</td>\n",
       "      <td>NaN</td>\n",
       "      <td>Guys and Girls</td>\n",
       "      <td>I love to go to the gym, running, hiking, fuck...</td>\n",
       "      <td>1 year ago</td>\n",
       "      <td>NaN</td>\n",
       "      <td>NaN</td>\n",
       "      <td>NaN</td>\n",
       "      <td>67,129,229</td>\n",
       "      <td>Taken</td>\n",
       "      <td>NaN</td>\n",
       "      <td>NaN</td>\n",
       "      <td>NaN</td>\n",
       "      <td>My biggest turn on is when I get my ass and pu...</td>\n",
       "      <td>510,938,330</td>\n",
       "      <td>1,422</td>\n",
       "      <td>NaN</td>\n",
       "    </tr>\n",
       "    <tr>\n",
       "      <th>2</th>\n",
       "      <td>http://pornhub.com/model/crystal-lust</td>\n",
       "      <td>Crystal Lust</td>\n",
       "      <td>Cum see more of me on Onlyfans.com/LustCrystal...</td>\n",
       "      <td>433K</td>\n",
       "      <td>346,726,146</td>\n",
       "      <td>29</td>\n",
       "      <td>4.0</td>\n",
       "      <td>104.0</td>\n",
       "      <td>69.0</td>\n",
       "      <td>173.0</td>\n",
       "      <td>0</td>\n",
       "      <td>1</td>\n",
       "      <td>1</td>\n",
       "      <td>0</td>\n",
       "      <td>24.0</td>\n",
       "      <td>NaN</td>\n",
       "      <td>Oct 7, 1996</td>\n",
       "      <td>NaN</td>\n",
       "      <td>NaN</td>\n",
       "      <td>NaN</td>\n",
       "      <td>NaN</td>\n",
       "      <td>Miami, United States</td>\n",
       "      <td>NaN</td>\n",
       "      <td>NaN</td>\n",
       "      <td>NaN</td>\n",
       "      <td>NaN</td>\n",
       "      <td>NaN</td>\n",
       "      <td>NaN</td>\n",
       "      <td>Female</td>\n",
       "      <td>Brunette</td>\n",
       "      <td>5' 2\" (157cm)</td>\n",
       "      <td>NaN</td>\n",
       "      <td>Guys and Girls</td>\n",
       "      <td>NaN</td>\n",
       "      <td>1 year ago</td>\n",
       "      <td>42-32-50</td>\n",
       "      <td>NaN</td>\n",
       "      <td>NaN</td>\n",
       "      <td>50,243,658</td>\n",
       "      <td>Taken</td>\n",
       "      <td>NaN</td>\n",
       "      <td>NaN</td>\n",
       "      <td>NaN</td>\n",
       "      <td>Getting fucked in the ass Onlyfans.com/LustCry...</td>\n",
       "      <td>346,726,146</td>\n",
       "      <td>560</td>\n",
       "      <td>NaN</td>\n",
       "    </tr>\n",
       "    <tr>\n",
       "      <th>3</th>\n",
       "      <td>http://pornhub.com/model/solazola</td>\n",
       "      <td>Solazola</td>\n",
       "      <td>Hi, guys) We hope that you LOVE SEX as much as...</td>\n",
       "      <td>748K</td>\n",
       "      <td>234,093,027</td>\n",
       "      <td>32</td>\n",
       "      <td>5.0</td>\n",
       "      <td>50.0</td>\n",
       "      <td>14.0</td>\n",
       "      <td>181.0</td>\n",
       "      <td>0</td>\n",
       "      <td>1</td>\n",
       "      <td>0</td>\n",
       "      <td>0</td>\n",
       "      <td>21.0</td>\n",
       "      <td>NaN</td>\n",
       "      <td>Dec 12, 1999</td>\n",
       "      <td>NaN</td>\n",
       "      <td>NaN</td>\n",
       "      <td>NaN</td>\n",
       "      <td>NaN</td>\n",
       "      <td>Tallinn, Estonia</td>\n",
       "      <td>NaN</td>\n",
       "      <td>White</td>\n",
       "      <td>NaN</td>\n",
       "      <td>NaN</td>\n",
       "      <td>No</td>\n",
       "      <td>NaN</td>\n",
       "      <td>Couple</td>\n",
       "      <td>Brunette</td>\n",
       "      <td>5' 8\" (172cm)</td>\n",
       "      <td>111lbs. (50kg)</td>\n",
       "      <td>Guys and Girls</td>\n",
       "      <td>Sport, snowboarding, movies, fashion, food, pl...</td>\n",
       "      <td>2 years ago</td>\n",
       "      <td>34-24-36</td>\n",
       "      <td>No</td>\n",
       "      <td>NaN</td>\n",
       "      <td>56,041,576</td>\n",
       "      <td>Taken</td>\n",
       "      <td>NaN</td>\n",
       "      <td>Yes</td>\n",
       "      <td>NaN</td>\n",
       "      <td>blowjobs (love this action)</td>\n",
       "      <td>234,093,027</td>\n",
       "      <td>1,059</td>\n",
       "      <td>NaN</td>\n",
       "    </tr>\n",
       "    <tr>\n",
       "      <th>4</th>\n",
       "      <td>http://pornhub.com/model/dickforlily</td>\n",
       "      <td>DickForLily</td>\n",
       "      <td>just a couple who loves to fuck and gets off o...</td>\n",
       "      <td>596K</td>\n",
       "      <td>357,380,610</td>\n",
       "      <td>43</td>\n",
       "      <td>7.0</td>\n",
       "      <td>175.0</td>\n",
       "      <td>23.0</td>\n",
       "      <td>17.0</td>\n",
       "      <td>0</td>\n",
       "      <td>1</td>\n",
       "      <td>0</td>\n",
       "      <td>0</td>\n",
       "      <td>22.0</td>\n",
       "      <td>NaN</td>\n",
       "      <td>Oct 5, 1998</td>\n",
       "      <td>NaN</td>\n",
       "      <td>NaN</td>\n",
       "      <td>NaN</td>\n",
       "      <td>NaN</td>\n",
       "      <td>New York, United States</td>\n",
       "      <td>NaN</td>\n",
       "      <td>White</td>\n",
       "      <td>NaN</td>\n",
       "      <td>NaN</td>\n",
       "      <td>No</td>\n",
       "      <td>NaN</td>\n",
       "      <td>Couple</td>\n",
       "      <td>Brunette</td>\n",
       "      <td>5' 7\" (170cm)</td>\n",
       "      <td>117lbs. (53kg)</td>\n",
       "      <td>Guys and Girls</td>\n",
       "      <td>I love hiking, sucking dick, fucking and trave...</td>\n",
       "      <td>2 years ago</td>\n",
       "      <td>34-35-25</td>\n",
       "      <td>No</td>\n",
       "      <td>NaN</td>\n",
       "      <td>44,344,938</td>\n",
       "      <td>Taken</td>\n",
       "      <td>NaN</td>\n",
       "      <td>No</td>\n",
       "      <td>avaricious and hypocritical people</td>\n",
       "      <td>Men in suits , expensive cars , cute guys</td>\n",
       "      <td>357,380,610</td>\n",
       "      <td>3,391</td>\n",
       "      <td>NaN</td>\n",
       "    </tr>\n",
       "  </tbody>\n",
       "</table>\n",
       "</div>"
      ],
      "text/plain": [
       "                                     URL          Name  \\\n",
       "0     http://pornhub.com/model/mini-diva     Mini Diva   \n",
       "1      http://pornhub.com/model/yinyleon      yinyleon   \n",
       "2  http://pornhub.com/model/crystal-lust  Crystal Lust   \n",
       "3      http://pornhub.com/model/solazola      Solazola   \n",
       "4   http://pornhub.com/model/dickforlily   DickForLily   \n",
       "\n",
       "                                                 Bio Subscribers Videos_views  \\\n",
       "0  Hey there! You can call me Mini Diva. I love s...        820K  364,041,175   \n",
       "1  We will try to bring you the best fuck that we...        586K  510,938,330   \n",
       "2  Cum see more of me on Onlyfans.com/LustCrystal...        433K  346,726,146   \n",
       "3  Hi, guys) We hope that you LOVE SEX as much as...        748K  234,093,027   \n",
       "4  just a couple who loves to fuck and gets off o...        596K  357,380,610   \n",
       "\n",
       "   Pornhub_rank  Model_rank  Public_videos  Paid_videos  Fan_club_material  \\\n",
       "0            11         1.0           65.0          7.0              107.0   \n",
       "1            21         2.0          140.0          1.0                NaN   \n",
       "2            29         4.0          104.0         69.0              173.0   \n",
       "3            32         5.0           50.0         14.0              181.0   \n",
       "4            43         7.0          175.0         23.0               17.0   \n",
       "\n",
       "   Verified_pornstar  Verified_member  Premium_user  Pornhub_awards_winner  \\\n",
       "0                  0                1             1                      0   \n",
       "1                  0                1             1                      0   \n",
       "2                  0                1             1                      0   \n",
       "3                  0                1             0                      0   \n",
       "4                  0                1             0                      0   \n",
       "\n",
       "    Age  Background      Birthday      Birthplace  Born  Career Start and End  \\\n",
       "0  26.0         NaN   Aug 6, 1994  Czech Republic   NaN                   NaN   \n",
       "1  36.0         NaN   Jun 1, 1984             NaN   NaN                   NaN   \n",
       "2  24.0         NaN   Oct 7, 1996             NaN   NaN                   NaN   \n",
       "3  21.0         NaN  Dec 12, 1999             NaN   NaN                   NaN   \n",
       "4  22.0         NaN   Oct 5, 1998             NaN   NaN                   NaN   \n",
       "\n",
       "   Career Status              City and Country Endowment Ethnicity  Eye Color  \\\n",
       "0            NaN                Heaven, Europe       NaN     White        NaN   \n",
       "1            NaN  United states, United States       NaN       NaN        NaN   \n",
       "2            NaN          Miami, United States       NaN       NaN        NaN   \n",
       "3            NaN              Tallinn, Estonia       NaN     White        NaN   \n",
       "4            NaN       New York, United States       NaN     White        NaN   \n",
       "\n",
       "  Facial Hair Fake Boobs Foreskin  Gender Hair Color         Height  \\\n",
       "0         NaN         No      NaN  Female   Brunette  5' 6\" (167cm)   \n",
       "1         NaN        NaN      NaN  Couple        NaN            NaN   \n",
       "2         NaN        NaN      NaN  Female   Brunette  5' 2\" (157cm)   \n",
       "3         NaN         No      NaN  Couple   Brunette  5' 8\" (172cm)   \n",
       "4         NaN         No      NaN  Couple   Brunette  5' 7\" (170cm)   \n",
       "\n",
       "           Weight   Interested in  \\\n",
       "0  111lbs. (50kg)  Guys and Girls   \n",
       "1             NaN  Guys and Girls   \n",
       "2             NaN  Guys and Girls   \n",
       "3  111lbs. (50kg)  Guys and Girls   \n",
       "4  117lbs. (53kg)  Guys and Girls   \n",
       "\n",
       "                               Interests and hobbies       Joined  \\\n",
       "0                                         Boring AF.  2 years ago   \n",
       "1  I love to go to the gym, running, hiking, fuck...   1 year ago   \n",
       "2                                                NaN   1 year ago   \n",
       "3  Sport, snowboarding, movies, fashion, food, pl...  2 years ago   \n",
       "4  I love hiking, sucking dick, fucking and trave...  2 years ago   \n",
       "\n",
       "  Measurements Piercings  Pornstar Profile Views Profile Views  \\\n",
       "0     35-25-36       Yes                     NaN    59,460,751   \n",
       "1          NaN       NaN                     NaN    67,129,229   \n",
       "2     42-32-50       NaN                     NaN    50,243,658   \n",
       "3     34-24-36        No                     NaN    56,041,576   \n",
       "4     34-35-25        No                     NaN    44,344,938   \n",
       "\n",
       "  Relationship status  Star Sign Tattoos                           Turn Offs  \\\n",
       "0              Single        NaN      No         Dunno what can turn me off.   \n",
       "1               Taken        NaN     NaN                                 NaN   \n",
       "2               Taken        NaN     NaN                                 NaN   \n",
       "3               Taken        NaN     Yes                                 NaN   \n",
       "4               Taken        NaN      No  avaricious and hypocritical people   \n",
       "\n",
       "                                            Turn Ons  Video Views  \\\n",
       "0             When you watching me, fucking love it!  364,041,175   \n",
       "1  My biggest turn on is when I get my ass and pu...  510,938,330   \n",
       "2  Getting fucked in the ass Onlyfans.com/LustCry...  346,726,146   \n",
       "3                        blowjobs (love this action)  234,093,027   \n",
       "4          Men in suits , expensive cars , cute guys  357,380,610   \n",
       "\n",
       "  Videos Watched Hometown  \n",
       "0          1,057   Prague  \n",
       "1          1,422      NaN  \n",
       "2            560      NaN  \n",
       "3          1,059      NaN  \n",
       "4          3,391      NaN  "
      ]
     },
     "execution_count": 39,
     "metadata": {},
     "output_type": "execute_result"
    }
   ],
   "source": [
    "data.head()"
   ]
  },
  {
   "cell_type": "code",
   "execution_count": 40,
   "id": "a51abbe7",
   "metadata": {},
   "outputs": [
    {
     "data": {
      "text/html": [
       "<div>\n",
       "<style scoped>\n",
       "    .dataframe tbody tr th:only-of-type {\n",
       "        vertical-align: middle;\n",
       "    }\n",
       "\n",
       "    .dataframe tbody tr th {\n",
       "        vertical-align: top;\n",
       "    }\n",
       "\n",
       "    .dataframe thead th {\n",
       "        text-align: right;\n",
       "    }\n",
       "</style>\n",
       "<table border=\"1\" class=\"dataframe\">\n",
       "  <thead>\n",
       "    <tr style=\"text-align: right;\">\n",
       "      <th></th>\n",
       "      <th>Pornhub_rank</th>\n",
       "      <th>Model_rank</th>\n",
       "      <th>Public_videos</th>\n",
       "      <th>Paid_videos</th>\n",
       "      <th>Fan_club_material</th>\n",
       "      <th>Verified_pornstar</th>\n",
       "      <th>Verified_member</th>\n",
       "      <th>Premium_user</th>\n",
       "      <th>Pornhub_awards_winner</th>\n",
       "      <th>Age</th>\n",
       "      <th>Background</th>\n",
       "      <th>Born</th>\n",
       "      <th>Career Start and End</th>\n",
       "      <th>Career Status</th>\n",
       "      <th>Eye Color</th>\n",
       "      <th>Pornstar Profile Views</th>\n",
       "      <th>Star Sign</th>\n",
       "    </tr>\n",
       "  </thead>\n",
       "  <tbody>\n",
       "    <tr>\n",
       "      <th>count</th>\n",
       "      <td>81774.000000</td>\n",
       "      <td>81610.000000</td>\n",
       "      <td>79561.000000</td>\n",
       "      <td>28760.000000</td>\n",
       "      <td>17517.000000</td>\n",
       "      <td>81774.0</td>\n",
       "      <td>81774.0</td>\n",
       "      <td>81774.000000</td>\n",
       "      <td>81774.000000</td>\n",
       "      <td>80229.000000</td>\n",
       "      <td>0.0</td>\n",
       "      <td>0.0</td>\n",
       "      <td>0.0</td>\n",
       "      <td>0.0</td>\n",
       "      <td>0.0</td>\n",
       "      <td>0.0</td>\n",
       "      <td>0.0</td>\n",
       "    </tr>\n",
       "    <tr>\n",
       "      <th>mean</th>\n",
       "      <td>56429.579463</td>\n",
       "      <td>41934.357946</td>\n",
       "      <td>13.392353</td>\n",
       "      <td>7.841620</td>\n",
       "      <td>23.928355</td>\n",
       "      <td>0.0</td>\n",
       "      <td>1.0</td>\n",
       "      <td>0.032651</td>\n",
       "      <td>0.000024</td>\n",
       "      <td>27.804073</td>\n",
       "      <td>NaN</td>\n",
       "      <td>NaN</td>\n",
       "      <td>NaN</td>\n",
       "      <td>NaN</td>\n",
       "      <td>NaN</td>\n",
       "      <td>NaN</td>\n",
       "      <td>NaN</td>\n",
       "    </tr>\n",
       "    <tr>\n",
       "      <th>std</th>\n",
       "      <td>26974.421003</td>\n",
       "      <td>24732.503639</td>\n",
       "      <td>36.149875</td>\n",
       "      <td>35.140148</td>\n",
       "      <td>130.965379</td>\n",
       "      <td>0.0</td>\n",
       "      <td>0.0</td>\n",
       "      <td>0.177722</td>\n",
       "      <td>0.004945</td>\n",
       "      <td>26.484533</td>\n",
       "      <td>NaN</td>\n",
       "      <td>NaN</td>\n",
       "      <td>NaN</td>\n",
       "      <td>NaN</td>\n",
       "      <td>NaN</td>\n",
       "      <td>NaN</td>\n",
       "      <td>NaN</td>\n",
       "    </tr>\n",
       "    <tr>\n",
       "      <th>min</th>\n",
       "      <td>11.000000</td>\n",
       "      <td>1.000000</td>\n",
       "      <td>1.000000</td>\n",
       "      <td>1.000000</td>\n",
       "      <td>1.000000</td>\n",
       "      <td>0.0</td>\n",
       "      <td>1.0</td>\n",
       "      <td>0.000000</td>\n",
       "      <td>0.000000</td>\n",
       "      <td>18.000000</td>\n",
       "      <td>NaN</td>\n",
       "      <td>NaN</td>\n",
       "      <td>NaN</td>\n",
       "      <td>NaN</td>\n",
       "      <td>NaN</td>\n",
       "      <td>NaN</td>\n",
       "      <td>NaN</td>\n",
       "    </tr>\n",
       "    <tr>\n",
       "      <th>25%</th>\n",
       "      <td>34496.250000</td>\n",
       "      <td>20816.250000</td>\n",
       "      <td>3.000000</td>\n",
       "      <td>1.000000</td>\n",
       "      <td>2.000000</td>\n",
       "      <td>0.0</td>\n",
       "      <td>1.0</td>\n",
       "      <td>0.000000</td>\n",
       "      <td>0.000000</td>\n",
       "      <td>22.000000</td>\n",
       "      <td>NaN</td>\n",
       "      <td>NaN</td>\n",
       "      <td>NaN</td>\n",
       "      <td>NaN</td>\n",
       "      <td>NaN</td>\n",
       "      <td>NaN</td>\n",
       "      <td>NaN</td>\n",
       "    </tr>\n",
       "    <tr>\n",
       "      <th>50%</th>\n",
       "      <td>58344.500000</td>\n",
       "      <td>41406.500000</td>\n",
       "      <td>6.000000</td>\n",
       "      <td>2.000000</td>\n",
       "      <td>5.000000</td>\n",
       "      <td>0.0</td>\n",
       "      <td>1.0</td>\n",
       "      <td>0.000000</td>\n",
       "      <td>0.000000</td>\n",
       "      <td>26.000000</td>\n",
       "      <td>NaN</td>\n",
       "      <td>NaN</td>\n",
       "      <td>NaN</td>\n",
       "      <td>NaN</td>\n",
       "      <td>NaN</td>\n",
       "      <td>NaN</td>\n",
       "      <td>NaN</td>\n",
       "    </tr>\n",
       "    <tr>\n",
       "      <th>75%</th>\n",
       "      <td>79600.750000</td>\n",
       "      <td>62285.750000</td>\n",
       "      <td>13.000000</td>\n",
       "      <td>4.000000</td>\n",
       "      <td>15.000000</td>\n",
       "      <td>0.0</td>\n",
       "      <td>1.0</td>\n",
       "      <td>0.000000</td>\n",
       "      <td>0.000000</td>\n",
       "      <td>31.000000</td>\n",
       "      <td>NaN</td>\n",
       "      <td>NaN</td>\n",
       "      <td>NaN</td>\n",
       "      <td>NaN</td>\n",
       "      <td>NaN</td>\n",
       "      <td>NaN</td>\n",
       "      <td>NaN</td>\n",
       "    </tr>\n",
       "    <tr>\n",
       "      <th>max</th>\n",
       "      <td>100240.000000</td>\n",
       "      <td>134458.000000</td>\n",
       "      <td>2910.000000</td>\n",
       "      <td>2268.000000</td>\n",
       "      <td>7570.000000</td>\n",
       "      <td>0.0</td>\n",
       "      <td>1.0</td>\n",
       "      <td>1.000000</td>\n",
       "      <td>1.000000</td>\n",
       "      <td>2020.000000</td>\n",
       "      <td>NaN</td>\n",
       "      <td>NaN</td>\n",
       "      <td>NaN</td>\n",
       "      <td>NaN</td>\n",
       "      <td>NaN</td>\n",
       "      <td>NaN</td>\n",
       "      <td>NaN</td>\n",
       "    </tr>\n",
       "  </tbody>\n",
       "</table>\n",
       "</div>"
      ],
      "text/plain": [
       "        Pornhub_rank     Model_rank  Public_videos   Paid_videos  \\\n",
       "count   81774.000000   81610.000000   79561.000000  28760.000000   \n",
       "mean    56429.579463   41934.357946      13.392353      7.841620   \n",
       "std     26974.421003   24732.503639      36.149875     35.140148   \n",
       "min        11.000000       1.000000       1.000000      1.000000   \n",
       "25%     34496.250000   20816.250000       3.000000      1.000000   \n",
       "50%     58344.500000   41406.500000       6.000000      2.000000   \n",
       "75%     79600.750000   62285.750000      13.000000      4.000000   \n",
       "max    100240.000000  134458.000000    2910.000000   2268.000000   \n",
       "\n",
       "       Fan_club_material  Verified_pornstar  Verified_member  Premium_user  \\\n",
       "count       17517.000000            81774.0          81774.0  81774.000000   \n",
       "mean           23.928355                0.0              1.0      0.032651   \n",
       "std           130.965379                0.0              0.0      0.177722   \n",
       "min             1.000000                0.0              1.0      0.000000   \n",
       "25%             2.000000                0.0              1.0      0.000000   \n",
       "50%             5.000000                0.0              1.0      0.000000   \n",
       "75%            15.000000                0.0              1.0      0.000000   \n",
       "max          7570.000000                0.0              1.0      1.000000   \n",
       "\n",
       "       Pornhub_awards_winner           Age  Background  Born  \\\n",
       "count           81774.000000  80229.000000         0.0   0.0   \n",
       "mean                0.000024     27.804073         NaN   NaN   \n",
       "std                 0.004945     26.484533         NaN   NaN   \n",
       "min                 0.000000     18.000000         NaN   NaN   \n",
       "25%                 0.000000     22.000000         NaN   NaN   \n",
       "50%                 0.000000     26.000000         NaN   NaN   \n",
       "75%                 0.000000     31.000000         NaN   NaN   \n",
       "max                 1.000000   2020.000000         NaN   NaN   \n",
       "\n",
       "       Career Start and End  Career Status  Eye Color  Pornstar Profile Views  \\\n",
       "count                   0.0            0.0        0.0                     0.0   \n",
       "mean                    NaN            NaN        NaN                     NaN   \n",
       "std                     NaN            NaN        NaN                     NaN   \n",
       "min                     NaN            NaN        NaN                     NaN   \n",
       "25%                     NaN            NaN        NaN                     NaN   \n",
       "50%                     NaN            NaN        NaN                     NaN   \n",
       "75%                     NaN            NaN        NaN                     NaN   \n",
       "max                     NaN            NaN        NaN                     NaN   \n",
       "\n",
       "       Star Sign  \n",
       "count        0.0  \n",
       "mean         NaN  \n",
       "std          NaN  \n",
       "min          NaN  \n",
       "25%          NaN  \n",
       "50%          NaN  \n",
       "75%          NaN  \n",
       "max          NaN  "
      ]
     },
     "execution_count": 40,
     "metadata": {},
     "output_type": "execute_result"
    }
   ],
   "source": [
    "data.describe()"
   ]
  },
  {
   "cell_type": "code",
   "execution_count": 41,
   "id": "41fa4823",
   "metadata": {},
   "outputs": [
    {
     "name": "stdout",
     "output_type": "stream",
     "text": [
      "<class 'pandas.core.frame.DataFrame'>\n",
      "RangeIndex: 81774 entries, 0 to 81773\n",
      "Data columns (total 47 columns):\n",
      " #   Column                  Non-Null Count  Dtype  \n",
      "---  ------                  --------------  -----  \n",
      " 0   URL                     81774 non-null  object \n",
      " 1   Name                    81774 non-null  object \n",
      " 2   Bio                     58846 non-null  object \n",
      " 3   Subscribers             81774 non-null  object \n",
      " 4   Videos_views            81774 non-null  object \n",
      " 5   Pornhub_rank            81774 non-null  int64  \n",
      " 6   Model_rank              81610 non-null  float64\n",
      " 7   Public_videos           79561 non-null  float64\n",
      " 8   Paid_videos             28760 non-null  float64\n",
      " 9   Fan_club_material       17517 non-null  float64\n",
      " 10  Verified_pornstar       81774 non-null  int64  \n",
      " 11  Verified_member         81774 non-null  int64  \n",
      " 12  Premium_user            81774 non-null  int64  \n",
      " 13  Pornhub_awards_winner   81774 non-null  int64  \n",
      " 14  Age                     80229 non-null  float64\n",
      " 15  Background              0 non-null      float64\n",
      " 16  Birthday                80209 non-null  object \n",
      " 17  Birthplace              26683 non-null  object \n",
      " 18  Born                    0 non-null      float64\n",
      " 19  Career Start and End    0 non-null      float64\n",
      " 20  Career Status           0 non-null      float64\n",
      " 21  City and Country        56467 non-null  object \n",
      " 22  Endowment               6516 non-null   object \n",
      " 23  Ethnicity               32426 non-null  object \n",
      " 24  Eye Color               0 non-null      float64\n",
      " 25  Facial Hair             6991 non-null   object \n",
      " 26  Fake Boobs              19612 non-null  object \n",
      " 27  Foreskin                7064 non-null   object \n",
      " 28  Gender                  81774 non-null  object \n",
      " 29  Hair Color              28856 non-null  object \n",
      " 30  Height                  28125 non-null  object \n",
      " 31  Weight                  22984 non-null  object \n",
      " 32  Interested in           76655 non-null  object \n",
      " 33  Interests and hobbies   27857 non-null  object \n",
      " 34  Joined                  81774 non-null  object \n",
      " 35  Measurements            7913 non-null   object \n",
      " 36  Piercings               27064 non-null  object \n",
      " 37  Pornstar Profile Views  0 non-null      float64\n",
      " 38  Profile Views           81774 non-null  object \n",
      " 39  Relationship status     81168 non-null  object \n",
      " 40  Star Sign               0 non-null      float64\n",
      " 41  Tattoos                 28806 non-null  object \n",
      " 42  Turn Offs               21839 non-null  object \n",
      " 43  Turn Ons                30730 non-null  object \n",
      " 44  Video Views             81551 non-null  object \n",
      " 45  Videos Watched          81145 non-null  object \n",
      " 46  Hometown                14849 non-null  object \n",
      "dtypes: float64(12), int64(5), object(30)\n",
      "memory usage: 29.3+ MB\n"
     ]
    }
   ],
   "source": [
    "data.info()"
   ]
  },
  {
   "cell_type": "markdown",
   "id": "a8bb0233",
   "metadata": {},
   "source": [
    "### Подготовка датасета (удаление NaN)"
   ]
  },
  {
   "cell_type": "code",
   "execution_count": 42,
   "id": "c23b4af2",
   "metadata": {},
   "outputs": [],
   "source": [
    "def first_value_less(na_stats_sorted, num):\n",
    "    return [i for i, e in enumerate(list(na_stats_sorted.values)) if e <= num][0]\n",
    "\n",
    "def find_persentage_of_nan(data):\n",
    "    na_info = data.isnull()\n",
    "    sum_na_info = na_info.sum()\n",
    "    na_stats = sum_na_info / data.shape[0] * 100\n",
    "    na_stats_sorted = na_stats.sort_values(ascending=False)\n",
    "    return na_stats_sorted"
   ]
  },
  {
   "cell_type": "code",
   "execution_count": 43,
   "id": "af3fbb43",
   "metadata": {},
   "outputs": [
    {
     "data": {
      "text/plain": [
       "Eye Color                 100.000000\n",
       "Career Status             100.000000\n",
       "Career Start and End      100.000000\n",
       "Star Sign                 100.000000\n",
       "Pornstar Profile Views    100.000000\n",
       "Born                      100.000000\n",
       "Background                100.000000\n",
       "Endowment                  92.031697\n",
       "Facial Hair                91.450828\n",
       "Foreskin                   91.361557\n",
       "Measurements               90.323330\n",
       "Hometown                   81.841417\n",
       "Fan_club_material          78.578766\n",
       "Fake Boobs                 76.016827\n",
       "Turn Offs                  73.293467\n",
       "Weight                     71.893267\n",
       "Birthplace                 67.369824\n",
       "Piercings                  66.903906\n",
       "Interests and hobbies      65.934160\n",
       "Height                     65.606427\n",
       "Paid_videos                64.829897\n",
       "Tattoos                    64.773644\n",
       "Hair Color                 64.712500\n",
       "Turn Ons                   62.420818\n",
       "Ethnicity                  60.346809\n",
       "City and Country           30.947489\n",
       "Bio                        28.038252\n",
       "Interested in               6.259936\n",
       "Public_videos               2.706239\n",
       "Birthday                    1.913811\n",
       "Age                         1.889354\n",
       "Videos Watched              0.769193\n",
       "Relationship status         0.741067\n",
       "Video Views                 0.272703\n",
       "Model_rank                  0.200553\n",
       "Subscribers                 0.000000\n",
       "Videos_views                0.000000\n",
       "Pornhub_rank                0.000000\n",
       "Name                        0.000000\n",
       "Profile Views               0.000000\n",
       "Verified_pornstar           0.000000\n",
       "Joined                      0.000000\n",
       "Verified_member             0.000000\n",
       "Premium_user                0.000000\n",
       "Pornhub_awards_winner       0.000000\n",
       "Gender                      0.000000\n",
       "URL                         0.000000\n",
       "dtype: float64"
      ]
     },
     "execution_count": 43,
     "metadata": {},
     "output_type": "execute_result"
    }
   ],
   "source": [
    "# находим кол-во nan значений в даттасете в процентах\n",
    "na_stats_sorted = find_persentage_of_nan(data)\n",
    "na_stats_sorted"
   ]
  },
  {
   "cell_type": "code",
   "execution_count": 44,
   "id": "cfc471c4",
   "metadata": {},
   "outputs": [
    {
     "name": "stdout",
     "output_type": "stream",
     "text": [
      "Columns for drop:\n",
      "['Eye Color', 'Career Status', 'Career Start and End', 'Star Sign', 'Pornstar Profile Views', 'Born', 'Background', 'Endowment', 'Facial Hair', 'Foreskin', 'Measurements', 'Hometown', 'Fan_club_material', 'Fake Boobs', 'Turn Offs', 'Weight', 'Birthplace', 'Piercings', 'Interests and hobbies', 'Height', 'Paid_videos', 'Tattoos', 'Hair Color', 'Turn Ons', 'Ethnicity', 'City and Country', 'Bio']\n"
     ]
    }
   ],
   "source": [
    "# удаляем столбцы, в которых пропущенных значений больше 25%\n",
    "persentage = 25\n",
    "columns_for_drop = list(na_stats_sorted.index)[:first_value_less(na_stats_sorted, persentage)]\n",
    "print(\"Columns for drop:\")\n",
    "print(columns_for_drop)\n",
    "\n",
    "data_pre = data.drop(columns_for_drop, axis = 1)"
   ]
  },
  {
   "cell_type": "code",
   "execution_count": 45,
   "id": "0e83c2fb",
   "metadata": {},
   "outputs": [
    {
     "data": {
      "text/plain": [
       "Interested in            6.259936\n",
       "Public_videos            2.706239\n",
       "Birthday                 1.913811\n",
       "Age                      1.889354\n",
       "Videos Watched           0.769193\n",
       "Relationship status      0.741067\n",
       "Video Views              0.272703\n",
       "Model_rank               0.200553\n",
       "Profile Views            0.000000\n",
       "Joined                   0.000000\n",
       "Gender                   0.000000\n",
       "URL                      0.000000\n",
       "Name                     0.000000\n",
       "Premium_user             0.000000\n",
       "Verified_member          0.000000\n",
       "Verified_pornstar        0.000000\n",
       "Pornhub_rank             0.000000\n",
       "Videos_views             0.000000\n",
       "Subscribers              0.000000\n",
       "Pornhub_awards_winner    0.000000\n",
       "dtype: float64"
      ]
     },
     "execution_count": 45,
     "metadata": {},
     "output_type": "execute_result"
    }
   ],
   "source": [
    "# снова выводим проценты\n",
    "na_stats_sorted = find_persentage_of_nan(data_pre)\n",
    "na_stats_sorted"
   ]
  },
  {
   "cell_type": "code",
   "execution_count": 46,
   "id": "19a07af9",
   "metadata": {},
   "outputs": [
    {
     "name": "stdout",
     "output_type": "stream",
     "text": [
      "Columns for dropna:\n",
      "['Interested in', 'Public_videos', 'Birthday', 'Age', 'Videos Watched', 'Relationship status', 'Video Views', 'Model_rank']\n"
     ]
    }
   ],
   "source": [
    "# теперь удаляем строчки, в которых есть пропущенные значения\n",
    "persentage = 0\n",
    "columns_for_dropna = list(na_stats_sorted.index)[:first_value_less(na_stats_sorted, persentage)]\n",
    "print(\"Columns for dropna:\")\n",
    "print(columns_for_dropna)\n",
    "\n",
    "data_pre = data_pre.dropna(subset=columns_for_dropna)"
   ]
  },
  {
   "cell_type": "code",
   "execution_count": 47,
   "id": "843e6c22",
   "metadata": {},
   "outputs": [],
   "source": [
    "# удаляем столбец \"URL\" так как он не несет за собой смысловой значимости\n",
    "data_pre = data_pre.drop([\"URL\"], axis=1)"
   ]
  },
  {
   "cell_type": "code",
   "execution_count": 48,
   "id": "a737d23c",
   "metadata": {},
   "outputs": [
    {
     "data": {
      "text/plain": [
       "Name                     0.0\n",
       "Age                      0.0\n",
       "Video Views              0.0\n",
       "Relationship status      0.0\n",
       "Profile Views            0.0\n",
       "Joined                   0.0\n",
       "Interested in            0.0\n",
       "Gender                   0.0\n",
       "Birthday                 0.0\n",
       "Pornhub_awards_winner    0.0\n",
       "Subscribers              0.0\n",
       "Premium_user             0.0\n",
       "Verified_member          0.0\n",
       "Verified_pornstar        0.0\n",
       "Public_videos            0.0\n",
       "Model_rank               0.0\n",
       "Pornhub_rank             0.0\n",
       "Videos_views             0.0\n",
       "Videos Watched           0.0\n",
       "dtype: float64"
      ]
     },
     "execution_count": 48,
     "metadata": {},
     "output_type": "execute_result"
    }
   ],
   "source": [
    "# делаем последний поиск nan значений\n",
    "find_persentage_of_nan(data_pre)"
   ]
  },
  {
   "cell_type": "code",
   "execution_count": null,
   "id": "27ac7edf",
   "metadata": {},
   "outputs": [],
   "source": []
  },
  {
   "cell_type": "markdown",
   "id": "70335a4f",
   "metadata": {},
   "source": [
    "### Производим препроцессинг"
   ]
  },
  {
   "cell_type": "code",
   "execution_count": 49,
   "id": "49d89f3f",
   "metadata": {},
   "outputs": [
    {
     "data": {
      "text/html": [
       "<div>\n",
       "<style scoped>\n",
       "    .dataframe tbody tr th:only-of-type {\n",
       "        vertical-align: middle;\n",
       "    }\n",
       "\n",
       "    .dataframe tbody tr th {\n",
       "        vertical-align: top;\n",
       "    }\n",
       "\n",
       "    .dataframe thead th {\n",
       "        text-align: right;\n",
       "    }\n",
       "</style>\n",
       "<table border=\"1\" class=\"dataframe\">\n",
       "  <thead>\n",
       "    <tr style=\"text-align: right;\">\n",
       "      <th></th>\n",
       "      <th>Name</th>\n",
       "      <th>Subscribers</th>\n",
       "      <th>Videos_views</th>\n",
       "      <th>Pornhub_rank</th>\n",
       "      <th>Model_rank</th>\n",
       "      <th>Public_videos</th>\n",
       "      <th>Verified_pornstar</th>\n",
       "      <th>Verified_member</th>\n",
       "      <th>Premium_user</th>\n",
       "      <th>Pornhub_awards_winner</th>\n",
       "      <th>Age</th>\n",
       "      <th>Birthday</th>\n",
       "      <th>Gender</th>\n",
       "      <th>Interested in</th>\n",
       "      <th>Joined</th>\n",
       "      <th>Profile Views</th>\n",
       "      <th>Relationship status</th>\n",
       "      <th>Video Views</th>\n",
       "      <th>Videos Watched</th>\n",
       "    </tr>\n",
       "  </thead>\n",
       "  <tbody>\n",
       "    <tr>\n",
       "      <th>0</th>\n",
       "      <td>33601</td>\n",
       "      <td>1467</td>\n",
       "      <td>21910</td>\n",
       "      <td>0</td>\n",
       "      <td>0</td>\n",
       "      <td>64</td>\n",
       "      <td>0</td>\n",
       "      <td>0</td>\n",
       "      <td>1</td>\n",
       "      <td>0</td>\n",
       "      <td>8</td>\n",
       "      <td>1721</td>\n",
       "      <td>2</td>\n",
       "      <td>2</td>\n",
       "      <td>11</td>\n",
       "      <td>21780</td>\n",
       "      <td>1</td>\n",
       "      <td>21910</td>\n",
       "      <td>58</td>\n",
       "    </tr>\n",
       "    <tr>\n",
       "      <th>1</th>\n",
       "      <td>72193</td>\n",
       "      <td>1084</td>\n",
       "      <td>28016</td>\n",
       "      <td>1</td>\n",
       "      <td>1</td>\n",
       "      <td>139</td>\n",
       "      <td>0</td>\n",
       "      <td>0</td>\n",
       "      <td>1</td>\n",
       "      <td>0</td>\n",
       "      <td>18</td>\n",
       "      <td>5408</td>\n",
       "      <td>1</td>\n",
       "      <td>2</td>\n",
       "      <td>2</td>\n",
       "      <td>23441</td>\n",
       "      <td>2</td>\n",
       "      <td>28016</td>\n",
       "      <td>414</td>\n",
       "    </tr>\n",
       "    <tr>\n",
       "      <th>2</th>\n",
       "      <td>11717</td>\n",
       "      <td>819</td>\n",
       "      <td>21298</td>\n",
       "      <td>2</td>\n",
       "      <td>2</td>\n",
       "      <td>103</td>\n",
       "      <td>0</td>\n",
       "      <td>0</td>\n",
       "      <td>1</td>\n",
       "      <td>0</td>\n",
       "      <td>6</td>\n",
       "      <td>9849</td>\n",
       "      <td>2</td>\n",
       "      <td>2</td>\n",
       "      <td>2</td>\n",
       "      <td>20693</td>\n",
       "      <td>2</td>\n",
       "      <td>21298</td>\n",
       "      <td>2541</td>\n",
       "    </tr>\n",
       "    <tr>\n",
       "      <th>3</th>\n",
       "      <td>46867</td>\n",
       "      <td>1354</td>\n",
       "      <td>15325</td>\n",
       "      <td>3</td>\n",
       "      <td>3</td>\n",
       "      <td>49</td>\n",
       "      <td>0</td>\n",
       "      <td>0</td>\n",
       "      <td>0</td>\n",
       "      <td>0</td>\n",
       "      <td>3</td>\n",
       "      <td>1946</td>\n",
       "      <td>1</td>\n",
       "      <td>2</td>\n",
       "      <td>11</td>\n",
       "      <td>21416</td>\n",
       "      <td>2</td>\n",
       "      <td>15325</td>\n",
       "      <td>60</td>\n",
       "    </tr>\n",
       "    <tr>\n",
       "      <th>4</th>\n",
       "      <td>14093</td>\n",
       "      <td>1101</td>\n",
       "      <td>21627</td>\n",
       "      <td>5</td>\n",
       "      <td>5</td>\n",
       "      <td>173</td>\n",
       "      <td>0</td>\n",
       "      <td>0</td>\n",
       "      <td>0</td>\n",
       "      <td>0</td>\n",
       "      <td>4</td>\n",
       "      <td>9791</td>\n",
       "      <td>1</td>\n",
       "      <td>2</td>\n",
       "      <td>11</td>\n",
       "      <td>18826</td>\n",
       "      <td>2</td>\n",
       "      <td>21627</td>\n",
       "      <td>1875</td>\n",
       "    </tr>\n",
       "    <tr>\n",
       "      <th>...</th>\n",
       "      <td>...</td>\n",
       "      <td>...</td>\n",
       "      <td>...</td>\n",
       "      <td>...</td>\n",
       "      <td>...</td>\n",
       "      <td>...</td>\n",
       "      <td>...</td>\n",
       "      <td>...</td>\n",
       "      <td>...</td>\n",
       "      <td>...</td>\n",
       "      <td>...</td>\n",
       "      <td>...</td>\n",
       "      <td>...</td>\n",
       "      <td>...</td>\n",
       "      <td>...</td>\n",
       "      <td>...</td>\n",
       "      <td>...</td>\n",
       "      <td>...</td>\n",
       "      <td>...</td>\n",
       "    </tr>\n",
       "    <tr>\n",
       "      <th>81769</th>\n",
       "      <td>10056</td>\n",
       "      <td>1274</td>\n",
       "      <td>33730</td>\n",
       "      <td>4348</td>\n",
       "      <td>4206</td>\n",
       "      <td>11</td>\n",
       "      <td>0</td>\n",
       "      <td>0</td>\n",
       "      <td>0</td>\n",
       "      <td>0</td>\n",
       "      <td>22</td>\n",
       "      <td>6530</td>\n",
       "      <td>2</td>\n",
       "      <td>2</td>\n",
       "      <td>15</td>\n",
       "      <td>15623</td>\n",
       "      <td>1</td>\n",
       "      <td>33730</td>\n",
       "      <td>2496</td>\n",
       "    </tr>\n",
       "    <tr>\n",
       "      <th>81770</th>\n",
       "      <td>36293</td>\n",
       "      <td>532</td>\n",
       "      <td>21602</td>\n",
       "      <td>4349</td>\n",
       "      <td>4271</td>\n",
       "      <td>26</td>\n",
       "      <td>0</td>\n",
       "      <td>0</td>\n",
       "      <td>0</td>\n",
       "      <td>0</td>\n",
       "      <td>12</td>\n",
       "      <td>9054</td>\n",
       "      <td>2</td>\n",
       "      <td>2</td>\n",
       "      <td>11</td>\n",
       "      <td>26548</td>\n",
       "      <td>2</td>\n",
       "      <td>21602</td>\n",
       "      <td>1747</td>\n",
       "    </tr>\n",
       "    <tr>\n",
       "      <th>81771</th>\n",
       "      <td>36535</td>\n",
       "      <td>745</td>\n",
       "      <td>244</td>\n",
       "      <td>4350</td>\n",
       "      <td>4324</td>\n",
       "      <td>11</td>\n",
       "      <td>0</td>\n",
       "      <td>0</td>\n",
       "      <td>0</td>\n",
       "      <td>0</td>\n",
       "      <td>7</td>\n",
       "      <td>3210</td>\n",
       "      <td>1</td>\n",
       "      <td>2</td>\n",
       "      <td>11</td>\n",
       "      <td>8822</td>\n",
       "      <td>0</td>\n",
       "      <td>244</td>\n",
       "      <td>2919</td>\n",
       "    </tr>\n",
       "    <tr>\n",
       "      <th>81772</th>\n",
       "      <td>27308</td>\n",
       "      <td>278</td>\n",
       "      <td>26988</td>\n",
       "      <td>4351</td>\n",
       "      <td>3810</td>\n",
       "      <td>50</td>\n",
       "      <td>0</td>\n",
       "      <td>0</td>\n",
       "      <td>0</td>\n",
       "      <td>0</td>\n",
       "      <td>7</td>\n",
       "      <td>9611</td>\n",
       "      <td>2</td>\n",
       "      <td>1</td>\n",
       "      <td>15</td>\n",
       "      <td>24689</td>\n",
       "      <td>0</td>\n",
       "      <td>26988</td>\n",
       "      <td>2855</td>\n",
       "    </tr>\n",
       "    <tr>\n",
       "      <th>81773</th>\n",
       "      <td>32427</td>\n",
       "      <td>283</td>\n",
       "      <td>210</td>\n",
       "      <td>4352</td>\n",
       "      <td>4365</td>\n",
       "      <td>140</td>\n",
       "      <td>0</td>\n",
       "      <td>0</td>\n",
       "      <td>0</td>\n",
       "      <td>0</td>\n",
       "      <td>29</td>\n",
       "      <td>2245</td>\n",
       "      <td>1</td>\n",
       "      <td>0</td>\n",
       "      <td>5</td>\n",
       "      <td>4157</td>\n",
       "      <td>2</td>\n",
       "      <td>210</td>\n",
       "      <td>203</td>\n",
       "    </tr>\n",
       "  </tbody>\n",
       "</table>\n",
       "<p>72526 rows × 19 columns</p>\n",
       "</div>"
      ],
      "text/plain": [
       "        Name  Subscribers  Videos_views  Pornhub_rank  Model_rank  \\\n",
       "0      33601         1467         21910             0           0   \n",
       "1      72193         1084         28016             1           1   \n",
       "2      11717          819         21298             2           2   \n",
       "3      46867         1354         15325             3           3   \n",
       "4      14093         1101         21627             5           5   \n",
       "...      ...          ...           ...           ...         ...   \n",
       "81769  10056         1274         33730          4348        4206   \n",
       "81770  36293          532         21602          4349        4271   \n",
       "81771  36535          745           244          4350        4324   \n",
       "81772  27308          278         26988          4351        3810   \n",
       "81773  32427          283           210          4352        4365   \n",
       "\n",
       "       Public_videos  Verified_pornstar  Verified_member  Premium_user  \\\n",
       "0                 64                  0                0             1   \n",
       "1                139                  0                0             1   \n",
       "2                103                  0                0             1   \n",
       "3                 49                  0                0             0   \n",
       "4                173                  0                0             0   \n",
       "...              ...                ...              ...           ...   \n",
       "81769             11                  0                0             0   \n",
       "81770             26                  0                0             0   \n",
       "81771             11                  0                0             0   \n",
       "81772             50                  0                0             0   \n",
       "81773            140                  0                0             0   \n",
       "\n",
       "       Pornhub_awards_winner  Age  Birthday  Gender  Interested in  Joined  \\\n",
       "0                          0    8      1721       2              2      11   \n",
       "1                          0   18      5408       1              2       2   \n",
       "2                          0    6      9849       2              2       2   \n",
       "3                          0    3      1946       1              2      11   \n",
       "4                          0    4      9791       1              2      11   \n",
       "...                      ...  ...       ...     ...            ...     ...   \n",
       "81769                      0   22      6530       2              2      15   \n",
       "81770                      0   12      9054       2              2      11   \n",
       "81771                      0    7      3210       1              2      11   \n",
       "81772                      0    7      9611       2              1      15   \n",
       "81773                      0   29      2245       1              0       5   \n",
       "\n",
       "       Profile Views  Relationship status  Video Views  Videos Watched  \n",
       "0              21780                    1        21910              58  \n",
       "1              23441                    2        28016             414  \n",
       "2              20693                    2        21298            2541  \n",
       "3              21416                    2        15325              60  \n",
       "4              18826                    2        21627            1875  \n",
       "...              ...                  ...          ...             ...  \n",
       "81769          15623                    1        33730            2496  \n",
       "81770          26548                    2        21602            1747  \n",
       "81771           8822                    0          244            2919  \n",
       "81772          24689                    0        26988            2855  \n",
       "81773           4157                    2          210             203  \n",
       "\n",
       "[72526 rows x 19 columns]"
      ]
     },
     "execution_count": 49,
     "metadata": {},
     "output_type": "execute_result"
    }
   ],
   "source": [
    "from sklearn import preprocessing\n",
    "data_pre = data_pre.apply(preprocessing.LabelEncoder().fit_transform)\n",
    "data_pre"
   ]
  },
  {
   "cell_type": "code",
   "execution_count": null,
   "id": "5b1e9639",
   "metadata": {},
   "outputs": [],
   "source": []
  },
  {
   "cell_type": "markdown",
   "id": "56baf405",
   "metadata": {},
   "source": [
    "### Рисуем графики"
   ]
  },
  {
   "cell_type": "code",
   "execution_count": 50,
   "id": "b943e927",
   "metadata": {},
   "outputs": [],
   "source": [
    "import pandas_profiling"
   ]
  },
  {
   "cell_type": "code",
   "execution_count": 51,
   "id": "d68d61f8",
   "metadata": {},
   "outputs": [],
   "source": [
    "import seaborn as sns"
   ]
  },
  {
   "cell_type": "code",
   "execution_count": null,
   "id": "43101339",
   "metadata": {},
   "outputs": [],
   "source": []
  },
  {
   "cell_type": "code",
   "execution_count": null,
   "id": "d957521b",
   "metadata": {},
   "outputs": [],
   "source": []
  },
  {
   "cell_type": "code",
   "execution_count": 52,
   "id": "07efd544",
   "metadata": {},
   "outputs": [
    {
     "data": {
      "text/plain": [
       "<AxesSubplot:>"
      ]
     },
     "execution_count": 52,
     "metadata": {},
     "output_type": "execute_result"
    },
    {
     "data": {
      "image/png": "[encoded data removed]",
      "text/plain": [
       "<Figure size 1080x1080 with 2 Axes>"
      ]
     },
     "metadata": {
      "needs_background": "light"
     },
     "output_type": "display_data"
    }
   ],
   "source": [
    "fig, ax = plt.subplots(figsize=(15,15))\n",
    "sns.heatmap(data_pre.corr(), fmt=\"f\", vmin=-1, vmax=1, ax=ax)"
   ]
  },
  {
   "cell_type": "code",
   "execution_count": null,
   "id": "05eeed97",
   "metadata": {},
   "outputs": [],
   "source": []
  },
  {
   "cell_type": "code",
   "execution_count": 53,
   "id": "a1505d3a",
   "metadata": {},
   "outputs": [
    {
     "data": {
      "text/html": [
       "<div>\n",
       "<style scoped>\n",
       "    .dataframe tbody tr th:only-of-type {\n",
       "        vertical-align: middle;\n",
       "    }\n",
       "\n",
       "    .dataframe tbody tr th {\n",
       "        vertical-align: top;\n",
       "    }\n",
       "\n",
       "    .dataframe thead th {\n",
       "        text-align: right;\n",
       "    }\n",
       "</style>\n",
       "<table border=\"1\" class=\"dataframe\">\n",
       "  <thead>\n",
       "    <tr style=\"text-align: right;\">\n",
       "      <th></th>\n",
       "      <th>Name</th>\n",
       "      <th>Subscribers</th>\n",
       "      <th>Videos_views</th>\n",
       "      <th>Pornhub_rank</th>\n",
       "      <th>Model_rank</th>\n",
       "      <th>Public_videos</th>\n",
       "      <th>Verified_pornstar</th>\n",
       "      <th>Verified_member</th>\n",
       "      <th>Premium_user</th>\n",
       "      <th>Pornhub_awards_winner</th>\n",
       "      <th>Age</th>\n",
       "      <th>Birthday</th>\n",
       "      <th>Gender</th>\n",
       "      <th>Interested in</th>\n",
       "      <th>Joined</th>\n",
       "      <th>Profile Views</th>\n",
       "      <th>Relationship status</th>\n",
       "      <th>Video Views</th>\n",
       "      <th>Videos Watched</th>\n",
       "    </tr>\n",
       "  </thead>\n",
       "  <tbody>\n",
       "    <tr>\n",
       "      <th>Name</th>\n",
       "      <td>1.000000</td>\n",
       "      <td>0.000405</td>\n",
       "      <td>0.004366</td>\n",
       "      <td>0.075499</td>\n",
       "      <td>0.073791</td>\n",
       "      <td>-0.004209</td>\n",
       "      <td>NaN</td>\n",
       "      <td>NaN</td>\n",
       "      <td>-0.012276</td>\n",
       "      <td>-0.003628</td>\n",
       "      <td>0.016941</td>\n",
       "      <td>-0.004107</td>\n",
       "      <td>-0.003179</td>\n",
       "      <td>-0.014797</td>\n",
       "      <td>0.027398</td>\n",
       "      <td>-0.007032</td>\n",
       "      <td>0.007682</td>\n",
       "      <td>0.004366</td>\n",
       "      <td>-0.004903</td>\n",
       "    </tr>\n",
       "    <tr>\n",
       "      <th>Subscribers</th>\n",
       "      <td>0.000405</td>\n",
       "      <td>1.000000</td>\n",
       "      <td>-0.001545</td>\n",
       "      <td>0.002378</td>\n",
       "      <td>0.003139</td>\n",
       "      <td>-0.006384</td>\n",
       "      <td>NaN</td>\n",
       "      <td>NaN</td>\n",
       "      <td>0.001036</td>\n",
       "      <td>0.000819</td>\n",
       "      <td>-0.002186</td>\n",
       "      <td>0.002311</td>\n",
       "      <td>-0.000831</td>\n",
       "      <td>0.003019</td>\n",
       "      <td>-0.002107</td>\n",
       "      <td>0.032750</td>\n",
       "      <td>-0.002651</td>\n",
       "      <td>-0.001545</td>\n",
       "      <td>0.000857</td>\n",
       "    </tr>\n",
       "    <tr>\n",
       "      <th>Videos_views</th>\n",
       "      <td>0.004366</td>\n",
       "      <td>-0.001545</td>\n",
       "      <td>1.000000</td>\n",
       "      <td>-0.016003</td>\n",
       "      <td>-0.016181</td>\n",
       "      <td>0.001791</td>\n",
       "      <td>NaN</td>\n",
       "      <td>NaN</td>\n",
       "      <td>-0.001427</td>\n",
       "      <td>-0.000557</td>\n",
       "      <td>0.009823</td>\n",
       "      <td>-0.000699</td>\n",
       "      <td>0.008753</td>\n",
       "      <td>-0.008384</td>\n",
       "      <td>0.001840</td>\n",
       "      <td>0.020267</td>\n",
       "      <td>-0.004212</td>\n",
       "      <td>1.000000</td>\n",
       "      <td>-0.010865</td>\n",
       "    </tr>\n",
       "    <tr>\n",
       "      <th>Pornhub_rank</th>\n",
       "      <td>0.075499</td>\n",
       "      <td>0.002378</td>\n",
       "      <td>-0.016003</td>\n",
       "      <td>1.000000</td>\n",
       "      <td>0.981611</td>\n",
       "      <td>-0.344016</td>\n",
       "      <td>NaN</td>\n",
       "      <td>NaN</td>\n",
       "      <td>-0.035854</td>\n",
       "      <td>-0.009065</td>\n",
       "      <td>0.010827</td>\n",
       "      <td>0.003381</td>\n",
       "      <td>0.119531</td>\n",
       "      <td>-0.130999</td>\n",
       "      <td>-0.002006</td>\n",
       "      <td>-0.058220</td>\n",
       "      <td>0.000111</td>\n",
       "      <td>-0.016003</td>\n",
       "      <td>-0.010114</td>\n",
       "    </tr>\n",
       "    <tr>\n",
       "      <th>Model_rank</th>\n",
       "      <td>0.073791</td>\n",
       "      <td>0.003139</td>\n",
       "      <td>-0.016181</td>\n",
       "      <td>0.981611</td>\n",
       "      <td>1.000000</td>\n",
       "      <td>-0.346074</td>\n",
       "      <td>NaN</td>\n",
       "      <td>NaN</td>\n",
       "      <td>-0.036027</td>\n",
       "      <td>-0.009026</td>\n",
       "      <td>0.009196</td>\n",
       "      <td>0.003020</td>\n",
       "      <td>0.118215</td>\n",
       "      <td>-0.128175</td>\n",
       "      <td>-0.003212</td>\n",
       "      <td>-0.059731</td>\n",
       "      <td>0.002646</td>\n",
       "      <td>-0.016181</td>\n",
       "      <td>-0.011302</td>\n",
       "    </tr>\n",
       "    <tr>\n",
       "      <th>Public_videos</th>\n",
       "      <td>-0.004209</td>\n",
       "      <td>-0.006384</td>\n",
       "      <td>0.001791</td>\n",
       "      <td>-0.344016</td>\n",
       "      <td>-0.346074</td>\n",
       "      <td>1.000000</td>\n",
       "      <td>NaN</td>\n",
       "      <td>NaN</td>\n",
       "      <td>0.054830</td>\n",
       "      <td>0.011962</td>\n",
       "      <td>0.125551</td>\n",
       "      <td>-0.007097</td>\n",
       "      <td>-0.011639</td>\n",
       "      <td>0.010943</td>\n",
       "      <td>0.028513</td>\n",
       "      <td>0.030359</td>\n",
       "      <td>-0.004412</td>\n",
       "      <td>0.001791</td>\n",
       "      <td>0.003100</td>\n",
       "    </tr>\n",
       "    <tr>\n",
       "      <th>Verified_pornstar</th>\n",
       "      <td>NaN</td>\n",
       "      <td>NaN</td>\n",
       "      <td>NaN</td>\n",
       "      <td>NaN</td>\n",
       "      <td>NaN</td>\n",
       "      <td>NaN</td>\n",
       "      <td>NaN</td>\n",
       "      <td>NaN</td>\n",
       "      <td>NaN</td>\n",
       "      <td>NaN</td>\n",
       "      <td>NaN</td>\n",
       "      <td>NaN</td>\n",
       "      <td>NaN</td>\n",
       "      <td>NaN</td>\n",
       "      <td>NaN</td>\n",
       "      <td>NaN</td>\n",
       "      <td>NaN</td>\n",
       "      <td>NaN</td>\n",
       "      <td>NaN</td>\n",
       "    </tr>\n",
       "    <tr>\n",
       "      <th>Verified_member</th>\n",
       "      <td>NaN</td>\n",
       "      <td>NaN</td>\n",
       "      <td>NaN</td>\n",
       "      <td>NaN</td>\n",
       "      <td>NaN</td>\n",
       "      <td>NaN</td>\n",
       "      <td>NaN</td>\n",
       "      <td>NaN</td>\n",
       "      <td>NaN</td>\n",
       "      <td>NaN</td>\n",
       "      <td>NaN</td>\n",
       "      <td>NaN</td>\n",
       "      <td>NaN</td>\n",
       "      <td>NaN</td>\n",
       "      <td>NaN</td>\n",
       "      <td>NaN</td>\n",
       "      <td>NaN</td>\n",
       "      <td>NaN</td>\n",
       "      <td>NaN</td>\n",
       "    </tr>\n",
       "    <tr>\n",
       "      <th>Premium_user</th>\n",
       "      <td>-0.012276</td>\n",
       "      <td>0.001036</td>\n",
       "      <td>-0.001427</td>\n",
       "      <td>-0.035854</td>\n",
       "      <td>-0.036027</td>\n",
       "      <td>0.054830</td>\n",
       "      <td>NaN</td>\n",
       "      <td>NaN</td>\n",
       "      <td>1.000000</td>\n",
       "      <td>0.013469</td>\n",
       "      <td>0.075071</td>\n",
       "      <td>-0.002288</td>\n",
       "      <td>0.018350</td>\n",
       "      <td>-0.035674</td>\n",
       "      <td>0.032829</td>\n",
       "      <td>-0.004701</td>\n",
       "      <td>-0.000443</td>\n",
       "      <td>-0.001427</td>\n",
       "      <td>-0.010234</td>\n",
       "    </tr>\n",
       "    <tr>\n",
       "      <th>Pornhub_awards_winner</th>\n",
       "      <td>-0.003628</td>\n",
       "      <td>0.000819</td>\n",
       "      <td>-0.000557</td>\n",
       "      <td>-0.009065</td>\n",
       "      <td>-0.009026</td>\n",
       "      <td>0.011962</td>\n",
       "      <td>NaN</td>\n",
       "      <td>NaN</td>\n",
       "      <td>0.013469</td>\n",
       "      <td>1.000000</td>\n",
       "      <td>-0.004236</td>\n",
       "      <td>0.007208</td>\n",
       "      <td>-0.003715</td>\n",
       "      <td>-0.001788</td>\n",
       "      <td>-0.002612</td>\n",
       "      <td>-0.001050</td>\n",
       "      <td>0.002612</td>\n",
       "      <td>-0.000557</td>\n",
       "      <td>-0.009068</td>\n",
       "    </tr>\n",
       "    <tr>\n",
       "      <th>Age</th>\n",
       "      <td>0.016941</td>\n",
       "      <td>-0.002186</td>\n",
       "      <td>0.009823</td>\n",
       "      <td>0.010827</td>\n",
       "      <td>0.009196</td>\n",
       "      <td>0.125551</td>\n",
       "      <td>NaN</td>\n",
       "      <td>NaN</td>\n",
       "      <td>0.075071</td>\n",
       "      <td>-0.004236</td>\n",
       "      <td>1.000000</td>\n",
       "      <td>0.006182</td>\n",
       "      <td>0.070436</td>\n",
       "      <td>-0.085342</td>\n",
       "      <td>0.050112</td>\n",
       "      <td>0.006968</td>\n",
       "      <td>-0.031159</td>\n",
       "      <td>0.009823</td>\n",
       "      <td>0.000245</td>\n",
       "    </tr>\n",
       "    <tr>\n",
       "      <th>Birthday</th>\n",
       "      <td>-0.004107</td>\n",
       "      <td>0.002311</td>\n",
       "      <td>-0.000699</td>\n",
       "      <td>0.003381</td>\n",
       "      <td>0.003020</td>\n",
       "      <td>-0.007097</td>\n",
       "      <td>NaN</td>\n",
       "      <td>NaN</td>\n",
       "      <td>-0.002288</td>\n",
       "      <td>0.007208</td>\n",
       "      <td>0.006182</td>\n",
       "      <td>1.000000</td>\n",
       "      <td>0.001789</td>\n",
       "      <td>-0.001029</td>\n",
       "      <td>0.002079</td>\n",
       "      <td>-0.004063</td>\n",
       "      <td>-0.007753</td>\n",
       "      <td>-0.000699</td>\n",
       "      <td>0.001147</td>\n",
       "    </tr>\n",
       "    <tr>\n",
       "      <th>Gender</th>\n",
       "      <td>-0.003179</td>\n",
       "      <td>-0.000831</td>\n",
       "      <td>0.008753</td>\n",
       "      <td>0.119531</td>\n",
       "      <td>0.118215</td>\n",
       "      <td>-0.011639</td>\n",
       "      <td>NaN</td>\n",
       "      <td>NaN</td>\n",
       "      <td>0.018350</td>\n",
       "      <td>-0.003715</td>\n",
       "      <td>0.070436</td>\n",
       "      <td>0.001789</td>\n",
       "      <td>1.000000</td>\n",
       "      <td>-0.319789</td>\n",
       "      <td>0.021249</td>\n",
       "      <td>0.007338</td>\n",
       "      <td>-0.159405</td>\n",
       "      <td>0.008753</td>\n",
       "      <td>-0.006202</td>\n",
       "    </tr>\n",
       "    <tr>\n",
       "      <th>Interested in</th>\n",
       "      <td>-0.014797</td>\n",
       "      <td>0.003019</td>\n",
       "      <td>-0.008384</td>\n",
       "      <td>-0.130999</td>\n",
       "      <td>-0.128175</td>\n",
       "      <td>0.010943</td>\n",
       "      <td>NaN</td>\n",
       "      <td>NaN</td>\n",
       "      <td>-0.035674</td>\n",
       "      <td>-0.001788</td>\n",
       "      <td>-0.085342</td>\n",
       "      <td>-0.001029</td>\n",
       "      <td>-0.319789</td>\n",
       "      <td>1.000000</td>\n",
       "      <td>-0.023027</td>\n",
       "      <td>-0.004364</td>\n",
       "      <td>-0.017487</td>\n",
       "      <td>-0.008384</td>\n",
       "      <td>0.008531</td>\n",
       "    </tr>\n",
       "    <tr>\n",
       "      <th>Joined</th>\n",
       "      <td>0.027398</td>\n",
       "      <td>-0.002107</td>\n",
       "      <td>0.001840</td>\n",
       "      <td>-0.002006</td>\n",
       "      <td>-0.003212</td>\n",
       "      <td>0.028513</td>\n",
       "      <td>NaN</td>\n",
       "      <td>NaN</td>\n",
       "      <td>0.032829</td>\n",
       "      <td>-0.002612</td>\n",
       "      <td>0.050112</td>\n",
       "      <td>0.002079</td>\n",
       "      <td>0.021249</td>\n",
       "      <td>-0.023027</td>\n",
       "      <td>1.000000</td>\n",
       "      <td>-0.006247</td>\n",
       "      <td>-0.017557</td>\n",
       "      <td>0.001840</td>\n",
       "      <td>-0.008252</td>\n",
       "    </tr>\n",
       "    <tr>\n",
       "      <th>Profile Views</th>\n",
       "      <td>-0.007032</td>\n",
       "      <td>0.032750</td>\n",
       "      <td>0.020267</td>\n",
       "      <td>-0.058220</td>\n",
       "      <td>-0.059731</td>\n",
       "      <td>0.030359</td>\n",
       "      <td>NaN</td>\n",
       "      <td>NaN</td>\n",
       "      <td>-0.004701</td>\n",
       "      <td>-0.001050</td>\n",
       "      <td>0.006968</td>\n",
       "      <td>-0.004063</td>\n",
       "      <td>0.007338</td>\n",
       "      <td>-0.004364</td>\n",
       "      <td>-0.006247</td>\n",
       "      <td>1.000000</td>\n",
       "      <td>0.000952</td>\n",
       "      <td>0.020267</td>\n",
       "      <td>0.003701</td>\n",
       "    </tr>\n",
       "    <tr>\n",
       "      <th>Relationship status</th>\n",
       "      <td>0.007682</td>\n",
       "      <td>-0.002651</td>\n",
       "      <td>-0.004212</td>\n",
       "      <td>0.000111</td>\n",
       "      <td>0.002646</td>\n",
       "      <td>-0.004412</td>\n",
       "      <td>NaN</td>\n",
       "      <td>NaN</td>\n",
       "      <td>-0.000443</td>\n",
       "      <td>0.002612</td>\n",
       "      <td>-0.031159</td>\n",
       "      <td>-0.007753</td>\n",
       "      <td>-0.159405</td>\n",
       "      <td>-0.017487</td>\n",
       "      <td>-0.017557</td>\n",
       "      <td>0.000952</td>\n",
       "      <td>1.000000</td>\n",
       "      <td>-0.004212</td>\n",
       "      <td>0.007716</td>\n",
       "    </tr>\n",
       "    <tr>\n",
       "      <th>Video Views</th>\n",
       "      <td>0.004366</td>\n",
       "      <td>-0.001545</td>\n",
       "      <td>1.000000</td>\n",
       "      <td>-0.016003</td>\n",
       "      <td>-0.016181</td>\n",
       "      <td>0.001791</td>\n",
       "      <td>NaN</td>\n",
       "      <td>NaN</td>\n",
       "      <td>-0.001427</td>\n",
       "      <td>-0.000557</td>\n",
       "      <td>0.009823</td>\n",
       "      <td>-0.000699</td>\n",
       "      <td>0.008753</td>\n",
       "      <td>-0.008384</td>\n",
       "      <td>0.001840</td>\n",
       "      <td>0.020267</td>\n",
       "      <td>-0.004212</td>\n",
       "      <td>1.000000</td>\n",
       "      <td>-0.010865</td>\n",
       "    </tr>\n",
       "    <tr>\n",
       "      <th>Videos Watched</th>\n",
       "      <td>-0.004903</td>\n",
       "      <td>0.000857</td>\n",
       "      <td>-0.010865</td>\n",
       "      <td>-0.010114</td>\n",
       "      <td>-0.011302</td>\n",
       "      <td>0.003100</td>\n",
       "      <td>NaN</td>\n",
       "      <td>NaN</td>\n",
       "      <td>-0.010234</td>\n",
       "      <td>-0.009068</td>\n",
       "      <td>0.000245</td>\n",
       "      <td>0.001147</td>\n",
       "      <td>-0.006202</td>\n",
       "      <td>0.008531</td>\n",
       "      <td>-0.008252</td>\n",
       "      <td>0.003701</td>\n",
       "      <td>0.007716</td>\n",
       "      <td>-0.010865</td>\n",
       "      <td>1.000000</td>\n",
       "    </tr>\n",
       "  </tbody>\n",
       "</table>\n",
       "</div>"
      ],
      "text/plain": [
       "                           Name  Subscribers  Videos_views  Pornhub_rank  \\\n",
       "Name                   1.000000     0.000405      0.004366      0.075499   \n",
       "Subscribers            0.000405     1.000000     -0.001545      0.002378   \n",
       "Videos_views           0.004366    -0.001545      1.000000     -0.016003   \n",
       "Pornhub_rank           0.075499     0.002378     -0.016003      1.000000   \n",
       "Model_rank             0.073791     0.003139     -0.016181      0.981611   \n",
       "Public_videos         -0.004209    -0.006384      0.001791     -0.344016   \n",
       "Verified_pornstar           NaN          NaN           NaN           NaN   \n",
       "Verified_member             NaN          NaN           NaN           NaN   \n",
       "Premium_user          -0.012276     0.001036     -0.001427     -0.035854   \n",
       "Pornhub_awards_winner -0.003628     0.000819     -0.000557     -0.009065   \n",
       "Age                    0.016941    -0.002186      0.009823      0.010827   \n",
       "Birthday              -0.004107     0.002311     -0.000699      0.003381   \n",
       "Gender                -0.003179    -0.000831      0.008753      0.119531   \n",
       "Interested in         -0.014797     0.003019     -0.008384     -0.130999   \n",
       "Joined                 0.027398    -0.002107      0.001840     -0.002006   \n",
       "Profile Views         -0.007032     0.032750      0.020267     -0.058220   \n",
       "Relationship status    0.007682    -0.002651     -0.004212      0.000111   \n",
       "Video Views            0.004366    -0.001545      1.000000     -0.016003   \n",
       "Videos Watched        -0.004903     0.000857     -0.010865     -0.010114   \n",
       "\n",
       "                       Model_rank  Public_videos  Verified_pornstar  \\\n",
       "Name                     0.073791      -0.004209                NaN   \n",
       "Subscribers              0.003139      -0.006384                NaN   \n",
       "Videos_views            -0.016181       0.001791                NaN   \n",
       "Pornhub_rank             0.981611      -0.344016                NaN   \n",
       "Model_rank               1.000000      -0.346074                NaN   \n",
       "Public_videos           -0.346074       1.000000                NaN   \n",
       "Verified_pornstar             NaN            NaN                NaN   \n",
       "Verified_member               NaN            NaN                NaN   \n",
       "Premium_user            -0.036027       0.054830                NaN   \n",
       "Pornhub_awards_winner   -0.009026       0.011962                NaN   \n",
       "Age                      0.009196       0.125551                NaN   \n",
       "Birthday                 0.003020      -0.007097                NaN   \n",
       "Gender                   0.118215      -0.011639                NaN   \n",
       "Interested in           -0.128175       0.010943                NaN   \n",
       "Joined                  -0.003212       0.028513                NaN   \n",
       "Profile Views           -0.059731       0.030359                NaN   \n",
       "Relationship status      0.002646      -0.004412                NaN   \n",
       "Video Views             -0.016181       0.001791                NaN   \n",
       "Videos Watched          -0.011302       0.003100                NaN   \n",
       "\n",
       "                       Verified_member  Premium_user  Pornhub_awards_winner  \\\n",
       "Name                               NaN     -0.012276              -0.003628   \n",
       "Subscribers                        NaN      0.001036               0.000819   \n",
       "Videos_views                       NaN     -0.001427              -0.000557   \n",
       "Pornhub_rank                       NaN     -0.035854              -0.009065   \n",
       "Model_rank                         NaN     -0.036027              -0.009026   \n",
       "Public_videos                      NaN      0.054830               0.011962   \n",
       "Verified_pornstar                  NaN           NaN                    NaN   \n",
       "Verified_member                    NaN           NaN                    NaN   \n",
       "Premium_user                       NaN      1.000000               0.013469   \n",
       "Pornhub_awards_winner              NaN      0.013469               1.000000   \n",
       "Age                                NaN      0.075071              -0.004236   \n",
       "Birthday                           NaN     -0.002288               0.007208   \n",
       "Gender                             NaN      0.018350              -0.003715   \n",
       "Interested in                      NaN     -0.035674              -0.001788   \n",
       "Joined                             NaN      0.032829              -0.002612   \n",
       "Profile Views                      NaN     -0.004701              -0.001050   \n",
       "Relationship status                NaN     -0.000443               0.002612   \n",
       "Video Views                        NaN     -0.001427              -0.000557   \n",
       "Videos Watched                     NaN     -0.010234              -0.009068   \n",
       "\n",
       "                            Age  Birthday    Gender  Interested in    Joined  \\\n",
       "Name                   0.016941 -0.004107 -0.003179      -0.014797  0.027398   \n",
       "Subscribers           -0.002186  0.002311 -0.000831       0.003019 -0.002107   \n",
       "Videos_views           0.009823 -0.000699  0.008753      -0.008384  0.001840   \n",
       "Pornhub_rank           0.010827  0.003381  0.119531      -0.130999 -0.002006   \n",
       "Model_rank             0.009196  0.003020  0.118215      -0.128175 -0.003212   \n",
       "Public_videos          0.125551 -0.007097 -0.011639       0.010943  0.028513   \n",
       "Verified_pornstar           NaN       NaN       NaN            NaN       NaN   \n",
       "Verified_member             NaN       NaN       NaN            NaN       NaN   \n",
       "Premium_user           0.075071 -0.002288  0.018350      -0.035674  0.032829   \n",
       "Pornhub_awards_winner -0.004236  0.007208 -0.003715      -0.001788 -0.002612   \n",
       "Age                    1.000000  0.006182  0.070436      -0.085342  0.050112   \n",
       "Birthday               0.006182  1.000000  0.001789      -0.001029  0.002079   \n",
       "Gender                 0.070436  0.001789  1.000000      -0.319789  0.021249   \n",
       "Interested in         -0.085342 -0.001029 -0.319789       1.000000 -0.023027   \n",
       "Joined                 0.050112  0.002079  0.021249      -0.023027  1.000000   \n",
       "Profile Views          0.006968 -0.004063  0.007338      -0.004364 -0.006247   \n",
       "Relationship status   -0.031159 -0.007753 -0.159405      -0.017487 -0.017557   \n",
       "Video Views            0.009823 -0.000699  0.008753      -0.008384  0.001840   \n",
       "Videos Watched         0.000245  0.001147 -0.006202       0.008531 -0.008252   \n",
       "\n",
       "                       Profile Views  Relationship status  Video Views  \\\n",
       "Name                       -0.007032             0.007682     0.004366   \n",
       "Subscribers                 0.032750            -0.002651    -0.001545   \n",
       "Videos_views                0.020267            -0.004212     1.000000   \n",
       "Pornhub_rank               -0.058220             0.000111    -0.016003   \n",
       "Model_rank                 -0.059731             0.002646    -0.016181   \n",
       "Public_videos               0.030359            -0.004412     0.001791   \n",
       "Verified_pornstar                NaN                  NaN          NaN   \n",
       "Verified_member                  NaN                  NaN          NaN   \n",
       "Premium_user               -0.004701            -0.000443    -0.001427   \n",
       "Pornhub_awards_winner      -0.001050             0.002612    -0.000557   \n",
       "Age                         0.006968            -0.031159     0.009823   \n",
       "Birthday                   -0.004063            -0.007753    -0.000699   \n",
       "Gender                      0.007338            -0.159405     0.008753   \n",
       "Interested in              -0.004364            -0.017487    -0.008384   \n",
       "Joined                     -0.006247            -0.017557     0.001840   \n",
       "Profile Views               1.000000             0.000952     0.020267   \n",
       "Relationship status         0.000952             1.000000    -0.004212   \n",
       "Video Views                 0.020267            -0.004212     1.000000   \n",
       "Videos Watched              0.003701             0.007716    -0.010865   \n",
       "\n",
       "                       Videos Watched  \n",
       "Name                        -0.004903  \n",
       "Subscribers                  0.000857  \n",
       "Videos_views                -0.010865  \n",
       "Pornhub_rank                -0.010114  \n",
       "Model_rank                  -0.011302  \n",
       "Public_videos                0.003100  \n",
       "Verified_pornstar                 NaN  \n",
       "Verified_member                   NaN  \n",
       "Premium_user                -0.010234  \n",
       "Pornhub_awards_winner       -0.009068  \n",
       "Age                          0.000245  \n",
       "Birthday                     0.001147  \n",
       "Gender                      -0.006202  \n",
       "Interested in                0.008531  \n",
       "Joined                      -0.008252  \n",
       "Profile Views                0.003701  \n",
       "Relationship status          0.007716  \n",
       "Video Views                 -0.010865  \n",
       "Videos Watched               1.000000  "
      ]
     },
     "execution_count": 53,
     "metadata": {},
     "output_type": "execute_result"
    }
   ],
   "source": [
    "data_pre.corr()"
   ]
  },
  {
   "cell_type": "code",
   "execution_count": 54,
   "id": "630261bd",
   "metadata": {},
   "outputs": [],
   "source": [
    "# тут умный коммент с формулой корреляции"
   ]
  },
  {
   "cell_type": "code",
   "execution_count": 55,
   "id": "1fe58367",
   "metadata": {},
   "outputs": [],
   "source": [
    "bad_columns = [\"Video Views\", \"Verified_pornstar\", \"Verified_member\"]"
   ]
  },
  {
   "cell_type": "code",
   "execution_count": 56,
   "id": "1ee5260b",
   "metadata": {},
   "outputs": [],
   "source": [
    "data_pre = data_pre.drop(bad_columns, axis = 1)"
   ]
  },
  {
   "cell_type": "code",
   "execution_count": null,
   "id": "430db2b6",
   "metadata": {},
   "outputs": [],
   "source": []
  },
  {
   "cell_type": "markdown",
   "id": "0a1b537e",
   "metadata": {},
   "source": [
    "# Тут Раздел 2 шалости"
   ]
  },
  {
   "cell_type": "code",
   "execution_count": 59,
   "id": "e48a2cb0",
   "metadata": {},
   "outputs": [],
   "source": [
    "from sklearn.model_selection import train_test_split"
   ]
  },
  {
   "cell_type": "code",
   "execution_count": 60,
   "id": "16c3622d",
   "metadata": {},
   "outputs": [],
   "source": [
    "Y = data_pre[\"Gender\"]"
   ]
  },
  {
   "cell_type": "code",
   "execution_count": 62,
   "id": "9dffb886",
   "metadata": {},
   "outputs": [],
   "source": [
    "X = data_pre.drop([\"Gender\"], axis=1)"
   ]
  },
  {
   "cell_type": "code",
   "execution_count": null,
   "id": "0d810c6e",
   "metadata": {},
   "outputs": [],
   "source": []
  },
  {
   "cell_type": "code",
   "execution_count": 65,
   "id": "d6d65abb",
   "metadata": {},
   "outputs": [],
   "source": [
    "x_train, x_test, y_train, y_test = \\\n",
    "    train_test_split(X, Y, test_size=0.33, random_state=2021)"
   ]
  },
  {
   "cell_type": "code",
   "execution_count": 72,
   "id": "badcfb2c",
   "metadata": {},
   "outputs": [
    {
     "data": {
      "text/plain": [
       "<AxesSubplot:>"
      ]
     },
     "execution_count": 72,
     "metadata": {},
     "output_type": "execute_result"
    },
    {
     "data": {
      "image/png": "[encoded data removed]",
      "text/plain": [
       "<Figure size 360x360 with 1 Axes>"
      ]
     },
     "metadata": {
      "needs_background": "light"
     },
     "output_type": "display_data"
    }
   ],
   "source": [
    "fig, ax = plt.subplots(figsize=(5,5))\n",
    "y_train.hist(ax=ax)"
   ]
  },
  {
   "cell_type": "code",
   "execution_count": 73,
   "id": "55844ea7",
   "metadata": {},
   "outputs": [
    {
     "data": {
      "text/plain": [
       "<AxesSubplot:>"
      ]
     },
     "execution_count": 73,
     "metadata": {},
     "output_type": "execute_result"
    },
    {
     "data": {
      "image/png": "[encoded data removed]",
      "text/plain": [
       "<Figure size 360x360 with 1 Axes>"
      ]
     },
     "metadata": {
      "needs_background": "light"
     },
     "output_type": "display_data"
    }
   ],
   "source": [
    "fig, ax = plt.subplots(figsize=(5,5))\n",
    "y_test.hist(ax=ax)"
   ]
  },
  {
   "cell_type": "code",
   "execution_count": null,
   "id": "87893876",
   "metadata": {},
   "outputs": [],
   "source": [
    "### TODO: СДЕЛАЙ ГРАФИКИ ТОЧНОСТИ НА РАЗНЫХ ЗНАЧЕНИЯХ АРГУМЕНТОВ!!!"
   ]
  },
  {
   "cell_type": "code",
   "execution_count": null,
   "id": "9d3cf512",
   "metadata": {},
   "outputs": [],
   "source": [
    "# KNN"
   ]
  },
  {
   "cell_type": "code",
   "execution_count": null,
   "id": "5185f0c5",
   "metadata": {},
   "outputs": [],
   "source": []
  },
  {
   "cell_type": "code",
   "execution_count": 78,
   "id": "ac13820a",
   "metadata": {},
   "outputs": [],
   "source": [
    "from sklearn.neighbors import KNeighborsClassifier"
   ]
  },
  {
   "cell_type": "code",
   "execution_count": 165,
   "id": "2d685860",
   "metadata": {},
   "outputs": [],
   "source": [
    "knn = KNeighborsClassifier(n_neighbors=100)"
   ]
  },
  {
   "cell_type": "code",
   "execution_count": null,
   "id": "6e9addfe",
   "metadata": {},
   "outputs": [],
   "source": []
  },
  {
   "cell_type": "code",
   "execution_count": null,
   "id": "9ae2006a",
   "metadata": {},
   "outputs": [],
   "source": []
  },
  {
   "cell_type": "code",
   "execution_count": 166,
   "id": "f88f796d",
   "metadata": {},
   "outputs": [
    {
     "data": {
      "text/plain": [
       "KNeighborsClassifier(n_neighbors=100)"
      ]
     },
     "execution_count": 166,
     "metadata": {},
     "output_type": "execute_result"
    }
   ],
   "source": [
    "knn.fit(x_train, y_train)"
   ]
  },
  {
   "cell_type": "code",
   "execution_count": 167,
   "id": "e19e7fad",
   "metadata": {},
   "outputs": [
    {
     "name": "stderr",
     "output_type": "stream",
     "text": [
      "/Users/hackerman/conda86/envs/notebook/lib/python3.9/site-packages/sklearn/base.py:441: UserWarning: X does not have valid feature names, but KNeighborsClassifier was fitted with feature names\n",
      "  warnings.warn(\n"
     ]
    }
   ],
   "source": [
    "predicted = knn.predict(x_test)"
   ]
  },
  {
   "cell_type": "code",
   "execution_count": 168,
   "id": "92ddcf74",
   "metadata": {},
   "outputs": [
    {
     "data": {
      "text/plain": [
       "array([2, 2, 2, ..., 2, 2, 2])"
      ]
     },
     "execution_count": 168,
     "metadata": {},
     "output_type": "execute_result"
    }
   ],
   "source": [
    "predicted"
   ]
  },
  {
   "cell_type": "code",
   "execution_count": 169,
   "id": "5721c51b",
   "metadata": {},
   "outputs": [
    {
     "data": {
      "text/plain": [
       "43870    2\n",
       "19443    7\n",
       "25544    2\n",
       "25679    2\n",
       "17138    1\n",
       "        ..\n",
       "46681    4\n",
       "70651    2\n",
       "27394    1\n",
       "36362    1\n",
       "22539    2\n",
       "Name: Gender, Length: 23934, dtype: int64"
      ]
     },
     "execution_count": 169,
     "metadata": {},
     "output_type": "execute_result"
    }
   ],
   "source": [
    "y_test"
   ]
  },
  {
   "cell_type": "code",
   "execution_count": 170,
   "id": "e37e5ad6",
   "metadata": {},
   "outputs": [],
   "source": [
    "from sklearn.metrics import accuracy_score"
   ]
  },
  {
   "cell_type": "code",
   "execution_count": 171,
   "id": "ffe795cf",
   "metadata": {},
   "outputs": [
    {
     "data": {
      "text/plain": [
       "0.48654633575666417"
      ]
     },
     "execution_count": 171,
     "metadata": {},
     "output_type": "execute_result"
    }
   ],
   "source": [
    "accuracy_score(y_test, predicted)"
   ]
  },
  {
   "cell_type": "code",
   "execution_count": null,
   "id": "c8fb6e1d",
   "metadata": {},
   "outputs": [],
   "source": [
    "# Тут умный коммент шо оставили ток важные признаки"
   ]
  },
  {
   "cell_type": "code",
   "execution_count": 112,
   "id": "de652263",
   "metadata": {},
   "outputs": [],
   "source": [
    "x_train_pepeg = x_train[[\"Model_rank\", \"Age\", \"Interested in\", \"Relationship status\"]]"
   ]
  },
  {
   "cell_type": "code",
   "execution_count": 113,
   "id": "e965f102",
   "metadata": {},
   "outputs": [],
   "source": [
    "x_test_pepeg = x_test[[\"Model_rank\", \"Age\", \"Interested in\", \"Relationship status\"]]"
   ]
  },
  {
   "cell_type": "code",
   "execution_count": null,
   "id": "1414eaa4",
   "metadata": {},
   "outputs": [],
   "source": []
  },
  {
   "cell_type": "code",
   "execution_count": null,
   "id": "adc62fb9",
   "metadata": {},
   "outputs": [],
   "source": []
  },
  {
   "cell_type": "code",
   "execution_count": 159,
   "id": "e1defb4a",
   "metadata": {},
   "outputs": [],
   "source": [
    "knn_pepega = KNeighborsClassifier(n_neighbors=100)"
   ]
  },
  {
   "cell_type": "code",
   "execution_count": 160,
   "id": "6addf1fe",
   "metadata": {},
   "outputs": [
    {
     "data": {
      "text/plain": [
       "KNeighborsClassifier(n_neighbors=100)"
      ]
     },
     "execution_count": 160,
     "metadata": {},
     "output_type": "execute_result"
    }
   ],
   "source": [
    "knn_pepega.fit(x_train_pepeg, y_train)"
   ]
  },
  {
   "cell_type": "code",
   "execution_count": 161,
   "id": "09cd6879",
   "metadata": {},
   "outputs": [
    {
     "name": "stderr",
     "output_type": "stream",
     "text": [
      "/Users/hackerman/conda86/envs/notebook/lib/python3.9/site-packages/sklearn/base.py:441: UserWarning: X does not have valid feature names, but KNeighborsClassifier was fitted with feature names\n",
      "  warnings.warn(\n"
     ]
    }
   ],
   "source": [
    "predicted_pepega = knn_pepega.predict(x_test_pepeg)"
   ]
  },
  {
   "cell_type": "code",
   "execution_count": 162,
   "id": "5873d0b4",
   "metadata": {},
   "outputs": [
    {
     "data": {
      "text/plain": [
       "array([2, 2, 2, ..., 2, 2, 2])"
      ]
     },
     "execution_count": 162,
     "metadata": {},
     "output_type": "execute_result"
    }
   ],
   "source": [
    "predicted_pepega"
   ]
  },
  {
   "cell_type": "code",
   "execution_count": 163,
   "id": "6ed196c8",
   "metadata": {},
   "outputs": [
    {
     "data": {
      "text/plain": [
       "0.4832038104788167"
      ]
     },
     "execution_count": 163,
     "metadata": {},
     "output_type": "execute_result"
    }
   ],
   "source": [
    "accuracy_score(y_test, predicted_pepega)"
   ]
  },
  {
   "cell_type": "code",
   "execution_count": null,
   "id": "a3756084",
   "metadata": {},
   "outputs": [],
   "source": []
  },
  {
   "cell_type": "code",
   "execution_count": null,
   "id": "ca8575e2",
   "metadata": {},
   "outputs": [],
   "source": [
    "# Рандомный лес"
   ]
  },
  {
   "cell_type": "code",
   "execution_count": 164,
   "id": "1e8ba761",
   "metadata": {},
   "outputs": [],
   "source": [
    "from sklearn.ensemble import RandomForestClassifier"
   ]
  },
  {
   "cell_type": "code",
   "execution_count": 212,
   "id": "c223f2d7",
   "metadata": {},
   "outputs": [],
   "source": [
    "forest = RandomForestClassifier(max_depth=40, random_state=0)"
   ]
  },
  {
   "cell_type": "code",
   "execution_count": 213,
   "id": "e944425d",
   "metadata": {},
   "outputs": [
    {
     "data": {
      "text/plain": [
       "RandomForestClassifier(max_depth=40, random_state=0)"
      ]
     },
     "execution_count": 213,
     "metadata": {},
     "output_type": "execute_result"
    }
   ],
   "source": [
    "forest.fit(x_train, y_train)"
   ]
  },
  {
   "cell_type": "code",
   "execution_count": 214,
   "id": "7f396384",
   "metadata": {},
   "outputs": [],
   "source": [
    "predicted = forest.predict(x_test)"
   ]
  },
  {
   "cell_type": "code",
   "execution_count": 215,
   "id": "5839d029",
   "metadata": {},
   "outputs": [
    {
     "data": {
      "text/plain": [
       "0.701554274254199"
      ]
     },
     "execution_count": 215,
     "metadata": {},
     "output_type": "execute_result"
    }
   ],
   "source": [
    "accuracy_score(y_test, predicted)"
   ]
  },
  {
   "cell_type": "code",
   "execution_count": null,
   "id": "428f597a",
   "metadata": {},
   "outputs": [],
   "source": []
  },
  {
   "cell_type": "code",
   "execution_count": null,
   "id": "52aadc2f",
   "metadata": {},
   "outputs": [],
   "source": []
  },
  {
   "cell_type": "code",
   "execution_count": null,
   "id": "b63a2b2a",
   "metadata": {},
   "outputs": [],
   "source": [
    "# Тут просто пример подбора параметров оптимальных"
   ]
  },
  {
   "cell_type": "code",
   "execution_count": 369,
   "id": "25c292f0",
   "metadata": {},
   "outputs": [],
   "source": [
    "from sklearn.model_selection import GridSearchCV"
   ]
  },
  {
   "cell_type": "code",
   "execution_count": 374,
   "id": "4847d328",
   "metadata": {},
   "outputs": [],
   "source": [
    "knn_grid = GridSearchCV(RandomForestClassifier(), {'max_depth': np.arange(1, 2)})"
   ]
  },
  {
   "cell_type": "code",
   "execution_count": 375,
   "id": "f61dc19d",
   "metadata": {},
   "outputs": [
    {
     "name": "stderr",
     "output_type": "stream",
     "text": [
      "/Users/hackerman/conda86/envs/notebook/lib/python3.9/site-packages/sklearn/model_selection/_split.py:676: UserWarning: The least populated class in y has only 3 members, which is less than n_splits=5.\n",
      "  warnings.warn(\n"
     ]
    },
    {
     "data": {
      "text/plain": [
       "GridSearchCV(estimator=RandomForestClassifier(),\n",
       "             param_grid={'max_depth': array([1])})"
      ]
     },
     "execution_count": 375,
     "metadata": {},
     "output_type": "execute_result"
    }
   ],
   "source": [
    "knn_grid.fit(x_train, y_train)"
   ]
  },
  {
   "cell_type": "code",
   "execution_count": 376,
   "id": "85f35401",
   "metadata": {},
   "outputs": [],
   "source": [
    "predicted = knn_grid.predict(x_test)"
   ]
  },
  {
   "cell_type": "code",
   "execution_count": 377,
   "id": "e09b584b",
   "metadata": {},
   "outputs": [
    {
     "data": {
      "text/plain": [
       "0.6358318709785242"
      ]
     },
     "execution_count": 377,
     "metadata": {},
     "output_type": "execute_result"
    }
   ],
   "source": [
    "accuracy_score(y_test, predicted)"
   ]
  },
  {
   "cell_type": "code",
   "execution_count": null,
   "id": "f8ec8d6c",
   "metadata": {},
   "outputs": [],
   "source": []
  },
  {
   "cell_type": "code",
   "execution_count": null,
   "id": "d505bed0",
   "metadata": {},
   "outputs": [],
   "source": [
    "# Дерево решений"
   ]
  },
  {
   "cell_type": "code",
   "execution_count": 287,
   "id": "05800a5d",
   "metadata": {},
   "outputs": [],
   "source": [
    "from sklearn.tree import DecisionTreeClassifier"
   ]
  },
  {
   "cell_type": "code",
   "execution_count": 288,
   "id": "347336b6",
   "metadata": {},
   "outputs": [],
   "source": [
    "tree = DecisionTreeClassifier(max_depth=5, random_state=0)"
   ]
  },
  {
   "cell_type": "code",
   "execution_count": 289,
   "id": "287e670b",
   "metadata": {},
   "outputs": [
    {
     "data": {
      "text/plain": [
       "DecisionTreeClassifier(max_depth=5, random_state=0)"
      ]
     },
     "execution_count": 289,
     "metadata": {},
     "output_type": "execute_result"
    }
   ],
   "source": [
    "tree.fit(x_train, y_train)"
   ]
  },
  {
   "cell_type": "code",
   "execution_count": 290,
   "id": "e93e6f2e",
   "metadata": {},
   "outputs": [],
   "source": [
    "predicted = tree.predict(x_test)"
   ]
  },
  {
   "cell_type": "code",
   "execution_count": 291,
   "id": "5e37c96b",
   "metadata": {},
   "outputs": [
    {
     "data": {
      "text/plain": [
       "0.6802038940419487"
      ]
     },
     "execution_count": 291,
     "metadata": {},
     "output_type": "execute_result"
    }
   ],
   "source": [
    "accuracy_score(y_test, predicted)"
   ]
  },
  {
   "cell_type": "code",
   "execution_count": null,
   "id": "0f66a290",
   "metadata": {},
   "outputs": [],
   "source": []
  },
  {
   "cell_type": "code",
   "execution_count": null,
   "id": "a3c11512",
   "metadata": {},
   "outputs": [],
   "source": [
    "# Баес наивный"
   ]
  },
  {
   "cell_type": "code",
   "execution_count": 322,
   "id": "335bc0b3",
   "metadata": {},
   "outputs": [],
   "source": [
    "from sklearn.naive_bayes import GaussianNB"
   ]
  },
  {
   "cell_type": "code",
   "execution_count": 359,
   "id": "438878ec",
   "metadata": {},
   "outputs": [],
   "source": [
    "gauss = GaussianNB(var_smoothing=0.00000000001)"
   ]
  },
  {
   "cell_type": "code",
   "execution_count": 360,
   "id": "98fff68d",
   "metadata": {},
   "outputs": [
    {
     "data": {
      "text/plain": [
       "GaussianNB(var_smoothing=1e-11)"
      ]
     },
     "execution_count": 360,
     "metadata": {},
     "output_type": "execute_result"
    }
   ],
   "source": [
    "gauss.fit(x_train, y_train)"
   ]
  },
  {
   "cell_type": "code",
   "execution_count": 361,
   "id": "c30540ef",
   "metadata": {},
   "outputs": [],
   "source": [
    "predicted = gauss.predict(x_test)"
   ]
  },
  {
   "cell_type": "code",
   "execution_count": 362,
   "id": "c224f9f5",
   "metadata": {},
   "outputs": [
    {
     "data": {
      "text/plain": [
       "0.6512074872566224"
      ]
     },
     "execution_count": 362,
     "metadata": {},
     "output_type": "execute_result"
    }
   ],
   "source": [
    "accuracy_score(y_test, predicted)"
   ]
  },
  {
   "cell_type": "code",
   "execution_count": null,
   "id": "82c76194",
   "metadata": {},
   "outputs": [],
   "source": []
  },
  {
   "cell_type": "code",
   "execution_count": null,
   "id": "dfc64510",
   "metadata": {},
   "outputs": [],
   "source": [
    "# Лог Рег"
   ]
  },
  {
   "cell_type": "code",
   "execution_count": 363,
   "id": "a0df2c15",
   "metadata": {},
   "outputs": [],
   "source": [
    "from sklearn.linear_model import LogisticRegression"
   ]
  },
  {
   "cell_type": "code",
   "execution_count": 386,
   "id": "abaa01b8",
   "metadata": {},
   "outputs": [],
   "source": [
    "logreg = LogisticRegression()"
   ]
  },
  {
   "cell_type": "code",
   "execution_count": 387,
   "id": "fd7fbb8f",
   "metadata": {},
   "outputs": [
    {
     "name": "stderr",
     "output_type": "stream",
     "text": [
      "/Users/hackerman/conda86/envs/notebook/lib/python3.9/site-packages/sklearn/linear_model/_logistic.py:814: ConvergenceWarning: lbfgs failed to converge (status=1):\n",
      "STOP: TOTAL NO. of ITERATIONS REACHED LIMIT.\n",
      "\n",
      "Increase the number of iterations (max_iter) or scale the data as shown in:\n",
      "    https://scikit-learn.org/stable/modules/preprocessing.html\n",
      "Please also refer to the documentation for alternative solver options:\n",
      "    https://scikit-learn.org/stable/modules/linear_model.html#logistic-regression\n",
      "  n_iter_i = _check_optimize_result(\n"
     ]
    },
    {
     "data": {
      "text/plain": [
       "LogisticRegression()"
      ]
     },
     "execution_count": 387,
     "metadata": {},
     "output_type": "execute_result"
    }
   ],
   "source": [
    "logreg.fit(x_train, y_train)"
   ]
  },
  {
   "cell_type": "code",
   "execution_count": 388,
   "id": "8c00c0a5",
   "metadata": {},
   "outputs": [],
   "source": [
    "predicted = logreg.predict(x_test)"
   ]
  },
  {
   "cell_type": "code",
   "execution_count": 389,
   "id": "235b700f",
   "metadata": {},
   "outputs": [
    {
     "data": {
      "text/plain": [
       "0.470251525027158"
      ]
     },
     "execution_count": 389,
     "metadata": {},
     "output_type": "execute_result"
    }
   ],
   "source": [
    "accuracy_score(y_test, predicted)"
   ]
  },
  {
   "cell_type": "code",
   "execution_count": null,
   "id": "aa8d00be",
   "metadata": {},
   "outputs": [],
   "source": []
  },
  {
   "cell_type": "code",
   "execution_count": null,
   "id": "86945994",
   "metadata": {},
   "outputs": [],
   "source": [
    "# Бустим кота"
   ]
  },
  {
   "cell_type": "code",
   "execution_count": 390,
   "id": "303ef68f",
   "metadata": {},
   "outputs": [
    {
     "name": "stdout",
     "output_type": "stream",
     "text": [
      "Collecting catboost\n",
      "  Downloading catboost-1.0.0-cp39-none-macosx_10_6_intel.macosx_10_9_intel.macosx_10_9_x86_64.macosx_10_10_intel.macosx_10_10_x86_64.whl (12.9 MB)\n",
      "\u001b[K     |████████████████████████████████| 12.9 MB 10.6 MB/s eta 0:00:01\n",
      "\u001b[?25hRequirement already satisfied: six in /Users/hackerman/conda86/envs/notebook/lib/python3.9/site-packages (from catboost) (1.16.0)\n",
      "Requirement already satisfied: pandas>=0.24.0 in /Users/hackerman/conda86/envs/notebook/lib/python3.9/site-packages (from catboost) (1.3.0)\n",
      "Requirement already satisfied: matplotlib in /Users/hackerman/conda86/envs/notebook/lib/python3.9/site-packages (from catboost) (3.4.2)\n",
      "Collecting plotly\n",
      "  Downloading plotly-5.3.1-py2.py3-none-any.whl (23.9 MB)\n",
      "\u001b[K     |████████████████████████████████| 23.9 MB 9.2 MB/s eta 0:00:01\n",
      "\u001b[?25hRequirement already satisfied: numpy>=1.16.0 in /Users/hackerman/conda86/envs/notebook/lib/python3.9/site-packages (from catboost) (1.21.0)\n",
      "Requirement already satisfied: scipy in /Users/hackerman/conda86/envs/notebook/lib/python3.9/site-packages (from catboost) (1.7.0)\n",
      "Collecting graphviz\n",
      "  Downloading graphviz-0.17-py3-none-any.whl (18 kB)\n",
      "Requirement already satisfied: python-dateutil>=2.7.3 in /Users/hackerman/conda86/envs/notebook/lib/python3.9/site-packages (from pandas>=0.24.0->catboost) (2.8.1)\n",
      "Requirement already satisfied: pytz>=2017.3 in /Users/hackerman/conda86/envs/notebook/lib/python3.9/site-packages (from pandas>=0.24.0->catboost) (2021.1)\n",
      "Requirement already satisfied: pillow>=6.2.0 in /Users/hackerman/conda86/envs/notebook/lib/python3.9/site-packages (from matplotlib->catboost) (8.3.1)\n",
      "Requirement already satisfied: kiwisolver>=1.0.1 in /Users/hackerman/conda86/envs/notebook/lib/python3.9/site-packages (from matplotlib->catboost) (1.3.1)\n",
      "Requirement already satisfied: pyparsing>=2.2.1 in /Users/hackerman/conda86/envs/notebook/lib/python3.9/site-packages (from matplotlib->catboost) (2.4.7)\n",
      "Requirement already satisfied: cycler>=0.10 in /Users/hackerman/conda86/envs/notebook/lib/python3.9/site-packages (from matplotlib->catboost) (0.10.0)\n",
      "Collecting tenacity>=6.2.0\n",
      "  Downloading tenacity-8.0.1-py3-none-any.whl (24 kB)\n",
      "Installing collected packages: tenacity, plotly, graphviz, catboost\n",
      "Successfully installed catboost-1.0.0 graphviz-0.17 plotly-5.3.1 tenacity-8.0.1\n"
     ]
    }
   ],
   "source": [
    "!pip install catboost"
   ]
  },
  {
   "cell_type": "code",
   "execution_count": 391,
   "id": "cc27d4d2",
   "metadata": {},
   "outputs": [],
   "source": [
    "from catboost import CatBoostClassifier"
   ]
  },
  {
   "cell_type": "code",
   "execution_count": 514,
   "id": "52db2186",
   "metadata": {},
   "outputs": [],
   "source": [
    "catboost = CatBoostClassifier(iterations=3, depth=5, learning_rate=0.595)"
   ]
  },
  {
   "cell_type": "code",
   "execution_count": 515,
   "id": "6701bb76",
   "metadata": {},
   "outputs": [
    {
     "name": "stdout",
     "output_type": "stream",
     "text": [
      "0:\tlearn: 1.0115316\ttotal: 19.3ms\tremaining: 38.5ms\n",
      "1:\tlearn: 0.9026385\ttotal: 34.7ms\tremaining: 17.3ms\n",
      "2:\tlearn: 0.8508020\ttotal: 47.8ms\tremaining: 0us\n"
     ]
    },
    {
     "data": {
      "text/plain": [
       "<catboost.core.CatBoostClassifier at 0x19d2054f0>"
      ]
     },
     "execution_count": 515,
     "metadata": {},
     "output_type": "execute_result"
    }
   ],
   "source": [
    "catboost.fit(x_train, y_train)"
   ]
  },
  {
   "cell_type": "code",
   "execution_count": 516,
   "id": "0a8cdaf4",
   "metadata": {},
   "outputs": [],
   "source": [
    "predicted = catboost.predict(x_test)"
   ]
  },
  {
   "cell_type": "code",
   "execution_count": 517,
   "id": "86a9ed3e",
   "metadata": {},
   "outputs": [
    {
     "data": {
      "text/plain": [
       "0.6796607336842985"
      ]
     },
     "execution_count": 517,
     "metadata": {},
     "output_type": "execute_result"
    }
   ],
   "source": [
    "accuracy_score(y_test, predicted)"
   ]
  },
  {
   "cell_type": "code",
   "execution_count": null,
   "id": "f374a435",
   "metadata": {},
   "outputs": [],
   "source": []
  },
  {
   "cell_type": "code",
   "execution_count": null,
   "id": "0cf41db0",
   "metadata": {},
   "outputs": [],
   "source": []
  },
  {
   "cell_type": "code",
   "execution_count": null,
   "id": "917ba28d",
   "metadata": {},
   "outputs": [],
   "source": []
  }
 ],
 "metadata": {
  "kernelspec": {
   "display_name": "Python 3 (ipykernel)",
   "language": "python",
   "name": "python3"
  },
  "language_info": {
   "codemirror_mode": {
    "name": "ipython",
    "version": 3
   },
   "file_extension": ".py",
   "mimetype": "text/x-python",
   "name": "python",
   "nbconvert_exporter": "python",
   "pygments_lexer": "ipython3",
   "version": "3.9.6"
  }
 },
 "nbformat": 4,
 "nbformat_minor": 5
}
