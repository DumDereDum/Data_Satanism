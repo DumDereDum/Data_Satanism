{
 "cells": [
  {
   "cell_type": "code",
   "execution_count": 111,
   "id": "efb928f8",
   "metadata": {},
   "outputs": [],
   "source": [
    "#!pip install pandas\n",
    "#!pip install numpy\n",
    "#!pip install matplotlib\n",
    "#!pip install sklearn\n",
    "#!pip install seaborn\n",
    "#!pip install ipywidgets widgetsnbextension IProgress pandas_profiling\n",
    "#!!pip install catboost"
   ]
  },
  {
   "cell_type": "code",
   "execution_count": 2,
   "id": "71c2f3ca",
   "metadata": {},
   "outputs": [],
   "source": [
    "import sys\n",
    "\n",
    "if not sys.warnoptions:\n",
    "    import warnings\n",
    "    warnings.simplefilter(\"ignore\")"
   ]
  },
  {
   "cell_type": "code",
   "execution_count": 3,
   "id": "cc81ea05",
   "metadata": {},
   "outputs": [],
   "source": [
    "import pandas as pd\n",
    "import numpy as np\n",
    "import matplotlib.pyplot as plt"
   ]
  },
  {
   "cell_type": "code",
   "execution_count": 4,
   "id": "264b47a6",
   "metadata": {},
   "outputs": [],
   "source": [
    "pd.set_option('display.max_columns', 100)"
   ]
  },
  {
   "cell_type": "code",
   "execution_count": 5,
   "id": "6b84a1a6",
   "metadata": {},
   "outputs": [],
   "source": [
    "data = pd.read_csv(\"../../models_v3.csv\", na_values=['–','—', '-', 'None'])"
   ]
  },
  {
   "cell_type": "code",
   "execution_count": null,
   "id": "9aeb92ab",
   "metadata": {},
   "outputs": [],
   "source": []
  },
  {
   "cell_type": "markdown",
   "id": "ffa95b7e",
   "metadata": {},
   "source": [
    "# 1. Первичный анализ данных"
   ]
  },
  {
   "cell_type": "markdown",
   "id": "2576a0ad",
   "metadata": {},
   "source": [
    "### Вывод статистик по датасету"
   ]
  },
  {
   "cell_type": "code",
   "execution_count": 6,
   "id": "47684018",
   "metadata": {},
   "outputs": [
    {
     "data": {
      "text/plain": [
       "(81774, 47)"
      ]
     },
     "execution_count": 6,
     "metadata": {},
     "output_type": "execute_result"
    }
   ],
   "source": [
    "data.shape"
   ]
  },
  {
   "cell_type": "code",
   "execution_count": 7,
   "id": "dfc44813",
   "metadata": {},
   "outputs": [
    {
     "data": {
      "text/html": [
       "<div>\n",
       "<style scoped>\n",
       "    .dataframe tbody tr th:only-of-type {\n",
       "        vertical-align: middle;\n",
       "    }\n",
       "\n",
       "    .dataframe tbody tr th {\n",
       "        vertical-align: top;\n",
       "    }\n",
       "\n",
       "    .dataframe thead th {\n",
       "        text-align: right;\n",
       "    }\n",
       "</style>\n",
       "<table border=\"1\" class=\"dataframe\">\n",
       "  <thead>\n",
       "    <tr style=\"text-align: right;\">\n",
       "      <th></th>\n",
       "      <th>URL</th>\n",
       "      <th>Name</th>\n",
       "      <th>Bio</th>\n",
       "      <th>Subscribers</th>\n",
       "      <th>Videos_views</th>\n",
       "      <th>Pornhub_rank</th>\n",
       "      <th>Model_rank</th>\n",
       "      <th>Public_videos</th>\n",
       "      <th>Paid_videos</th>\n",
       "      <th>Fan_club_material</th>\n",
       "      <th>Verified_pornstar</th>\n",
       "      <th>Verified_member</th>\n",
       "      <th>Premium_user</th>\n",
       "      <th>Pornhub_awards_winner</th>\n",
       "      <th>Age</th>\n",
       "      <th>Background</th>\n",
       "      <th>Birthday</th>\n",
       "      <th>Birthplace</th>\n",
       "      <th>Born</th>\n",
       "      <th>Career Start and End</th>\n",
       "      <th>Career Status</th>\n",
       "      <th>City and Country</th>\n",
       "      <th>Endowment</th>\n",
       "      <th>Ethnicity</th>\n",
       "      <th>Eye Color</th>\n",
       "      <th>Facial Hair</th>\n",
       "      <th>Fake Boobs</th>\n",
       "      <th>Foreskin</th>\n",
       "      <th>Gender</th>\n",
       "      <th>Hair Color</th>\n",
       "      <th>Height</th>\n",
       "      <th>Weight</th>\n",
       "      <th>Interested in</th>\n",
       "      <th>Interests and hobbies</th>\n",
       "      <th>Joined</th>\n",
       "      <th>Measurements</th>\n",
       "      <th>Piercings</th>\n",
       "      <th>Pornstar Profile Views</th>\n",
       "      <th>Profile Views</th>\n",
       "      <th>Relationship status</th>\n",
       "      <th>Star Sign</th>\n",
       "      <th>Tattoos</th>\n",
       "      <th>Turn Offs</th>\n",
       "      <th>Turn Ons</th>\n",
       "      <th>Video Views</th>\n",
       "      <th>Videos Watched</th>\n",
       "      <th>Hometown</th>\n",
       "    </tr>\n",
       "  </thead>\n",
       "  <tbody>\n",
       "    <tr>\n",
       "      <th>0</th>\n",
       "      <td>http://pornhub.com/model/mini-diva</td>\n",
       "      <td>Mini Diva</td>\n",
       "      <td>Hey there! You can call me Mini Diva. I love s...</td>\n",
       "      <td>820K</td>\n",
       "      <td>364,041,175</td>\n",
       "      <td>11</td>\n",
       "      <td>1.0</td>\n",
       "      <td>65.0</td>\n",
       "      <td>7.0</td>\n",
       "      <td>107.0</td>\n",
       "      <td>0</td>\n",
       "      <td>1</td>\n",
       "      <td>1</td>\n",
       "      <td>0</td>\n",
       "      <td>26.0</td>\n",
       "      <td>NaN</td>\n",
       "      <td>Aug 6, 1994</td>\n",
       "      <td>Czech Republic</td>\n",
       "      <td>NaN</td>\n",
       "      <td>NaN</td>\n",
       "      <td>NaN</td>\n",
       "      <td>Heaven, Europe</td>\n",
       "      <td>NaN</td>\n",
       "      <td>White</td>\n",
       "      <td>NaN</td>\n",
       "      <td>NaN</td>\n",
       "      <td>No</td>\n",
       "      <td>NaN</td>\n",
       "      <td>Female</td>\n",
       "      <td>Brunette</td>\n",
       "      <td>5' 6\" (167cm)</td>\n",
       "      <td>111lbs. (50kg)</td>\n",
       "      <td>Guys and Girls</td>\n",
       "      <td>Boring AF.</td>\n",
       "      <td>2 years ago</td>\n",
       "      <td>35-25-36</td>\n",
       "      <td>Yes</td>\n",
       "      <td>NaN</td>\n",
       "      <td>59,460,751</td>\n",
       "      <td>Single</td>\n",
       "      <td>NaN</td>\n",
       "      <td>No</td>\n",
       "      <td>Dunno what can turn me off.</td>\n",
       "      <td>When you watching me, fucking love it!</td>\n",
       "      <td>364,041,175</td>\n",
       "      <td>1,057</td>\n",
       "      <td>Prague</td>\n",
       "    </tr>\n",
       "    <tr>\n",
       "      <th>1</th>\n",
       "      <td>http://pornhub.com/model/yinyleon</td>\n",
       "      <td>yinyleon</td>\n",
       "      <td>We will try to bring you the best fuck that we...</td>\n",
       "      <td>586K</td>\n",
       "      <td>510,938,330</td>\n",
       "      <td>21</td>\n",
       "      <td>2.0</td>\n",
       "      <td>140.0</td>\n",
       "      <td>1.0</td>\n",
       "      <td>NaN</td>\n",
       "      <td>0</td>\n",
       "      <td>1</td>\n",
       "      <td>1</td>\n",
       "      <td>0</td>\n",
       "      <td>36.0</td>\n",
       "      <td>NaN</td>\n",
       "      <td>Jun 1, 1984</td>\n",
       "      <td>NaN</td>\n",
       "      <td>NaN</td>\n",
       "      <td>NaN</td>\n",
       "      <td>NaN</td>\n",
       "      <td>United states, United States</td>\n",
       "      <td>NaN</td>\n",
       "      <td>NaN</td>\n",
       "      <td>NaN</td>\n",
       "      <td>NaN</td>\n",
       "      <td>NaN</td>\n",
       "      <td>NaN</td>\n",
       "      <td>Couple</td>\n",
       "      <td>NaN</td>\n",
       "      <td>NaN</td>\n",
       "      <td>NaN</td>\n",
       "      <td>Guys and Girls</td>\n",
       "      <td>I love to go to the gym, running, hiking, fuck...</td>\n",
       "      <td>1 year ago</td>\n",
       "      <td>NaN</td>\n",
       "      <td>NaN</td>\n",
       "      <td>NaN</td>\n",
       "      <td>67,129,229</td>\n",
       "      <td>Taken</td>\n",
       "      <td>NaN</td>\n",
       "      <td>NaN</td>\n",
       "      <td>NaN</td>\n",
       "      <td>My biggest turn on is when I get my ass and pu...</td>\n",
       "      <td>510,938,330</td>\n",
       "      <td>1,422</td>\n",
       "      <td>NaN</td>\n",
       "    </tr>\n",
       "    <tr>\n",
       "      <th>2</th>\n",
       "      <td>http://pornhub.com/model/crystal-lust</td>\n",
       "      <td>Crystal Lust</td>\n",
       "      <td>Cum see more of me on Onlyfans.com/LustCrystal...</td>\n",
       "      <td>433K</td>\n",
       "      <td>346,726,146</td>\n",
       "      <td>29</td>\n",
       "      <td>4.0</td>\n",
       "      <td>104.0</td>\n",
       "      <td>69.0</td>\n",
       "      <td>173.0</td>\n",
       "      <td>0</td>\n",
       "      <td>1</td>\n",
       "      <td>1</td>\n",
       "      <td>0</td>\n",
       "      <td>24.0</td>\n",
       "      <td>NaN</td>\n",
       "      <td>Oct 7, 1996</td>\n",
       "      <td>NaN</td>\n",
       "      <td>NaN</td>\n",
       "      <td>NaN</td>\n",
       "      <td>NaN</td>\n",
       "      <td>Miami, United States</td>\n",
       "      <td>NaN</td>\n",
       "      <td>NaN</td>\n",
       "      <td>NaN</td>\n",
       "      <td>NaN</td>\n",
       "      <td>NaN</td>\n",
       "      <td>NaN</td>\n",
       "      <td>Female</td>\n",
       "      <td>Brunette</td>\n",
       "      <td>5' 2\" (157cm)</td>\n",
       "      <td>NaN</td>\n",
       "      <td>Guys and Girls</td>\n",
       "      <td>NaN</td>\n",
       "      <td>1 year ago</td>\n",
       "      <td>42-32-50</td>\n",
       "      <td>NaN</td>\n",
       "      <td>NaN</td>\n",
       "      <td>50,243,658</td>\n",
       "      <td>Taken</td>\n",
       "      <td>NaN</td>\n",
       "      <td>NaN</td>\n",
       "      <td>NaN</td>\n",
       "      <td>Getting fucked in the ass Onlyfans.com/LustCry...</td>\n",
       "      <td>346,726,146</td>\n",
       "      <td>560</td>\n",
       "      <td>NaN</td>\n",
       "    </tr>\n",
       "    <tr>\n",
       "      <th>3</th>\n",
       "      <td>http://pornhub.com/model/solazola</td>\n",
       "      <td>Solazola</td>\n",
       "      <td>Hi, guys) We hope that you LOVE SEX as much as...</td>\n",
       "      <td>748K</td>\n",
       "      <td>234,093,027</td>\n",
       "      <td>32</td>\n",
       "      <td>5.0</td>\n",
       "      <td>50.0</td>\n",
       "      <td>14.0</td>\n",
       "      <td>181.0</td>\n",
       "      <td>0</td>\n",
       "      <td>1</td>\n",
       "      <td>0</td>\n",
       "      <td>0</td>\n",
       "      <td>21.0</td>\n",
       "      <td>NaN</td>\n",
       "      <td>Dec 12, 1999</td>\n",
       "      <td>NaN</td>\n",
       "      <td>NaN</td>\n",
       "      <td>NaN</td>\n",
       "      <td>NaN</td>\n",
       "      <td>Tallinn, Estonia</td>\n",
       "      <td>NaN</td>\n",
       "      <td>White</td>\n",
       "      <td>NaN</td>\n",
       "      <td>NaN</td>\n",
       "      <td>No</td>\n",
       "      <td>NaN</td>\n",
       "      <td>Couple</td>\n",
       "      <td>Brunette</td>\n",
       "      <td>5' 8\" (172cm)</td>\n",
       "      <td>111lbs. (50kg)</td>\n",
       "      <td>Guys and Girls</td>\n",
       "      <td>Sport, snowboarding, movies, fashion, food, pl...</td>\n",
       "      <td>2 years ago</td>\n",
       "      <td>34-24-36</td>\n",
       "      <td>No</td>\n",
       "      <td>NaN</td>\n",
       "      <td>56,041,576</td>\n",
       "      <td>Taken</td>\n",
       "      <td>NaN</td>\n",
       "      <td>Yes</td>\n",
       "      <td>NaN</td>\n",
       "      <td>blowjobs (love this action)</td>\n",
       "      <td>234,093,027</td>\n",
       "      <td>1,059</td>\n",
       "      <td>NaN</td>\n",
       "    </tr>\n",
       "    <tr>\n",
       "      <th>4</th>\n",
       "      <td>http://pornhub.com/model/dickforlily</td>\n",
       "      <td>DickForLily</td>\n",
       "      <td>just a couple who loves to fuck and gets off o...</td>\n",
       "      <td>596K</td>\n",
       "      <td>357,380,610</td>\n",
       "      <td>43</td>\n",
       "      <td>7.0</td>\n",
       "      <td>175.0</td>\n",
       "      <td>23.0</td>\n",
       "      <td>17.0</td>\n",
       "      <td>0</td>\n",
       "      <td>1</td>\n",
       "      <td>0</td>\n",
       "      <td>0</td>\n",
       "      <td>22.0</td>\n",
       "      <td>NaN</td>\n",
       "      <td>Oct 5, 1998</td>\n",
       "      <td>NaN</td>\n",
       "      <td>NaN</td>\n",
       "      <td>NaN</td>\n",
       "      <td>NaN</td>\n",
       "      <td>New York, United States</td>\n",
       "      <td>NaN</td>\n",
       "      <td>White</td>\n",
       "      <td>NaN</td>\n",
       "      <td>NaN</td>\n",
       "      <td>No</td>\n",
       "      <td>NaN</td>\n",
       "      <td>Couple</td>\n",
       "      <td>Brunette</td>\n",
       "      <td>5' 7\" (170cm)</td>\n",
       "      <td>117lbs. (53kg)</td>\n",
       "      <td>Guys and Girls</td>\n",
       "      <td>I love hiking, sucking dick, fucking and trave...</td>\n",
       "      <td>2 years ago</td>\n",
       "      <td>34-35-25</td>\n",
       "      <td>No</td>\n",
       "      <td>NaN</td>\n",
       "      <td>44,344,938</td>\n",
       "      <td>Taken</td>\n",
       "      <td>NaN</td>\n",
       "      <td>No</td>\n",
       "      <td>avaricious and hypocritical people</td>\n",
       "      <td>Men in suits , expensive cars , cute guys</td>\n",
       "      <td>357,380,610</td>\n",
       "      <td>3,391</td>\n",
       "      <td>NaN</td>\n",
       "    </tr>\n",
       "  </tbody>\n",
       "</table>\n",
       "</div>"
      ],
      "text/plain": [
       "                                     URL          Name  \\\n",
       "0     http://pornhub.com/model/mini-diva     Mini Diva   \n",
       "1      http://pornhub.com/model/yinyleon      yinyleon   \n",
       "2  http://pornhub.com/model/crystal-lust  Crystal Lust   \n",
       "3      http://pornhub.com/model/solazola      Solazola   \n",
       "4   http://pornhub.com/model/dickforlily   DickForLily   \n",
       "\n",
       "                                                 Bio Subscribers Videos_views  \\\n",
       "0  Hey there! You can call me Mini Diva. I love s...        820K  364,041,175   \n",
       "1  We will try to bring you the best fuck that we...        586K  510,938,330   \n",
       "2  Cum see more of me on Onlyfans.com/LustCrystal...        433K  346,726,146   \n",
       "3  Hi, guys) We hope that you LOVE SEX as much as...        748K  234,093,027   \n",
       "4  just a couple who loves to fuck and gets off o...        596K  357,380,610   \n",
       "\n",
       "   Pornhub_rank  Model_rank  Public_videos  Paid_videos  Fan_club_material  \\\n",
       "0            11         1.0           65.0          7.0              107.0   \n",
       "1            21         2.0          140.0          1.0                NaN   \n",
       "2            29         4.0          104.0         69.0              173.0   \n",
       "3            32         5.0           50.0         14.0              181.0   \n",
       "4            43         7.0          175.0         23.0               17.0   \n",
       "\n",
       "   Verified_pornstar  Verified_member  Premium_user  Pornhub_awards_winner  \\\n",
       "0                  0                1             1                      0   \n",
       "1                  0                1             1                      0   \n",
       "2                  0                1             1                      0   \n",
       "3                  0                1             0                      0   \n",
       "4                  0                1             0                      0   \n",
       "\n",
       "    Age  Background      Birthday      Birthplace  Born  Career Start and End  \\\n",
       "0  26.0         NaN   Aug 6, 1994  Czech Republic   NaN                   NaN   \n",
       "1  36.0         NaN   Jun 1, 1984             NaN   NaN                   NaN   \n",
       "2  24.0         NaN   Oct 7, 1996             NaN   NaN                   NaN   \n",
       "3  21.0         NaN  Dec 12, 1999             NaN   NaN                   NaN   \n",
       "4  22.0         NaN   Oct 5, 1998             NaN   NaN                   NaN   \n",
       "\n",
       "   Career Status              City and Country Endowment Ethnicity  Eye Color  \\\n",
       "0            NaN                Heaven, Europe       NaN     White        NaN   \n",
       "1            NaN  United states, United States       NaN       NaN        NaN   \n",
       "2            NaN          Miami, United States       NaN       NaN        NaN   \n",
       "3            NaN              Tallinn, Estonia       NaN     White        NaN   \n",
       "4            NaN       New York, United States       NaN     White        NaN   \n",
       "\n",
       "  Facial Hair Fake Boobs Foreskin  Gender Hair Color         Height  \\\n",
       "0         NaN         No      NaN  Female   Brunette  5' 6\" (167cm)   \n",
       "1         NaN        NaN      NaN  Couple        NaN            NaN   \n",
       "2         NaN        NaN      NaN  Female   Brunette  5' 2\" (157cm)   \n",
       "3         NaN         No      NaN  Couple   Brunette  5' 8\" (172cm)   \n",
       "4         NaN         No      NaN  Couple   Brunette  5' 7\" (170cm)   \n",
       "\n",
       "           Weight   Interested in  \\\n",
       "0  111lbs. (50kg)  Guys and Girls   \n",
       "1             NaN  Guys and Girls   \n",
       "2             NaN  Guys and Girls   \n",
       "3  111lbs. (50kg)  Guys and Girls   \n",
       "4  117lbs. (53kg)  Guys and Girls   \n",
       "\n",
       "                               Interests and hobbies       Joined  \\\n",
       "0                                         Boring AF.  2 years ago   \n",
       "1  I love to go to the gym, running, hiking, fuck...   1 year ago   \n",
       "2                                                NaN   1 year ago   \n",
       "3  Sport, snowboarding, movies, fashion, food, pl...  2 years ago   \n",
       "4  I love hiking, sucking dick, fucking and trave...  2 years ago   \n",
       "\n",
       "  Measurements Piercings  Pornstar Profile Views Profile Views  \\\n",
       "0     35-25-36       Yes                     NaN    59,460,751   \n",
       "1          NaN       NaN                     NaN    67,129,229   \n",
       "2     42-32-50       NaN                     NaN    50,243,658   \n",
       "3     34-24-36        No                     NaN    56,041,576   \n",
       "4     34-35-25        No                     NaN    44,344,938   \n",
       "\n",
       "  Relationship status  Star Sign Tattoos                           Turn Offs  \\\n",
       "0              Single        NaN      No         Dunno what can turn me off.   \n",
       "1               Taken        NaN     NaN                                 NaN   \n",
       "2               Taken        NaN     NaN                                 NaN   \n",
       "3               Taken        NaN     Yes                                 NaN   \n",
       "4               Taken        NaN      No  avaricious and hypocritical people   \n",
       "\n",
       "                                            Turn Ons  Video Views  \\\n",
       "0             When you watching me, fucking love it!  364,041,175   \n",
       "1  My biggest turn on is when I get my ass and pu...  510,938,330   \n",
       "2  Getting fucked in the ass Onlyfans.com/LustCry...  346,726,146   \n",
       "3                        blowjobs (love this action)  234,093,027   \n",
       "4          Men in suits , expensive cars , cute guys  357,380,610   \n",
       "\n",
       "  Videos Watched Hometown  \n",
       "0          1,057   Prague  \n",
       "1          1,422      NaN  \n",
       "2            560      NaN  \n",
       "3          1,059      NaN  \n",
       "4          3,391      NaN  "
      ]
     },
     "execution_count": 7,
     "metadata": {},
     "output_type": "execute_result"
    }
   ],
   "source": [
    "data.head()"
   ]
  },
  {
   "cell_type": "code",
   "execution_count": 8,
   "id": "a51abbe7",
   "metadata": {},
   "outputs": [
    {
     "data": {
      "text/html": [
       "<div>\n",
       "<style scoped>\n",
       "    .dataframe tbody tr th:only-of-type {\n",
       "        vertical-align: middle;\n",
       "    }\n",
       "\n",
       "    .dataframe tbody tr th {\n",
       "        vertical-align: top;\n",
       "    }\n",
       "\n",
       "    .dataframe thead th {\n",
       "        text-align: right;\n",
       "    }\n",
       "</style>\n",
       "<table border=\"1\" class=\"dataframe\">\n",
       "  <thead>\n",
       "    <tr style=\"text-align: right;\">\n",
       "      <th></th>\n",
       "      <th>Pornhub_rank</th>\n",
       "      <th>Model_rank</th>\n",
       "      <th>Public_videos</th>\n",
       "      <th>Paid_videos</th>\n",
       "      <th>Fan_club_material</th>\n",
       "      <th>Verified_pornstar</th>\n",
       "      <th>Verified_member</th>\n",
       "      <th>Premium_user</th>\n",
       "      <th>Pornhub_awards_winner</th>\n",
       "      <th>Age</th>\n",
       "      <th>Background</th>\n",
       "      <th>Born</th>\n",
       "      <th>Career Start and End</th>\n",
       "      <th>Career Status</th>\n",
       "      <th>Eye Color</th>\n",
       "      <th>Pornstar Profile Views</th>\n",
       "      <th>Star Sign</th>\n",
       "    </tr>\n",
       "  </thead>\n",
       "  <tbody>\n",
       "    <tr>\n",
       "      <th>count</th>\n",
       "      <td>81774.000000</td>\n",
       "      <td>81610.000000</td>\n",
       "      <td>79561.000000</td>\n",
       "      <td>28760.000000</td>\n",
       "      <td>17517.000000</td>\n",
       "      <td>81774.0</td>\n",
       "      <td>81774.0</td>\n",
       "      <td>81774.000000</td>\n",
       "      <td>81774.000000</td>\n",
       "      <td>80229.000000</td>\n",
       "      <td>0.0</td>\n",
       "      <td>0.0</td>\n",
       "      <td>0.0</td>\n",
       "      <td>0.0</td>\n",
       "      <td>0.0</td>\n",
       "      <td>0.0</td>\n",
       "      <td>0.0</td>\n",
       "    </tr>\n",
       "    <tr>\n",
       "      <th>mean</th>\n",
       "      <td>56429.579463</td>\n",
       "      <td>41934.357946</td>\n",
       "      <td>13.392353</td>\n",
       "      <td>7.841620</td>\n",
       "      <td>23.928355</td>\n",
       "      <td>0.0</td>\n",
       "      <td>1.0</td>\n",
       "      <td>0.032651</td>\n",
       "      <td>0.000024</td>\n",
       "      <td>27.804073</td>\n",
       "      <td>NaN</td>\n",
       "      <td>NaN</td>\n",
       "      <td>NaN</td>\n",
       "      <td>NaN</td>\n",
       "      <td>NaN</td>\n",
       "      <td>NaN</td>\n",
       "      <td>NaN</td>\n",
       "    </tr>\n",
       "    <tr>\n",
       "      <th>std</th>\n",
       "      <td>26974.421003</td>\n",
       "      <td>24732.503639</td>\n",
       "      <td>36.149875</td>\n",
       "      <td>35.140148</td>\n",
       "      <td>130.965379</td>\n",
       "      <td>0.0</td>\n",
       "      <td>0.0</td>\n",
       "      <td>0.177722</td>\n",
       "      <td>0.004945</td>\n",
       "      <td>26.484533</td>\n",
       "      <td>NaN</td>\n",
       "      <td>NaN</td>\n",
       "      <td>NaN</td>\n",
       "      <td>NaN</td>\n",
       "      <td>NaN</td>\n",
       "      <td>NaN</td>\n",
       "      <td>NaN</td>\n",
       "    </tr>\n",
       "    <tr>\n",
       "      <th>min</th>\n",
       "      <td>11.000000</td>\n",
       "      <td>1.000000</td>\n",
       "      <td>1.000000</td>\n",
       "      <td>1.000000</td>\n",
       "      <td>1.000000</td>\n",
       "      <td>0.0</td>\n",
       "      <td>1.0</td>\n",
       "      <td>0.000000</td>\n",
       "      <td>0.000000</td>\n",
       "      <td>18.000000</td>\n",
       "      <td>NaN</td>\n",
       "      <td>NaN</td>\n",
       "      <td>NaN</td>\n",
       "      <td>NaN</td>\n",
       "      <td>NaN</td>\n",
       "      <td>NaN</td>\n",
       "      <td>NaN</td>\n",
       "    </tr>\n",
       "    <tr>\n",
       "      <th>25%</th>\n",
       "      <td>34496.250000</td>\n",
       "      <td>20816.250000</td>\n",
       "      <td>3.000000</td>\n",
       "      <td>1.000000</td>\n",
       "      <td>2.000000</td>\n",
       "      <td>0.0</td>\n",
       "      <td>1.0</td>\n",
       "      <td>0.000000</td>\n",
       "      <td>0.000000</td>\n",
       "      <td>22.000000</td>\n",
       "      <td>NaN</td>\n",
       "      <td>NaN</td>\n",
       "      <td>NaN</td>\n",
       "      <td>NaN</td>\n",
       "      <td>NaN</td>\n",
       "      <td>NaN</td>\n",
       "      <td>NaN</td>\n",
       "    </tr>\n",
       "    <tr>\n",
       "      <th>50%</th>\n",
       "      <td>58344.500000</td>\n",
       "      <td>41406.500000</td>\n",
       "      <td>6.000000</td>\n",
       "      <td>2.000000</td>\n",
       "      <td>5.000000</td>\n",
       "      <td>0.0</td>\n",
       "      <td>1.0</td>\n",
       "      <td>0.000000</td>\n",
       "      <td>0.000000</td>\n",
       "      <td>26.000000</td>\n",
       "      <td>NaN</td>\n",
       "      <td>NaN</td>\n",
       "      <td>NaN</td>\n",
       "      <td>NaN</td>\n",
       "      <td>NaN</td>\n",
       "      <td>NaN</td>\n",
       "      <td>NaN</td>\n",
       "    </tr>\n",
       "    <tr>\n",
       "      <th>75%</th>\n",
       "      <td>79600.750000</td>\n",
       "      <td>62285.750000</td>\n",
       "      <td>13.000000</td>\n",
       "      <td>4.000000</td>\n",
       "      <td>15.000000</td>\n",
       "      <td>0.0</td>\n",
       "      <td>1.0</td>\n",
       "      <td>0.000000</td>\n",
       "      <td>0.000000</td>\n",
       "      <td>31.000000</td>\n",
       "      <td>NaN</td>\n",
       "      <td>NaN</td>\n",
       "      <td>NaN</td>\n",
       "      <td>NaN</td>\n",
       "      <td>NaN</td>\n",
       "      <td>NaN</td>\n",
       "      <td>NaN</td>\n",
       "    </tr>\n",
       "    <tr>\n",
       "      <th>max</th>\n",
       "      <td>100240.000000</td>\n",
       "      <td>134458.000000</td>\n",
       "      <td>2910.000000</td>\n",
       "      <td>2268.000000</td>\n",
       "      <td>7570.000000</td>\n",
       "      <td>0.0</td>\n",
       "      <td>1.0</td>\n",
       "      <td>1.000000</td>\n",
       "      <td>1.000000</td>\n",
       "      <td>2020.000000</td>\n",
       "      <td>NaN</td>\n",
       "      <td>NaN</td>\n",
       "      <td>NaN</td>\n",
       "      <td>NaN</td>\n",
       "      <td>NaN</td>\n",
       "      <td>NaN</td>\n",
       "      <td>NaN</td>\n",
       "    </tr>\n",
       "  </tbody>\n",
       "</table>\n",
       "</div>"
      ],
      "text/plain": [
       "        Pornhub_rank     Model_rank  Public_videos   Paid_videos  \\\n",
       "count   81774.000000   81610.000000   79561.000000  28760.000000   \n",
       "mean    56429.579463   41934.357946      13.392353      7.841620   \n",
       "std     26974.421003   24732.503639      36.149875     35.140148   \n",
       "min        11.000000       1.000000       1.000000      1.000000   \n",
       "25%     34496.250000   20816.250000       3.000000      1.000000   \n",
       "50%     58344.500000   41406.500000       6.000000      2.000000   \n",
       "75%     79600.750000   62285.750000      13.000000      4.000000   \n",
       "max    100240.000000  134458.000000    2910.000000   2268.000000   \n",
       "\n",
       "       Fan_club_material  Verified_pornstar  Verified_member  Premium_user  \\\n",
       "count       17517.000000            81774.0          81774.0  81774.000000   \n",
       "mean           23.928355                0.0              1.0      0.032651   \n",
       "std           130.965379                0.0              0.0      0.177722   \n",
       "min             1.000000                0.0              1.0      0.000000   \n",
       "25%             2.000000                0.0              1.0      0.000000   \n",
       "50%             5.000000                0.0              1.0      0.000000   \n",
       "75%            15.000000                0.0              1.0      0.000000   \n",
       "max          7570.000000                0.0              1.0      1.000000   \n",
       "\n",
       "       Pornhub_awards_winner           Age  Background  Born  \\\n",
       "count           81774.000000  80229.000000         0.0   0.0   \n",
       "mean                0.000024     27.804073         NaN   NaN   \n",
       "std                 0.004945     26.484533         NaN   NaN   \n",
       "min                 0.000000     18.000000         NaN   NaN   \n",
       "25%                 0.000000     22.000000         NaN   NaN   \n",
       "50%                 0.000000     26.000000         NaN   NaN   \n",
       "75%                 0.000000     31.000000         NaN   NaN   \n",
       "max                 1.000000   2020.000000         NaN   NaN   \n",
       "\n",
       "       Career Start and End  Career Status  Eye Color  Pornstar Profile Views  \\\n",
       "count                   0.0            0.0        0.0                     0.0   \n",
       "mean                    NaN            NaN        NaN                     NaN   \n",
       "std                     NaN            NaN        NaN                     NaN   \n",
       "min                     NaN            NaN        NaN                     NaN   \n",
       "25%                     NaN            NaN        NaN                     NaN   \n",
       "50%                     NaN            NaN        NaN                     NaN   \n",
       "75%                     NaN            NaN        NaN                     NaN   \n",
       "max                     NaN            NaN        NaN                     NaN   \n",
       "\n",
       "       Star Sign  \n",
       "count        0.0  \n",
       "mean         NaN  \n",
       "std          NaN  \n",
       "min          NaN  \n",
       "25%          NaN  \n",
       "50%          NaN  \n",
       "75%          NaN  \n",
       "max          NaN  "
      ]
     },
     "execution_count": 8,
     "metadata": {},
     "output_type": "execute_result"
    }
   ],
   "source": [
    "data.describe()"
   ]
  },
  {
   "cell_type": "code",
   "execution_count": 9,
   "id": "41fa4823",
   "metadata": {},
   "outputs": [
    {
     "name": "stdout",
     "output_type": "stream",
     "text": [
      "<class 'pandas.core.frame.DataFrame'>\n",
      "RangeIndex: 81774 entries, 0 to 81773\n",
      "Data columns (total 47 columns):\n",
      " #   Column                  Non-Null Count  Dtype  \n",
      "---  ------                  --------------  -----  \n",
      " 0   URL                     81774 non-null  object \n",
      " 1   Name                    81774 non-null  object \n",
      " 2   Bio                     58845 non-null  object \n",
      " 3   Subscribers             81774 non-null  object \n",
      " 4   Videos_views            81774 non-null  object \n",
      " 5   Pornhub_rank            81774 non-null  int64  \n",
      " 6   Model_rank              81610 non-null  float64\n",
      " 7   Public_videos           79561 non-null  float64\n",
      " 8   Paid_videos             28760 non-null  float64\n",
      " 9   Fan_club_material       17517 non-null  float64\n",
      " 10  Verified_pornstar       81774 non-null  int64  \n",
      " 11  Verified_member         81774 non-null  int64  \n",
      " 12  Premium_user            81774 non-null  int64  \n",
      " 13  Pornhub_awards_winner   81774 non-null  int64  \n",
      " 14  Age                     80229 non-null  float64\n",
      " 15  Background              0 non-null      float64\n",
      " 16  Birthday                80209 non-null  object \n",
      " 17  Birthplace              26683 non-null  object \n",
      " 18  Born                    0 non-null      float64\n",
      " 19  Career Start and End    0 non-null      float64\n",
      " 20  Career Status           0 non-null      float64\n",
      " 21  City and Country        56467 non-null  object \n",
      " 22  Endowment               6516 non-null   object \n",
      " 23  Ethnicity               32426 non-null  object \n",
      " 24  Eye Color               0 non-null      float64\n",
      " 25  Facial Hair             6991 non-null   object \n",
      " 26  Fake Boobs              19612 non-null  object \n",
      " 27  Foreskin                7064 non-null   object \n",
      " 28  Gender                  81771 non-null  object \n",
      " 29  Hair Color              28856 non-null  object \n",
      " 30  Height                  28125 non-null  object \n",
      " 31  Weight                  22984 non-null  object \n",
      " 32  Interested in           76655 non-null  object \n",
      " 33  Interests and hobbies   27852 non-null  object \n",
      " 34  Joined                  81774 non-null  object \n",
      " 35  Measurements            7913 non-null   object \n",
      " 36  Piercings               27064 non-null  object \n",
      " 37  Pornstar Profile Views  0 non-null      float64\n",
      " 38  Profile Views           81774 non-null  object \n",
      " 39  Relationship status     81168 non-null  object \n",
      " 40  Star Sign               0 non-null      float64\n",
      " 41  Tattoos                 28806 non-null  object \n",
      " 42  Turn Offs               21765 non-null  object \n",
      " 43  Turn Ons                30725 non-null  object \n",
      " 44  Video Views             81551 non-null  object \n",
      " 45  Videos Watched          81145 non-null  object \n",
      " 46  Hometown                14848 non-null  object \n",
      "dtypes: float64(12), int64(5), object(30)\n",
      "memory usage: 29.3+ MB\n"
     ]
    }
   ],
   "source": [
    "data.info()"
   ]
  },
  {
   "cell_type": "markdown",
   "id": "a8bb0233",
   "metadata": {},
   "source": [
    "### Подготовка датасета (удаление NaN)"
   ]
  },
  {
   "cell_type": "code",
   "execution_count": 10,
   "id": "c23b4af2",
   "metadata": {},
   "outputs": [],
   "source": [
    "def first_value_less(na_stats_sorted, num):\n",
    "    return [i for i, e in enumerate(list(na_stats_sorted.values)) if e <= num][0]\n",
    "\n",
    "def find_persentage_of_nan(data):\n",
    "    na_info = data.isnull()\n",
    "    sum_na_info = na_info.sum()\n",
    "    na_stats = sum_na_info / data.shape[0] * 100\n",
    "    na_stats_sorted = na_stats.sort_values(ascending=False)\n",
    "    return na_stats_sorted"
   ]
  },
  {
   "cell_type": "code",
   "execution_count": 11,
   "id": "af3fbb43",
   "metadata": {},
   "outputs": [
    {
     "data": {
      "text/plain": [
       "Eye Color                 100.000000\n",
       "Career Status             100.000000\n",
       "Career Start and End      100.000000\n",
       "Star Sign                 100.000000\n",
       "Pornstar Profile Views    100.000000\n",
       "Born                      100.000000\n",
       "Background                100.000000\n",
       "Endowment                  92.031697\n",
       "Facial Hair                91.450828\n",
       "Foreskin                   91.361557\n",
       "Measurements               90.323330\n",
       "Hometown                   81.842639\n",
       "Fan_club_material          78.578766\n",
       "Fake Boobs                 76.016827\n",
       "Turn Offs                  73.383961\n",
       "Weight                     71.893267\n",
       "Birthplace                 67.369824\n",
       "Piercings                  66.903906\n",
       "Interests and hobbies      65.940274\n",
       "Height                     65.606427\n",
       "Paid_videos                64.829897\n",
       "Tattoos                    64.773644\n",
       "Hair Color                 64.712500\n",
       "Turn Ons                   62.426933\n",
       "Ethnicity                  60.346809\n",
       "City and Country           30.947489\n",
       "Bio                        28.039475\n",
       "Interested in               6.259936\n",
       "Public_videos               2.706239\n",
       "Birthday                    1.913811\n",
       "Age                         1.889354\n",
       "Videos Watched              0.769193\n",
       "Relationship status         0.741067\n",
       "Video Views                 0.272703\n",
       "Model_rank                  0.200553\n",
       "Gender                      0.003669\n",
       "Subscribers                 0.000000\n",
       "Videos_views                0.000000\n",
       "Pornhub_rank                0.000000\n",
       "Name                        0.000000\n",
       "Profile Views               0.000000\n",
       "Verified_pornstar           0.000000\n",
       "Joined                      0.000000\n",
       "Verified_member             0.000000\n",
       "Premium_user                0.000000\n",
       "Pornhub_awards_winner       0.000000\n",
       "URL                         0.000000\n",
       "dtype: float64"
      ]
     },
     "execution_count": 11,
     "metadata": {},
     "output_type": "execute_result"
    }
   ],
   "source": [
    "# находим кол-во nan значений в даттасете в процентах\n",
    "na_stats_sorted = find_persentage_of_nan(data)\n",
    "na_stats_sorted"
   ]
  },
  {
   "cell_type": "code",
   "execution_count": 12,
   "id": "cfc471c4",
   "metadata": {},
   "outputs": [
    {
     "name": "stdout",
     "output_type": "stream",
     "text": [
      "Columns for drop:\n",
      "['Eye Color', 'Career Status', 'Career Start and End', 'Star Sign', 'Pornstar Profile Views', 'Born', 'Background', 'Endowment', 'Facial Hair', 'Foreskin', 'Measurements', 'Hometown', 'Fan_club_material', 'Fake Boobs', 'Turn Offs', 'Weight', 'Birthplace', 'Piercings', 'Interests and hobbies', 'Height', 'Paid_videos', 'Tattoos', 'Hair Color', 'Turn Ons', 'Ethnicity', 'City and Country', 'Bio']\n"
     ]
    }
   ],
   "source": [
    "# удаляем столбцы, в которых пропущенных значений больше 25%\n",
    "persentage = 25\n",
    "columns_for_drop = list(na_stats_sorted.index)[:first_value_less(na_stats_sorted, persentage)]\n",
    "print(\"Columns for drop:\")\n",
    "print(columns_for_drop)\n",
    "\n",
    "data_pre = data.drop(columns_for_drop, axis = 1)"
   ]
  },
  {
   "cell_type": "code",
   "execution_count": 13,
   "id": "0e83c2fb",
   "metadata": {},
   "outputs": [
    {
     "data": {
      "text/plain": [
       "Interested in            6.259936\n",
       "Public_videos            2.706239\n",
       "Birthday                 1.913811\n",
       "Age                      1.889354\n",
       "Videos Watched           0.769193\n",
       "Relationship status      0.741067\n",
       "Video Views              0.272703\n",
       "Model_rank               0.200553\n",
       "Gender                   0.003669\n",
       "Profile Views            0.000000\n",
       "Joined                   0.000000\n",
       "URL                      0.000000\n",
       "Name                     0.000000\n",
       "Premium_user             0.000000\n",
       "Verified_member          0.000000\n",
       "Verified_pornstar        0.000000\n",
       "Pornhub_rank             0.000000\n",
       "Videos_views             0.000000\n",
       "Subscribers              0.000000\n",
       "Pornhub_awards_winner    0.000000\n",
       "dtype: float64"
      ]
     },
     "execution_count": 13,
     "metadata": {},
     "output_type": "execute_result"
    }
   ],
   "source": [
    "# снова выводим проценты\n",
    "na_stats_sorted = find_persentage_of_nan(data_pre)\n",
    "na_stats_sorted"
   ]
  },
  {
   "cell_type": "code",
   "execution_count": 14,
   "id": "19a07af9",
   "metadata": {},
   "outputs": [
    {
     "name": "stdout",
     "output_type": "stream",
     "text": [
      "Columns for dropna:\n",
      "['Interested in', 'Public_videos', 'Birthday', 'Age', 'Videos Watched', 'Relationship status', 'Video Views', 'Model_rank', 'Gender']\n"
     ]
    }
   ],
   "source": [
    "# теперь удаляем строчки, в которых есть пропущенные значения\n",
    "persentage = 0\n",
    "columns_for_dropna = list(na_stats_sorted.index)[:first_value_less(na_stats_sorted, persentage)]\n",
    "print(\"Columns for dropna:\")\n",
    "print(columns_for_dropna)\n",
    "\n",
    "data_pre = data_pre.dropna(subset=columns_for_dropna)"
   ]
  },
  {
   "cell_type": "code",
   "execution_count": 15,
   "id": "843e6c22",
   "metadata": {},
   "outputs": [],
   "source": [
    "# удаляем столбец \"URL\" так как он не несет за собой смысловой значимости\n",
    "data_pre = data_pre.drop([\"URL\"], axis=1)"
   ]
  },
  {
   "cell_type": "code",
   "execution_count": 16,
   "id": "a737d23c",
   "metadata": {},
   "outputs": [
    {
     "data": {
      "text/plain": [
       "Name                     0.0\n",
       "Age                      0.0\n",
       "Video Views              0.0\n",
       "Relationship status      0.0\n",
       "Profile Views            0.0\n",
       "Joined                   0.0\n",
       "Interested in            0.0\n",
       "Gender                   0.0\n",
       "Birthday                 0.0\n",
       "Pornhub_awards_winner    0.0\n",
       "Subscribers              0.0\n",
       "Premium_user             0.0\n",
       "Verified_member          0.0\n",
       "Verified_pornstar        0.0\n",
       "Public_videos            0.0\n",
       "Model_rank               0.0\n",
       "Pornhub_rank             0.0\n",
       "Videos_views             0.0\n",
       "Videos Watched           0.0\n",
       "dtype: float64"
      ]
     },
     "execution_count": 16,
     "metadata": {},
     "output_type": "execute_result"
    }
   ],
   "source": [
    "# делаем последний поиск nan значений\n",
    "find_persentage_of_nan(data_pre)"
   ]
  },
  {
   "cell_type": "code",
   "execution_count": 17,
   "id": "27ac7edf",
   "metadata": {},
   "outputs": [],
   "source": [
    "data_pre_copy = data_pre.copy()"
   ]
  },
  {
   "cell_type": "markdown",
   "id": "70335a4f",
   "metadata": {},
   "source": [
    "### Производим препроцессинг"
   ]
  },
  {
   "cell_type": "code",
   "execution_count": 18,
   "id": "49d89f3f",
   "metadata": {},
   "outputs": [],
   "source": [
    "from sklearn import preprocessing"
   ]
  },
  {
   "cell_type": "code",
   "execution_count": null,
   "id": "307b0c3e-31da-469c-8aeb-fc0673d19119",
   "metadata": {},
   "outputs": [],
   "source": []
  },
  {
   "cell_type": "code",
   "execution_count": null,
   "id": "7f867e7a-94d1-492a-98b3-43b1018b01f3",
   "metadata": {},
   "outputs": [],
   "source": []
  },
  {
   "cell_type": "code",
   "execution_count": 19,
   "id": "776f6046-1c23-46d8-8465-f6a911f67464",
   "metadata": {},
   "outputs": [],
   "source": [
    "encoders = {}\n",
    "for c in data_pre.columns:\n",
    "    encoder = preprocessing.LabelEncoder()\n",
    "    encoder.fit(data_pre[c])\n",
    "    data_pre[c] = encoder.transform(data_pre[c])\n",
    "    encoders[c] = encoder\n",
    "    "
   ]
  },
  {
   "cell_type": "code",
   "execution_count": null,
   "id": "533fccd5-d47e-4e50-addb-f70606431765",
   "metadata": {},
   "outputs": [],
   "source": []
  },
  {
   "cell_type": "markdown",
   "id": "56baf405",
   "metadata": {},
   "source": [
    "### Рисуем графики"
   ]
  },
  {
   "cell_type": "code",
   "execution_count": 20,
   "id": "b943e927",
   "metadata": {},
   "outputs": [],
   "source": [
    "import pandas_profiling"
   ]
  },
  {
   "cell_type": "code",
   "execution_count": 21,
   "id": "d68d61f8",
   "metadata": {},
   "outputs": [],
   "source": [
    "import seaborn as sns"
   ]
  },
  {
   "cell_type": "code",
   "execution_count": null,
   "id": "43101339",
   "metadata": {},
   "outputs": [],
   "source": []
  },
  {
   "cell_type": "code",
   "execution_count": null,
   "id": "d957521b",
   "metadata": {},
   "outputs": [],
   "source": []
  },
  {
   "cell_type": "code",
   "execution_count": 22,
   "id": "07efd544",
   "metadata": {},
   "outputs": [
    {
     "data": {
      "text/plain": [
       "<AxesSubplot:>"
      ]
     },
     "execution_count": 22,
     "metadata": {},
     "output_type": "execute_result"
    }
   ],
   "source": [
    "fig, ax = plt.subplots(figsize=(15,15))\n",
    "sns.heatmap(data_pre.corr(), fmt=\"f\", vmin=-1, vmax=1, ax=ax)"
   ]
  },
  {
   "cell_type": "code",
   "execution_count": null,
   "id": "05eeed97",
   "metadata": {},
   "outputs": [],
   "source": []
  },
  {
   "cell_type": "code",
   "execution_count": 23,
   "id": "a1505d3a",
   "metadata": {},
   "outputs": [
    {
     "data": {
      "text/html": [
       "<div>\n",
       "<style scoped>\n",
       "    .dataframe tbody tr th:only-of-type {\n",
       "        vertical-align: middle;\n",
       "    }\n",
       "\n",
       "    .dataframe tbody tr th {\n",
       "        vertical-align: top;\n",
       "    }\n",
       "\n",
       "    .dataframe thead th {\n",
       "        text-align: right;\n",
       "    }\n",
       "</style>\n",
       "<table border=\"1\" class=\"dataframe\">\n",
       "  <thead>\n",
       "    <tr style=\"text-align: right;\">\n",
       "      <th></th>\n",
       "      <th>Name</th>\n",
       "      <th>Subscribers</th>\n",
       "      <th>Videos_views</th>\n",
       "      <th>Pornhub_rank</th>\n",
       "      <th>Model_rank</th>\n",
       "      <th>Public_videos</th>\n",
       "      <th>Verified_pornstar</th>\n",
       "      <th>Verified_member</th>\n",
       "      <th>Premium_user</th>\n",
       "      <th>Pornhub_awards_winner</th>\n",
       "      <th>Age</th>\n",
       "      <th>Birthday</th>\n",
       "      <th>Gender</th>\n",
       "      <th>Interested in</th>\n",
       "      <th>Joined</th>\n",
       "      <th>Profile Views</th>\n",
       "      <th>Relationship status</th>\n",
       "      <th>Video Views</th>\n",
       "      <th>Videos Watched</th>\n",
       "    </tr>\n",
       "  </thead>\n",
       "  <tbody>\n",
       "    <tr>\n",
       "      <th>Name</th>\n",
       "      <td>1.000000</td>\n",
       "      <td>0.000387</td>\n",
       "      <td>0.004373</td>\n",
       "      <td>0.075488</td>\n",
       "      <td>0.073779</td>\n",
       "      <td>-0.004221</td>\n",
       "      <td>NaN</td>\n",
       "      <td>NaN</td>\n",
       "      <td>-0.012272</td>\n",
       "      <td>-0.003627</td>\n",
       "      <td>0.016945</td>\n",
       "      <td>-0.004122</td>\n",
       "      <td>-0.003181</td>\n",
       "      <td>-0.014771</td>\n",
       "      <td>0.027371</td>\n",
       "      <td>-0.007033</td>\n",
       "      <td>0.007687</td>\n",
       "      <td>0.004373</td>\n",
       "      <td>-0.004905</td>\n",
       "    </tr>\n",
       "    <tr>\n",
       "      <th>Subscribers</th>\n",
       "      <td>0.000387</td>\n",
       "      <td>1.000000</td>\n",
       "      <td>-0.001540</td>\n",
       "      <td>0.002370</td>\n",
       "      <td>0.003129</td>\n",
       "      <td>-0.006393</td>\n",
       "      <td>NaN</td>\n",
       "      <td>NaN</td>\n",
       "      <td>0.001039</td>\n",
       "      <td>0.000819</td>\n",
       "      <td>-0.002183</td>\n",
       "      <td>0.002300</td>\n",
       "      <td>-0.000910</td>\n",
       "      <td>0.003039</td>\n",
       "      <td>-0.002127</td>\n",
       "      <td>0.032750</td>\n",
       "      <td>-0.002647</td>\n",
       "      <td>-0.001540</td>\n",
       "      <td>0.000855</td>\n",
       "    </tr>\n",
       "    <tr>\n",
       "      <th>Videos_views</th>\n",
       "      <td>0.004373</td>\n",
       "      <td>-0.001540</td>\n",
       "      <td>1.000000</td>\n",
       "      <td>-0.016000</td>\n",
       "      <td>-0.016177</td>\n",
       "      <td>0.001795</td>\n",
       "      <td>NaN</td>\n",
       "      <td>NaN</td>\n",
       "      <td>-0.001428</td>\n",
       "      <td>-0.000557</td>\n",
       "      <td>0.009822</td>\n",
       "      <td>-0.000695</td>\n",
       "      <td>0.008960</td>\n",
       "      <td>-0.008392</td>\n",
       "      <td>0.001848</td>\n",
       "      <td>0.020267</td>\n",
       "      <td>-0.004213</td>\n",
       "      <td>1.000000</td>\n",
       "      <td>-0.010864</td>\n",
       "    </tr>\n",
       "    <tr>\n",
       "      <th>Pornhub_rank</th>\n",
       "      <td>0.075488</td>\n",
       "      <td>0.002370</td>\n",
       "      <td>-0.016000</td>\n",
       "      <td>1.000000</td>\n",
       "      <td>0.981611</td>\n",
       "      <td>-0.344025</td>\n",
       "      <td>NaN</td>\n",
       "      <td>NaN</td>\n",
       "      <td>-0.035853</td>\n",
       "      <td>-0.009066</td>\n",
       "      <td>0.010829</td>\n",
       "      <td>0.003374</td>\n",
       "      <td>0.129758</td>\n",
       "      <td>-0.130988</td>\n",
       "      <td>-0.002019</td>\n",
       "      <td>-0.058220</td>\n",
       "      <td>0.000113</td>\n",
       "      <td>-0.016000</td>\n",
       "      <td>-0.010112</td>\n",
       "    </tr>\n",
       "    <tr>\n",
       "      <th>Model_rank</th>\n",
       "      <td>0.073779</td>\n",
       "      <td>0.003129</td>\n",
       "      <td>-0.016177</td>\n",
       "      <td>0.981611</td>\n",
       "      <td>1.000000</td>\n",
       "      <td>-0.346085</td>\n",
       "      <td>NaN</td>\n",
       "      <td>NaN</td>\n",
       "      <td>-0.036026</td>\n",
       "      <td>-0.009026</td>\n",
       "      <td>0.009198</td>\n",
       "      <td>0.003012</td>\n",
       "      <td>0.128241</td>\n",
       "      <td>-0.128163</td>\n",
       "      <td>-0.003227</td>\n",
       "      <td>-0.059732</td>\n",
       "      <td>0.002649</td>\n",
       "      <td>-0.016177</td>\n",
       "      <td>-0.011300</td>\n",
       "    </tr>\n",
       "    <tr>\n",
       "      <th>Public_videos</th>\n",
       "      <td>-0.004221</td>\n",
       "      <td>-0.006393</td>\n",
       "      <td>0.001795</td>\n",
       "      <td>-0.344025</td>\n",
       "      <td>-0.346085</td>\n",
       "      <td>1.000000</td>\n",
       "      <td>NaN</td>\n",
       "      <td>NaN</td>\n",
       "      <td>0.054832</td>\n",
       "      <td>0.011962</td>\n",
       "      <td>0.125553</td>\n",
       "      <td>-0.007104</td>\n",
       "      <td>-0.012580</td>\n",
       "      <td>0.010956</td>\n",
       "      <td>0.028500</td>\n",
       "      <td>0.030359</td>\n",
       "      <td>-0.004410</td>\n",
       "      <td>0.001795</td>\n",
       "      <td>0.003091</td>\n",
       "    </tr>\n",
       "    <tr>\n",
       "      <th>Verified_pornstar</th>\n",
       "      <td>NaN</td>\n",
       "      <td>NaN</td>\n",
       "      <td>NaN</td>\n",
       "      <td>NaN</td>\n",
       "      <td>NaN</td>\n",
       "      <td>NaN</td>\n",
       "      <td>NaN</td>\n",
       "      <td>NaN</td>\n",
       "      <td>NaN</td>\n",
       "      <td>NaN</td>\n",
       "      <td>NaN</td>\n",
       "      <td>NaN</td>\n",
       "      <td>NaN</td>\n",
       "      <td>NaN</td>\n",
       "      <td>NaN</td>\n",
       "      <td>NaN</td>\n",
       "      <td>NaN</td>\n",
       "      <td>NaN</td>\n",
       "      <td>NaN</td>\n",
       "    </tr>\n",
       "    <tr>\n",
       "      <th>Verified_member</th>\n",
       "      <td>NaN</td>\n",
       "      <td>NaN</td>\n",
       "      <td>NaN</td>\n",
       "      <td>NaN</td>\n",
       "      <td>NaN</td>\n",
       "      <td>NaN</td>\n",
       "      <td>NaN</td>\n",
       "      <td>NaN</td>\n",
       "      <td>NaN</td>\n",
       "      <td>NaN</td>\n",
       "      <td>NaN</td>\n",
       "      <td>NaN</td>\n",
       "      <td>NaN</td>\n",
       "      <td>NaN</td>\n",
       "      <td>NaN</td>\n",
       "      <td>NaN</td>\n",
       "      <td>NaN</td>\n",
       "      <td>NaN</td>\n",
       "      <td>NaN</td>\n",
       "    </tr>\n",
       "    <tr>\n",
       "      <th>Premium_user</th>\n",
       "      <td>-0.012272</td>\n",
       "      <td>0.001039</td>\n",
       "      <td>-0.001428</td>\n",
       "      <td>-0.035853</td>\n",
       "      <td>-0.036026</td>\n",
       "      <td>0.054832</td>\n",
       "      <td>NaN</td>\n",
       "      <td>NaN</td>\n",
       "      <td>1.000000</td>\n",
       "      <td>0.013469</td>\n",
       "      <td>0.075071</td>\n",
       "      <td>-0.002286</td>\n",
       "      <td>0.019916</td>\n",
       "      <td>-0.035678</td>\n",
       "      <td>0.032833</td>\n",
       "      <td>-0.004701</td>\n",
       "      <td>-0.000443</td>\n",
       "      <td>-0.001428</td>\n",
       "      <td>-0.010237</td>\n",
       "    </tr>\n",
       "    <tr>\n",
       "      <th>Pornhub_awards_winner</th>\n",
       "      <td>-0.003627</td>\n",
       "      <td>0.000819</td>\n",
       "      <td>-0.000557</td>\n",
       "      <td>-0.009066</td>\n",
       "      <td>-0.009026</td>\n",
       "      <td>0.011962</td>\n",
       "      <td>NaN</td>\n",
       "      <td>NaN</td>\n",
       "      <td>0.013469</td>\n",
       "      <td>1.000000</td>\n",
       "      <td>-0.004236</td>\n",
       "      <td>0.007208</td>\n",
       "      <td>-0.003894</td>\n",
       "      <td>-0.001788</td>\n",
       "      <td>-0.002612</td>\n",
       "      <td>-0.001050</td>\n",
       "      <td>0.002612</td>\n",
       "      <td>-0.000557</td>\n",
       "      <td>-0.009070</td>\n",
       "    </tr>\n",
       "    <tr>\n",
       "      <th>Age</th>\n",
       "      <td>0.016945</td>\n",
       "      <td>-0.002183</td>\n",
       "      <td>0.009822</td>\n",
       "      <td>0.010829</td>\n",
       "      <td>0.009198</td>\n",
       "      <td>0.125553</td>\n",
       "      <td>NaN</td>\n",
       "      <td>NaN</td>\n",
       "      <td>0.075071</td>\n",
       "      <td>-0.004236</td>\n",
       "      <td>1.000000</td>\n",
       "      <td>0.006185</td>\n",
       "      <td>0.075094</td>\n",
       "      <td>-0.085347</td>\n",
       "      <td>0.050117</td>\n",
       "      <td>0.006968</td>\n",
       "      <td>-0.031159</td>\n",
       "      <td>0.009822</td>\n",
       "      <td>0.000240</td>\n",
       "    </tr>\n",
       "    <tr>\n",
       "      <th>Birthday</th>\n",
       "      <td>-0.004122</td>\n",
       "      <td>0.002300</td>\n",
       "      <td>-0.000695</td>\n",
       "      <td>0.003374</td>\n",
       "      <td>0.003012</td>\n",
       "      <td>-0.007104</td>\n",
       "      <td>NaN</td>\n",
       "      <td>NaN</td>\n",
       "      <td>-0.002286</td>\n",
       "      <td>0.007208</td>\n",
       "      <td>0.006185</td>\n",
       "      <td>1.000000</td>\n",
       "      <td>0.002412</td>\n",
       "      <td>-0.001012</td>\n",
       "      <td>0.002063</td>\n",
       "      <td>-0.004063</td>\n",
       "      <td>-0.007751</td>\n",
       "      <td>-0.000695</td>\n",
       "      <td>0.001149</td>\n",
       "    </tr>\n",
       "    <tr>\n",
       "      <th>Gender</th>\n",
       "      <td>-0.003181</td>\n",
       "      <td>-0.000910</td>\n",
       "      <td>0.008960</td>\n",
       "      <td>0.129758</td>\n",
       "      <td>0.128241</td>\n",
       "      <td>-0.012580</td>\n",
       "      <td>NaN</td>\n",
       "      <td>NaN</td>\n",
       "      <td>0.019916</td>\n",
       "      <td>-0.003894</td>\n",
       "      <td>0.075094</td>\n",
       "      <td>0.002412</td>\n",
       "      <td>1.000000</td>\n",
       "      <td>-0.351604</td>\n",
       "      <td>0.024365</td>\n",
       "      <td>0.007392</td>\n",
       "      <td>-0.165201</td>\n",
       "      <td>0.008960</td>\n",
       "      <td>-0.006548</td>\n",
       "    </tr>\n",
       "    <tr>\n",
       "      <th>Interested in</th>\n",
       "      <td>-0.014771</td>\n",
       "      <td>0.003039</td>\n",
       "      <td>-0.008392</td>\n",
       "      <td>-0.130988</td>\n",
       "      <td>-0.128163</td>\n",
       "      <td>0.010956</td>\n",
       "      <td>NaN</td>\n",
       "      <td>NaN</td>\n",
       "      <td>-0.035678</td>\n",
       "      <td>-0.001788</td>\n",
       "      <td>-0.085347</td>\n",
       "      <td>-0.001012</td>\n",
       "      <td>-0.351604</td>\n",
       "      <td>1.000000</td>\n",
       "      <td>-0.022998</td>\n",
       "      <td>-0.004363</td>\n",
       "      <td>-0.017492</td>\n",
       "      <td>-0.008392</td>\n",
       "      <td>0.008539</td>\n",
       "    </tr>\n",
       "    <tr>\n",
       "      <th>Joined</th>\n",
       "      <td>0.027371</td>\n",
       "      <td>-0.002127</td>\n",
       "      <td>0.001848</td>\n",
       "      <td>-0.002019</td>\n",
       "      <td>-0.003227</td>\n",
       "      <td>0.028500</td>\n",
       "      <td>NaN</td>\n",
       "      <td>NaN</td>\n",
       "      <td>0.032833</td>\n",
       "      <td>-0.002612</td>\n",
       "      <td>0.050117</td>\n",
       "      <td>0.002063</td>\n",
       "      <td>0.024365</td>\n",
       "      <td>-0.022998</td>\n",
       "      <td>1.000000</td>\n",
       "      <td>-0.006248</td>\n",
       "      <td>-0.017552</td>\n",
       "      <td>0.001848</td>\n",
       "      <td>-0.008258</td>\n",
       "    </tr>\n",
       "    <tr>\n",
       "      <th>Profile Views</th>\n",
       "      <td>-0.007033</td>\n",
       "      <td>0.032750</td>\n",
       "      <td>0.020267</td>\n",
       "      <td>-0.058220</td>\n",
       "      <td>-0.059732</td>\n",
       "      <td>0.030359</td>\n",
       "      <td>NaN</td>\n",
       "      <td>NaN</td>\n",
       "      <td>-0.004701</td>\n",
       "      <td>-0.001050</td>\n",
       "      <td>0.006968</td>\n",
       "      <td>-0.004063</td>\n",
       "      <td>0.007392</td>\n",
       "      <td>-0.004363</td>\n",
       "      <td>-0.006248</td>\n",
       "      <td>1.000000</td>\n",
       "      <td>0.000952</td>\n",
       "      <td>0.020267</td>\n",
       "      <td>0.003699</td>\n",
       "    </tr>\n",
       "    <tr>\n",
       "      <th>Relationship status</th>\n",
       "      <td>0.007687</td>\n",
       "      <td>-0.002647</td>\n",
       "      <td>-0.004213</td>\n",
       "      <td>0.000113</td>\n",
       "      <td>0.002649</td>\n",
       "      <td>-0.004410</td>\n",
       "      <td>NaN</td>\n",
       "      <td>NaN</td>\n",
       "      <td>-0.000443</td>\n",
       "      <td>0.002612</td>\n",
       "      <td>-0.031159</td>\n",
       "      <td>-0.007751</td>\n",
       "      <td>-0.165201</td>\n",
       "      <td>-0.017492</td>\n",
       "      <td>-0.017552</td>\n",
       "      <td>0.000952</td>\n",
       "      <td>1.000000</td>\n",
       "      <td>-0.004213</td>\n",
       "      <td>0.007718</td>\n",
       "    </tr>\n",
       "    <tr>\n",
       "      <th>Video Views</th>\n",
       "      <td>0.004373</td>\n",
       "      <td>-0.001540</td>\n",
       "      <td>1.000000</td>\n",
       "      <td>-0.016000</td>\n",
       "      <td>-0.016177</td>\n",
       "      <td>0.001795</td>\n",
       "      <td>NaN</td>\n",
       "      <td>NaN</td>\n",
       "      <td>-0.001428</td>\n",
       "      <td>-0.000557</td>\n",
       "      <td>0.009822</td>\n",
       "      <td>-0.000695</td>\n",
       "      <td>0.008960</td>\n",
       "      <td>-0.008392</td>\n",
       "      <td>0.001848</td>\n",
       "      <td>0.020267</td>\n",
       "      <td>-0.004213</td>\n",
       "      <td>1.000000</td>\n",
       "      <td>-0.010864</td>\n",
       "    </tr>\n",
       "    <tr>\n",
       "      <th>Videos Watched</th>\n",
       "      <td>-0.004905</td>\n",
       "      <td>0.000855</td>\n",
       "      <td>-0.010864</td>\n",
       "      <td>-0.010112</td>\n",
       "      <td>-0.011300</td>\n",
       "      <td>0.003091</td>\n",
       "      <td>NaN</td>\n",
       "      <td>NaN</td>\n",
       "      <td>-0.010237</td>\n",
       "      <td>-0.009070</td>\n",
       "      <td>0.000240</td>\n",
       "      <td>0.001149</td>\n",
       "      <td>-0.006548</td>\n",
       "      <td>0.008539</td>\n",
       "      <td>-0.008258</td>\n",
       "      <td>0.003699</td>\n",
       "      <td>0.007718</td>\n",
       "      <td>-0.010864</td>\n",
       "      <td>1.000000</td>\n",
       "    </tr>\n",
       "  </tbody>\n",
       "</table>\n",
       "</div>"
      ],
      "text/plain": [
       "                           Name  Subscribers  Videos_views  Pornhub_rank  \\\n",
       "Name                   1.000000     0.000387      0.004373      0.075488   \n",
       "Subscribers            0.000387     1.000000     -0.001540      0.002370   \n",
       "Videos_views           0.004373    -0.001540      1.000000     -0.016000   \n",
       "Pornhub_rank           0.075488     0.002370     -0.016000      1.000000   \n",
       "Model_rank             0.073779     0.003129     -0.016177      0.981611   \n",
       "Public_videos         -0.004221    -0.006393      0.001795     -0.344025   \n",
       "Verified_pornstar           NaN          NaN           NaN           NaN   \n",
       "Verified_member             NaN          NaN           NaN           NaN   \n",
       "Premium_user          -0.012272     0.001039     -0.001428     -0.035853   \n",
       "Pornhub_awards_winner -0.003627     0.000819     -0.000557     -0.009066   \n",
       "Age                    0.016945    -0.002183      0.009822      0.010829   \n",
       "Birthday              -0.004122     0.002300     -0.000695      0.003374   \n",
       "Gender                -0.003181    -0.000910      0.008960      0.129758   \n",
       "Interested in         -0.014771     0.003039     -0.008392     -0.130988   \n",
       "Joined                 0.027371    -0.002127      0.001848     -0.002019   \n",
       "Profile Views         -0.007033     0.032750      0.020267     -0.058220   \n",
       "Relationship status    0.007687    -0.002647     -0.004213      0.000113   \n",
       "Video Views            0.004373    -0.001540      1.000000     -0.016000   \n",
       "Videos Watched        -0.004905     0.000855     -0.010864     -0.010112   \n",
       "\n",
       "                       Model_rank  Public_videos  Verified_pornstar  \\\n",
       "Name                     0.073779      -0.004221                NaN   \n",
       "Subscribers              0.003129      -0.006393                NaN   \n",
       "Videos_views            -0.016177       0.001795                NaN   \n",
       "Pornhub_rank             0.981611      -0.344025                NaN   \n",
       "Model_rank               1.000000      -0.346085                NaN   \n",
       "Public_videos           -0.346085       1.000000                NaN   \n",
       "Verified_pornstar             NaN            NaN                NaN   \n",
       "Verified_member               NaN            NaN                NaN   \n",
       "Premium_user            -0.036026       0.054832                NaN   \n",
       "Pornhub_awards_winner   -0.009026       0.011962                NaN   \n",
       "Age                      0.009198       0.125553                NaN   \n",
       "Birthday                 0.003012      -0.007104                NaN   \n",
       "Gender                   0.128241      -0.012580                NaN   \n",
       "Interested in           -0.128163       0.010956                NaN   \n",
       "Joined                  -0.003227       0.028500                NaN   \n",
       "Profile Views           -0.059732       0.030359                NaN   \n",
       "Relationship status      0.002649      -0.004410                NaN   \n",
       "Video Views             -0.016177       0.001795                NaN   \n",
       "Videos Watched          -0.011300       0.003091                NaN   \n",
       "\n",
       "                       Verified_member  Premium_user  Pornhub_awards_winner  \\\n",
       "Name                               NaN     -0.012272              -0.003627   \n",
       "Subscribers                        NaN      0.001039               0.000819   \n",
       "Videos_views                       NaN     -0.001428              -0.000557   \n",
       "Pornhub_rank                       NaN     -0.035853              -0.009066   \n",
       "Model_rank                         NaN     -0.036026              -0.009026   \n",
       "Public_videos                      NaN      0.054832               0.011962   \n",
       "Verified_pornstar                  NaN           NaN                    NaN   \n",
       "Verified_member                    NaN           NaN                    NaN   \n",
       "Premium_user                       NaN      1.000000               0.013469   \n",
       "Pornhub_awards_winner              NaN      0.013469               1.000000   \n",
       "Age                                NaN      0.075071              -0.004236   \n",
       "Birthday                           NaN     -0.002286               0.007208   \n",
       "Gender                             NaN      0.019916              -0.003894   \n",
       "Interested in                      NaN     -0.035678              -0.001788   \n",
       "Joined                             NaN      0.032833              -0.002612   \n",
       "Profile Views                      NaN     -0.004701              -0.001050   \n",
       "Relationship status                NaN     -0.000443               0.002612   \n",
       "Video Views                        NaN     -0.001428              -0.000557   \n",
       "Videos Watched                     NaN     -0.010237              -0.009070   \n",
       "\n",
       "                            Age  Birthday    Gender  Interested in    Joined  \\\n",
       "Name                   0.016945 -0.004122 -0.003181      -0.014771  0.027371   \n",
       "Subscribers           -0.002183  0.002300 -0.000910       0.003039 -0.002127   \n",
       "Videos_views           0.009822 -0.000695  0.008960      -0.008392  0.001848   \n",
       "Pornhub_rank           0.010829  0.003374  0.129758      -0.130988 -0.002019   \n",
       "Model_rank             0.009198  0.003012  0.128241      -0.128163 -0.003227   \n",
       "Public_videos          0.125553 -0.007104 -0.012580       0.010956  0.028500   \n",
       "Verified_pornstar           NaN       NaN       NaN            NaN       NaN   \n",
       "Verified_member             NaN       NaN       NaN            NaN       NaN   \n",
       "Premium_user           0.075071 -0.002286  0.019916      -0.035678  0.032833   \n",
       "Pornhub_awards_winner -0.004236  0.007208 -0.003894      -0.001788 -0.002612   \n",
       "Age                    1.000000  0.006185  0.075094      -0.085347  0.050117   \n",
       "Birthday               0.006185  1.000000  0.002412      -0.001012  0.002063   \n",
       "Gender                 0.075094  0.002412  1.000000      -0.351604  0.024365   \n",
       "Interested in         -0.085347 -0.001012 -0.351604       1.000000 -0.022998   \n",
       "Joined                 0.050117  0.002063  0.024365      -0.022998  1.000000   \n",
       "Profile Views          0.006968 -0.004063  0.007392      -0.004363 -0.006248   \n",
       "Relationship status   -0.031159 -0.007751 -0.165201      -0.017492 -0.017552   \n",
       "Video Views            0.009822 -0.000695  0.008960      -0.008392  0.001848   \n",
       "Videos Watched         0.000240  0.001149 -0.006548       0.008539 -0.008258   \n",
       "\n",
       "                       Profile Views  Relationship status  Video Views  \\\n",
       "Name                       -0.007033             0.007687     0.004373   \n",
       "Subscribers                 0.032750            -0.002647    -0.001540   \n",
       "Videos_views                0.020267            -0.004213     1.000000   \n",
       "Pornhub_rank               -0.058220             0.000113    -0.016000   \n",
       "Model_rank                 -0.059732             0.002649    -0.016177   \n",
       "Public_videos               0.030359            -0.004410     0.001795   \n",
       "Verified_pornstar                NaN                  NaN          NaN   \n",
       "Verified_member                  NaN                  NaN          NaN   \n",
       "Premium_user               -0.004701            -0.000443    -0.001428   \n",
       "Pornhub_awards_winner      -0.001050             0.002612    -0.000557   \n",
       "Age                         0.006968            -0.031159     0.009822   \n",
       "Birthday                   -0.004063            -0.007751    -0.000695   \n",
       "Gender                      0.007392            -0.165201     0.008960   \n",
       "Interested in              -0.004363            -0.017492    -0.008392   \n",
       "Joined                     -0.006248            -0.017552     0.001848   \n",
       "Profile Views               1.000000             0.000952     0.020267   \n",
       "Relationship status         0.000952             1.000000    -0.004213   \n",
       "Video Views                 0.020267            -0.004213     1.000000   \n",
       "Videos Watched              0.003699             0.007718    -0.010864   \n",
       "\n",
       "                       Videos Watched  \n",
       "Name                        -0.004905  \n",
       "Subscribers                  0.000855  \n",
       "Videos_views                -0.010864  \n",
       "Pornhub_rank                -0.010112  \n",
       "Model_rank                  -0.011300  \n",
       "Public_videos                0.003091  \n",
       "Verified_pornstar                 NaN  \n",
       "Verified_member                   NaN  \n",
       "Premium_user                -0.010237  \n",
       "Pornhub_awards_winner       -0.009070  \n",
       "Age                          0.000240  \n",
       "Birthday                     0.001149  \n",
       "Gender                      -0.006548  \n",
       "Interested in                0.008539  \n",
       "Joined                      -0.008258  \n",
       "Profile Views                0.003699  \n",
       "Relationship status          0.007718  \n",
       "Video Views                 -0.010864  \n",
       "Videos Watched               1.000000  "
      ]
     },
     "execution_count": 23,
     "metadata": {},
     "output_type": "execute_result"
    }
   ],
   "source": [
    "data_pre.corr()"
   ]
  },
  {
   "cell_type": "code",
   "execution_count": 24,
   "id": "630261bd",
   "metadata": {},
   "outputs": [],
   "source": [
    "# в данной таблице кореляции есть таблицы которые имеют только 1 вариант значения\n",
    "# и изза того что в формуле вычисления кореляции есть деление на (n-1)\n",
    "# в следствии чего у нас появляется деление на 0 и мы получаем NaN"
   ]
  },
  {
   "cell_type": "code",
   "execution_count": 25,
   "id": "1fe58367",
   "metadata": {},
   "outputs": [],
   "source": [
    "bad_columns = [\"Video Views\", \"Verified_pornstar\", \"Verified_member\"]"
   ]
  },
  {
   "cell_type": "code",
   "execution_count": 26,
   "id": "1ee5260b",
   "metadata": {},
   "outputs": [],
   "source": [
    "data_pre = data_pre.drop(bad_columns, axis = 1)"
   ]
  },
  {
   "cell_type": "code",
   "execution_count": null,
   "id": "430db2b6",
   "metadata": {},
   "outputs": [],
   "source": []
  },
  {
   "cell_type": "markdown",
   "id": "0a1b537e",
   "metadata": {},
   "source": [
    "# 2 Модели"
   ]
  },
  {
   "cell_type": "code",
   "execution_count": 27,
   "id": "e48a2cb0",
   "metadata": {},
   "outputs": [],
   "source": [
    "from sklearn.model_selection import train_test_split"
   ]
  },
  {
   "cell_type": "code",
   "execution_count": 28,
   "id": "16c3622d",
   "metadata": {},
   "outputs": [],
   "source": [
    "Y = data_pre[\"Gender\"]"
   ]
  },
  {
   "cell_type": "code",
   "execution_count": 29,
   "id": "9dffb886",
   "metadata": {},
   "outputs": [],
   "source": [
    "X = data_pre.drop([\"Gender\"], axis=1)"
   ]
  },
  {
   "cell_type": "code",
   "execution_count": null,
   "id": "0d810c6e",
   "metadata": {},
   "outputs": [],
   "source": []
  },
  {
   "cell_type": "code",
   "execution_count": 30,
   "id": "d6d65abb",
   "metadata": {},
   "outputs": [],
   "source": [
    "x_train, x_test, y_train, y_test = \\\n",
    "    train_test_split(X, Y, test_size=0.33, random_state=2021)"
   ]
  },
  {
   "cell_type": "code",
   "execution_count": 31,
   "id": "badcfb2c",
   "metadata": {},
   "outputs": [
    {
     "data": {
      "text/plain": [
       "<AxesSubplot:>"
      ]
     },
     "execution_count": 31,
     "metadata": {},
     "output_type": "execute_result"
    }
   ],
   "source": [
    "fig, ax = plt.subplots(figsize=(5,5))\n",
    "y_train.hist(ax=ax)"
   ]
  },
  {
   "cell_type": "code",
   "execution_count": 32,
   "id": "55844ea7",
   "metadata": {},
   "outputs": [
    {
     "data": {
      "text/plain": [
       "<AxesSubplot:>"
      ]
     },
     "execution_count": 32,
     "metadata": {},
     "output_type": "execute_result"
    }
   ],
   "source": [
    "fig, ax = plt.subplots(figsize=(5,5))\n",
    "y_test.hist(ax=ax)"
   ]
  },
  {
   "cell_type": "code",
   "execution_count": null,
   "id": "87893876",
   "metadata": {},
   "outputs": [],
   "source": []
  },
  {
   "cell_type": "markdown",
   "id": "ba8cbf7e-9f46-4503-8d2a-9f06d52dc15c",
   "metadata": {},
   "source": [
    "### KNN"
   ]
  },
  {
   "cell_type": "code",
   "execution_count": 34,
   "id": "a6a31218-71a5-48fa-9699-d1ff3e5b16f3",
   "metadata": {},
   "outputs": [],
   "source": [
    "from sklearn.metrics import accuracy_score\n",
    "from sklearn.metrics import accuracy_score, f1_score, precision_score, recall_score, classification_report, confusion_matrix\n",
    "from sklearn.model_selection import GridSearchCV"
   ]
  },
  {
   "cell_type": "code",
   "execution_count": 35,
   "id": "ac13820a",
   "metadata": {},
   "outputs": [],
   "source": [
    "from sklearn.neighbors import KNeighborsClassifier"
   ]
  },
  {
   "cell_type": "code",
   "execution_count": 36,
   "id": "2d685860",
   "metadata": {},
   "outputs": [],
   "source": [
    "knn = KNeighborsClassifier(n_neighbors=100)"
   ]
  },
  {
   "cell_type": "code",
   "execution_count": 37,
   "id": "f88f796d",
   "metadata": {},
   "outputs": [
    {
     "data": {
      "text/plain": [
       "KNeighborsClassifier(n_neighbors=100)"
      ]
     },
     "execution_count": 37,
     "metadata": {},
     "output_type": "execute_result"
    }
   ],
   "source": [
    "knn.fit(x_train, y_train)"
   ]
  },
  {
   "cell_type": "code",
   "execution_count": 38,
   "id": "e19e7fad",
   "metadata": {},
   "outputs": [],
   "source": [
    "predicted = knn.predict(x_test)"
   ]
  },
  {
   "cell_type": "code",
   "execution_count": 39,
   "id": "ffe795cf",
   "metadata": {
    "tags": []
   },
   "outputs": [
    {
     "data": {
      "text/plain": [
       "0.4880086905657224"
      ]
     },
     "execution_count": 39,
     "metadata": {},
     "output_type": "execute_result"
    }
   ],
   "source": [
    "accuracy_score(y_test, predicted)"
   ]
  },
  {
   "cell_type": "code",
   "execution_count": null,
   "id": "f63021eb-7d52-4329-8555-a911c9b459c0",
   "metadata": {},
   "outputs": [],
   "source": []
  },
  {
   "cell_type": "code",
   "execution_count": 40,
   "id": "5e2933a5-a8a0-4b90-8565-93c897822b6b",
   "metadata": {},
   "outputs": [],
   "source": [
    "target_names = encoders['Gender'].inverse_transform(sorted(data_pre['Gender'].unique()))"
   ]
  },
  {
   "cell_type": "code",
   "execution_count": 41,
   "id": "09994475-4a0d-40d4-9a66-d5a2826100d8",
   "metadata": {},
   "outputs": [
    {
     "name": "stdout",
     "output_type": "stream",
     "text": [
      "              precision    recall  f1-score   support\n",
      "\n",
      "     Company       0.00      0.00      0.00         1\n",
      "      Couple       0.42      0.01      0.01      4889\n",
      "      Female       0.49      0.90      0.64     11393\n",
      "       Group       0.00      0.00      0.00         1\n",
      "        Male       0.45      0.21      0.28      6852\n",
      "  Non-Binary       0.00      0.00      0.00        57\n",
      "       Other       0.00      0.00      0.00       197\n",
      "   Trans Man       0.00      0.00      0.00       122\n",
      " Trans Woman       0.00      0.00      0.00       422\n",
      "\n",
      "    accuracy                           0.49     23934\n",
      "   macro avg       0.15      0.12      0.10     23934\n",
      "weighted avg       0.45      0.49      0.39     23934\n",
      "\n"
     ]
    }
   ],
   "source": [
    "print(classification_report(y_test, predicted, target_names=target_names))\n"
   ]
  },
  {
   "cell_type": "code",
   "execution_count": null,
   "id": "a3756084",
   "metadata": {},
   "outputs": [],
   "source": []
  },
  {
   "cell_type": "code",
   "execution_count": 71,
   "id": "d1c2f87f-6d3e-4101-9ef4-1a46a290632f",
   "metadata": {},
   "outputs": [],
   "source": [
    "def plot_acc(x_ax, y_ax):\n",
    "    plt.plot(x_ax, y_ax)\n",
    "    plt.xlabel('n_neighbors')\n",
    "    plt.ylabel('mean_test_score')"
   ]
  },
  {
   "cell_type": "code",
   "execution_count": null,
   "id": "8399c763-a1aa-43c3-bcae-358dc8b71983",
   "metadata": {},
   "outputs": [],
   "source": []
  },
  {
   "cell_type": "code",
   "execution_count": 72,
   "id": "85a9a2ac-44f1-4521-9c66-55900e282552",
   "metadata": {},
   "outputs": [],
   "source": [
    "n_neighbors = np.arange(10, 20, 5)\n",
    "knn_grid = GridSearchCV(KNeighborsClassifier(), {'n_neighbors': n_neighbors})"
   ]
  },
  {
   "cell_type": "code",
   "execution_count": 73,
   "id": "f00d5115-a9d1-40b6-8f0a-708c43cf86ba",
   "metadata": {},
   "outputs": [
    {
     "data": {
      "text/plain": [
       "GridSearchCV(estimator=KNeighborsClassifier(),\n",
       "             param_grid={'n_neighbors': array([10, 15])})"
      ]
     },
     "execution_count": 73,
     "metadata": {},
     "output_type": "execute_result"
    }
   ],
   "source": [
    "knn_grid.fit(x_train, y_train)"
   ]
  },
  {
   "cell_type": "code",
   "execution_count": 74,
   "id": "7be53429-9f7e-4b6d-bc9e-5867d5727cbc",
   "metadata": {},
   "outputs": [],
   "source": [
    "cv_res = knn_grid.cv_results_['mean_test_score']"
   ]
  },
  {
   "cell_type": "code",
   "execution_count": 75,
   "id": "dc06796a-1234-4968-a8c0-72b6f22b93e2",
   "metadata": {},
   "outputs": [],
   "source": [
    "plot_acc(n_neighbors, cv_res)"
   ]
  },
  {
   "cell_type": "code",
   "execution_count": 76,
   "id": "4c0cc5c6-a583-4d65-a605-c7360b6c4e82",
   "metadata": {},
   "outputs": [],
   "source": [
    "predicted = knn_grid.predict(x_test)"
   ]
  },
  {
   "cell_type": "code",
   "execution_count": 77,
   "id": "56b8f27d-2eec-4125-bdb4-b09d0545fc0a",
   "metadata": {},
   "outputs": [
    {
     "name": "stdout",
     "output_type": "stream",
     "text": [
      "              precision    recall  f1-score   support\n",
      "\n",
      "     Company       0.00      0.00      0.00         1\n",
      "      Couple       0.26      0.11      0.15      4889\n",
      "      Female       0.50      0.77      0.60     11393\n",
      "       Group       0.00      0.00      0.00         1\n",
      "        Male       0.40      0.26      0.31      6852\n",
      "  Non-Binary       0.00      0.00      0.00        57\n",
      "       Other       0.00      0.00      0.00       197\n",
      "   Trans Man       0.00      0.00      0.00       122\n",
      " Trans Woman       0.00      0.00      0.00       422\n",
      "\n",
      "    accuracy                           0.46     23934\n",
      "   macro avg       0.13      0.13      0.12     23934\n",
      "weighted avg       0.40      0.46      0.41     23934\n",
      "\n"
     ]
    }
   ],
   "source": [
    "print(classification_report(y_test, predicted, target_names=target_names))"
   ]
  },
  {
   "cell_type": "code",
   "execution_count": null,
   "id": "f6022651-f5a6-4968-a8c5-14f32856ace3",
   "metadata": {},
   "outputs": [],
   "source": []
  },
  {
   "cell_type": "code",
   "execution_count": null,
   "id": "8819e242-40e8-47b6-b1bc-f6a52077d6f0",
   "metadata": {},
   "outputs": [],
   "source": []
  },
  {
   "cell_type": "markdown",
   "id": "55ff53f4-a7b4-4b01-bfb7-96e25b2bea9a",
   "metadata": {},
   "source": [
    "### RandomForest"
   ]
  },
  {
   "cell_type": "code",
   "execution_count": 78,
   "id": "1e8ba761",
   "metadata": {},
   "outputs": [],
   "source": [
    "from sklearn.ensemble import RandomForestClassifier"
   ]
  },
  {
   "cell_type": "code",
   "execution_count": 79,
   "id": "c223f2d7",
   "metadata": {},
   "outputs": [],
   "source": [
    "#forest = RandomForestClassifier(max_depth=40, random_state=0)\n",
    "max_depth = np.arange(1, 3)\n",
    "forest = GridSearchCV(RandomForestClassifier(random_state=0),{'max_depth': max_depth})"
   ]
  },
  {
   "cell_type": "code",
   "execution_count": 80,
   "id": "e944425d",
   "metadata": {},
   "outputs": [
    {
     "data": {
      "text/plain": [
       "GridSearchCV(estimator=RandomForestClassifier(random_state=0),\n",
       "             param_grid={'max_depth': array([1, 2])})"
      ]
     },
     "execution_count": 80,
     "metadata": {},
     "output_type": "execute_result"
    }
   ],
   "source": [
    "forest.fit(x_train, y_train)"
   ]
  },
  {
   "cell_type": "code",
   "execution_count": 81,
   "id": "7f396384",
   "metadata": {},
   "outputs": [],
   "source": [
    "predicted = forest.predict(x_test)"
   ]
  },
  {
   "cell_type": "code",
   "execution_count": 82,
   "id": "562e08a0-93d2-4065-bbb2-3680e4e7390e",
   "metadata": {},
   "outputs": [],
   "source": [
    "cv_res = forest.cv_results_['mean_test_score']"
   ]
  },
  {
   "cell_type": "code",
   "execution_count": 83,
   "id": "5839d029",
   "metadata": {},
   "outputs": [],
   "source": [
    "plot_acc(max_depth, cv_res)"
   ]
  },
  {
   "cell_type": "code",
   "execution_count": 84,
   "id": "428f597a",
   "metadata": {},
   "outputs": [
    {
     "name": "stdout",
     "output_type": "stream",
     "text": [
      "              precision    recall  f1-score   support\n",
      "\n",
      "     Company       0.00      0.00      0.00         1\n",
      "      Couple       0.00      0.00      0.00      4889\n",
      "      Female       0.63      0.96      0.76     11393\n",
      "       Group       0.00      0.00      0.00         1\n",
      "        Male       0.76      0.73      0.75      6852\n",
      "  Non-Binary       0.00      0.00      0.00        57\n",
      "       Other       0.00      0.00      0.00       197\n",
      "   Trans Man       0.00      0.00      0.00       122\n",
      " Trans Woman       0.00      0.00      0.00       422\n",
      "\n",
      "    accuracy                           0.67     23934\n",
      "   macro avg       0.15      0.19      0.17     23934\n",
      "weighted avg       0.52      0.67      0.58     23934\n",
      "\n"
     ]
    }
   ],
   "source": [
    "print(classification_report(y_test, predicted, target_names=target_names))\n"
   ]
  },
  {
   "cell_type": "code",
   "execution_count": null,
   "id": "bcd375ff-996b-431d-94e4-dce20af4f713",
   "metadata": {},
   "outputs": [],
   "source": []
  },
  {
   "cell_type": "code",
   "execution_count": null,
   "id": "b0ff972e-103a-4441-b034-9eba6a412a76",
   "metadata": {},
   "outputs": [],
   "source": []
  },
  {
   "cell_type": "markdown",
   "id": "6f77ab60-7dfd-4f9d-98ff-56297e266bc8",
   "metadata": {},
   "source": [
    "### DecisionTree"
   ]
  },
  {
   "cell_type": "code",
   "execution_count": 86,
   "id": "05800a5d",
   "metadata": {},
   "outputs": [],
   "source": [
    "from sklearn.tree import DecisionTreeClassifier"
   ]
  },
  {
   "cell_type": "code",
   "execution_count": 87,
   "id": "347336b6",
   "metadata": {},
   "outputs": [],
   "source": [
    "#tree = DecisionTreeClassifier(max_depth=5, random_state=0)\n",
    "max_depth = np.arange(1, 3)\n",
    "tree = GridSearchCV(DecisionTreeClassifier(random_state=0), {'max_depth':max_depth} )"
   ]
  },
  {
   "cell_type": "code",
   "execution_count": 88,
   "id": "287e670b",
   "metadata": {},
   "outputs": [
    {
     "data": {
      "text/plain": [
       "GridSearchCV(estimator=DecisionTreeClassifier(random_state=0),\n",
       "             param_grid={'max_depth': array([1, 2])})"
      ]
     },
     "execution_count": 88,
     "metadata": {},
     "output_type": "execute_result"
    }
   ],
   "source": [
    "tree.fit(x_train, y_train)"
   ]
  },
  {
   "cell_type": "code",
   "execution_count": 89,
   "id": "e93e6f2e",
   "metadata": {},
   "outputs": [],
   "source": [
    "predicted = tree.predict(x_test)"
   ]
  },
  {
   "cell_type": "code",
   "execution_count": 90,
   "id": "e98823bd-90e0-4743-8b9b-77b4accc8ed2",
   "metadata": {},
   "outputs": [],
   "source": [
    "cv_res = tree.cv_results_['mean_test_score']"
   ]
  },
  {
   "cell_type": "code",
   "execution_count": 91,
   "id": "9c5e6b93-42ef-429a-a92e-a4a7999ee16e",
   "metadata": {},
   "outputs": [],
   "source": [
    "plot_acc(max_depth, cv_res)"
   ]
  },
  {
   "cell_type": "code",
   "execution_count": 92,
   "id": "0f66a290",
   "metadata": {},
   "outputs": [
    {
     "name": "stdout",
     "output_type": "stream",
     "text": [
      "              precision    recall  f1-score   support\n",
      "\n",
      "     Company       0.00      0.00      0.00         1\n",
      "      Couple       0.45      0.19      0.27      4889\n",
      "      Female       0.65      0.96      0.77     11393\n",
      "       Group       0.00      0.00      0.00         1\n",
      "        Male       0.86      0.62      0.72      6852\n",
      "  Non-Binary       0.00      0.00      0.00        57\n",
      "       Other       0.00      0.00      0.00       197\n",
      "   Trans Man       0.00      0.00      0.00       122\n",
      " Trans Woman       0.00      0.00      0.00       422\n",
      "\n",
      "    accuracy                           0.67     23934\n",
      "   macro avg       0.22      0.20      0.20     23934\n",
      "weighted avg       0.64      0.67      0.63     23934\n",
      "\n"
     ]
    }
   ],
   "source": [
    "print(classification_report(y_test, predicted, target_names=target_names))\n"
   ]
  },
  {
   "cell_type": "code",
   "execution_count": null,
   "id": "ab0f68cc-eef6-46ad-ab11-93385266943e",
   "metadata": {},
   "outputs": [],
   "source": []
  },
  {
   "cell_type": "markdown",
   "id": "56583013-a2be-4c3f-9dba-fd1e6d6fc661",
   "metadata": {},
   "source": [
    "### GaussianNB"
   ]
  },
  {
   "cell_type": "code",
   "execution_count": 96,
   "id": "335bc0b3",
   "metadata": {},
   "outputs": [],
   "source": [
    "from sklearn.naive_bayes import GaussianNB"
   ]
  },
  {
   "cell_type": "code",
   "execution_count": 95,
   "id": "438878ec",
   "metadata": {},
   "outputs": [],
   "source": [
    "#gauss = GaussianNB(var_smoothing=0.00000000001)\n",
    "var_smoothing = np.arange(0.00000000001, 0.00000000003, 0.00000000001)\n",
    "gauss = GridSearchCV(GaussianNB(), {'var_smoothing':var_smoothing})"
   ]
  },
  {
   "cell_type": "code",
   "execution_count": 97,
   "id": "98fff68d",
   "metadata": {},
   "outputs": [
    {
     "data": {
      "text/plain": [
       "GridSearchCV(estimator=GaussianNB(),\n",
       "             param_grid={'var_smoothing': array([1.e-11, 2.e-11, 3.e-11])})"
      ]
     },
     "execution_count": 97,
     "metadata": {},
     "output_type": "execute_result"
    }
   ],
   "source": [
    "gauss.fit(x_train, y_train)"
   ]
  },
  {
   "cell_type": "code",
   "execution_count": 98,
   "id": "c30540ef",
   "metadata": {},
   "outputs": [],
   "source": [
    "predicted = gauss.predict(x_test)"
   ]
  },
  {
   "cell_type": "code",
   "execution_count": 99,
   "id": "c49e832f-6ef8-4a2a-8374-dfa28176b65e",
   "metadata": {},
   "outputs": [],
   "source": [
    "cv_res = gauss.cv_results_['mean_test_score']"
   ]
  },
  {
   "cell_type": "code",
   "execution_count": 100,
   "id": "ec38581b-6693-44be-ad5d-76f7c3b28b2d",
   "metadata": {},
   "outputs": [],
   "source": [
    "plot_acc(var_smoothing, cv_res)"
   ]
  },
  {
   "cell_type": "code",
   "execution_count": 101,
   "id": "82c76194",
   "metadata": {},
   "outputs": [
    {
     "name": "stdout",
     "output_type": "stream",
     "text": [
      "              precision    recall  f1-score   support\n",
      "\n",
      "     Company       0.00      0.00      0.00         1\n",
      "      Couple       0.47      0.11      0.18      4889\n",
      "      Female       0.65      0.89      0.75     11393\n",
      "       Group       0.00      0.00      0.00         1\n",
      "        Male       0.72      0.72      0.72      6852\n",
      "  Non-Binary       0.00      0.00      0.00        57\n",
      "       Other       0.01      0.01      0.01       197\n",
      "   Trans Man       0.00      0.00      0.00       122\n",
      " Trans Woman       0.00      0.00      0.00       422\n",
      "\n",
      "    accuracy                           0.65     23934\n",
      "   macro avg       0.21      0.19      0.18     23934\n",
      "weighted avg       0.61      0.65      0.60     23934\n",
      "\n"
     ]
    }
   ],
   "source": [
    "print(classification_report(y_test, predicted, target_names=target_names))\n"
   ]
  },
  {
   "cell_type": "code",
   "execution_count": null,
   "id": "96cb0efe-1bb8-4a17-a0f4-26625b02d8f6",
   "metadata": {},
   "outputs": [],
   "source": []
  },
  {
   "cell_type": "markdown",
   "id": "3c9e924f-1397-47c6-a32e-6863a181504e",
   "metadata": {},
   "source": [
    "### LogisticRegression"
   ]
  },
  {
   "cell_type": "code",
   "execution_count": 102,
   "id": "a0df2c15",
   "metadata": {},
   "outputs": [],
   "source": [
    "from sklearn.linear_model import LogisticRegression"
   ]
  },
  {
   "cell_type": "code",
   "execution_count": 104,
   "id": "abaa01b8",
   "metadata": {},
   "outputs": [],
   "source": [
    "#logreg = LogisticRegression()\n",
    "C = np.arange(0.5, 1.5, 0.5)\n",
    "logreg = GridSearchCV(LogisticRegression(), {'C':C})"
   ]
  },
  {
   "cell_type": "code",
   "execution_count": 105,
   "id": "fd7fbb8f",
   "metadata": {},
   "outputs": [
    {
     "data": {
      "text/plain": [
       "GridSearchCV(estimator=LogisticRegression(),\n",
       "             param_grid={'C': array([0.5, 1. ])})"
      ]
     },
     "execution_count": 105,
     "metadata": {},
     "output_type": "execute_result"
    }
   ],
   "source": [
    "logreg.fit(x_train, y_train)"
   ]
  },
  {
   "cell_type": "code",
   "execution_count": 106,
   "id": "8c00c0a5",
   "metadata": {},
   "outputs": [],
   "source": [
    "predicted = logreg.predict(x_test)"
   ]
  },
  {
   "cell_type": "code",
   "execution_count": 107,
   "id": "d071a21d-98c3-457c-8355-985e70e3393c",
   "metadata": {},
   "outputs": [],
   "source": [
    "cv_res = logreg.cv_results_['mean_test_score']"
   ]
  },
  {
   "cell_type": "code",
   "execution_count": 108,
   "id": "6bacdc21-52bd-4dce-827f-9b3757bf05d3",
   "metadata": {},
   "outputs": [],
   "source": [
    "plot_acc(C, cv_res)"
   ]
  },
  {
   "cell_type": "code",
   "execution_count": 109,
   "id": "aa8d00be",
   "metadata": {},
   "outputs": [
    {
     "name": "stdout",
     "output_type": "stream",
     "text": [
      "              precision    recall  f1-score   support\n",
      "\n",
      "     Company       0.00      0.00      0.00         1\n",
      "      Couple       0.00      0.00      0.00      4889\n",
      "      Female       0.48      0.92      0.63     11393\n",
      "       Group       0.00      0.00      0.00         1\n",
      "        Male       0.38      0.12      0.18      6852\n",
      "  Non-Binary       0.00      0.00      0.00        57\n",
      "       Other       0.00      0.00      0.00       197\n",
      "   Trans Man       0.00      0.00      0.00       122\n",
      " Trans Woman       0.00      0.00      0.00       422\n",
      "\n",
      "    accuracy                           0.47     23934\n",
      "   macro avg       0.10      0.11      0.09     23934\n",
      "weighted avg       0.34      0.47      0.35     23934\n",
      "\n"
     ]
    }
   ],
   "source": [
    "print(classification_report(y_test, predicted, target_names=target_names))\n"
   ]
  },
  {
   "cell_type": "code",
   "execution_count": null,
   "id": "5bbfb9f2-26e3-4130-853b-d259459ea4c1",
   "metadata": {},
   "outputs": [],
   "source": []
  },
  {
   "cell_type": "markdown",
   "id": "5cfbf571-6551-4b47-955c-222078adb112",
   "metadata": {},
   "source": [
    "### CatBoost (Бустим кота)"
   ]
  },
  {
   "cell_type": "code",
   "execution_count": 112,
   "id": "cc27d4d2",
   "metadata": {},
   "outputs": [],
   "source": [
    "from catboost import CatBoostClassifier"
   ]
  },
  {
   "cell_type": "code",
   "execution_count": 114,
   "id": "52db2186",
   "metadata": {},
   "outputs": [],
   "source": [
    "#catboost = CatBoostClassifier(iterations=3, depth=5, learning_rate=0.595)\n",
    "iterations = np.arange(2, 4)\n",
    "depth = np.arange(4, 6)\n",
    "catboost = GridSearchCV(CatBoostClassifier(), {'iterations':iterations, 'depth':depth})"
   ]
  },
  {
   "cell_type": "code",
   "execution_count": 115,
   "id": "6701bb76",
   "metadata": {},
   "outputs": [
    {
     "name": "stdout",
     "output_type": "stream",
     "text": [
      "Learning rate set to 0.5\n",
      "0:\tlearn: 1.0361697\ttotal: 181ms\tremaining: 181ms\n",
      "1:\tlearn: 0.9156309\ttotal: 221ms\tremaining: 0us\n",
      "Learning rate set to 0.5\n",
      "0:\tlearn: 1.0305976\ttotal: 34.9ms\tremaining: 34.9ms\n",
      "1:\tlearn: 0.9075953\ttotal: 57.5ms\tremaining: 0us\n",
      "Learning rate set to 0.5\n",
      "0:\tlearn: 1.0345524\ttotal: 40.6ms\tremaining: 40.6ms\n",
      "1:\tlearn: 0.9119021\ttotal: 66.8ms\tremaining: 0us\n",
      "Learning rate set to 0.5\n",
      "0:\tlearn: 1.0358902\ttotal: 40ms\tremaining: 40ms\n",
      "1:\tlearn: 0.9126627\ttotal: 61.6ms\tremaining: 0us\n",
      "Learning rate set to 0.5\n",
      "0:\tlearn: 1.0354144\ttotal: 37.2ms\tremaining: 37.2ms\n",
      "1:\tlearn: 0.9148050\ttotal: 65.1ms\tremaining: 0us\n",
      "Learning rate set to 0.5\n",
      "0:\tlearn: 1.0361697\ttotal: 47.6ms\tremaining: 95.1ms\n",
      "1:\tlearn: 0.9156309\ttotal: 82.5ms\tremaining: 41.2ms\n",
      "2:\tlearn: 0.8727403\ttotal: 115ms\tremaining: 0us\n",
      "Learning rate set to 0.5\n",
      "0:\tlearn: 1.0305976\ttotal: 25.1ms\tremaining: 50.3ms\n",
      "1:\tlearn: 0.9075953\ttotal: 47.8ms\tremaining: 23.9ms\n",
      "2:\tlearn: 0.8648692\ttotal: 67.2ms\tremaining: 0us\n",
      "Learning rate set to 0.5\n",
      "0:\tlearn: 1.0345524\ttotal: 31.4ms\tremaining: 62.8ms\n",
      "1:\tlearn: 0.9119021\ttotal: 53.7ms\tremaining: 26.8ms\n",
      "2:\tlearn: 0.8665710\ttotal: 79.3ms\tremaining: 0us\n",
      "Learning rate set to 0.5\n",
      "0:\tlearn: 1.0358902\ttotal: 28.5ms\tremaining: 56.9ms\n",
      "1:\tlearn: 0.9126627\ttotal: 49.5ms\tremaining: 24.7ms\n",
      "2:\tlearn: 0.8681440\ttotal: 70.6ms\tremaining: 0us\n",
      "Learning rate set to 0.5\n",
      "0:\tlearn: 1.0354144\ttotal: 36.2ms\tremaining: 72.4ms\n",
      "1:\tlearn: 0.9148050\ttotal: 57ms\tremaining: 28.5ms\n",
      "2:\tlearn: 0.8732166\ttotal: 77ms\tremaining: 0us\n",
      "Learning rate set to 0.5\n",
      "0:\tlearn: 1.0382167\ttotal: 39.5ms\tremaining: 39.5ms\n",
      "1:\tlearn: 0.9115791\ttotal: 65.8ms\tremaining: 0us\n",
      "Learning rate set to 0.5\n",
      "0:\tlearn: 1.0291586\ttotal: 40.8ms\tremaining: 40.8ms\n",
      "1:\tlearn: 0.9100412\ttotal: 65.6ms\tremaining: 0us\n",
      "Learning rate set to 0.5\n",
      "0:\tlearn: 1.0367430\ttotal: 34.6ms\tremaining: 34.6ms\n",
      "1:\tlearn: 0.9099199\ttotal: 59.7ms\tremaining: 0us\n",
      "Learning rate set to 0.5\n",
      "0:\tlearn: 1.0380052\ttotal: 59.3ms\tremaining: 59.3ms\n",
      "1:\tlearn: 0.9104417\ttotal: 84.7ms\tremaining: 0us\n",
      "Learning rate set to 0.5\n",
      "0:\tlearn: 1.0373271\ttotal: 31.7ms\tremaining: 31.7ms\n",
      "1:\tlearn: 0.9128546\ttotal: 58.1ms\tremaining: 0us\n",
      "Learning rate set to 0.5\n",
      "0:\tlearn: 1.0382167\ttotal: 28.8ms\tremaining: 57.6ms\n",
      "1:\tlearn: 0.9115791\ttotal: 54.1ms\tremaining: 27.1ms\n",
      "2:\tlearn: 0.8668747\ttotal: 80.3ms\tremaining: 0us\n",
      "Learning rate set to 0.5\n",
      "0:\tlearn: 1.0291586\ttotal: 39.8ms\tremaining: 79.7ms\n",
      "1:\tlearn: 0.9100412\ttotal: 66.2ms\tremaining: 33.1ms\n",
      "2:\tlearn: 0.8672758\ttotal: 93ms\tremaining: 0us\n",
      "Learning rate set to 0.5\n",
      "0:\tlearn: 1.0367430\ttotal: 29.7ms\tremaining: 59.4ms\n",
      "1:\tlearn: 0.9099199\ttotal: 54.7ms\tremaining: 27.3ms\n",
      "2:\tlearn: 0.8624154\ttotal: 79.6ms\tremaining: 0us\n",
      "Learning rate set to 0.5\n",
      "0:\tlearn: 1.0380052\ttotal: 28.8ms\tremaining: 57.5ms\n",
      "1:\tlearn: 0.9104417\ttotal: 55.1ms\tremaining: 27.5ms\n",
      "2:\tlearn: 0.8664489\ttotal: 80.2ms\tremaining: 0us\n",
      "Learning rate set to 0.5\n",
      "0:\tlearn: 1.0373271\ttotal: 33.6ms\tremaining: 67.1ms\n",
      "1:\tlearn: 0.9128546\ttotal: 61.5ms\tremaining: 30.7ms\n",
      "2:\tlearn: 0.8667182\ttotal: 87.1ms\tremaining: 0us\n",
      "Learning rate set to 0.5\n",
      "0:\tlearn: 1.0358403\ttotal: 39.8ms\tremaining: 79.6ms\n",
      "1:\tlearn: 0.9091721\ttotal: 71.9ms\tremaining: 35.9ms\n",
      "2:\tlearn: 0.8644591\ttotal: 101ms\tremaining: 0us\n"
     ]
    },
    {
     "data": {
      "text/plain": [
       "GridSearchCV(estimator=<catboost.core.CatBoostClassifier object at 0x000001FAB7772D30>,\n",
       "             param_grid={'depth': array([4, 5]), 'iterations': array([2, 3])})"
      ]
     },
     "execution_count": 115,
     "metadata": {},
     "output_type": "execute_result"
    }
   ],
   "source": [
    "catboost.fit(x_train, y_train)"
   ]
  },
  {
   "cell_type": "code",
   "execution_count": 116,
   "id": "0a8cdaf4",
   "metadata": {},
   "outputs": [],
   "source": [
    "predicted = catboost.predict(x_test)"
   ]
  },
  {
   "cell_type": "code",
   "execution_count": 118,
   "id": "f374a435",
   "metadata": {},
   "outputs": [
    {
     "name": "stdout",
     "output_type": "stream",
     "text": [
      "              precision    recall  f1-score   support\n",
      "\n",
      "     Company       0.00      0.00      0.00         1\n",
      "      Couple       0.51      0.25      0.33      4889\n",
      "      Female       0.67      0.92      0.77     11393\n",
      "       Group       0.00      0.00      0.00         1\n",
      "        Male       0.80      0.68      0.74      6852\n",
      "  Non-Binary       0.00      0.00      0.00        57\n",
      "       Other       0.00      0.00      0.00       197\n",
      "   Trans Man       0.00      0.00      0.00       122\n",
      " Trans Woman       0.00      0.00      0.00       422\n",
      "\n",
      "    accuracy                           0.68     23934\n",
      "   macro avg       0.22      0.21      0.20     23934\n",
      "weighted avg       0.65      0.68      0.65     23934\n",
      "\n"
     ]
    }
   ],
   "source": [
    "print(classification_report(y_test, predicted, target_names=target_names))\n"
   ]
  },
  {
   "cell_type": "code",
   "execution_count": null,
   "id": "0cf41db0",
   "metadata": {},
   "outputs": [],
   "source": []
  },
  {
   "cell_type": "code",
   "execution_count": null,
   "id": "917ba28d",
   "metadata": {},
   "outputs": [],
   "source": []
  },
  {
   "cell_type": "code",
   "execution_count": null,
   "id": "21ae90b1-ecc8-4e67-92fa-8d2b090e047e",
   "metadata": {},
   "outputs": [],
   "source": []
  },
  {
   "cell_type": "code",
   "execution_count": null,
   "id": "e7ddf91d-7da0-4acc-9f43-edc1907fbae5",
   "metadata": {},
   "outputs": [],
   "source": []
  }
 ],
 "metadata": {
  "kernelspec": {
   "display_name": "Python 3 (ipykernel)",
   "language": "python",
   "name": "python3"
  },
  "language_info": {
   "codemirror_mode": {
    "name": "ipython",
    "version": 3
   },
   "file_extension": ".py",
   "mimetype": "text/x-python",
   "name": "python",
   "nbconvert_exporter": "python",
   "pygments_lexer": "ipython3",
   "version": "3.9.7"
  }
 },
 "nbformat": 4,
 "nbformat_minor": 5
}
