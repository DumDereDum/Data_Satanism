{
 "cells": [
  {
   "cell_type": "code",
   "execution_count": 1,
   "id": "9d8b2c1d",
   "metadata": {},
   "outputs": [],
   "source": [
    "import os\n",
    "import sys\n",
    "\n",
    "import matplotlib.pyplot as plt\n",
    "import numpy as np\n",
    "import pandas as pd"
   ]
  },
  {
   "cell_type": "code",
   "execution_count": 2,
   "id": "22ceb4e4",
   "metadata": {},
   "outputs": [],
   "source": [
    "if not sys.warnoptions:\n",
    "    import warnings\n",
    "    warnings.simplefilter(\"ignore\")"
   ]
  },
  {
   "cell_type": "code",
   "execution_count": null,
   "id": "bf5e4dc7",
   "metadata": {},
   "outputs": [],
   "source": []
  },
  {
   "cell_type": "markdown",
   "id": "dd426bc5",
   "metadata": {},
   "source": [
    "# Загрузка датасета"
   ]
  },
  {
   "cell_type": "code",
   "execution_count": null,
   "id": "265f3e6a",
   "metadata": {},
   "outputs": [],
   "source": []
  },
  {
   "cell_type": "code",
   "execution_count": 3,
   "id": "b8a42685",
   "metadata": {},
   "outputs": [],
   "source": [
    "curr_path = os.path.abspath(os.getcwd())\n",
    "data_path = curr_path[:-22] + 'News_Category_Dataset_v2.json'"
   ]
  },
  {
   "cell_type": "code",
   "execution_count": null,
   "id": "eaec7287",
   "metadata": {},
   "outputs": [],
   "source": []
  },
  {
   "cell_type": "code",
   "execution_count": 4,
   "id": "8c40c1fa",
   "metadata": {},
   "outputs": [],
   "source": [
    "df = pd.read_json(data_path, lines=True)"
   ]
  },
  {
   "cell_type": "code",
   "execution_count": 5,
   "id": "3e51230d",
   "metadata": {},
   "outputs": [
    {
     "data": {
      "text/html": [
       "<div>\n",
       "<style scoped>\n",
       "    .dataframe tbody tr th:only-of-type {\n",
       "        vertical-align: middle;\n",
       "    }\n",
       "\n",
       "    .dataframe tbody tr th {\n",
       "        vertical-align: top;\n",
       "    }\n",
       "\n",
       "    .dataframe thead th {\n",
       "        text-align: right;\n",
       "    }\n",
       "</style>\n",
       "<table border=\"1\" class=\"dataframe\">\n",
       "  <thead>\n",
       "    <tr style=\"text-align: right;\">\n",
       "      <th></th>\n",
       "      <th>category</th>\n",
       "      <th>headline</th>\n",
       "      <th>authors</th>\n",
       "      <th>link</th>\n",
       "      <th>short_description</th>\n",
       "      <th>date</th>\n",
       "    </tr>\n",
       "  </thead>\n",
       "  <tbody>\n",
       "    <tr>\n",
       "      <th>0</th>\n",
       "      <td>CRIME</td>\n",
       "      <td>There Were 2 Mass Shootings In Texas Last Week...</td>\n",
       "      <td>Melissa Jeltsen</td>\n",
       "      <td>https://www.huffingtonpost.com/entry/texas-ama...</td>\n",
       "      <td>She left her husband. He killed their children...</td>\n",
       "      <td>2018-05-26</td>\n",
       "    </tr>\n",
       "    <tr>\n",
       "      <th>1</th>\n",
       "      <td>ENTERTAINMENT</td>\n",
       "      <td>Will Smith Joins Diplo And Nicky Jam For The 2...</td>\n",
       "      <td>Andy McDonald</td>\n",
       "      <td>https://www.huffingtonpost.com/entry/will-smit...</td>\n",
       "      <td>Of course it has a song.</td>\n",
       "      <td>2018-05-26</td>\n",
       "    </tr>\n",
       "    <tr>\n",
       "      <th>2</th>\n",
       "      <td>ENTERTAINMENT</td>\n",
       "      <td>Hugh Grant Marries For The First Time At Age 57</td>\n",
       "      <td>Ron Dicker</td>\n",
       "      <td>https://www.huffingtonpost.com/entry/hugh-gran...</td>\n",
       "      <td>The actor and his longtime girlfriend Anna Ebe...</td>\n",
       "      <td>2018-05-26</td>\n",
       "    </tr>\n",
       "    <tr>\n",
       "      <th>3</th>\n",
       "      <td>ENTERTAINMENT</td>\n",
       "      <td>Jim Carrey Blasts 'Castrato' Adam Schiff And D...</td>\n",
       "      <td>Ron Dicker</td>\n",
       "      <td>https://www.huffingtonpost.com/entry/jim-carre...</td>\n",
       "      <td>The actor gives Dems an ass-kicking for not fi...</td>\n",
       "      <td>2018-05-26</td>\n",
       "    </tr>\n",
       "    <tr>\n",
       "      <th>4</th>\n",
       "      <td>ENTERTAINMENT</td>\n",
       "      <td>Julianna Margulies Uses Donald Trump Poop Bags...</td>\n",
       "      <td>Ron Dicker</td>\n",
       "      <td>https://www.huffingtonpost.com/entry/julianna-...</td>\n",
       "      <td>The \"Dietland\" actress said using the bags is ...</td>\n",
       "      <td>2018-05-26</td>\n",
       "    </tr>\n",
       "  </tbody>\n",
       "</table>\n",
       "</div>"
      ],
      "text/plain": [
       "        category                                           headline  \\\n",
       "0          CRIME  There Were 2 Mass Shootings In Texas Last Week...   \n",
       "1  ENTERTAINMENT  Will Smith Joins Diplo And Nicky Jam For The 2...   \n",
       "2  ENTERTAINMENT    Hugh Grant Marries For The First Time At Age 57   \n",
       "3  ENTERTAINMENT  Jim Carrey Blasts 'Castrato' Adam Schiff And D...   \n",
       "4  ENTERTAINMENT  Julianna Margulies Uses Donald Trump Poop Bags...   \n",
       "\n",
       "           authors                                               link  \\\n",
       "0  Melissa Jeltsen  https://www.huffingtonpost.com/entry/texas-ama...   \n",
       "1    Andy McDonald  https://www.huffingtonpost.com/entry/will-smit...   \n",
       "2       Ron Dicker  https://www.huffingtonpost.com/entry/hugh-gran...   \n",
       "3       Ron Dicker  https://www.huffingtonpost.com/entry/jim-carre...   \n",
       "4       Ron Dicker  https://www.huffingtonpost.com/entry/julianna-...   \n",
       "\n",
       "                                   short_description       date  \n",
       "0  She left her husband. He killed their children... 2018-05-26  \n",
       "1                           Of course it has a song. 2018-05-26  \n",
       "2  The actor and his longtime girlfriend Anna Ebe... 2018-05-26  \n",
       "3  The actor gives Dems an ass-kicking for not fi... 2018-05-26  \n",
       "4  The \"Dietland\" actress said using the bags is ... 2018-05-26  "
      ]
     },
     "execution_count": 5,
     "metadata": {},
     "output_type": "execute_result"
    }
   ],
   "source": [
    "df.head()"
   ]
  },
  {
   "cell_type": "code",
   "execution_count": null,
   "id": "b9c0d2eb",
   "metadata": {},
   "outputs": [],
   "source": []
  },
  {
   "cell_type": "code",
   "execution_count": 6,
   "id": "b00aa006",
   "metadata": {},
   "outputs": [
    {
     "data": {
      "text/html": [
       "<div>\n",
       "<style scoped>\n",
       "    .dataframe tbody tr th:only-of-type {\n",
       "        vertical-align: middle;\n",
       "    }\n",
       "\n",
       "    .dataframe tbody tr th {\n",
       "        vertical-align: top;\n",
       "    }\n",
       "\n",
       "    .dataframe thead th {\n",
       "        text-align: right;\n",
       "    }\n",
       "</style>\n",
       "<table border=\"1\" class=\"dataframe\">\n",
       "  <thead>\n",
       "    <tr style=\"text-align: right;\">\n",
       "      <th></th>\n",
       "      <th>category</th>\n",
       "      <th>headline</th>\n",
       "      <th>authors</th>\n",
       "      <th>link</th>\n",
       "      <th>short_description</th>\n",
       "      <th>date</th>\n",
       "    </tr>\n",
       "  </thead>\n",
       "  <tbody>\n",
       "    <tr>\n",
       "      <th>count</th>\n",
       "      <td>200853</td>\n",
       "      <td>200853</td>\n",
       "      <td>200853</td>\n",
       "      <td>200853</td>\n",
       "      <td>200853</td>\n",
       "      <td>200853</td>\n",
       "    </tr>\n",
       "    <tr>\n",
       "      <th>unique</th>\n",
       "      <td>41</td>\n",
       "      <td>199344</td>\n",
       "      <td>27993</td>\n",
       "      <td>200812</td>\n",
       "      <td>178353</td>\n",
       "      <td>2309</td>\n",
       "    </tr>\n",
       "    <tr>\n",
       "      <th>top</th>\n",
       "      <td>POLITICS</td>\n",
       "      <td>Sunday Roundup</td>\n",
       "      <td></td>\n",
       "      <td>https://www.huffingtonpost.comhttp://stylelike...</td>\n",
       "      <td></td>\n",
       "      <td>2013-04-24 00:00:00</td>\n",
       "    </tr>\n",
       "    <tr>\n",
       "      <th>freq</th>\n",
       "      <td>32739</td>\n",
       "      <td>90</td>\n",
       "      <td>36620</td>\n",
       "      <td>2</td>\n",
       "      <td>19712</td>\n",
       "      <td>100</td>\n",
       "    </tr>\n",
       "    <tr>\n",
       "      <th>first</th>\n",
       "      <td>NaN</td>\n",
       "      <td>NaN</td>\n",
       "      <td>NaN</td>\n",
       "      <td>NaN</td>\n",
       "      <td>NaN</td>\n",
       "      <td>2012-01-28 00:00:00</td>\n",
       "    </tr>\n",
       "    <tr>\n",
       "      <th>last</th>\n",
       "      <td>NaN</td>\n",
       "      <td>NaN</td>\n",
       "      <td>NaN</td>\n",
       "      <td>NaN</td>\n",
       "      <td>NaN</td>\n",
       "      <td>2018-05-26 00:00:00</td>\n",
       "    </tr>\n",
       "  </tbody>\n",
       "</table>\n",
       "</div>"
      ],
      "text/plain": [
       "        category        headline authors  \\\n",
       "count     200853          200853  200853   \n",
       "unique        41          199344   27993   \n",
       "top     POLITICS  Sunday Roundup           \n",
       "freq       32739              90   36620   \n",
       "first        NaN             NaN     NaN   \n",
       "last         NaN             NaN     NaN   \n",
       "\n",
       "                                                     link short_description  \\\n",
       "count                                              200853            200853   \n",
       "unique                                             200812            178353   \n",
       "top     https://www.huffingtonpost.comhttp://stylelike...                     \n",
       "freq                                                    2             19712   \n",
       "first                                                 NaN               NaN   \n",
       "last                                                  NaN               NaN   \n",
       "\n",
       "                       date  \n",
       "count                200853  \n",
       "unique                 2309  \n",
       "top     2013-04-24 00:00:00  \n",
       "freq                    100  \n",
       "first   2012-01-28 00:00:00  \n",
       "last    2018-05-26 00:00:00  "
      ]
     },
     "execution_count": 6,
     "metadata": {},
     "output_type": "execute_result"
    }
   ],
   "source": [
    "df.describe()"
   ]
  },
  {
   "cell_type": "code",
   "execution_count": null,
   "id": "9e341b98",
   "metadata": {},
   "outputs": [],
   "source": []
  },
  {
   "cell_type": "code",
   "execution_count": 7,
   "id": "c4ec5ddd",
   "metadata": {},
   "outputs": [
    {
     "name": "stdout",
     "output_type": "stream",
     "text": [
      "<class 'pandas.core.frame.DataFrame'>\n",
      "RangeIndex: 200853 entries, 0 to 200852\n",
      "Data columns (total 6 columns):\n",
      " #   Column             Non-Null Count   Dtype         \n",
      "---  ------             --------------   -----         \n",
      " 0   category           200853 non-null  object        \n",
      " 1   headline           200853 non-null  object        \n",
      " 2   authors            200853 non-null  object        \n",
      " 3   link               200853 non-null  object        \n",
      " 4   short_description  200853 non-null  object        \n",
      " 5   date               200853 non-null  datetime64[ns]\n",
      "dtypes: datetime64[ns](1), object(5)\n",
      "memory usage: 9.2+ MB\n"
     ]
    }
   ],
   "source": [
    "df.info()"
   ]
  },
  {
   "cell_type": "code",
   "execution_count": 8,
   "id": "bd2b92e7",
   "metadata": {},
   "outputs": [],
   "source": [
    "# Предобработка"
   ]
  },
  {
   "cell_type": "code",
   "execution_count": 9,
   "id": "e4639668",
   "metadata": {},
   "outputs": [],
   "source": [
    "df[\"news_text\"] = df[\"headline\"] + \" \" + df[\"short_description\"]"
   ]
  },
  {
   "cell_type": "code",
   "execution_count": 10,
   "id": "5ff013ff",
   "metadata": {},
   "outputs": [],
   "source": [
    "data = df[[\"news_text\", \"category\"]]"
   ]
  },
  {
   "cell_type": "code",
   "execution_count": 11,
   "id": "18e50a1c",
   "metadata": {},
   "outputs": [
    {
     "data": {
      "text/html": [
       "<div>\n",
       "<style scoped>\n",
       "    .dataframe tbody tr th:only-of-type {\n",
       "        vertical-align: middle;\n",
       "    }\n",
       "\n",
       "    .dataframe tbody tr th {\n",
       "        vertical-align: top;\n",
       "    }\n",
       "\n",
       "    .dataframe thead th {\n",
       "        text-align: right;\n",
       "    }\n",
       "</style>\n",
       "<table border=\"1\" class=\"dataframe\">\n",
       "  <thead>\n",
       "    <tr style=\"text-align: right;\">\n",
       "      <th></th>\n",
       "      <th>news_text</th>\n",
       "      <th>category</th>\n",
       "    </tr>\n",
       "  </thead>\n",
       "  <tbody>\n",
       "    <tr>\n",
       "      <th>0</th>\n",
       "      <td>There Were 2 Mass Shootings In Texas Last Week...</td>\n",
       "      <td>CRIME</td>\n",
       "    </tr>\n",
       "    <tr>\n",
       "      <th>1</th>\n",
       "      <td>Will Smith Joins Diplo And Nicky Jam For The 2...</td>\n",
       "      <td>ENTERTAINMENT</td>\n",
       "    </tr>\n",
       "    <tr>\n",
       "      <th>2</th>\n",
       "      <td>Hugh Grant Marries For The First Time At Age 5...</td>\n",
       "      <td>ENTERTAINMENT</td>\n",
       "    </tr>\n",
       "    <tr>\n",
       "      <th>3</th>\n",
       "      <td>Jim Carrey Blasts 'Castrato' Adam Schiff And D...</td>\n",
       "      <td>ENTERTAINMENT</td>\n",
       "    </tr>\n",
       "    <tr>\n",
       "      <th>4</th>\n",
       "      <td>Julianna Margulies Uses Donald Trump Poop Bags...</td>\n",
       "      <td>ENTERTAINMENT</td>\n",
       "    </tr>\n",
       "    <tr>\n",
       "      <th>...</th>\n",
       "      <td>...</td>\n",
       "      <td>...</td>\n",
       "    </tr>\n",
       "    <tr>\n",
       "      <th>200848</th>\n",
       "      <td>RIM CEO Thorsten Heins' 'Significant' Plans Fo...</td>\n",
       "      <td>TECH</td>\n",
       "    </tr>\n",
       "    <tr>\n",
       "      <th>200849</th>\n",
       "      <td>Maria Sharapova Stunned By Victoria Azarenka I...</td>\n",
       "      <td>SPORTS</td>\n",
       "    </tr>\n",
       "    <tr>\n",
       "      <th>200850</th>\n",
       "      <td>Giants Over Patriots, Jets Over Colts Among  M...</td>\n",
       "      <td>SPORTS</td>\n",
       "    </tr>\n",
       "    <tr>\n",
       "      <th>200851</th>\n",
       "      <td>Aldon Smith Arrested: 49ers Linebacker Busted ...</td>\n",
       "      <td>SPORTS</td>\n",
       "    </tr>\n",
       "    <tr>\n",
       "      <th>200852</th>\n",
       "      <td>Dwight Howard Rips Teammates After Magic Loss ...</td>\n",
       "      <td>SPORTS</td>\n",
       "    </tr>\n",
       "  </tbody>\n",
       "</table>\n",
       "<p>200853 rows × 2 columns</p>\n",
       "</div>"
      ],
      "text/plain": [
       "                                                news_text       category\n",
       "0       There Were 2 Mass Shootings In Texas Last Week...          CRIME\n",
       "1       Will Smith Joins Diplo And Nicky Jam For The 2...  ENTERTAINMENT\n",
       "2       Hugh Grant Marries For The First Time At Age 5...  ENTERTAINMENT\n",
       "3       Jim Carrey Blasts 'Castrato' Adam Schiff And D...  ENTERTAINMENT\n",
       "4       Julianna Margulies Uses Donald Trump Poop Bags...  ENTERTAINMENT\n",
       "...                                                   ...            ...\n",
       "200848  RIM CEO Thorsten Heins' 'Significant' Plans Fo...           TECH\n",
       "200849  Maria Sharapova Stunned By Victoria Azarenka I...         SPORTS\n",
       "200850  Giants Over Patriots, Jets Over Colts Among  M...         SPORTS\n",
       "200851  Aldon Smith Arrested: 49ers Linebacker Busted ...         SPORTS\n",
       "200852  Dwight Howard Rips Teammates After Magic Loss ...         SPORTS\n",
       "\n",
       "[200853 rows x 2 columns]"
      ]
     },
     "execution_count": 11,
     "metadata": {},
     "output_type": "execute_result"
    }
   ],
   "source": [
    "data"
   ]
  },
  {
   "cell_type": "code",
   "execution_count": null,
   "id": "76ef1422",
   "metadata": {},
   "outputs": [],
   "source": []
  },
  {
   "cell_type": "code",
   "execution_count": 12,
   "id": "3c0b28bb",
   "metadata": {},
   "outputs": [],
   "source": [
    "def first_value_less(na_stats_sorted, num):\n",
    "    return [i for i, e in enumerate(list(na_stats_sorted.values)) if e <= num][0]\n",
    "\n",
    "def find_persentage_of_nan(data):\n",
    "    na_info = data.isnull()\n",
    "    sum_na_info = na_info.sum()\n",
    "    na_stats = sum_na_info / data.shape[0] * 100\n",
    "    na_stats_sorted = na_stats.sort_values(ascending=False)\n",
    "    return na_stats_sorted"
   ]
  },
  {
   "cell_type": "code",
   "execution_count": 13,
   "id": "1fcbd58e",
   "metadata": {},
   "outputs": [
    {
     "data": {
      "text/plain": [
       "news_text    0.0\n",
       "category     0.0\n",
       "dtype: float64"
      ]
     },
     "execution_count": 13,
     "metadata": {},
     "output_type": "execute_result"
    }
   ],
   "source": [
    "# находим кол-во nan значений в датасете в процентах\n",
    "na_stats_sorted = find_persentage_of_nan(data)\n",
    "na_stats_sorted"
   ]
  },
  {
   "cell_type": "code",
   "execution_count": null,
   "id": "0f5383cd",
   "metadata": {},
   "outputs": [],
   "source": []
  },
  {
   "cell_type": "code",
   "execution_count": 14,
   "id": "c0f45526",
   "metadata": {},
   "outputs": [
    {
     "data": {
      "text/plain": [
       "200365"
      ]
     },
     "execution_count": 14,
     "metadata": {},
     "output_type": "execute_result"
    }
   ],
   "source": [
    "len(data.news_text.unique())"
   ]
  },
  {
   "cell_type": "code",
   "execution_count": 15,
   "id": "c0047ed3",
   "metadata": {},
   "outputs": [
    {
     "data": {
      "text/plain": [
       "200853"
      ]
     },
     "execution_count": 15,
     "metadata": {},
     "output_type": "execute_result"
    }
   ],
   "source": [
    "len(data.news_text)"
   ]
  },
  {
   "cell_type": "code",
   "execution_count": null,
   "id": "ad98419f",
   "metadata": {},
   "outputs": [],
   "source": []
  },
  {
   "cell_type": "code",
   "execution_count": 16,
   "id": "011c1f03",
   "metadata": {},
   "outputs": [],
   "source": [
    "news = data[~data.duplicated(subset=[\"news_text\"], keep=False)]"
   ]
  },
  {
   "cell_type": "code",
   "execution_count": 17,
   "id": "1bce5493",
   "metadata": {},
   "outputs": [
    {
     "data": {
      "text/html": [
       "<div>\n",
       "<style scoped>\n",
       "    .dataframe tbody tr th:only-of-type {\n",
       "        vertical-align: middle;\n",
       "    }\n",
       "\n",
       "    .dataframe tbody tr th {\n",
       "        vertical-align: top;\n",
       "    }\n",
       "\n",
       "    .dataframe thead th {\n",
       "        text-align: right;\n",
       "    }\n",
       "</style>\n",
       "<table border=\"1\" class=\"dataframe\">\n",
       "  <thead>\n",
       "    <tr style=\"text-align: right;\">\n",
       "      <th></th>\n",
       "      <th>news_text</th>\n",
       "      <th>category</th>\n",
       "    </tr>\n",
       "  </thead>\n",
       "  <tbody>\n",
       "    <tr>\n",
       "      <th>0</th>\n",
       "      <td>There Were 2 Mass Shootings In Texas Last Week...</td>\n",
       "      <td>CRIME</td>\n",
       "    </tr>\n",
       "    <tr>\n",
       "      <th>1</th>\n",
       "      <td>Will Smith Joins Diplo And Nicky Jam For The 2...</td>\n",
       "      <td>ENTERTAINMENT</td>\n",
       "    </tr>\n",
       "    <tr>\n",
       "      <th>2</th>\n",
       "      <td>Hugh Grant Marries For The First Time At Age 5...</td>\n",
       "      <td>ENTERTAINMENT</td>\n",
       "    </tr>\n",
       "    <tr>\n",
       "      <th>3</th>\n",
       "      <td>Jim Carrey Blasts 'Castrato' Adam Schiff And D...</td>\n",
       "      <td>ENTERTAINMENT</td>\n",
       "    </tr>\n",
       "    <tr>\n",
       "      <th>4</th>\n",
       "      <td>Julianna Margulies Uses Donald Trump Poop Bags...</td>\n",
       "      <td>ENTERTAINMENT</td>\n",
       "    </tr>\n",
       "    <tr>\n",
       "      <th>...</th>\n",
       "      <td>...</td>\n",
       "      <td>...</td>\n",
       "    </tr>\n",
       "    <tr>\n",
       "      <th>200848</th>\n",
       "      <td>RIM CEO Thorsten Heins' 'Significant' Plans Fo...</td>\n",
       "      <td>TECH</td>\n",
       "    </tr>\n",
       "    <tr>\n",
       "      <th>200849</th>\n",
       "      <td>Maria Sharapova Stunned By Victoria Azarenka I...</td>\n",
       "      <td>SPORTS</td>\n",
       "    </tr>\n",
       "    <tr>\n",
       "      <th>200850</th>\n",
       "      <td>Giants Over Patriots, Jets Over Colts Among  M...</td>\n",
       "      <td>SPORTS</td>\n",
       "    </tr>\n",
       "    <tr>\n",
       "      <th>200851</th>\n",
       "      <td>Aldon Smith Arrested: 49ers Linebacker Busted ...</td>\n",
       "      <td>SPORTS</td>\n",
       "    </tr>\n",
       "    <tr>\n",
       "      <th>200852</th>\n",
       "      <td>Dwight Howard Rips Teammates After Magic Loss ...</td>\n",
       "      <td>SPORTS</td>\n",
       "    </tr>\n",
       "  </tbody>\n",
       "</table>\n",
       "<p>200156 rows × 2 columns</p>\n",
       "</div>"
      ],
      "text/plain": [
       "                                                news_text       category\n",
       "0       There Were 2 Mass Shootings In Texas Last Week...          CRIME\n",
       "1       Will Smith Joins Diplo And Nicky Jam For The 2...  ENTERTAINMENT\n",
       "2       Hugh Grant Marries For The First Time At Age 5...  ENTERTAINMENT\n",
       "3       Jim Carrey Blasts 'Castrato' Adam Schiff And D...  ENTERTAINMENT\n",
       "4       Julianna Margulies Uses Donald Trump Poop Bags...  ENTERTAINMENT\n",
       "...                                                   ...            ...\n",
       "200848  RIM CEO Thorsten Heins' 'Significant' Plans Fo...           TECH\n",
       "200849  Maria Sharapova Stunned By Victoria Azarenka I...         SPORTS\n",
       "200850  Giants Over Patriots, Jets Over Colts Among  M...         SPORTS\n",
       "200851  Aldon Smith Arrested: 49ers Linebacker Busted ...         SPORTS\n",
       "200852  Dwight Howard Rips Teammates After Magic Loss ...         SPORTS\n",
       "\n",
       "[200156 rows x 2 columns]"
      ]
     },
     "execution_count": 17,
     "metadata": {},
     "output_type": "execute_result"
    }
   ],
   "source": [
    "news"
   ]
  },
  {
   "cell_type": "code",
   "execution_count": null,
   "id": "78088851",
   "metadata": {},
   "outputs": [],
   "source": []
  },
  {
   "cell_type": "code",
   "execution_count": 18,
   "id": "ef7fa4dc",
   "metadata": {
    "scrolled": false
   },
   "outputs": [
    {
     "data": {
      "text/plain": [
       "POLITICS          32702\n",
       "WELLNESS          17816\n",
       "ENTERTAINMENT     16050\n",
       "TRAVEL             9880\n",
       "STYLE & BEAUTY     9422\n",
       "PARENTING          8645\n",
       "HEALTHY LIVING     6687\n",
       "QUEER VOICES       6307\n",
       "FOOD & DRINK       6225\n",
       "BUSINESS           5931\n",
       "COMEDY             5159\n",
       "SPORTS             4884\n",
       "BLACK VOICES       4522\n",
       "HOME & LIVING      4140\n",
       "PARENTS            3892\n",
       "THE WORLDPOST      3664\n",
       "WEDDINGS           3651\n",
       "IMPACT             3455\n",
       "DIVORCE            3420\n",
       "CRIME              3397\n",
       "WOMEN              3393\n",
       "MEDIA              2810\n",
       "WEIRD NEWS         2670\n",
       "GREEN              2613\n",
       "WORLDPOST          2578\n",
       "RELIGION           2547\n",
       "STYLE              2243\n",
       "SCIENCE            2178\n",
       "WORLD NEWS         2175\n",
       "TASTE              2095\n",
       "TECH               2028\n",
       "MONEY              1706\n",
       "ARTS               1509\n",
       "FIFTY              1401\n",
       "GOOD NEWS          1398\n",
       "ARTS & CULTURE     1337\n",
       "ENVIRONMENT        1321\n",
       "COLLEGE            1144\n",
       "LATINO VOICES      1129\n",
       "CULTURE & ARTS     1028\n",
       "EDUCATION          1004\n",
       "Name: category, dtype: int64"
      ]
     },
     "execution_count": 18,
     "metadata": {},
     "output_type": "execute_result"
    }
   ],
   "source": [
    "news.category.value_counts()"
   ]
  },
  {
   "cell_type": "code",
   "execution_count": null,
   "id": "b93e75e0",
   "metadata": {},
   "outputs": [],
   "source": []
  },
  {
   "cell_type": "markdown",
   "id": "b8dcd025",
   "metadata": {},
   "source": [
    "# Подготовка датасета"
   ]
  },
  {
   "cell_type": "code",
   "execution_count": 19,
   "id": "3f433266",
   "metadata": {},
   "outputs": [],
   "source": [
    "#!conda install nltk -y\n",
    "#!pip install nltk"
   ]
  },
  {
   "cell_type": "code",
   "execution_count": 20,
   "id": "9df26468",
   "metadata": {},
   "outputs": [],
   "source": [
    "import nltk\n",
    "from nltk.corpus import stopwords"
   ]
  },
  {
   "cell_type": "code",
   "execution_count": 21,
   "id": "91e660c1",
   "metadata": {},
   "outputs": [
    {
     "name": "stderr",
     "output_type": "stream",
     "text": [
      "[nltk_data] Downloading package stopwords to\n",
      "[nltk_data]     C:\\Users\\sarat\\AppData\\Roaming\\nltk_data...\n",
      "[nltk_data]   Package stopwords is already up-to-date!\n"
     ]
    },
    {
     "data": {
      "text/plain": [
       "True"
      ]
     },
     "execution_count": 21,
     "metadata": {},
     "output_type": "execute_result"
    }
   ],
   "source": [
    "nltk.download('stopwords')"
   ]
  },
  {
   "cell_type": "code",
   "execution_count": 22,
   "id": "d88d29ad",
   "metadata": {},
   "outputs": [
    {
     "name": "stdout",
     "output_type": "stream",
     "text": [
      "['i', 'me', 'my', 'myself', 'we', 'our', 'ours', 'ourselves', 'you', \"you're\", \"you've\", \"you'll\", \"you'd\", 'your', 'yours', 'yourself', 'yourselves', 'he', 'him', 'his', 'himself', 'she', \"she's\", 'her', 'hers', 'herself', 'it', \"it's\", 'its', 'itself', 'they', 'them', 'their', 'theirs', 'themselves', 'what', 'which', 'who', 'whom', 'this', 'that', \"that'll\", 'these', 'those', 'am', 'is', 'are', 'was', 'were', 'be', 'been', 'being', 'have', 'has', 'had', 'having', 'do', 'does', 'did', 'doing', 'a', 'an', 'the', 'and', 'but', 'if', 'or', 'because', 'as', 'until', 'while', 'of', 'at', 'by', 'for', 'with', 'about', 'against', 'between', 'into', 'through', 'during', 'before', 'after', 'above', 'below', 'to', 'from', 'up', 'down', 'in', 'out', 'on', 'off', 'over', 'under', 'again', 'further', 'then', 'once', 'here', 'there', 'when', 'where', 'why', 'how', 'all', 'any', 'both', 'each', 'few', 'more', 'most', 'other', 'some', 'such', 'no', 'nor', 'not', 'only', 'own', 'same', 'so', 'than', 'too', 'very', 's', 't', 'can', 'will', 'just', 'don', \"don't\", 'should', \"should've\", 'now', 'd', 'll', 'm', 'o', 're', 've', 'y', 'ain', 'aren', \"aren't\", 'couldn', \"couldn't\", 'didn', \"didn't\", 'doesn', \"doesn't\", 'hadn', \"hadn't\", 'hasn', \"hasn't\", 'haven', \"haven't\", 'isn', \"isn't\", 'ma', 'mightn', \"mightn't\", 'mustn', \"mustn't\", 'needn', \"needn't\", 'shan', \"shan't\", 'shouldn', \"shouldn't\", 'wasn', \"wasn't\", 'weren', \"weren't\", 'won', \"won't\", 'wouldn', \"wouldn't\"]\n"
     ]
    }
   ],
   "source": [
    "stopwords = stopwords.words('english')\n",
    "print(stopwords)"
   ]
  },
  {
   "cell_type": "code",
   "execution_count": null,
   "id": "82fc59f1",
   "metadata": {},
   "outputs": [],
   "source": []
  },
  {
   "cell_type": "code",
   "execution_count": 23,
   "id": "c67c1fc1",
   "metadata": {},
   "outputs": [],
   "source": [
    "from nltk.tokenize import word_tokenize\n",
    "from nltk.stem import WordNetLemmatizer"
   ]
  },
  {
   "cell_type": "code",
   "execution_count": 24,
   "id": "17791c3a",
   "metadata": {},
   "outputs": [],
   "source": [
    "data_news = news.reset_index(drop=True)"
   ]
  },
  {
   "cell_type": "code",
   "execution_count": 25,
   "id": "0d4b985f",
   "metadata": {},
   "outputs": [],
   "source": [
    "# строчка для дебага, не удаляй\n",
    "data_news = data_news[:1000]"
   ]
  },
  {
   "cell_type": "code",
   "execution_count": null,
   "id": "3259770d",
   "metadata": {},
   "outputs": [],
   "source": []
  },
  {
   "cell_type": "code",
   "execution_count": 26,
   "id": "269eaff1",
   "metadata": {},
   "outputs": [
    {
     "name": "stderr",
     "output_type": "stream",
     "text": [
      "[nltk_data] Downloading package wordnet to\n",
      "[nltk_data]     C:\\Users\\sarat\\AppData\\Roaming\\nltk_data...\n",
      "[nltk_data]   Package wordnet is already up-to-date!\n"
     ]
    },
    {
     "data": {
      "text/plain": [
       "True"
      ]
     },
     "execution_count": 26,
     "metadata": {},
     "output_type": "execute_result"
    }
   ],
   "source": [
    "nltk.download('wordnet')"
   ]
  },
  {
   "cell_type": "code",
   "execution_count": 27,
   "id": "8e37c2de",
   "metadata": {},
   "outputs": [],
   "source": [
    "def lemmatize_df(df, stopwords, column):\n",
    "    lemmatizer = WordNetLemmatizer()\n",
    "    for i in range(len(df[column])):\n",
    "        temp_string = \"\"\n",
    "        for word in df[column][i].split():\n",
    "            word = (\"\".join(e for e in word if e.isalnum()))\n",
    "            word = word.lower()\n",
    "            word = lemmatizer.lemmatize(word)\n",
    "            if not word in stopwords:\n",
    "                temp_string += word + \" \"  \n",
    "            \n",
    "        df.at[i,column] = temp_string.strip()\n",
    "    return df"
   ]
  },
  {
   "cell_type": "code",
   "execution_count": 28,
   "id": "72724333",
   "metadata": {},
   "outputs": [],
   "source": [
    "lemmatized_data_news = lemmatize_df(data_news, stopwords, 'news_text')"
   ]
  },
  {
   "cell_type": "code",
   "execution_count": 29,
   "id": "20688f39",
   "metadata": {},
   "outputs": [
    {
     "data": {
      "text/html": [
       "<div>\n",
       "<style scoped>\n",
       "    .dataframe tbody tr th:only-of-type {\n",
       "        vertical-align: middle;\n",
       "    }\n",
       "\n",
       "    .dataframe tbody tr th {\n",
       "        vertical-align: top;\n",
       "    }\n",
       "\n",
       "    .dataframe thead th {\n",
       "        text-align: right;\n",
       "    }\n",
       "</style>\n",
       "<table border=\"1\" class=\"dataframe\">\n",
       "  <thead>\n",
       "    <tr style=\"text-align: right;\">\n",
       "      <th></th>\n",
       "      <th>news_text</th>\n",
       "      <th>category</th>\n",
       "    </tr>\n",
       "  </thead>\n",
       "  <tbody>\n",
       "    <tr>\n",
       "      <th>0</th>\n",
       "      <td>2 mass shooting texas last week 1 tv left husb...</td>\n",
       "      <td>CRIME</td>\n",
       "    </tr>\n",
       "    <tr>\n",
       "      <th>1</th>\n",
       "      <td>smith join diplo nicky jam 2018 world cup offi...</td>\n",
       "      <td>ENTERTAINMENT</td>\n",
       "    </tr>\n",
       "    <tr>\n",
       "      <th>2</th>\n",
       "      <td>hugh grant marries first time age 57 actor lon...</td>\n",
       "      <td>ENTERTAINMENT</td>\n",
       "    </tr>\n",
       "    <tr>\n",
       "      <th>3</th>\n",
       "      <td>jim carrey blast castrato adam schiff democrat...</td>\n",
       "      <td>ENTERTAINMENT</td>\n",
       "    </tr>\n",
       "    <tr>\n",
       "      <th>4</th>\n",
       "      <td>julianna margulies us donald trump poop bag pi...</td>\n",
       "      <td>ENTERTAINMENT</td>\n",
       "    </tr>\n",
       "    <tr>\n",
       "      <th>...</th>\n",
       "      <td>...</td>\n",
       "      <td>...</td>\n",
       "    </tr>\n",
       "    <tr>\n",
       "      <th>995</th>\n",
       "      <td>ny attorney general eric schneiderman resigns ...</td>\n",
       "      <td>POLITICS</td>\n",
       "    </tr>\n",
       "    <tr>\n",
       "      <th>996</th>\n",
       "      <td>sanctuary city working trump era surprising co...</td>\n",
       "      <td>POLITICS</td>\n",
       "    </tr>\n",
       "    <tr>\n",
       "      <th>997</th>\n",
       "      <td>shepard smith cant say trump pulled iran deal ...</td>\n",
       "      <td>MEDIA</td>\n",
       "    </tr>\n",
       "    <tr>\n",
       "      <th>998</th>\n",
       "      <td>stormy daniel find crunchy new way chip away t...</td>\n",
       "      <td>WEIRD NEWS</td>\n",
       "    </tr>\n",
       "    <tr>\n",
       "      <th>999</th>\n",
       "      <td>rainbow mountain peru look like theyre straigh...</td>\n",
       "      <td>TRAVEL</td>\n",
       "    </tr>\n",
       "  </tbody>\n",
       "</table>\n",
       "<p>1000 rows × 2 columns</p>\n",
       "</div>"
      ],
      "text/plain": [
       "                                             news_text       category\n",
       "0    2 mass shooting texas last week 1 tv left husb...          CRIME\n",
       "1    smith join diplo nicky jam 2018 world cup offi...  ENTERTAINMENT\n",
       "2    hugh grant marries first time age 57 actor lon...  ENTERTAINMENT\n",
       "3    jim carrey blast castrato adam schiff democrat...  ENTERTAINMENT\n",
       "4    julianna margulies us donald trump poop bag pi...  ENTERTAINMENT\n",
       "..                                                 ...            ...\n",
       "995  ny attorney general eric schneiderman resigns ...       POLITICS\n",
       "996  sanctuary city working trump era surprising co...       POLITICS\n",
       "997  shepard smith cant say trump pulled iran deal ...          MEDIA\n",
       "998  stormy daniel find crunchy new way chip away t...     WEIRD NEWS\n",
       "999  rainbow mountain peru look like theyre straigh...         TRAVEL\n",
       "\n",
       "[1000 rows x 2 columns]"
      ]
     },
     "execution_count": 29,
     "metadata": {},
     "output_type": "execute_result"
    }
   ],
   "source": [
    "lemmatized_data_news"
   ]
  },
  {
   "cell_type": "code",
   "execution_count": null,
   "id": "c1afed71",
   "metadata": {},
   "outputs": [],
   "source": []
  },
  {
   "cell_type": "code",
   "execution_count": 30,
   "id": "9302fd82",
   "metadata": {},
   "outputs": [],
   "source": [
    "data_copy = lemmatized_data_news.copy()"
   ]
  },
  {
   "cell_type": "code",
   "execution_count": 31,
   "id": "ee879b3c",
   "metadata": {},
   "outputs": [],
   "source": [
    "from sklearn import preprocessing"
   ]
  },
  {
   "cell_type": "code",
   "execution_count": 32,
   "id": "3549cead",
   "metadata": {},
   "outputs": [],
   "source": [
    "encoders = {}\n",
    "\n",
    "encoder = preprocessing.LabelEncoder()\n",
    "encoder.fit(data_copy[\"category\"])\n",
    "data_copy[\"category\"] = encoder.transform(data_copy[\"category\"])\n",
    "encoders[\"category\"] = encoder\n",
    "    "
   ]
  },
  {
   "cell_type": "code",
   "execution_count": 33,
   "id": "411623a1",
   "metadata": {},
   "outputs": [
    {
     "data": {
      "text/html": [
       "<div>\n",
       "<style scoped>\n",
       "    .dataframe tbody tr th:only-of-type {\n",
       "        vertical-align: middle;\n",
       "    }\n",
       "\n",
       "    .dataframe tbody tr th {\n",
       "        vertical-align: top;\n",
       "    }\n",
       "\n",
       "    .dataframe thead th {\n",
       "        text-align: right;\n",
       "    }\n",
       "</style>\n",
       "<table border=\"1\" class=\"dataframe\">\n",
       "  <thead>\n",
       "    <tr style=\"text-align: right;\">\n",
       "      <th></th>\n",
       "      <th>news_text</th>\n",
       "      <th>category</th>\n",
       "    </tr>\n",
       "  </thead>\n",
       "  <tbody>\n",
       "    <tr>\n",
       "      <th>0</th>\n",
       "      <td>2 mass shooting texas last week 1 tv left husb...</td>\n",
       "      <td>3</td>\n",
       "    </tr>\n",
       "    <tr>\n",
       "      <th>1</th>\n",
       "      <td>smith join diplo nicky jam 2018 world cup offi...</td>\n",
       "      <td>5</td>\n",
       "    </tr>\n",
       "    <tr>\n",
       "      <th>2</th>\n",
       "      <td>hugh grant marries first time age 57 actor lon...</td>\n",
       "      <td>5</td>\n",
       "    </tr>\n",
       "    <tr>\n",
       "      <th>3</th>\n",
       "      <td>jim carrey blast castrato adam schiff democrat...</td>\n",
       "      <td>5</td>\n",
       "    </tr>\n",
       "    <tr>\n",
       "      <th>4</th>\n",
       "      <td>julianna margulies us donald trump poop bag pi...</td>\n",
       "      <td>5</td>\n",
       "    </tr>\n",
       "    <tr>\n",
       "      <th>...</th>\n",
       "      <td>...</td>\n",
       "      <td>...</td>\n",
       "    </tr>\n",
       "    <tr>\n",
       "      <th>995</th>\n",
       "      <td>ny attorney general eric schneiderman resigns ...</td>\n",
       "      <td>9</td>\n",
       "    </tr>\n",
       "    <tr>\n",
       "      <th>996</th>\n",
       "      <td>sanctuary city working trump era surprising co...</td>\n",
       "      <td>9</td>\n",
       "    </tr>\n",
       "    <tr>\n",
       "      <th>997</th>\n",
       "      <td>shepard smith cant say trump pulled iran deal ...</td>\n",
       "      <td>8</td>\n",
       "    </tr>\n",
       "    <tr>\n",
       "      <th>998</th>\n",
       "      <td>stormy daniel find crunchy new way chip away t...</td>\n",
       "      <td>16</td>\n",
       "    </tr>\n",
       "    <tr>\n",
       "      <th>999</th>\n",
       "      <td>rainbow mountain peru look like theyre straigh...</td>\n",
       "      <td>15</td>\n",
       "    </tr>\n",
       "  </tbody>\n",
       "</table>\n",
       "<p>1000 rows × 2 columns</p>\n",
       "</div>"
      ],
      "text/plain": [
       "                                             news_text  category\n",
       "0    2 mass shooting texas last week 1 tv left husb...         3\n",
       "1    smith join diplo nicky jam 2018 world cup offi...         5\n",
       "2    hugh grant marries first time age 57 actor lon...         5\n",
       "3    jim carrey blast castrato adam schiff democrat...         5\n",
       "4    julianna margulies us donald trump poop bag pi...         5\n",
       "..                                                 ...       ...\n",
       "995  ny attorney general eric schneiderman resigns ...         9\n",
       "996  sanctuary city working trump era surprising co...         9\n",
       "997  shepard smith cant say trump pulled iran deal ...         8\n",
       "998  stormy daniel find crunchy new way chip away t...        16\n",
       "999  rainbow mountain peru look like theyre straigh...        15\n",
       "\n",
       "[1000 rows x 2 columns]"
      ]
     },
     "execution_count": 33,
     "metadata": {},
     "output_type": "execute_result"
    }
   ],
   "source": [
    "data_copy"
   ]
  },
  {
   "cell_type": "code",
   "execution_count": null,
   "id": "831eff3e",
   "metadata": {},
   "outputs": [],
   "source": []
  },
  {
   "cell_type": "code",
   "execution_count": 34,
   "id": "cc92b107",
   "metadata": {},
   "outputs": [],
   "source": [
    "from sklearn.model_selection import train_test_split"
   ]
  },
  {
   "cell_type": "code",
   "execution_count": 35,
   "id": "dc7f3077",
   "metadata": {},
   "outputs": [],
   "source": [
    "data_split = data_copy.copy()\n",
    "y = data_split['category'].values\n",
    "x = data_split.drop(['category'], axis=1)"
   ]
  },
  {
   "cell_type": "code",
   "execution_count": 36,
   "id": "711787d4",
   "metadata": {},
   "outputs": [],
   "source": [
    "X_train_pre, X_test_pre, Y_train, Y_test = train_test_split(x, y, test_size=0.3)"
   ]
  },
  {
   "cell_type": "code",
   "execution_count": null,
   "id": "363ad08d",
   "metadata": {},
   "outputs": [],
   "source": []
  },
  {
   "cell_type": "markdown",
   "id": "ee1c91a9",
   "metadata": {},
   "source": [
    "### Векторизация 1"
   ]
  },
  {
   "cell_type": "code",
   "execution_count": null,
   "id": "d19ed4d9",
   "metadata": {},
   "outputs": [],
   "source": []
  },
  {
   "cell_type": "code",
   "execution_count": 37,
   "id": "c4189d7f",
   "metadata": {},
   "outputs": [],
   "source": [
    "from sklearn.feature_extraction.text import CountVectorizer"
   ]
  },
  {
   "cell_type": "code",
   "execution_count": 38,
   "id": "f837dfc1",
   "metadata": {},
   "outputs": [],
   "source": [
    "vect = CountVectorizer(min_df=5)"
   ]
  },
  {
   "cell_type": "code",
   "execution_count": 39,
   "id": "b80a350a",
   "metadata": {},
   "outputs": [],
   "source": [
    "X_train_ = list(X_train_pre['news_text'])[:]"
   ]
  },
  {
   "cell_type": "code",
   "execution_count": 40,
   "id": "f3858609",
   "metadata": {},
   "outputs": [],
   "source": [
    "X_test_ = X_test_pre['news_text'].copy()"
   ]
  },
  {
   "cell_type": "code",
   "execution_count": 41,
   "id": "5c3690fa",
   "metadata": {},
   "outputs": [],
   "source": [
    "X_train_review_bow = vect.fit_transform(X_train_).toarray()\n",
    "X_test_review_bow = vect.transform(X_test_).toarray()"
   ]
  },
  {
   "cell_type": "code",
   "execution_count": null,
   "id": "df20c7d0",
   "metadata": {},
   "outputs": [],
   "source": []
  },
  {
   "cell_type": "markdown",
   "id": "963a9bd1",
   "metadata": {},
   "source": [
    "# Проверка на правильность обработки и разбиения"
   ]
  },
  {
   "cell_type": "code",
   "execution_count": null,
   "id": "b1bc6900",
   "metadata": {},
   "outputs": [],
   "source": []
  },
  {
   "cell_type": "code",
   "execution_count": 42,
   "id": "9a0ef9c5",
   "metadata": {},
   "outputs": [],
   "source": [
    "# Взяли алгоритм Байеса для проверки подготовленного датасета\n",
    "# тем самым исключаем ощибки допущенные в постобработке"
   ]
  },
  {
   "cell_type": "code",
   "execution_count": 43,
   "id": "371d2837",
   "metadata": {},
   "outputs": [],
   "source": [
    "from sklearn.naive_bayes import MultinomialNB\n",
    "from sklearn.metrics import accuracy_score\n",
    "clf = MultinomialNB()\n",
    "clf.fit(X_train_review_bow, Y_train)\n",
    "y_pred = clf.predict(X_test_review_bow)"
   ]
  },
  {
   "cell_type": "code",
   "execution_count": 44,
   "id": "9a73f2fe",
   "metadata": {},
   "outputs": [
    {
     "name": "stdout",
     "output_type": "stream",
     "text": [
      "Test Accuracy:  0.6433333333333333\n"
     ]
    }
   ],
   "source": [
    "print ('Test Accuracy: ', accuracy_score(Y_test, y_pred))"
   ]
  },
  {
   "cell_type": "code",
   "execution_count": null,
   "id": "672eafc3",
   "metadata": {},
   "outputs": [],
   "source": []
  },
  {
   "cell_type": "markdown",
   "id": "09955c5f",
   "metadata": {},
   "source": [
    "# Нейронные сети: обучение и тесты"
   ]
  },
  {
   "cell_type": "code",
   "execution_count": null,
   "id": "a0722e68",
   "metadata": {},
   "outputs": [],
   "source": []
  },
  {
   "cell_type": "code",
   "execution_count": null,
   "id": "df7176cf",
   "metadata": {},
   "outputs": [],
   "source": []
  },
  {
   "cell_type": "code",
   "execution_count": 45,
   "id": "bcf33b75",
   "metadata": {},
   "outputs": [],
   "source": [
    "#!pip install pytorch torchvision torchaudio\n",
    "#!conda install pytorch torchvision torchaudio -c pytorch -y"
   ]
  },
  {
   "cell_type": "code",
   "execution_count": null,
   "id": "b51eb49d",
   "metadata": {},
   "outputs": [],
   "source": []
  },
  {
   "cell_type": "code",
   "execution_count": 77,
   "id": "0e97ab2f",
   "metadata": {},
   "outputs": [],
   "source": [
    "import torch\n",
    "from torch import nn, optim\n",
    "import torch.nn.functional as F\n",
    "import seaborn as sn\n",
    "\n",
    "from sklearn.metrics import confusion_matrix"
   ]
  },
  {
   "cell_type": "code",
   "execution_count": null,
   "id": "bdfc7b91",
   "metadata": {},
   "outputs": [],
   "source": []
  },
  {
   "cell_type": "code",
   "execution_count": 121,
   "id": "3b572f15",
   "metadata": {},
   "outputs": [],
   "source": [
    "def train_model(model, epochs, criterion, optimizer, X_train, Y_train, X_test, Y_test):\n",
    "    losses = []\n",
    "    accs = []\n",
    "    for i in range(epochs):\n",
    "        i += 1\n",
    "        Y_pred = model.forward(X_train)\n",
    "        loss = criterion(Y_pred, Y_train)\n",
    "        losses.append(loss)\n",
    "        acc = test_model(model, X_test, Y_test, 0)\n",
    "        accs.append(acc)\n",
    "        print(f'epoch: {i:2}  loss: {loss.item():10.8f} acc: {acc}')\n",
    "\n",
    "        optimizer.zero_grad()\n",
    "        loss.backward()\n",
    "        optimizer.step()\n",
    "        \n",
    "    return model, accs, losses"
   ]
  },
  {
   "cell_type": "code",
   "execution_count": 79,
   "id": "eb2d73f9",
   "metadata": {},
   "outputs": [],
   "source": [
    "def test_model(model, X_test, Y_test, show):\n",
    "    counter = 0\n",
    "    y_test_len = len(Y_test)\n",
    "\n",
    "    with torch.no_grad():\n",
    "        for i,data in enumerate(X_test):\n",
    "            y_val = model.forward(data)\n",
    "            if y_val.argmax().item() == Y_test[i]:\n",
    "                counter += 1\n",
    "    res = 100*counter/y_test_len\n",
    "    if show:\n",
    "        print(f'{counter} out of {y_test_len} = {res}% right')\n",
    "    else:\n",
    "        return res"
   ]
  },
  {
   "cell_type": "code",
   "execution_count": 138,
   "id": "5ed7d953",
   "metadata": {},
   "outputs": [],
   "source": [
    "def test_res_model(model, X_test, Y_test, show, target_names):\n",
    "    pr = []\n",
    "    with torch.no_grad():\n",
    "        for i,data in enumerate(X_test):\n",
    "            y_val = model.forward(data)\n",
    "            res = y_val.argmax().item()\n",
    "            pr.append(res)\n",
    "    res = confusion_matrix(Y_test, pr)\n",
    "    if show:\n",
    "        df_cm = pd.DataFrame(res)\n",
    "        plt.figure(figsize = (10,10))\n",
    "        sn.heatmap(df_cm, annot=True, xticklabels=target_names, yticklabels=target_names)\n",
    "    else:\n",
    "        return res"
   ]
  },
  {
   "cell_type": "code",
   "execution_count": null,
   "id": "1a43c22c",
   "metadata": {},
   "outputs": [],
   "source": []
  },
  {
   "cell_type": "code",
   "execution_count": 139,
   "id": "2cfd9874",
   "metadata": {},
   "outputs": [],
   "source": [
    "X_train = torch.Tensor(X_train_review_bow)\n",
    "Y_train = torch.LongTensor(Y_train)\n",
    "X_test = torch.Tensor(X_test_review_bow)\n",
    "Y_test = torch.LongTensor(Y_test)"
   ]
  },
  {
   "cell_type": "code",
   "execution_count": 140,
   "id": "7fa79e50",
   "metadata": {},
   "outputs": [
    {
     "data": {
      "text/plain": [
       "477"
      ]
     },
     "execution_count": 140,
     "metadata": {},
     "output_type": "execute_result"
    }
   ],
   "source": [
    "len_vector = X_train_review_bow.shape[1]\n",
    "len_vector"
   ]
  },
  {
   "cell_type": "code",
   "execution_count": 141,
   "id": "24d0721c",
   "metadata": {},
   "outputs": [
    {
     "data": {
      "text/plain": [
       "array(['BLACK VOICES', 'BUSINESS', 'COMEDY', 'CRIME', 'EDUCATION',\n",
       "       'ENTERTAINMENT', 'IMPACT', 'LATINO VOICES', 'MEDIA', 'POLITICS',\n",
       "       'QUEER VOICES', 'RELIGION', 'SCIENCE', 'SPORTS', 'TECH', 'TRAVEL',\n",
       "       'WEIRD NEWS', 'WOMEN', 'WORLD NEWS'], dtype=object)"
      ]
     },
     "execution_count": 141,
     "metadata": {},
     "output_type": "execute_result"
    }
   ],
   "source": [
    "target_names = encoders['category'].inverse_transform(sorted(data_split['category'].unique()))\n",
    "target_names"
   ]
  },
  {
   "cell_type": "code",
   "execution_count": null,
   "id": "03aad526",
   "metadata": {},
   "outputs": [],
   "source": []
  },
  {
   "cell_type": "markdown",
   "id": "8af7785e",
   "metadata": {},
   "source": [
    "### Модель №1"
   ]
  },
  {
   "cell_type": "code",
   "execution_count": null,
   "id": "6437488d",
   "metadata": {},
   "outputs": [],
   "source": []
  },
  {
   "cell_type": "code",
   "execution_count": 142,
   "id": "d592fdf2",
   "metadata": {},
   "outputs": [],
   "source": [
    "model1 = nn.Sequential(\n",
    "        nn.Linear(len_vector, 41),\n",
    "        nn.ReLU(),\n",
    "        nn.Sigmoid(),\n",
    "        nn.Linear(41, 41),\n",
    "        nn.ReLU(),\n",
    "        nn.Sigmoid())"
   ]
  },
  {
   "cell_type": "code",
   "execution_count": 143,
   "id": "68d81f84",
   "metadata": {},
   "outputs": [],
   "source": [
    "criterion = nn.CrossEntropyLoss()\n",
    "optimizer = torch.optim.Adam(model.parameters(), lr=0.01)"
   ]
  },
  {
   "cell_type": "code",
   "execution_count": null,
   "id": "20dbba5b",
   "metadata": {},
   "outputs": [],
   "source": []
  },
  {
   "cell_type": "code",
   "execution_count": 144,
   "id": "79cf68d8",
   "metadata": {},
   "outputs": [
    {
     "name": "stdout",
     "output_type": "stream",
     "text": [
      "epoch:  1  loss: 3.71573758 acc: 7.666666666666667\n",
      "epoch:  2  loss: 3.71573758 acc: 7.666666666666667\n",
      "epoch:  3  loss: 3.71573758 acc: 7.666666666666667\n"
     ]
    }
   ],
   "source": [
    "#epochs1 = 30\n",
    "epochs1 = 3\n",
    "model1_, accs1, losses1 = train_model(model1, epochs1, criterion, optimizer, X_train, Y_train, X_test, Y_test)"
   ]
  },
  {
   "cell_type": "code",
   "execution_count": null,
   "id": "714101da",
   "metadata": {},
   "outputs": [],
   "source": []
  },
  {
   "cell_type": "code",
   "execution_count": 145,
   "id": "aa290d2f",
   "metadata": {},
   "outputs": [
    {
     "data": {
      "image/png": "[encoded data removed]",
      "text/plain": [
       "<Figure size 720x720 with 2 Axes>"
      ]
     },
     "metadata": {
      "needs_background": "light"
     },
     "output_type": "display_data"
    }
   ],
   "source": [
    "test_res_model(model1_, X_test, Y_test, 1, target_names)"
   ]
  },
  {
   "cell_type": "code",
   "execution_count": null,
   "id": "576df404",
   "metadata": {},
   "outputs": [],
   "source": []
  },
  {
   "cell_type": "markdown",
   "id": "47b2e6c5",
   "metadata": {},
   "source": [
    "### Модель №2"
   ]
  },
  {
   "cell_type": "code",
   "execution_count": null,
   "id": "09529ab3",
   "metadata": {},
   "outputs": [],
   "source": []
  },
  {
   "cell_type": "code",
   "execution_count": 146,
   "id": "51d2889a",
   "metadata": {},
   "outputs": [],
   "source": [
    "model2 = nn.Sequential(\n",
    "        nn.Linear(len_vector, 2624),\n",
    "        nn.Linear(2624, 656),\n",
    "        nn.Linear(656, 164),\n",
    "        nn.Linear(164, 41))"
   ]
  },
  {
   "cell_type": "code",
   "execution_count": 147,
   "id": "43df3fd5",
   "metadata": {},
   "outputs": [],
   "source": [
    "criterion = nn.CrossEntropyLoss()\n",
    "optimizer = torch.optim.Adam(model2.parameters(), lr=0.01)"
   ]
  },
  {
   "cell_type": "code",
   "execution_count": null,
   "id": "82b7b088",
   "metadata": {},
   "outputs": [],
   "source": []
  },
  {
   "cell_type": "code",
   "execution_count": 150,
   "id": "5c68cdfe",
   "metadata": {},
   "outputs": [
    {
     "name": "stdout",
     "output_type": "stream",
     "text": [
      "epoch:  1  loss: 0.00857149 acc: 52.666666666666664\n",
      "epoch:  2  loss: 0.00764836 acc: 51.666666666666664\n",
      "epoch:  3  loss: 0.00634646 acc: 52.333333333333336\n",
      "epoch:  4  loss: 0.00559197 acc: 52.0\n",
      "epoch:  5  loss: 0.00497689 acc: 52.0\n",
      "epoch:  6  loss: 0.00435467 acc: 52.0\n",
      "epoch:  7  loss: 0.00373033 acc: 52.0\n",
      "epoch:  8  loss: 0.00315362 acc: 51.666666666666664\n",
      "epoch:  9  loss: 0.00264894 acc: 52.0\n",
      "epoch: 10  loss: 0.00220233 acc: 52.0\n",
      "epoch: 11  loss: 0.00182666 acc: 52.0\n",
      "epoch: 12  loss: 0.00152801 acc: 51.333333333333336\n",
      "epoch: 13  loss: 0.00128374 acc: 51.0\n",
      "epoch: 14  loss: 0.00107934 acc: 51.0\n",
      "epoch: 15  loss: 0.00091172 acc: 51.0\n",
      "epoch: 16  loss: 0.00077814 acc: 51.333333333333336\n",
      "epoch: 17  loss: 0.00067254 acc: 51.333333333333336\n",
      "epoch: 18  loss: 0.00058833 acc: 51.333333333333336\n",
      "epoch: 19  loss: 0.00052058 acc: 51.666666666666664\n",
      "epoch: 20  loss: 0.00046582 acc: 51.666666666666664\n",
      "epoch: 21  loss: 0.00042113 acc: 51.666666666666664\n",
      "epoch: 22  loss: 0.00038405 acc: 52.0\n",
      "epoch: 23  loss: 0.00035261 acc: 52.0\n",
      "epoch: 24  loss: 0.00032530 acc: 52.0\n",
      "epoch: 25  loss: 0.00030113 acc: 52.0\n",
      "epoch: 26  loss: 0.00027964 acc: 52.0\n",
      "epoch: 27  loss: 0.00026068 acc: 52.0\n",
      "epoch: 28  loss: 0.00024408 acc: 52.0\n",
      "epoch: 29  loss: 0.00022958 acc: 52.0\n",
      "epoch: 30  loss: 0.00021685 acc: 52.0\n",
      "epoch: 31  loss: 0.00020559 acc: 52.0\n",
      "epoch: 32  loss: 0.00019554 acc: 52.0\n",
      "epoch: 33  loss: 0.00018650 acc: 52.0\n",
      "epoch: 34  loss: 0.00017837 acc: 52.333333333333336\n",
      "epoch: 35  loss: 0.00017105 acc: 52.0\n",
      "epoch: 36  loss: 0.00016446 acc: 52.0\n",
      "epoch: 37  loss: 0.00015852 acc: 52.0\n",
      "epoch: 38  loss: 0.00015317 acc: 52.0\n",
      "epoch: 39  loss: 0.00014832 acc: 52.0\n",
      "epoch: 40  loss: 0.00014391 acc: 52.0\n"
     ]
    }
   ],
   "source": [
    "epochs2 = 40\n",
    "model2_, accs2, losses2 = train_model(model2, epochs2, criterion, optimizer, X_train, Y_train, X_test, Y_test)"
   ]
  },
  {
   "cell_type": "code",
   "execution_count": 151,
   "id": "92f3b103",
   "metadata": {},
   "outputs": [
    {
     "data": {
      "image/png": "[encoded data removed]",
      "text/plain": [
       "<Figure size 720x720 with 2 Axes>"
      ]
     },
     "metadata": {
      "needs_background": "light"
     },
     "output_type": "display_data"
    }
   ],
   "source": [
    "test_res_model(model2_, X_test, Y_test, 1, target_names)"
   ]
  },
  {
   "cell_type": "code",
   "execution_count": null,
   "id": "df1638fa",
   "metadata": {},
   "outputs": [],
   "source": []
  },
  {
   "cell_type": "markdown",
   "id": "f69e9e2a",
   "metadata": {},
   "source": [
    "### Векторизация 2"
   ]
  },
  {
   "cell_type": "code",
   "execution_count": null,
   "id": "8f7e9535",
   "metadata": {},
   "outputs": [],
   "source": []
  },
  {
   "cell_type": "code",
   "execution_count": 102,
   "id": "64153b25",
   "metadata": {},
   "outputs": [],
   "source": [
    "from sklearn.feature_extraction.text import TfidfVectorizer"
   ]
  },
  {
   "cell_type": "code",
   "execution_count": 103,
   "id": "9064cb47",
   "metadata": {},
   "outputs": [],
   "source": [
    "vect_ = TfidfVectorizer(min_df=10)"
   ]
  },
  {
   "cell_type": "code",
   "execution_count": 104,
   "id": "cdb08d45",
   "metadata": {},
   "outputs": [],
   "source": [
    "X_train_ = list(X_train_pre['news_text'])[:]\n",
    "X_test_ = X_test_pre['news_text'].copy()"
   ]
  },
  {
   "cell_type": "code",
   "execution_count": 105,
   "id": "e6c06e2e",
   "metadata": {},
   "outputs": [],
   "source": [
    "X_train_review_bow_ = vect_.fit_transform(X_train_).toarray()\n",
    "X_test_review_bow_ = vect_.transform(X_test_).toarray()"
   ]
  },
  {
   "cell_type": "code",
   "execution_count": 106,
   "id": "ac5725c7",
   "metadata": {},
   "outputs": [],
   "source": [
    "X_train = torch.Tensor(X_train_review_bow)\n",
    "Y_train = torch.LongTensor(Y_train)\n",
    "X_test = torch.Tensor(X_test_review_bow)\n",
    "Y_test = torch.LongTensor(Y_test)"
   ]
  },
  {
   "cell_type": "code",
   "execution_count": 107,
   "id": "7feb189c",
   "metadata": {},
   "outputs": [
    {
     "data": {
      "text/plain": [
       "477"
      ]
     },
     "execution_count": 107,
     "metadata": {},
     "output_type": "execute_result"
    }
   ],
   "source": [
    "len_vector = X_train_review_bow.shape[1]\n",
    "len_vector"
   ]
  },
  {
   "cell_type": "code",
   "execution_count": null,
   "id": "c04f14ba",
   "metadata": {},
   "outputs": [],
   "source": []
  },
  {
   "cell_type": "code",
   "execution_count": null,
   "id": "05ae3aa4",
   "metadata": {},
   "outputs": [],
   "source": []
  },
  {
   "cell_type": "markdown",
   "id": "4314bfaf",
   "metadata": {},
   "source": [
    "### Модель 3"
   ]
  },
  {
   "cell_type": "code",
   "execution_count": 152,
   "id": "9b36aa4a",
   "metadata": {},
   "outputs": [],
   "source": [
    "class Model3(nn.Module):\n",
    "    def __init__(self):\n",
    "        super(Model3, self).__init__()\n",
    "        self.fc1 = nn.Linear(len_vector, 656)\n",
    "        self.fc2 = nn.Linear(656, 328)\n",
    "        self.fc3 = nn.Linear(328, 164)\n",
    "        self.fc4 = nn.Linear(164, 82)\n",
    "        self.fc5 = nn.Linear(82, 41)\n",
    "    \n",
    "    def forward(self, x):\n",
    "        x = F.leaky_relu(self.fc1(x))\n",
    "        x = F.leaky_relu(self.fc2(x))\n",
    "        x = F.relu(self.fc3(x))\n",
    "        x = F.relu(self.fc4(x))\n",
    "        x = F.relu(self.fc5(x))\n",
    "        return x"
   ]
  },
  {
   "cell_type": "code",
   "execution_count": 153,
   "id": "8b5b09c9",
   "metadata": {},
   "outputs": [],
   "source": [
    "model3 = Model3()"
   ]
  },
  {
   "cell_type": "code",
   "execution_count": 154,
   "id": "8f7a90ad",
   "metadata": {},
   "outputs": [],
   "source": [
    "criterion = nn.CrossEntropyLoss()\n",
    "optimizer = torch.optim.Adam(model3.parameters(), lr=0.01)"
   ]
  },
  {
   "cell_type": "code",
   "execution_count": 155,
   "id": "8613e464",
   "metadata": {},
   "outputs": [
    {
     "name": "stdout",
     "output_type": "stream",
     "text": [
      "epoch:  1  loss: 3.71055627 acc: 1.3333333333333333\n",
      "epoch:  2  loss: 3.38834715 acc: 38.0\n",
      "epoch:  3  loss: 3.41352892 acc: 38.0\n",
      "epoch:  4  loss: 2.74135852 acc: 38.0\n",
      "epoch:  5  loss: 2.99689078 acc: 21.0\n",
      "epoch:  6  loss: 3.01655459 acc: 21.0\n",
      "epoch:  7  loss: 2.94264603 acc: 21.0\n",
      "epoch:  8  loss: 2.64208817 acc: 21.0\n",
      "epoch:  9  loss: 2.23862720 acc: 27.333333333333332\n",
      "epoch: 10  loss: 1.96846294 acc: 38.0\n",
      "epoch: 11  loss: 2.21286941 acc: 38.0\n",
      "epoch: 12  loss: 2.18975520 acc: 38.0\n",
      "epoch: 13  loss: 1.89327323 acc: 38.0\n",
      "epoch: 14  loss: 1.83011127 acc: 38.666666666666664\n",
      "epoch: 15  loss: 1.90377355 acc: 21.0\n",
      "epoch: 16  loss: 1.85746944 acc: 21.666666666666668\n",
      "epoch: 17  loss: 1.71965456 acc: 52.666666666666664\n",
      "epoch: 18  loss: 1.61906028 acc: 46.333333333333336\n",
      "epoch: 19  loss: 1.57593226 acc: 44.666666666666664\n",
      "epoch: 20  loss: 1.49219906 acc: 50.666666666666664\n",
      "epoch: 21  loss: 1.39107287 acc: 53.333333333333336\n",
      "epoch: 22  loss: 1.31990492 acc: 51.666666666666664\n",
      "epoch: 23  loss: 1.25701094 acc: 52.333333333333336\n",
      "epoch: 24  loss: 1.20773327 acc: 53.0\n",
      "epoch: 25  loss: 1.15883815 acc: 52.333333333333336\n",
      "epoch: 26  loss: 1.11726332 acc: 52.0\n",
      "epoch: 27  loss: 1.06910479 acc: 52.333333333333336\n",
      "epoch: 28  loss: 1.02883673 acc: 51.666666666666664\n",
      "epoch: 29  loss: 0.98304057 acc: 50.666666666666664\n",
      "epoch: 30  loss: 0.94597667 acc: 51.333333333333336\n",
      "epoch: 31  loss: 0.90530109 acc: 52.0\n",
      "epoch: 32  loss: 0.88093531 acc: 51.0\n",
      "epoch: 33  loss: 0.82797414 acc: 52.333333333333336\n",
      "epoch: 34  loss: 0.79378909 acc: 50.666666666666664\n",
      "epoch: 35  loss: 0.79935431 acc: 49.333333333333336\n",
      "epoch: 36  loss: 0.79210258 acc: 51.666666666666664\n",
      "epoch: 37  loss: 0.80087656 acc: 51.333333333333336\n",
      "epoch: 38  loss: 0.77145445 acc: 51.0\n",
      "epoch: 39  loss: 0.75760007 acc: 51.0\n",
      "epoch: 40  loss: 0.72567111 acc: 49.666666666666664\n",
      "epoch: 41  loss: 0.71547544 acc: 46.0\n",
      "epoch: 42  loss: 0.71257192 acc: 48.666666666666664\n",
      "epoch: 43  loss: 0.70682615 acc: 50.0\n",
      "epoch: 44  loss: 0.68671978 acc: 50.666666666666664\n",
      "epoch: 45  loss: 0.64470148 acc: 50.333333333333336\n",
      "epoch: 46  loss: 0.62081426 acc: 47.0\n",
      "epoch: 47  loss: 0.61832321 acc: 48.333333333333336\n",
      "epoch: 48  loss: 0.62838280 acc: 46.333333333333336\n",
      "epoch: 49  loss: 0.61816722 acc: 44.666666666666664\n",
      "epoch: 50  loss: 0.59269673 acc: 46.333333333333336\n"
     ]
    }
   ],
   "source": [
    "epochs3 = 50\n",
    "model3_, accs3, losses3 = train_model(model3, epochs3, criterion, optimizer, X_train, Y_train, X_test, Y_test)"
   ]
  },
  {
   "cell_type": "code",
   "execution_count": 156,
   "id": "b2463324",
   "metadata": {},
   "outputs": [
    {
     "data": {
      "image/png": "[encoded data removed]",
      "text/plain": [
       "<Figure size 720x720 with 2 Axes>"
      ]
     },
     "metadata": {
      "needs_background": "light"
     },
     "output_type": "display_data"
    }
   ],
   "source": [
    "test_res_model(model3_, X_test, Y_test, 1, target_names)"
   ]
  },
  {
   "cell_type": "code",
   "execution_count": null,
   "id": "793ae187",
   "metadata": {},
   "outputs": [],
   "source": []
  },
  {
   "cell_type": "markdown",
   "id": "a553bcde",
   "metadata": {},
   "source": [
    "### Модель 4"
   ]
  },
  {
   "cell_type": "code",
   "execution_count": null,
   "id": "ca722886",
   "metadata": {},
   "outputs": [],
   "source": []
  },
  {
   "cell_type": "code",
   "execution_count": 157,
   "id": "98ece5f2",
   "metadata": {},
   "outputs": [],
   "source": [
    "class Model4(nn.Module):\n",
    "    def __init__(self):\n",
    "        super(Model4, self).__init__()\n",
    "        self.fc1 = nn.Linear(len_vector, 3200)\n",
    "        self.fc2 = nn.Linear(3200, 1600)\n",
    "        self.fc3 = nn.Linear(1600, 800)\n",
    "        self.fc4 = nn.Linear(800, 400)\n",
    "        self.fc5 = nn.Linear(400, 200)\n",
    "        self.fc6 = nn.Linear(200, 41)\n",
    "    \n",
    "    def forward(self, x):\n",
    "        x = F.hardtanh(self.fc1(x))\n",
    "        x = F.gelu(self.fc2(x))\n",
    "        x = F.leaky_relu(self.fc3(x))\n",
    "        x = F.relu(self.fc4(x))\n",
    "        x = F.relu6(self.fc5(x))\n",
    "        x = self.fc6(x)\n",
    "        return F.log_softmax(x)"
   ]
  },
  {
   "cell_type": "code",
   "execution_count": 158,
   "id": "d9edd614",
   "metadata": {},
   "outputs": [],
   "source": [
    "model4 = Model4()"
   ]
  },
  {
   "cell_type": "code",
   "execution_count": 159,
   "id": "44a6d84f",
   "metadata": {},
   "outputs": [],
   "source": [
    "criterion = nn.CrossEntropyLoss()\n",
    "optimizer = torch.optim.Adam(model4.parameters(), lr=0.01)"
   ]
  },
  {
   "cell_type": "code",
   "execution_count": 160,
   "id": "2bad2ed4",
   "metadata": {},
   "outputs": [
    {
     "name": "stdout",
     "output_type": "stream",
     "text": [
      "epoch:  1  loss: 3.69304538 acc: 0.6666666666666666\n",
      "epoch:  2  loss: 3.33531308 acc: 38.0\n",
      "epoch:  3  loss: 5.72756290 acc: 20.666666666666668\n",
      "epoch:  4  loss: 4.74067259 acc: 6.333333333333333\n",
      "epoch:  5  loss: 3.69242334 acc: 1.3333333333333333\n",
      "epoch:  6  loss: 3.32957792 acc: 5.333333333333333\n",
      "epoch:  7  loss: 3.54474258 acc: 38.0\n",
      "epoch:  8  loss: 3.75659275 acc: 38.0\n",
      "epoch:  9  loss: 3.10050321 acc: 38.0\n",
      "epoch: 10  loss: 3.05903983 acc: 21.0\n",
      "epoch: 11  loss: 3.44995284 acc: 21.0\n",
      "epoch: 12  loss: 3.05643559 acc: 21.0\n",
      "epoch: 13  loss: 2.51782370 acc: 21.0\n",
      "epoch: 14  loss: 2.30982423 acc: 38.0\n",
      "epoch: 15  loss: 2.53862643 acc: 38.0\n",
      "epoch: 16  loss: 2.74228907 acc: 38.0\n",
      "epoch: 17  loss: 2.65090466 acc: 38.0\n",
      "epoch: 18  loss: 2.53037953 acc: 38.0\n",
      "epoch: 19  loss: 2.37879491 acc: 38.0\n",
      "epoch: 20  loss: 2.23241305 acc: 38.0\n"
     ]
    }
   ],
   "source": [
    "epochs4 = 20\n",
    "model4_, accs4, losses4 = train_model(model4, epochs4, criterion, optimizer, X_train, Y_train, X_test, Y_test)"
   ]
  },
  {
   "cell_type": "code",
   "execution_count": 161,
   "id": "e9c3b1e1",
   "metadata": {},
   "outputs": [
    {
     "data": {
      "image/png": "[encoded data removed]",
      "text/plain": [
       "<Figure size 720x720 with 2 Axes>"
      ]
     },
     "metadata": {
      "needs_background": "light"
     },
     "output_type": "display_data"
    }
   ],
   "source": [
    "test_res_model(model4_, X_test, Y_test, 1, target_names)"
   ]
  },
  {
   "cell_type": "code",
   "execution_count": null,
   "id": "2ab97372",
   "metadata": {},
   "outputs": [],
   "source": []
  },
  {
   "cell_type": "markdown",
   "id": "893a0c4e",
   "metadata": {},
   "source": [
    "# Результаты"
   ]
  },
  {
   "cell_type": "code",
   "execution_count": null,
   "id": "84b18f0f",
   "metadata": {},
   "outputs": [],
   "source": []
  },
  {
   "cell_type": "code",
   "execution_count": null,
   "id": "b5ce282c",
   "metadata": {},
   "outputs": [],
   "source": []
  },
  {
   "cell_type": "code",
   "execution_count": 179,
   "id": "228d91a8",
   "metadata": {},
   "outputs": [
    {
     "name": "stdout",
     "output_type": "stream",
     "text": [
      "[1, 2, 3, 4, 5, 6, 7, 8, 9, 10, 11, 12, 13, 14, 15, 16, 17, 18, 19, 20, 21, 22, 23, 24, 25, 26, 27, 28, 29, 30, 31, 32, 33, 34, 35, 36, 37, 38, 39, 40, 41, 42, 43, 44, 45, 46, 47, 48, 49, 50]\n"
     ]
    }
   ],
   "source": [
    "max_epoch = max(epochs1, epochs2, epochs3, epochs4)\n",
    "x = list(range(1, max_epoch+1))\n",
    "print(x)"
   ]
  },
  {
   "cell_type": "code",
   "execution_count": 187,
   "id": "d5053556",
   "metadata": {},
   "outputs": [],
   "source": [
    "accs1_ = accs1 + [np.nan for i in range(max_epoch-len(accs1))]\n",
    "accs2_ = accs2 + [np.nan for i in range(max_epoch-len(accs2))]\n",
    "accs3_ = accs3 + [np.nan for i in range(max_epoch-len(accs3))]\n",
    "accs4_ = accs4 + [np.nan for i in range(max_epoch-len(accs4))]"
   ]
  },
  {
   "cell_type": "code",
   "execution_count": 217,
   "id": "2109aa86",
   "metadata": {},
   "outputs": [],
   "source": [
    "losses1_ = [i.item() for i in losses1] + [np.nan for i in range(max_epoch-len(losses1))]\n",
    "losses2_ = [i.item() for i in losses2] + [np.nan for i in range(max_epoch-len(losses2))]\n",
    "losses3_ = [i.item() for i in losses3] + [np.nan for i in range(max_epoch-len(losses3))]\n",
    "losses4_ = [i.item() for i in losses4] + [np.nan for i in range(max_epoch-len(losses4))]"
   ]
  },
  {
   "cell_type": "code",
   "execution_count": null,
   "id": "3faef14c",
   "metadata": {},
   "outputs": [],
   "source": []
  },
  {
   "cell_type": "code",
   "execution_count": 203,
   "id": "50ee8958",
   "metadata": {},
   "outputs": [],
   "source": [
    "df_accs_plot = pd.DataFrame({\n",
    "    'model_1': accs1_,\n",
    "    'model_2': accs2_,\n",
    "    'model_3': accs3_,\n",
    "    'model_4': accs4_,\n",
    "}, index=x)"
   ]
  },
  {
   "cell_type": "code",
   "execution_count": 219,
   "id": "8b133ec1",
   "metadata": {},
   "outputs": [],
   "source": [
    "df_losses_plot = pd.DataFrame({\n",
    "    'model_1': losses1_,\n",
    "    'model_2': losses2_,\n",
    "    'model_3': losses3_,\n",
    "    'model_4': losses4_,\n",
    "}, index=x)"
   ]
  },
  {
   "cell_type": "code",
   "execution_count": null,
   "id": "70af7b00",
   "metadata": {},
   "outputs": [],
   "source": []
  },
  {
   "cell_type": "code",
   "execution_count": 223,
   "id": "004a6acb",
   "metadata": {},
   "outputs": [
    {
     "data": {
      "text/plain": [
       "<AxesSubplot:>"
      ]
     },
     "execution_count": 223,
     "metadata": {},
     "output_type": "execute_result"
    },
    {
     "data": {
      "image/png": "[encoded data removed]",
      "text/plain": [
       "<Figure size 1080x360 with 1 Axes>"
      ]
     },
     "metadata": {
      "needs_background": "light"
     },
     "output_type": "display_data"
    },
    {
     "data": {
      "image/png": "[encoded data removed]",
      "text/plain": [
       "<Figure size 1080x360 with 1 Axes>"
      ]
     },
     "metadata": {
      "needs_background": "light"
     },
     "output_type": "display_data"
    }
   ],
   "source": [
    "df_accs_plot.plot(figsize=(15, 5))\n",
    "df_losses_plot.plot(figsize=(15, 5))"
   ]
  },
  {
   "cell_type": "code",
   "execution_count": null,
   "id": "5caca6d9",
   "metadata": {},
   "outputs": [],
   "source": []
  },
  {
   "cell_type": "code",
   "execution_count": null,
   "id": "508eb8d7",
   "metadata": {},
   "outputs": [],
   "source": []
  },
  {
   "cell_type": "markdown",
   "id": "214dcd57",
   "metadata": {},
   "source": [
    "# Вывод"
   ]
  },
  {
   "cell_type": "code",
   "execution_count": null,
   "id": "13022970",
   "metadata": {},
   "outputs": [],
   "source": []
  }
 ],
 "metadata": {
  "kernelspec": {
   "display_name": "Python 3 (ipykernel)",
   "language": "python",
   "name": "python3"
  },
  "language_info": {
   "codemirror_mode": {
    "name": "ipython",
    "version": 3
   },
   "file_extension": ".py",
   "mimetype": "text/x-python",
   "name": "python",
   "nbconvert_exporter": "python",
   "pygments_lexer": "ipython3",
   "version": "3.9.9"
  }
 },
 "nbformat": 4,
 "nbformat_minor": 5
}
