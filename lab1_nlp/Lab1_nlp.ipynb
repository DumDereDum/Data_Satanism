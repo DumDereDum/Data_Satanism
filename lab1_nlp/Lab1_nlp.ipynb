{
 "cells": [
  {
   "cell_type": "code",
   "execution_count": 1,
   "id": "9d8b2c1d",
   "metadata": {},
   "outputs": [],
   "source": [
    "import os\n",
    "import sys\n",
    "\n",
    "import matplotlib.pyplot as plt\n",
    "import numpy as np\n",
    "import pandas as pd"
   ]
  },
  {
   "cell_type": "code",
   "execution_count": 2,
   "id": "22ceb4e4",
   "metadata": {},
   "outputs": [],
   "source": [
    "if not sys.warnoptions:\n",
    "    import warnings\n",
    "    warnings.simplefilter(\"ignore\")"
   ]
  },
  {
   "cell_type": "code",
   "execution_count": null,
   "id": "bf5e4dc7",
   "metadata": {},
   "outputs": [],
   "source": []
  },
  {
   "cell_type": "code",
   "execution_count": 3,
   "id": "b8a42685",
   "metadata": {},
   "outputs": [],
   "source": [
    "curr_path = os.path.abspath(os.getcwd())\n",
    "data_path = curr_path[:-22] + 'News_Category_Dataset_v2.json'"
   ]
  },
  {
   "cell_type": "code",
   "execution_count": null,
   "id": "eaec7287",
   "metadata": {},
   "outputs": [],
   "source": []
  },
  {
   "cell_type": "code",
   "execution_count": 4,
   "id": "8c40c1fa",
   "metadata": {},
   "outputs": [],
   "source": [
    "df = pd.read_json(data_path, lines=True)"
   ]
  },
  {
   "cell_type": "code",
   "execution_count": 5,
   "id": "3e51230d",
   "metadata": {},
   "outputs": [
    {
     "data": {
      "text/html": [
       "<div>\n",
       "<style scoped>\n",
       "    .dataframe tbody tr th:only-of-type {\n",
       "        vertical-align: middle;\n",
       "    }\n",
       "\n",
       "    .dataframe tbody tr th {\n",
       "        vertical-align: top;\n",
       "    }\n",
       "\n",
       "    .dataframe thead th {\n",
       "        text-align: right;\n",
       "    }\n",
       "</style>\n",
       "<table border=\"1\" class=\"dataframe\">\n",
       "  <thead>\n",
       "    <tr style=\"text-align: right;\">\n",
       "      <th></th>\n",
       "      <th>category</th>\n",
       "      <th>headline</th>\n",
       "      <th>authors</th>\n",
       "      <th>link</th>\n",
       "      <th>short_description</th>\n",
       "      <th>date</th>\n",
       "    </tr>\n",
       "  </thead>\n",
       "  <tbody>\n",
       "    <tr>\n",
       "      <th>0</th>\n",
       "      <td>CRIME</td>\n",
       "      <td>There Were 2 Mass Shootings In Texas Last Week...</td>\n",
       "      <td>Melissa Jeltsen</td>\n",
       "      <td>https://www.huffingtonpost.com/entry/texas-ama...</td>\n",
       "      <td>She left her husband. He killed their children...</td>\n",
       "      <td>2018-05-26</td>\n",
       "    </tr>\n",
       "    <tr>\n",
       "      <th>1</th>\n",
       "      <td>ENTERTAINMENT</td>\n",
       "      <td>Will Smith Joins Diplo And Nicky Jam For The 2...</td>\n",
       "      <td>Andy McDonald</td>\n",
       "      <td>https://www.huffingtonpost.com/entry/will-smit...</td>\n",
       "      <td>Of course it has a song.</td>\n",
       "      <td>2018-05-26</td>\n",
       "    </tr>\n",
       "    <tr>\n",
       "      <th>2</th>\n",
       "      <td>ENTERTAINMENT</td>\n",
       "      <td>Hugh Grant Marries For The First Time At Age 57</td>\n",
       "      <td>Ron Dicker</td>\n",
       "      <td>https://www.huffingtonpost.com/entry/hugh-gran...</td>\n",
       "      <td>The actor and his longtime girlfriend Anna Ebe...</td>\n",
       "      <td>2018-05-26</td>\n",
       "    </tr>\n",
       "    <tr>\n",
       "      <th>3</th>\n",
       "      <td>ENTERTAINMENT</td>\n",
       "      <td>Jim Carrey Blasts 'Castrato' Adam Schiff And D...</td>\n",
       "      <td>Ron Dicker</td>\n",
       "      <td>https://www.huffingtonpost.com/entry/jim-carre...</td>\n",
       "      <td>The actor gives Dems an ass-kicking for not fi...</td>\n",
       "      <td>2018-05-26</td>\n",
       "    </tr>\n",
       "    <tr>\n",
       "      <th>4</th>\n",
       "      <td>ENTERTAINMENT</td>\n",
       "      <td>Julianna Margulies Uses Donald Trump Poop Bags...</td>\n",
       "      <td>Ron Dicker</td>\n",
       "      <td>https://www.huffingtonpost.com/entry/julianna-...</td>\n",
       "      <td>The \"Dietland\" actress said using the bags is ...</td>\n",
       "      <td>2018-05-26</td>\n",
       "    </tr>\n",
       "  </tbody>\n",
       "</table>\n",
       "</div>"
      ],
      "text/plain": [
       "        category                                           headline  \\\n",
       "0          CRIME  There Were 2 Mass Shootings In Texas Last Week...   \n",
       "1  ENTERTAINMENT  Will Smith Joins Diplo And Nicky Jam For The 2...   \n",
       "2  ENTERTAINMENT    Hugh Grant Marries For The First Time At Age 57   \n",
       "3  ENTERTAINMENT  Jim Carrey Blasts 'Castrato' Adam Schiff And D...   \n",
       "4  ENTERTAINMENT  Julianna Margulies Uses Donald Trump Poop Bags...   \n",
       "\n",
       "           authors                                               link  \\\n",
       "0  Melissa Jeltsen  https://www.huffingtonpost.com/entry/texas-ama...   \n",
       "1    Andy McDonald  https://www.huffingtonpost.com/entry/will-smit...   \n",
       "2       Ron Dicker  https://www.huffingtonpost.com/entry/hugh-gran...   \n",
       "3       Ron Dicker  https://www.huffingtonpost.com/entry/jim-carre...   \n",
       "4       Ron Dicker  https://www.huffingtonpost.com/entry/julianna-...   \n",
       "\n",
       "                                   short_description       date  \n",
       "0  She left her husband. He killed their children... 2018-05-26  \n",
       "1                           Of course it has a song. 2018-05-26  \n",
       "2  The actor and his longtime girlfriend Anna Ebe... 2018-05-26  \n",
       "3  The actor gives Dems an ass-kicking for not fi... 2018-05-26  \n",
       "4  The \"Dietland\" actress said using the bags is ... 2018-05-26  "
      ]
     },
     "execution_count": 5,
     "metadata": {},
     "output_type": "execute_result"
    }
   ],
   "source": [
    "df.head()"
   ]
  },
  {
   "cell_type": "code",
   "execution_count": null,
   "id": "b9c0d2eb",
   "metadata": {},
   "outputs": [],
   "source": []
  },
  {
   "cell_type": "code",
   "execution_count": 6,
   "id": "b00aa006",
   "metadata": {},
   "outputs": [
    {
     "data": {
      "text/html": [
       "<div>\n",
       "<style scoped>\n",
       "    .dataframe tbody tr th:only-of-type {\n",
       "        vertical-align: middle;\n",
       "    }\n",
       "\n",
       "    .dataframe tbody tr th {\n",
       "        vertical-align: top;\n",
       "    }\n",
       "\n",
       "    .dataframe thead th {\n",
       "        text-align: right;\n",
       "    }\n",
       "</style>\n",
       "<table border=\"1\" class=\"dataframe\">\n",
       "  <thead>\n",
       "    <tr style=\"text-align: right;\">\n",
       "      <th></th>\n",
       "      <th>category</th>\n",
       "      <th>headline</th>\n",
       "      <th>authors</th>\n",
       "      <th>link</th>\n",
       "      <th>short_description</th>\n",
       "      <th>date</th>\n",
       "    </tr>\n",
       "  </thead>\n",
       "  <tbody>\n",
       "    <tr>\n",
       "      <th>count</th>\n",
       "      <td>200853</td>\n",
       "      <td>200853</td>\n",
       "      <td>200853</td>\n",
       "      <td>200853</td>\n",
       "      <td>200853</td>\n",
       "      <td>200853</td>\n",
       "    </tr>\n",
       "    <tr>\n",
       "      <th>unique</th>\n",
       "      <td>41</td>\n",
       "      <td>199344</td>\n",
       "      <td>27993</td>\n",
       "      <td>200812</td>\n",
       "      <td>178353</td>\n",
       "      <td>2309</td>\n",
       "    </tr>\n",
       "    <tr>\n",
       "      <th>top</th>\n",
       "      <td>POLITICS</td>\n",
       "      <td>Sunday Roundup</td>\n",
       "      <td></td>\n",
       "      <td>https://www.huffingtonpost.comhttp://stylelike...</td>\n",
       "      <td></td>\n",
       "      <td>2013-04-24 00:00:00</td>\n",
       "    </tr>\n",
       "    <tr>\n",
       "      <th>freq</th>\n",
       "      <td>32739</td>\n",
       "      <td>90</td>\n",
       "      <td>36620</td>\n",
       "      <td>2</td>\n",
       "      <td>19712</td>\n",
       "      <td>100</td>\n",
       "    </tr>\n",
       "    <tr>\n",
       "      <th>first</th>\n",
       "      <td>NaN</td>\n",
       "      <td>NaN</td>\n",
       "      <td>NaN</td>\n",
       "      <td>NaN</td>\n",
       "      <td>NaN</td>\n",
       "      <td>2012-01-28 00:00:00</td>\n",
       "    </tr>\n",
       "    <tr>\n",
       "      <th>last</th>\n",
       "      <td>NaN</td>\n",
       "      <td>NaN</td>\n",
       "      <td>NaN</td>\n",
       "      <td>NaN</td>\n",
       "      <td>NaN</td>\n",
       "      <td>2018-05-26 00:00:00</td>\n",
       "    </tr>\n",
       "  </tbody>\n",
       "</table>\n",
       "</div>"
      ],
      "text/plain": [
       "        category        headline authors  \\\n",
       "count     200853          200853  200853   \n",
       "unique        41          199344   27993   \n",
       "top     POLITICS  Sunday Roundup           \n",
       "freq       32739              90   36620   \n",
       "first        NaN             NaN     NaN   \n",
       "last         NaN             NaN     NaN   \n",
       "\n",
       "                                                     link short_description  \\\n",
       "count                                              200853            200853   \n",
       "unique                                             200812            178353   \n",
       "top     https://www.huffingtonpost.comhttp://stylelike...                     \n",
       "freq                                                    2             19712   \n",
       "first                                                 NaN               NaN   \n",
       "last                                                  NaN               NaN   \n",
       "\n",
       "                       date  \n",
       "count                200853  \n",
       "unique                 2309  \n",
       "top     2013-04-24 00:00:00  \n",
       "freq                    100  \n",
       "first   2012-01-28 00:00:00  \n",
       "last    2018-05-26 00:00:00  "
      ]
     },
     "execution_count": 6,
     "metadata": {},
     "output_type": "execute_result"
    }
   ],
   "source": [
    "df.describe()"
   ]
  },
  {
   "cell_type": "code",
   "execution_count": null,
   "id": "9e341b98",
   "metadata": {},
   "outputs": [],
   "source": []
  },
  {
   "cell_type": "code",
   "execution_count": 7,
   "id": "c4ec5ddd",
   "metadata": {},
   "outputs": [
    {
     "name": "stdout",
     "output_type": "stream",
     "text": [
      "<class 'pandas.core.frame.DataFrame'>\n",
      "RangeIndex: 200853 entries, 0 to 200852\n",
      "Data columns (total 6 columns):\n",
      " #   Column             Non-Null Count   Dtype         \n",
      "---  ------             --------------   -----         \n",
      " 0   category           200853 non-null  object        \n",
      " 1   headline           200853 non-null  object        \n",
      " 2   authors            200853 non-null  object        \n",
      " 3   link               200853 non-null  object        \n",
      " 4   short_description  200853 non-null  object        \n",
      " 5   date               200853 non-null  datetime64[ns]\n",
      "dtypes: datetime64[ns](1), object(5)\n",
      "memory usage: 9.2+ MB\n"
     ]
    }
   ],
   "source": [
    "df.info()"
   ]
  },
  {
   "cell_type": "code",
   "execution_count": 8,
   "id": "bd2b92e7",
   "metadata": {},
   "outputs": [],
   "source": [
    "# Предобработка"
   ]
  },
  {
   "cell_type": "code",
   "execution_count": 9,
   "id": "e4639668",
   "metadata": {},
   "outputs": [],
   "source": [
    "df[\"news_text\"] = df[\"headline\"] + \" \" + df[\"short_description\"]"
   ]
  },
  {
   "cell_type": "code",
   "execution_count": 10,
   "id": "5ff013ff",
   "metadata": {},
   "outputs": [],
   "source": [
    "data = df[[\"news_text\", \"category\"]]"
   ]
  },
  {
   "cell_type": "code",
   "execution_count": 11,
   "id": "18e50a1c",
   "metadata": {},
   "outputs": [
    {
     "data": {
      "text/html": [
       "<div>\n",
       "<style scoped>\n",
       "    .dataframe tbody tr th:only-of-type {\n",
       "        vertical-align: middle;\n",
       "    }\n",
       "\n",
       "    .dataframe tbody tr th {\n",
       "        vertical-align: top;\n",
       "    }\n",
       "\n",
       "    .dataframe thead th {\n",
       "        text-align: right;\n",
       "    }\n",
       "</style>\n",
       "<table border=\"1\" class=\"dataframe\">\n",
       "  <thead>\n",
       "    <tr style=\"text-align: right;\">\n",
       "      <th></th>\n",
       "      <th>news_text</th>\n",
       "      <th>category</th>\n",
       "    </tr>\n",
       "  </thead>\n",
       "  <tbody>\n",
       "    <tr>\n",
       "      <th>0</th>\n",
       "      <td>There Were 2 Mass Shootings In Texas Last Week...</td>\n",
       "      <td>CRIME</td>\n",
       "    </tr>\n",
       "    <tr>\n",
       "      <th>1</th>\n",
       "      <td>Will Smith Joins Diplo And Nicky Jam For The 2...</td>\n",
       "      <td>ENTERTAINMENT</td>\n",
       "    </tr>\n",
       "    <tr>\n",
       "      <th>2</th>\n",
       "      <td>Hugh Grant Marries For The First Time At Age 5...</td>\n",
       "      <td>ENTERTAINMENT</td>\n",
       "    </tr>\n",
       "    <tr>\n",
       "      <th>3</th>\n",
       "      <td>Jim Carrey Blasts 'Castrato' Adam Schiff And D...</td>\n",
       "      <td>ENTERTAINMENT</td>\n",
       "    </tr>\n",
       "    <tr>\n",
       "      <th>4</th>\n",
       "      <td>Julianna Margulies Uses Donald Trump Poop Bags...</td>\n",
       "      <td>ENTERTAINMENT</td>\n",
       "    </tr>\n",
       "    <tr>\n",
       "      <th>...</th>\n",
       "      <td>...</td>\n",
       "      <td>...</td>\n",
       "    </tr>\n",
       "    <tr>\n",
       "      <th>200848</th>\n",
       "      <td>RIM CEO Thorsten Heins' 'Significant' Plans Fo...</td>\n",
       "      <td>TECH</td>\n",
       "    </tr>\n",
       "    <tr>\n",
       "      <th>200849</th>\n",
       "      <td>Maria Sharapova Stunned By Victoria Azarenka I...</td>\n",
       "      <td>SPORTS</td>\n",
       "    </tr>\n",
       "    <tr>\n",
       "      <th>200850</th>\n",
       "      <td>Giants Over Patriots, Jets Over Colts Among  M...</td>\n",
       "      <td>SPORTS</td>\n",
       "    </tr>\n",
       "    <tr>\n",
       "      <th>200851</th>\n",
       "      <td>Aldon Smith Arrested: 49ers Linebacker Busted ...</td>\n",
       "      <td>SPORTS</td>\n",
       "    </tr>\n",
       "    <tr>\n",
       "      <th>200852</th>\n",
       "      <td>Dwight Howard Rips Teammates After Magic Loss ...</td>\n",
       "      <td>SPORTS</td>\n",
       "    </tr>\n",
       "  </tbody>\n",
       "</table>\n",
       "<p>200853 rows × 2 columns</p>\n",
       "</div>"
      ],
      "text/plain": [
       "                                                news_text       category\n",
       "0       There Were 2 Mass Shootings In Texas Last Week...          CRIME\n",
       "1       Will Smith Joins Diplo And Nicky Jam For The 2...  ENTERTAINMENT\n",
       "2       Hugh Grant Marries For The First Time At Age 5...  ENTERTAINMENT\n",
       "3       Jim Carrey Blasts 'Castrato' Adam Schiff And D...  ENTERTAINMENT\n",
       "4       Julianna Margulies Uses Donald Trump Poop Bags...  ENTERTAINMENT\n",
       "...                                                   ...            ...\n",
       "200848  RIM CEO Thorsten Heins' 'Significant' Plans Fo...           TECH\n",
       "200849  Maria Sharapova Stunned By Victoria Azarenka I...         SPORTS\n",
       "200850  Giants Over Patriots, Jets Over Colts Among  M...         SPORTS\n",
       "200851  Aldon Smith Arrested: 49ers Linebacker Busted ...         SPORTS\n",
       "200852  Dwight Howard Rips Teammates After Magic Loss ...         SPORTS\n",
       "\n",
       "[200853 rows x 2 columns]"
      ]
     },
     "execution_count": 11,
     "metadata": {},
     "output_type": "execute_result"
    }
   ],
   "source": [
    "data"
   ]
  },
  {
   "cell_type": "code",
   "execution_count": null,
   "id": "76ef1422",
   "metadata": {},
   "outputs": [],
   "source": []
  },
  {
   "cell_type": "code",
   "execution_count": 12,
   "id": "3c0b28bb",
   "metadata": {},
   "outputs": [],
   "source": [
    "def first_value_less(na_stats_sorted, num):\n",
    "    return [i for i, e in enumerate(list(na_stats_sorted.values)) if e <= num][0]\n",
    "\n",
    "def find_persentage_of_nan(data):\n",
    "    na_info = data.isnull()\n",
    "    sum_na_info = na_info.sum()\n",
    "    na_stats = sum_na_info / data.shape[0] * 100\n",
    "    na_stats_sorted = na_stats.sort_values(ascending=False)\n",
    "    return na_stats_sorted"
   ]
  },
  {
   "cell_type": "code",
   "execution_count": 13,
   "id": "1fcbd58e",
   "metadata": {},
   "outputs": [
    {
     "data": {
      "text/plain": [
       "news_text    0.0\n",
       "category     0.0\n",
       "dtype: float64"
      ]
     },
     "execution_count": 13,
     "metadata": {},
     "output_type": "execute_result"
    }
   ],
   "source": [
    "# находим кол-во nan значений в датасете в процентах\n",
    "na_stats_sorted = find_persentage_of_nan(data)\n",
    "na_stats_sorted"
   ]
  },
  {
   "cell_type": "code",
   "execution_count": null,
   "id": "0f5383cd",
   "metadata": {},
   "outputs": [],
   "source": []
  },
  {
   "cell_type": "code",
   "execution_count": 14,
   "id": "c0f45526",
   "metadata": {},
   "outputs": [
    {
     "data": {
      "text/plain": [
       "200365"
      ]
     },
     "execution_count": 14,
     "metadata": {},
     "output_type": "execute_result"
    }
   ],
   "source": [
    "len(data.news_text.unique())"
   ]
  },
  {
   "cell_type": "code",
   "execution_count": 15,
   "id": "c0047ed3",
   "metadata": {},
   "outputs": [
    {
     "data": {
      "text/plain": [
       "200853"
      ]
     },
     "execution_count": 15,
     "metadata": {},
     "output_type": "execute_result"
    }
   ],
   "source": [
    "len(data.news_text)"
   ]
  },
  {
   "cell_type": "code",
   "execution_count": null,
   "id": "ad98419f",
   "metadata": {},
   "outputs": [],
   "source": []
  },
  {
   "cell_type": "code",
   "execution_count": 16,
   "id": "011c1f03",
   "metadata": {},
   "outputs": [],
   "source": [
    "news = data[~data.duplicated(subset=[\"news_text\"], keep=False)]"
   ]
  },
  {
   "cell_type": "code",
   "execution_count": 17,
   "id": "1bce5493",
   "metadata": {},
   "outputs": [
    {
     "data": {
      "text/html": [
       "<div>\n",
       "<style scoped>\n",
       "    .dataframe tbody tr th:only-of-type {\n",
       "        vertical-align: middle;\n",
       "    }\n",
       "\n",
       "    .dataframe tbody tr th {\n",
       "        vertical-align: top;\n",
       "    }\n",
       "\n",
       "    .dataframe thead th {\n",
       "        text-align: right;\n",
       "    }\n",
       "</style>\n",
       "<table border=\"1\" class=\"dataframe\">\n",
       "  <thead>\n",
       "    <tr style=\"text-align: right;\">\n",
       "      <th></th>\n",
       "      <th>news_text</th>\n",
       "      <th>category</th>\n",
       "    </tr>\n",
       "  </thead>\n",
       "  <tbody>\n",
       "    <tr>\n",
       "      <th>0</th>\n",
       "      <td>There Were 2 Mass Shootings In Texas Last Week...</td>\n",
       "      <td>CRIME</td>\n",
       "    </tr>\n",
       "    <tr>\n",
       "      <th>1</th>\n",
       "      <td>Will Smith Joins Diplo And Nicky Jam For The 2...</td>\n",
       "      <td>ENTERTAINMENT</td>\n",
       "    </tr>\n",
       "    <tr>\n",
       "      <th>2</th>\n",
       "      <td>Hugh Grant Marries For The First Time At Age 5...</td>\n",
       "      <td>ENTERTAINMENT</td>\n",
       "    </tr>\n",
       "    <tr>\n",
       "      <th>3</th>\n",
       "      <td>Jim Carrey Blasts 'Castrato' Adam Schiff And D...</td>\n",
       "      <td>ENTERTAINMENT</td>\n",
       "    </tr>\n",
       "    <tr>\n",
       "      <th>4</th>\n",
       "      <td>Julianna Margulies Uses Donald Trump Poop Bags...</td>\n",
       "      <td>ENTERTAINMENT</td>\n",
       "    </tr>\n",
       "    <tr>\n",
       "      <th>...</th>\n",
       "      <td>...</td>\n",
       "      <td>...</td>\n",
       "    </tr>\n",
       "    <tr>\n",
       "      <th>200848</th>\n",
       "      <td>RIM CEO Thorsten Heins' 'Significant' Plans Fo...</td>\n",
       "      <td>TECH</td>\n",
       "    </tr>\n",
       "    <tr>\n",
       "      <th>200849</th>\n",
       "      <td>Maria Sharapova Stunned By Victoria Azarenka I...</td>\n",
       "      <td>SPORTS</td>\n",
       "    </tr>\n",
       "    <tr>\n",
       "      <th>200850</th>\n",
       "      <td>Giants Over Patriots, Jets Over Colts Among  M...</td>\n",
       "      <td>SPORTS</td>\n",
       "    </tr>\n",
       "    <tr>\n",
       "      <th>200851</th>\n",
       "      <td>Aldon Smith Arrested: 49ers Linebacker Busted ...</td>\n",
       "      <td>SPORTS</td>\n",
       "    </tr>\n",
       "    <tr>\n",
       "      <th>200852</th>\n",
       "      <td>Dwight Howard Rips Teammates After Magic Loss ...</td>\n",
       "      <td>SPORTS</td>\n",
       "    </tr>\n",
       "  </tbody>\n",
       "</table>\n",
       "<p>200156 rows × 2 columns</p>\n",
       "</div>"
      ],
      "text/plain": [
       "                                                news_text       category\n",
       "0       There Were 2 Mass Shootings In Texas Last Week...          CRIME\n",
       "1       Will Smith Joins Diplo And Nicky Jam For The 2...  ENTERTAINMENT\n",
       "2       Hugh Grant Marries For The First Time At Age 5...  ENTERTAINMENT\n",
       "3       Jim Carrey Blasts 'Castrato' Adam Schiff And D...  ENTERTAINMENT\n",
       "4       Julianna Margulies Uses Donald Trump Poop Bags...  ENTERTAINMENT\n",
       "...                                                   ...            ...\n",
       "200848  RIM CEO Thorsten Heins' 'Significant' Plans Fo...           TECH\n",
       "200849  Maria Sharapova Stunned By Victoria Azarenka I...         SPORTS\n",
       "200850  Giants Over Patriots, Jets Over Colts Among  M...         SPORTS\n",
       "200851  Aldon Smith Arrested: 49ers Linebacker Busted ...         SPORTS\n",
       "200852  Dwight Howard Rips Teammates After Magic Loss ...         SPORTS\n",
       "\n",
       "[200156 rows x 2 columns]"
      ]
     },
     "execution_count": 17,
     "metadata": {},
     "output_type": "execute_result"
    }
   ],
   "source": [
    "news"
   ]
  },
  {
   "cell_type": "code",
   "execution_count": null,
   "id": "78088851",
   "metadata": {},
   "outputs": [],
   "source": []
  },
  {
   "cell_type": "code",
   "execution_count": 18,
   "id": "ef7fa4dc",
   "metadata": {
    "scrolled": false
   },
   "outputs": [
    {
     "data": {
      "text/plain": [
       "POLITICS          32702\n",
       "WELLNESS          17816\n",
       "ENTERTAINMENT     16050\n",
       "TRAVEL             9880\n",
       "STYLE & BEAUTY     9422\n",
       "PARENTING          8645\n",
       "HEALTHY LIVING     6687\n",
       "QUEER VOICES       6307\n",
       "FOOD & DRINK       6225\n",
       "BUSINESS           5931\n",
       "COMEDY             5159\n",
       "SPORTS             4884\n",
       "BLACK VOICES       4522\n",
       "HOME & LIVING      4140\n",
       "PARENTS            3892\n",
       "THE WORLDPOST      3664\n",
       "WEDDINGS           3651\n",
       "IMPACT             3455\n",
       "DIVORCE            3420\n",
       "CRIME              3397\n",
       "WOMEN              3393\n",
       "MEDIA              2810\n",
       "WEIRD NEWS         2670\n",
       "GREEN              2613\n",
       "WORLDPOST          2578\n",
       "RELIGION           2547\n",
       "STYLE              2243\n",
       "SCIENCE            2178\n",
       "WORLD NEWS         2175\n",
       "TASTE              2095\n",
       "TECH               2028\n",
       "MONEY              1706\n",
       "ARTS               1509\n",
       "FIFTY              1401\n",
       "GOOD NEWS          1398\n",
       "ARTS & CULTURE     1337\n",
       "ENVIRONMENT        1321\n",
       "COLLEGE            1144\n",
       "LATINO VOICES      1129\n",
       "CULTURE & ARTS     1028\n",
       "EDUCATION          1004\n",
       "Name: category, dtype: int64"
      ]
     },
     "execution_count": 18,
     "metadata": {},
     "output_type": "execute_result"
    }
   ],
   "source": [
    "news.category.value_counts()"
   ]
  },
  {
   "cell_type": "code",
   "execution_count": null,
   "id": "b93e75e0",
   "metadata": {},
   "outputs": [],
   "source": []
  },
  {
   "cell_type": "code",
   "execution_count": 19,
   "id": "3f433266",
   "metadata": {},
   "outputs": [
    {
     "name": "stdout",
     "output_type": "stream",
     "text": [
      "Collecting package metadata (current_repodata.json): done\n",
      "Solving environment: done\n",
      "\n",
      "\n",
      "==> WARNING: A newer version of conda exists. <==\n",
      "  current version: 4.10.1\n",
      "  latest version: 4.11.0\n",
      "\n",
      "Please update conda by running\n",
      "\n",
      "    $ conda update -n base conda\n",
      "\n",
      "\n",
      "\n",
      "# All requested packages already installed.\n",
      "\n"
     ]
    }
   ],
   "source": [
    "!conda install nltk -y"
   ]
  },
  {
   "cell_type": "code",
   "execution_count": 20,
   "id": "9df26468",
   "metadata": {},
   "outputs": [],
   "source": [
    "import nltk\n",
    "from nltk.corpus import stopwords"
   ]
  },
  {
   "cell_type": "code",
   "execution_count": 21,
   "id": "91e660c1",
   "metadata": {},
   "outputs": [
    {
     "name": "stderr",
     "output_type": "stream",
     "text": [
      "[nltk_data] Downloading package stopwords to\n",
      "[nltk_data]     /Users/hackerman/nltk_data...\n",
      "[nltk_data]   Package stopwords is already up-to-date!\n"
     ]
    },
    {
     "data": {
      "text/plain": [
       "True"
      ]
     },
     "execution_count": 21,
     "metadata": {},
     "output_type": "execute_result"
    }
   ],
   "source": [
    "nltk.download('stopwords')"
   ]
  },
  {
   "cell_type": "code",
   "execution_count": 22,
   "id": "d88d29ad",
   "metadata": {},
   "outputs": [
    {
     "name": "stdout",
     "output_type": "stream",
     "text": [
      "['i', 'me', 'my', 'myself', 'we', 'our', 'ours', 'ourselves', 'you', \"you're\", \"you've\", \"you'll\", \"you'd\", 'your', 'yours', 'yourself', 'yourselves', 'he', 'him', 'his', 'himself', 'she', \"she's\", 'her', 'hers', 'herself', 'it', \"it's\", 'its', 'itself', 'they', 'them', 'their', 'theirs', 'themselves', 'what', 'which', 'who', 'whom', 'this', 'that', \"that'll\", 'these', 'those', 'am', 'is', 'are', 'was', 'were', 'be', 'been', 'being', 'have', 'has', 'had', 'having', 'do', 'does', 'did', 'doing', 'a', 'an', 'the', 'and', 'but', 'if', 'or', 'because', 'as', 'until', 'while', 'of', 'at', 'by', 'for', 'with', 'about', 'against', 'between', 'into', 'through', 'during', 'before', 'after', 'above', 'below', 'to', 'from', 'up', 'down', 'in', 'out', 'on', 'off', 'over', 'under', 'again', 'further', 'then', 'once', 'here', 'there', 'when', 'where', 'why', 'how', 'all', 'any', 'both', 'each', 'few', 'more', 'most', 'other', 'some', 'such', 'no', 'nor', 'not', 'only', 'own', 'same', 'so', 'than', 'too', 'very', 's', 't', 'can', 'will', 'just', 'don', \"don't\", 'should', \"should've\", 'now', 'd', 'll', 'm', 'o', 're', 've', 'y', 'ain', 'aren', \"aren't\", 'couldn', \"couldn't\", 'didn', \"didn't\", 'doesn', \"doesn't\", 'hadn', \"hadn't\", 'hasn', \"hasn't\", 'haven', \"haven't\", 'isn', \"isn't\", 'ma', 'mightn', \"mightn't\", 'mustn', \"mustn't\", 'needn', \"needn't\", 'shan', \"shan't\", 'shouldn', \"shouldn't\", 'wasn', \"wasn't\", 'weren', \"weren't\", 'won', \"won't\", 'wouldn', \"wouldn't\"]\n"
     ]
    }
   ],
   "source": [
    "stopwords = stopwords.words('english')\n",
    "print(stopwords)"
   ]
  },
  {
   "cell_type": "code",
   "execution_count": null,
   "id": "82fc59f1",
   "metadata": {},
   "outputs": [],
   "source": []
  },
  {
   "cell_type": "code",
   "execution_count": 23,
   "id": "c67c1fc1",
   "metadata": {},
   "outputs": [],
   "source": [
    "from nltk.tokenize import word_tokenize\n",
    "from nltk.stem import WordNetLemmatizer"
   ]
  },
  {
   "cell_type": "code",
   "execution_count": 24,
   "id": "17791c3a",
   "metadata": {},
   "outputs": [],
   "source": [
    "news = news.reset_index(drop=True)"
   ]
  },
  {
   "cell_type": "code",
   "execution_count": 25,
   "id": "0d4b985f",
   "metadata": {},
   "outputs": [
    {
     "data": {
      "text/html": [
       "<div>\n",
       "<style scoped>\n",
       "    .dataframe tbody tr th:only-of-type {\n",
       "        vertical-align: middle;\n",
       "    }\n",
       "\n",
       "    .dataframe tbody tr th {\n",
       "        vertical-align: top;\n",
       "    }\n",
       "\n",
       "    .dataframe thead th {\n",
       "        text-align: right;\n",
       "    }\n",
       "</style>\n",
       "<table border=\"1\" class=\"dataframe\">\n",
       "  <thead>\n",
       "    <tr style=\"text-align: right;\">\n",
       "      <th></th>\n",
       "      <th>news_text</th>\n",
       "      <th>category</th>\n",
       "    </tr>\n",
       "  </thead>\n",
       "  <tbody>\n",
       "    <tr>\n",
       "      <th>0</th>\n",
       "      <td>There Were 2 Mass Shootings In Texas Last Week...</td>\n",
       "      <td>CRIME</td>\n",
       "    </tr>\n",
       "    <tr>\n",
       "      <th>1</th>\n",
       "      <td>Will Smith Joins Diplo And Nicky Jam For The 2...</td>\n",
       "      <td>ENTERTAINMENT</td>\n",
       "    </tr>\n",
       "    <tr>\n",
       "      <th>2</th>\n",
       "      <td>Hugh Grant Marries For The First Time At Age 5...</td>\n",
       "      <td>ENTERTAINMENT</td>\n",
       "    </tr>\n",
       "    <tr>\n",
       "      <th>3</th>\n",
       "      <td>Jim Carrey Blasts 'Castrato' Adam Schiff And D...</td>\n",
       "      <td>ENTERTAINMENT</td>\n",
       "    </tr>\n",
       "    <tr>\n",
       "      <th>4</th>\n",
       "      <td>Julianna Margulies Uses Donald Trump Poop Bags...</td>\n",
       "      <td>ENTERTAINMENT</td>\n",
       "    </tr>\n",
       "    <tr>\n",
       "      <th>...</th>\n",
       "      <td>...</td>\n",
       "      <td>...</td>\n",
       "    </tr>\n",
       "    <tr>\n",
       "      <th>200151</th>\n",
       "      <td>RIM CEO Thorsten Heins' 'Significant' Plans Fo...</td>\n",
       "      <td>TECH</td>\n",
       "    </tr>\n",
       "    <tr>\n",
       "      <th>200152</th>\n",
       "      <td>Maria Sharapova Stunned By Victoria Azarenka I...</td>\n",
       "      <td>SPORTS</td>\n",
       "    </tr>\n",
       "    <tr>\n",
       "      <th>200153</th>\n",
       "      <td>Giants Over Patriots, Jets Over Colts Among  M...</td>\n",
       "      <td>SPORTS</td>\n",
       "    </tr>\n",
       "    <tr>\n",
       "      <th>200154</th>\n",
       "      <td>Aldon Smith Arrested: 49ers Linebacker Busted ...</td>\n",
       "      <td>SPORTS</td>\n",
       "    </tr>\n",
       "    <tr>\n",
       "      <th>200155</th>\n",
       "      <td>Dwight Howard Rips Teammates After Magic Loss ...</td>\n",
       "      <td>SPORTS</td>\n",
       "    </tr>\n",
       "  </tbody>\n",
       "</table>\n",
       "<p>200156 rows × 2 columns</p>\n",
       "</div>"
      ],
      "text/plain": [
       "                                                news_text       category\n",
       "0       There Were 2 Mass Shootings In Texas Last Week...          CRIME\n",
       "1       Will Smith Joins Diplo And Nicky Jam For The 2...  ENTERTAINMENT\n",
       "2       Hugh Grant Marries For The First Time At Age 5...  ENTERTAINMENT\n",
       "3       Jim Carrey Blasts 'Castrato' Adam Schiff And D...  ENTERTAINMENT\n",
       "4       Julianna Margulies Uses Donald Trump Poop Bags...  ENTERTAINMENT\n",
       "...                                                   ...            ...\n",
       "200151  RIM CEO Thorsten Heins' 'Significant' Plans Fo...           TECH\n",
       "200152  Maria Sharapova Stunned By Victoria Azarenka I...         SPORTS\n",
       "200153  Giants Over Patriots, Jets Over Colts Among  M...         SPORTS\n",
       "200154  Aldon Smith Arrested: 49ers Linebacker Busted ...         SPORTS\n",
       "200155  Dwight Howard Rips Teammates After Magic Loss ...         SPORTS\n",
       "\n",
       "[200156 rows x 2 columns]"
      ]
     },
     "execution_count": 25,
     "metadata": {},
     "output_type": "execute_result"
    }
   ],
   "source": [
    "news"
   ]
  },
  {
   "cell_type": "code",
   "execution_count": 26,
   "id": "3259770d",
   "metadata": {},
   "outputs": [],
   "source": [
    "lemmatizer = WordNetLemmatizer()"
   ]
  },
  {
   "cell_type": "code",
   "execution_count": 27,
   "id": "269eaff1",
   "metadata": {},
   "outputs": [
    {
     "name": "stderr",
     "output_type": "stream",
     "text": [
      "[nltk_data] Downloading package wordnet to\n",
      "[nltk_data]     /Users/hackerman/nltk_data...\n",
      "[nltk_data]   Package wordnet is already up-to-date!\n"
     ]
    },
    {
     "data": {
      "text/plain": [
       "True"
      ]
     },
     "execution_count": 27,
     "metadata": {},
     "output_type": "execute_result"
    }
   ],
   "source": [
    "nltk.download('wordnet')"
   ]
  },
  {
   "cell_type": "code",
   "execution_count": null,
   "id": "8e37c2de",
   "metadata": {},
   "outputs": [],
   "source": []
  },
  {
   "cell_type": "code",
   "execution_count": 28,
   "id": "72724333",
   "metadata": {},
   "outputs": [],
   "source": [
    "for i in range(len(news[\"news_text\"])):\n",
    "    temp_string = \"\"\n",
    "    for word in news[\"news_text\"][i].split():\n",
    "        word = (\"\".join(e for e in word if e.isalnum()))\n",
    "        word = word.lower()\n",
    "        word = lemmatizer.lemmatize(word)\n",
    "        if not word in stopwords:\n",
    "            temp_string += word + \" \"  \n",
    "            \n",
    "    news.at[i,\"news_text\"] = temp_string.strip()"
   ]
  },
  {
   "cell_type": "code",
   "execution_count": 29,
   "id": "20688f39",
   "metadata": {},
   "outputs": [
    {
     "data": {
      "text/html": [
       "<div>\n",
       "<style scoped>\n",
       "    .dataframe tbody tr th:only-of-type {\n",
       "        vertical-align: middle;\n",
       "    }\n",
       "\n",
       "    .dataframe tbody tr th {\n",
       "        vertical-align: top;\n",
       "    }\n",
       "\n",
       "    .dataframe thead th {\n",
       "        text-align: right;\n",
       "    }\n",
       "</style>\n",
       "<table border=\"1\" class=\"dataframe\">\n",
       "  <thead>\n",
       "    <tr style=\"text-align: right;\">\n",
       "      <th></th>\n",
       "      <th>news_text</th>\n",
       "      <th>category</th>\n",
       "    </tr>\n",
       "  </thead>\n",
       "  <tbody>\n",
       "    <tr>\n",
       "      <th>0</th>\n",
       "      <td>2 mass shooting texas last week 1 tv left husb...</td>\n",
       "      <td>CRIME</td>\n",
       "    </tr>\n",
       "    <tr>\n",
       "      <th>1</th>\n",
       "      <td>smith join diplo nicky jam 2018 world cup offi...</td>\n",
       "      <td>ENTERTAINMENT</td>\n",
       "    </tr>\n",
       "    <tr>\n",
       "      <th>2</th>\n",
       "      <td>hugh grant marries first time age 57 actor lon...</td>\n",
       "      <td>ENTERTAINMENT</td>\n",
       "    </tr>\n",
       "    <tr>\n",
       "      <th>3</th>\n",
       "      <td>jim carrey blast castrato adam schiff democrat...</td>\n",
       "      <td>ENTERTAINMENT</td>\n",
       "    </tr>\n",
       "    <tr>\n",
       "      <th>4</th>\n",
       "      <td>julianna margulies us donald trump poop bag pi...</td>\n",
       "      <td>ENTERTAINMENT</td>\n",
       "    </tr>\n",
       "    <tr>\n",
       "      <th>...</th>\n",
       "      <td>...</td>\n",
       "      <td>...</td>\n",
       "    </tr>\n",
       "    <tr>\n",
       "      <th>200151</th>\n",
       "      <td>rim ceo thorsten heins significant plan blackb...</td>\n",
       "      <td>TECH</td>\n",
       "    </tr>\n",
       "    <tr>\n",
       "      <th>200152</th>\n",
       "      <td>maria sharapova stunned victoria azarenka aust...</td>\n",
       "      <td>SPORTS</td>\n",
       "    </tr>\n",
       "    <tr>\n",
       "      <th>200153</th>\n",
       "      <td>giant patriot jet colt among improbable super ...</td>\n",
       "      <td>SPORTS</td>\n",
       "    </tr>\n",
       "    <tr>\n",
       "      <th>200154</th>\n",
       "      <td>aldon smith arrested 49ers linebacker busted d...</td>\n",
       "      <td>SPORTS</td>\n",
       "    </tr>\n",
       "    <tr>\n",
       "      <th>200155</th>\n",
       "      <td>dwight howard rip teammate magic loss hornet f...</td>\n",
       "      <td>SPORTS</td>\n",
       "    </tr>\n",
       "  </tbody>\n",
       "</table>\n",
       "<p>200156 rows × 2 columns</p>\n",
       "</div>"
      ],
      "text/plain": [
       "                                                news_text       category\n",
       "0       2 mass shooting texas last week 1 tv left husb...          CRIME\n",
       "1       smith join diplo nicky jam 2018 world cup offi...  ENTERTAINMENT\n",
       "2       hugh grant marries first time age 57 actor lon...  ENTERTAINMENT\n",
       "3       jim carrey blast castrato adam schiff democrat...  ENTERTAINMENT\n",
       "4       julianna margulies us donald trump poop bag pi...  ENTERTAINMENT\n",
       "...                                                   ...            ...\n",
       "200151  rim ceo thorsten heins significant plan blackb...           TECH\n",
       "200152  maria sharapova stunned victoria azarenka aust...         SPORTS\n",
       "200153  giant patriot jet colt among improbable super ...         SPORTS\n",
       "200154  aldon smith arrested 49ers linebacker busted d...         SPORTS\n",
       "200155  dwight howard rip teammate magic loss hornet f...         SPORTS\n",
       "\n",
       "[200156 rows x 2 columns]"
      ]
     },
     "execution_count": 29,
     "metadata": {},
     "output_type": "execute_result"
    }
   ],
   "source": [
    "news"
   ]
  },
  {
   "cell_type": "code",
   "execution_count": null,
   "id": "c1afed71",
   "metadata": {},
   "outputs": [],
   "source": []
  },
  {
   "cell_type": "code",
   "execution_count": 30,
   "id": "9302fd82",
   "metadata": {},
   "outputs": [],
   "source": [
    "data_copy = news.copy()"
   ]
  },
  {
   "cell_type": "code",
   "execution_count": 31,
   "id": "ee879b3c",
   "metadata": {},
   "outputs": [],
   "source": [
    "from sklearn import preprocessing"
   ]
  },
  {
   "cell_type": "code",
   "execution_count": 32,
   "id": "3549cead",
   "metadata": {},
   "outputs": [],
   "source": [
    "encoders = {}\n",
    "\n",
    "encoder = preprocessing.LabelEncoder()\n",
    "encoder.fit(data_copy[\"category\"])\n",
    "data_copy[\"category\"] = encoder.transform(data_copy[\"category\"])\n",
    "encoders[\"category\"] = encoder\n",
    "    "
   ]
  },
  {
   "cell_type": "code",
   "execution_count": 33,
   "id": "411623a1",
   "metadata": {},
   "outputs": [
    {
     "data": {
      "text/html": [
       "<div>\n",
       "<style scoped>\n",
       "    .dataframe tbody tr th:only-of-type {\n",
       "        vertical-align: middle;\n",
       "    }\n",
       "\n",
       "    .dataframe tbody tr th {\n",
       "        vertical-align: top;\n",
       "    }\n",
       "\n",
       "    .dataframe thead th {\n",
       "        text-align: right;\n",
       "    }\n",
       "</style>\n",
       "<table border=\"1\" class=\"dataframe\">\n",
       "  <thead>\n",
       "    <tr style=\"text-align: right;\">\n",
       "      <th></th>\n",
       "      <th>news_text</th>\n",
       "      <th>category</th>\n",
       "    </tr>\n",
       "  </thead>\n",
       "  <tbody>\n",
       "    <tr>\n",
       "      <th>0</th>\n",
       "      <td>2 mass shooting texas last week 1 tv left husb...</td>\n",
       "      <td>6</td>\n",
       "    </tr>\n",
       "    <tr>\n",
       "      <th>1</th>\n",
       "      <td>smith join diplo nicky jam 2018 world cup offi...</td>\n",
       "      <td>10</td>\n",
       "    </tr>\n",
       "    <tr>\n",
       "      <th>2</th>\n",
       "      <td>hugh grant marries first time age 57 actor lon...</td>\n",
       "      <td>10</td>\n",
       "    </tr>\n",
       "    <tr>\n",
       "      <th>3</th>\n",
       "      <td>jim carrey blast castrato adam schiff democrat...</td>\n",
       "      <td>10</td>\n",
       "    </tr>\n",
       "    <tr>\n",
       "      <th>4</th>\n",
       "      <td>julianna margulies us donald trump poop bag pi...</td>\n",
       "      <td>10</td>\n",
       "    </tr>\n",
       "    <tr>\n",
       "      <th>...</th>\n",
       "      <td>...</td>\n",
       "      <td>...</td>\n",
       "    </tr>\n",
       "    <tr>\n",
       "      <th>200151</th>\n",
       "      <td>rim ceo thorsten heins significant plan blackb...</td>\n",
       "      <td>32</td>\n",
       "    </tr>\n",
       "    <tr>\n",
       "      <th>200152</th>\n",
       "      <td>maria sharapova stunned victoria azarenka aust...</td>\n",
       "      <td>28</td>\n",
       "    </tr>\n",
       "    <tr>\n",
       "      <th>200153</th>\n",
       "      <td>giant patriot jet colt among improbable super ...</td>\n",
       "      <td>28</td>\n",
       "    </tr>\n",
       "    <tr>\n",
       "      <th>200154</th>\n",
       "      <td>aldon smith arrested 49ers linebacker busted d...</td>\n",
       "      <td>28</td>\n",
       "    </tr>\n",
       "    <tr>\n",
       "      <th>200155</th>\n",
       "      <td>dwight howard rip teammate magic loss hornet f...</td>\n",
       "      <td>28</td>\n",
       "    </tr>\n",
       "  </tbody>\n",
       "</table>\n",
       "<p>200156 rows × 2 columns</p>\n",
       "</div>"
      ],
      "text/plain": [
       "                                                news_text  category\n",
       "0       2 mass shooting texas last week 1 tv left husb...         6\n",
       "1       smith join diplo nicky jam 2018 world cup offi...        10\n",
       "2       hugh grant marries first time age 57 actor lon...        10\n",
       "3       jim carrey blast castrato adam schiff democrat...        10\n",
       "4       julianna margulies us donald trump poop bag pi...        10\n",
       "...                                                   ...       ...\n",
       "200151  rim ceo thorsten heins significant plan blackb...        32\n",
       "200152  maria sharapova stunned victoria azarenka aust...        28\n",
       "200153  giant patriot jet colt among improbable super ...        28\n",
       "200154  aldon smith arrested 49ers linebacker busted d...        28\n",
       "200155  dwight howard rip teammate magic loss hornet f...        28\n",
       "\n",
       "[200156 rows x 2 columns]"
      ]
     },
     "execution_count": 33,
     "metadata": {},
     "output_type": "execute_result"
    }
   ],
   "source": [
    "data_copy"
   ]
  },
  {
   "cell_type": "code",
   "execution_count": null,
   "id": "831eff3e",
   "metadata": {},
   "outputs": [],
   "source": []
  },
  {
   "cell_type": "code",
   "execution_count": 34,
   "id": "cc92b107",
   "metadata": {},
   "outputs": [],
   "source": [
    "from sklearn.model_selection import train_test_split"
   ]
  },
  {
   "cell_type": "code",
   "execution_count": 35,
   "id": "dc7f3077",
   "metadata": {},
   "outputs": [],
   "source": [
    "data_split = data_copy.copy()\n",
    "y = data_split['category'].values\n",
    "x = data_split.drop(['category'], axis=1)"
   ]
  },
  {
   "cell_type": "code",
   "execution_count": 36,
   "id": "711787d4",
   "metadata": {},
   "outputs": [],
   "source": [
    "X_train, X_test, Y_train, Y_test = train_test_split(x, y, test_size=0.3)"
   ]
  },
  {
   "cell_type": "code",
   "execution_count": null,
   "id": "363ad08d",
   "metadata": {},
   "outputs": [],
   "source": []
  },
  {
   "cell_type": "code",
   "execution_count": 37,
   "id": "c4189d7f",
   "metadata": {},
   "outputs": [],
   "source": [
    "from sklearn.feature_extraction.text import CountVectorizer"
   ]
  },
  {
   "cell_type": "code",
   "execution_count": 38,
   "id": "f837dfc1",
   "metadata": {},
   "outputs": [],
   "source": [
    "vect = CountVectorizer(min_df=10)"
   ]
  },
  {
   "cell_type": "code",
   "execution_count": 39,
   "id": "972d156b",
   "metadata": {},
   "outputs": [
    {
     "data": {
      "text/plain": [
       "179821    im ashamed money broke new single promising te...\n",
       "9298      many taxpayer dollar amazon warehouse job wort...\n",
       "111158    perry cite joan river death defense controvers...\n",
       "26927     steve bannons failed star warsmeetsshakespeare...\n",
       "65543     gop congressman circulates letter urging rubio...\n",
       "                                ...                        \n",
       "88886     hospital back provider applying new york state...\n",
       "154411    pema essence life morning chapter wa reading c...\n",
       "74299     sign youre weakest link bar trivia team never ...\n",
       "163656    dont scared hollandaise easy blender recipe vi...\n",
       "165634    mischa barton seemingly decides go braless pho...\n",
       "Name: news_text, Length: 140109, dtype: object"
      ]
     },
     "execution_count": 39,
     "metadata": {},
     "output_type": "execute_result"
    }
   ],
   "source": [
    "X_train['news_text']"
   ]
  },
  {
   "cell_type": "code",
   "execution_count": 40,
   "id": "5c3690fa",
   "metadata": {},
   "outputs": [],
   "source": [
    "X_train_review_bow = vect.fit_transform(list(X_train['news_text'])).toarray()\n",
    "X_test_review_bow = vect.transform(X_test['news_text']).toarray()"
   ]
  },
  {
   "cell_type": "code",
   "execution_count": null,
   "id": "df20c7d0",
   "metadata": {},
   "outputs": [],
   "source": []
  },
  {
   "cell_type": "code",
   "execution_count": 41,
   "id": "9a0ef9c5",
   "metadata": {},
   "outputs": [],
   "source": [
    "# Берем пепежный байес по рофлу, чтобы чекнуть работает ли наша шалость после постпроцессинга"
   ]
  },
  {
   "cell_type": "code",
   "execution_count": 42,
   "id": "371d2837",
   "metadata": {},
   "outputs": [
    {
     "data": {
      "text/plain": [
       "'from sklearn.naive_bayes import MultinomialNB\\nfrom sklearn.metrics import accuracy_score\\nclf = MultinomialNB()\\nclf.fit(X_train_review_bow, Y_train)\\ny_pred = clf.predict(X_test_review_bow)'"
      ]
     },
     "execution_count": 42,
     "metadata": {},
     "output_type": "execute_result"
    }
   ],
   "source": [
    "\"\"\"from sklearn.naive_bayes import MultinomialNB\n",
    "from sklearn.metrics import accuracy_score\n",
    "clf = MultinomialNB()\n",
    "clf.fit(X_train_review_bow, Y_train)\n",
    "y_pred = clf.predict(X_test_review_bow)\"\"\""
   ]
  },
  {
   "cell_type": "code",
   "execution_count": 43,
   "id": "5663e76e",
   "metadata": {},
   "outputs": [],
   "source": [
    "# y_pred"
   ]
  },
  {
   "cell_type": "code",
   "execution_count": 44,
   "id": "9a73f2fe",
   "metadata": {},
   "outputs": [],
   "source": [
    "# print ('Test Accuracy: ', accuracy_score(Y_test, y_pred))"
   ]
  },
  {
   "cell_type": "code",
   "execution_count": 45,
   "id": "df7176cf",
   "metadata": {},
   "outputs": [
    {
     "name": "stdout",
     "output_type": "stream",
     "text": [
      "Requirement already satisfied: tensorflow==2.5.0 in /Users/hackerman/conda86/envs/notebook/lib/python3.9/site-packages (2.5.0)\n",
      "Requirement already satisfied: tensorflow-estimator<2.6.0,>=2.5.0rc0 in /Users/hackerman/conda86/envs/notebook/lib/python3.9/site-packages (from tensorflow==2.5.0) (2.5.0)\n",
      "Requirement already satisfied: tensorboard~=2.5 in /Users/hackerman/conda86/envs/notebook/lib/python3.9/site-packages (from tensorflow==2.5.0) (2.7.0)\n",
      "Requirement already satisfied: keras-nightly~=2.5.0.dev in /Users/hackerman/conda86/envs/notebook/lib/python3.9/site-packages (from tensorflow==2.5.0) (2.5.0.dev2021032900)\n",
      "Requirement already satisfied: flatbuffers~=1.12.0 in /Users/hackerman/conda86/envs/notebook/lib/python3.9/site-packages (from tensorflow==2.5.0) (1.12)\n",
      "Requirement already satisfied: h5py~=3.1.0 in /Users/hackerman/conda86/envs/notebook/lib/python3.9/site-packages (from tensorflow==2.5.0) (3.1.0)\n",
      "Requirement already satisfied: numpy~=1.19.2 in /Users/hackerman/conda86/envs/notebook/lib/python3.9/site-packages (from tensorflow==2.5.0) (1.19.5)\n",
      "Requirement already satisfied: gast==0.4.0 in /Users/hackerman/conda86/envs/notebook/lib/python3.9/site-packages (from tensorflow==2.5.0) (0.4.0)\n",
      "Requirement already satisfied: grpcio~=1.34.0 in /Users/hackerman/conda86/envs/notebook/lib/python3.9/site-packages (from tensorflow==2.5.0) (1.34.1)\n",
      "Requirement already satisfied: wrapt~=1.12.1 in /Users/hackerman/conda86/envs/notebook/lib/python3.9/site-packages (from tensorflow==2.5.0) (1.12.1)\n",
      "Requirement already satisfied: astunparse~=1.6.3 in /Users/hackerman/conda86/envs/notebook/lib/python3.9/site-packages (from tensorflow==2.5.0) (1.6.3)\n",
      "Requirement already satisfied: absl-py~=0.10 in /Users/hackerman/conda86/envs/notebook/lib/python3.9/site-packages (from tensorflow==2.5.0) (0.15.0)\n",
      "Requirement already satisfied: typing-extensions~=3.7.4 in /Users/hackerman/conda86/envs/notebook/lib/python3.9/site-packages (from tensorflow==2.5.0) (3.7.4.3)\n",
      "Requirement already satisfied: keras-preprocessing~=1.1.2 in /Users/hackerman/conda86/envs/notebook/lib/python3.9/site-packages (from tensorflow==2.5.0) (1.1.2)\n",
      "Requirement already satisfied: wheel~=0.35 in /Users/hackerman/conda86/envs/notebook/lib/python3.9/site-packages (from tensorflow==2.5.0) (0.36.2)\n",
      "Requirement already satisfied: termcolor~=1.1.0 in /Users/hackerman/conda86/envs/notebook/lib/python3.9/site-packages (from tensorflow==2.5.0) (1.1.0)\n",
      "Requirement already satisfied: protobuf>=3.9.2 in /Users/hackerman/conda86/envs/notebook/lib/python3.9/site-packages (from tensorflow==2.5.0) (3.19.1)\n",
      "Requirement already satisfied: opt-einsum~=3.3.0 in /Users/hackerman/conda86/envs/notebook/lib/python3.9/site-packages (from tensorflow==2.5.0) (3.3.0)\n",
      "Requirement already satisfied: six~=1.15.0 in /Users/hackerman/conda86/envs/notebook/lib/python3.9/site-packages (from tensorflow==2.5.0) (1.15.0)\n",
      "Requirement already satisfied: google-pasta~=0.2 in /Users/hackerman/conda86/envs/notebook/lib/python3.9/site-packages (from tensorflow==2.5.0) (0.2.0)\n",
      "Requirement already satisfied: setuptools>=41.0.0 in /Users/hackerman/conda86/envs/notebook/lib/python3.9/site-packages (from tensorboard~=2.5->tensorflow==2.5.0) (49.6.0.post20210108)\n",
      "Requirement already satisfied: markdown>=2.6.8 in /Users/hackerman/conda86/envs/notebook/lib/python3.9/site-packages (from tensorboard~=2.5->tensorflow==2.5.0) (3.3.6)\n",
      "Requirement already satisfied: tensorboard-data-server<0.7.0,>=0.6.0 in /Users/hackerman/conda86/envs/notebook/lib/python3.9/site-packages (from tensorboard~=2.5->tensorflow==2.5.0) (0.6.1)\n",
      "Requirement already satisfied: google-auth<3,>=1.6.3 in /Users/hackerman/conda86/envs/notebook/lib/python3.9/site-packages (from tensorboard~=2.5->tensorflow==2.5.0) (2.3.3)\n",
      "Requirement already satisfied: google-auth-oauthlib<0.5,>=0.4.1 in /Users/hackerman/conda86/envs/notebook/lib/python3.9/site-packages (from tensorboard~=2.5->tensorflow==2.5.0) (0.4.6)\n",
      "Requirement already satisfied: tensorboard-plugin-wit>=1.6.0 in /Users/hackerman/conda86/envs/notebook/lib/python3.9/site-packages (from tensorboard~=2.5->tensorflow==2.5.0) (1.8.0)\n",
      "Requirement already satisfied: requests<3,>=2.21.0 in /Users/hackerman/conda86/envs/notebook/lib/python3.9/site-packages (from tensorboard~=2.5->tensorflow==2.5.0) (2.25.1)\n",
      "Requirement already satisfied: werkzeug>=0.11.15 in /Users/hackerman/conda86/envs/notebook/lib/python3.9/site-packages (from tensorboard~=2.5->tensorflow==2.5.0) (2.0.2)\n",
      "Requirement already satisfied: pyasn1-modules>=0.2.1 in /Users/hackerman/conda86/envs/notebook/lib/python3.9/site-packages (from google-auth<3,>=1.6.3->tensorboard~=2.5->tensorflow==2.5.0) (0.2.8)\n",
      "Requirement already satisfied: rsa<5,>=3.1.4 in /Users/hackerman/conda86/envs/notebook/lib/python3.9/site-packages (from google-auth<3,>=1.6.3->tensorboard~=2.5->tensorflow==2.5.0) (4.8)\n",
      "Requirement already satisfied: cachetools<5.0,>=2.0.0 in /Users/hackerman/conda86/envs/notebook/lib/python3.9/site-packages (from google-auth<3,>=1.6.3->tensorboard~=2.5->tensorflow==2.5.0) (4.2.4)\n",
      "Requirement already satisfied: requests-oauthlib>=0.7.0 in /Users/hackerman/conda86/envs/notebook/lib/python3.9/site-packages (from google-auth-oauthlib<0.5,>=0.4.1->tensorboard~=2.5->tensorflow==2.5.0) (1.3.0)\n",
      "Requirement already satisfied: importlib-metadata>=4.4 in /Users/hackerman/conda86/envs/notebook/lib/python3.9/site-packages (from markdown>=2.6.8->tensorboard~=2.5->tensorflow==2.5.0) (4.6.1)\n",
      "Requirement already satisfied: zipp>=0.5 in /Users/hackerman/conda86/envs/notebook/lib/python3.9/site-packages (from importlib-metadata>=4.4->markdown>=2.6.8->tensorboard~=2.5->tensorflow==2.5.0) (3.5.0)\n",
      "Requirement already satisfied: pyasn1<0.5.0,>=0.4.6 in /Users/hackerman/conda86/envs/notebook/lib/python3.9/site-packages (from pyasn1-modules>=0.2.1->google-auth<3,>=1.6.3->tensorboard~=2.5->tensorflow==2.5.0) (0.4.8)\n",
      "Requirement already satisfied: urllib3<1.27,>=1.21.1 in /Users/hackerman/conda86/envs/notebook/lib/python3.9/site-packages (from requests<3,>=2.21.0->tensorboard~=2.5->tensorflow==2.5.0) (1.26.6)\n",
      "Requirement already satisfied: chardet<5,>=3.0.2 in /Users/hackerman/conda86/envs/notebook/lib/python3.9/site-packages (from requests<3,>=2.21.0->tensorboard~=2.5->tensorflow==2.5.0) (4.0.0)\n",
      "Requirement already satisfied: certifi>=2017.4.17 in /Users/hackerman/conda86/envs/notebook/lib/python3.9/site-packages (from requests<3,>=2.21.0->tensorboard~=2.5->tensorflow==2.5.0) (2021.10.8)\n",
      "Requirement already satisfied: idna<3,>=2.5 in /Users/hackerman/conda86/envs/notebook/lib/python3.9/site-packages (from requests<3,>=2.21.0->tensorboard~=2.5->tensorflow==2.5.0) (2.10)\n",
      "Requirement already satisfied: oauthlib>=3.0.0 in /Users/hackerman/conda86/envs/notebook/lib/python3.9/site-packages (from requests-oauthlib>=0.7.0->google-auth-oauthlib<0.5,>=0.4.1->tensorboard~=2.5->tensorflow==2.5.0) (3.1.1)\n"
     ]
    }
   ],
   "source": [
    "!pip install tensorflow==2.5.0"
   ]
  },
  {
   "cell_type": "code",
   "execution_count": 46,
   "id": "bcf33b75",
   "metadata": {},
   "outputs": [],
   "source": [
    "# начинается нейросеть"
   ]
  },
  {
   "cell_type": "code",
   "execution_count": 47,
   "id": "b298456d",
   "metadata": {},
   "outputs": [],
   "source": [
    "import numpy as np"
   ]
  },
  {
   "cell_type": "code",
   "execution_count": 48,
   "id": "4c41dabc",
   "metadata": {
    "scrolled": true
   },
   "outputs": [
    {
     "name": "stdout",
     "output_type": "stream",
     "text": [
      "Collecting package metadata (current_repodata.json): done\n",
      "Solving environment: done\n",
      "\n",
      "\n",
      "==> WARNING: A newer version of conda exists. <==\n",
      "  current version: 4.10.1\n",
      "  latest version: 4.11.0\n",
      "\n",
      "Please update conda by running\n",
      "\n",
      "    $ conda update -n base conda\n",
      "\n",
      "\n",
      "\n",
      "# All requested packages already installed.\n",
      "\n"
     ]
    }
   ],
   "source": [
    "!conda install pytorch torchvision torchaudio -c pytorch -y"
   ]
  },
  {
   "cell_type": "code",
   "execution_count": null,
   "id": "b51eb49d",
   "metadata": {},
   "outputs": [],
   "source": []
  },
  {
   "cell_type": "code",
   "execution_count": 49,
   "id": "0e97ab2f",
   "metadata": {},
   "outputs": [],
   "source": [
    "import torch\n",
    "from torch import nn, optim\n",
    "import torch.nn.functional as F"
   ]
  },
  {
   "cell_type": "code",
   "execution_count": 50,
   "id": "2cfd9874",
   "metadata": {},
   "outputs": [],
   "source": [
    "X_train = torch.Tensor(X_train_review_bow)\n",
    "Y_train = torch.LongTensor(Y_train)\n",
    "X_test = torch.Tensor(X_test_review_bow)\n",
    "Y_test = torch.LongTensor(Y_test)"
   ]
  },
  {
   "cell_type": "code",
   "execution_count": 75,
   "id": "7fa79e50",
   "metadata": {},
   "outputs": [
    {
     "data": {
      "text/plain": [
       "16517"
      ]
     },
     "execution_count": 75,
     "metadata": {},
     "output_type": "execute_result"
    }
   ],
   "source": [
    "len_vector = X_train_review_bow.shape[1]\n",
    "len_vector"
   ]
  },
  {
   "cell_type": "code",
   "execution_count": 70,
   "id": "d592fdf2",
   "metadata": {},
   "outputs": [],
   "source": [
    "model = nn.Sequential(\n",
    "        nn.Linear(len_vector, 41),\n",
    "        nn.ReLU(),\n",
    "        nn.Linear(41, 41),\n",
    "        nn.Sigmoid())"
   ]
  },
  {
   "cell_type": "code",
   "execution_count": 71,
   "id": "68d81f84",
   "metadata": {},
   "outputs": [],
   "source": [
    "criterion = nn.CrossEntropyLoss()\n",
    "optimizer = torch.optim.Adam(model.parameters(), lr=0.01)"
   ]
  },
  {
   "cell_type": "code",
   "execution_count": 72,
   "id": "884293f8",
   "metadata": {},
   "outputs": [],
   "source": [
    "epochs = 1\n",
    "losses = []\n",
    "\n",
    "for i in range(epochs):\n",
    "    i += 1\n",
    "    Y_pred = model.forward(X_train)\n",
    "    loss = criterion(Y_pred, Y_train)\n",
    "    losses.append(loss)\n",
    "\n",
    "    if i%2 == 0:\n",
    "        print(f'epoch: {i:2}  loss: {loss.item():10.8f}')\n",
    "\n",
    "    optimizer.zero_grad()\n",
    "    loss.backward()\n",
    "    optimizer.step()"
   ]
  },
  {
   "cell_type": "code",
   "execution_count": 74,
   "id": "bd77b0a8",
   "metadata": {},
   "outputs": [
    {
     "name": "stdout",
     "output_type": "stream",
     "text": [
      "13994 out of 60047 = 23.31% right\n"
     ]
    }
   ],
   "source": [
    "counter = 0\n",
    "y_test_len = len(Y_test)\n",
    "\n",
    "with torch.no_grad():\n",
    "    for i,data in enumerate(X_test):\n",
    "        y_val = model.forward(data)\n",
    "        if y_val.argmax().item() == Y_test[i]:\n",
    "            counter += 1\n",
    "print(f'{counter} out of {y_test_len} = {100*counter/y_test_len:.2f}% right')"
   ]
  },
  {
   "cell_type": "code",
   "execution_count": null,
   "id": "0923faff",
   "metadata": {},
   "outputs": [],
   "source": [
    "# следующие модельки"
   ]
  },
  {
   "cell_type": "code",
   "execution_count": 84,
   "id": "51d2889a",
   "metadata": {},
   "outputs": [],
   "source": [
    "model_2 = nn.Sequential(\n",
    "        nn.Linear(len_vector, 2624),\n",
    "        nn.Linear(2624, 656),\n",
    "        nn.Linear(656, 164),\n",
    "        nn.Linear(164, 41),\n",
    "        nn.Sigmoid())"
   ]
  },
  {
   "cell_type": "code",
   "execution_count": 85,
   "id": "43df3fd5",
   "metadata": {},
   "outputs": [],
   "source": [
    "criterion = nn.CrossEntropyLoss()\n",
    "optimizer = torch.optim.Adam(model_2.parameters(), lr=0.01)"
   ]
  },
  {
   "cell_type": "code",
   "execution_count": 86,
   "id": "5c68cdfe",
   "metadata": {},
   "outputs": [],
   "source": [
    "epochs = 1\n",
    "losses = []\n",
    "\n",
    "for i in range(epochs):\n",
    "    i += 1\n",
    "    Y_pred = model_2.forward(X_train)\n",
    "    loss = criterion(Y_pred, Y_train)\n",
    "    losses.append(loss)\n",
    "\n",
    "    if i%2 == 0:\n",
    "        print(f'epoch: {i:2}  loss: {loss.item():10.8f}')\n",
    "\n",
    "    optimizer.zero_grad()\n",
    "    loss.backward()\n",
    "    optimizer.step()"
   ]
  },
  {
   "cell_type": "code",
   "execution_count": 87,
   "id": "92f3b103",
   "metadata": {},
   "outputs": [
    {
     "name": "stdout",
     "output_type": "stream",
     "text": [
      "21235 out of 60047 = 35.36% right\n"
     ]
    }
   ],
   "source": [
    "counter = 0\n",
    "y_test_len = len(Y_test)\n",
    "\n",
    "with torch.no_grad():\n",
    "    for i,data in enumerate(X_test):\n",
    "        y_val = model_2.forward(data)\n",
    "        if y_val.argmax().item() == Y_test[i]:\n",
    "            counter += 1\n",
    "print(f'{counter} out of {y_test_len} = {100*counter/y_test_len:.2f}% right')"
   ]
  },
  {
   "cell_type": "code",
   "execution_count": null,
   "id": "ecb5bf01",
   "metadata": {},
   "outputs": [],
   "source": []
  }
 ],
 "metadata": {
  "kernelspec": {
   "display_name": "Python 3 (ipykernel)",
   "language": "python",
   "name": "python3"
  },
  "language_info": {
   "codemirror_mode": {
    "name": "ipython",
    "version": 3
   },
   "file_extension": ".py",
   "mimetype": "text/x-python",
   "name": "python",
   "nbconvert_exporter": "python",
   "pygments_lexer": "ipython3",
   "version": "3.9.6"
  }
 },
 "nbformat": 4,
 "nbformat_minor": 5
}
